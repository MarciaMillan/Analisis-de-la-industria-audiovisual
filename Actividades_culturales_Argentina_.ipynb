{
  "cells": [
    {
      "cell_type": "markdown",
      "id": "ee2a704f",
      "metadata": {
        "id": "ee2a704f"
      },
      "source": [
        "#Análisis exploratorio de las actividades culturales en la República Argentina."
      ]
    },
    {
      "cell_type": "markdown",
      "source": [
        "A través de diversos datasets, nos adentraremos en las distintas actividades culturales que pueden realizarse en Argentina. Repasando las capacidades, cualidades e historias de estos espacios de entretenimiento."
      ],
      "metadata": {
        "id": "Tp_Rm5xHrJDm"
      },
      "id": "Tp_Rm5xHrJDm"
    },
    {
      "cell_type": "markdown",
      "source": [
        "\n",
        "\n",
        "---\n",
        "\n"
      ],
      "metadata": {
        "id": "VBW4dghRdrGw"
      },
      "id": "VBW4dghRdrGw"
    },
    {
      "cell_type": "markdown",
      "source": [
        "# 1. Primeros pasos."
      ],
      "metadata": {
        "id": "6X5pIjImjvqQ"
      },
      "id": "6X5pIjImjvqQ"
    },
    {
      "cell_type": "markdown",
      "source": [
        "##1.1. Librerías a utilizar."
      ],
      "metadata": {
        "id": "E_qDPMSSh_Vp"
      },
      "id": "E_qDPMSSh_Vp"
    },
    {
      "cell_type": "code",
      "execution_count": null,
      "id": "762cac21",
      "metadata": {
        "id": "762cac21"
      },
      "outputs": [],
      "source": [
        "#Cargamos las librerías que se utilizarán para el análisis.\n",
        "import pandas as pd\n",
        "import matplotlib.pyplot as plt"
      ]
    },
    {
      "cell_type": "markdown",
      "id": "156bccb2",
      "metadata": {
        "id": "156bccb2"
      },
      "source": [
        "##1.2. Datos."
      ]
    },
    {
      "cell_type": "markdown",
      "source": [
        "### Los datasets utilizados son de uso público y pueden encontrarse en la siguiente página: [Datos Argentina](https://www.datos.gob.ar)"
      ],
      "metadata": {
        "id": "VDqLEOZsiRPT"
      },
      "id": "VDqLEOZsiRPT"
    },
    {
      "cell_type": "code",
      "execution_count": null,
      "id": "76fc4fb7",
      "metadata": {
        "id": "76fc4fb7"
      },
      "outputs": [],
      "source": [
        "#Utilizaremos 7 datasets con información sobre diversas actividades culturales que ofrece la República Argentina.\n",
        "cines= pd.read_csv(\"salas_cine.csv\")\n",
        "teatros= pd.read_csv(\"17_teatro.xlsx-datos-abiertos.csv\")\n",
        "centros_culturales= pd.read_csv(\"centros_culturales.csv\")\n",
        "galerias_arte= pd.read_csv(\"galerias-de-arte.csv\")\n",
        "lugares_históricos= pd.read_csv(\"monumentos-y-lugares-historicos.csv\")\n",
        "museos= pd.read_csv(\"museos_datosabiertos.csv\")\n",
        "bibliotecas_populares= pd.read_csv(\"biblioteca_popular.csv\")"
      ]
    },
    {
      "cell_type": "markdown",
      "source": [
        "# 2. Limpieza de los sets."
      ],
      "metadata": {
        "id": "obBknNfEjYyR"
      },
      "id": "obBknNfEjYyR"
    },
    {
      "cell_type": "markdown",
      "id": "1afb63d9",
      "metadata": {
        "id": "1afb63d9"
      },
      "source": [
        "## 2.1. SET: Cines."
      ]
    },
    {
      "cell_type": "code",
      "execution_count": 1,
      "id": "9f96ce14",
      "metadata": {
        "colab": {
          "base_uri": "https://localhost:8080/",
          "height": 205
        },
        "id": "9f96ce14",
        "outputId": "3cf515b9-1ae4-4a60-823c-943d6545743d"
      },
      "outputs": [
        {
          "output_type": "error",
          "ename": "NameError",
          "evalue": "ignored",
          "traceback": [
            "\u001b[0;31m---------------------------------------------------------------------------\u001b[0m",
            "\u001b[0;31mNameError\u001b[0m                                 Traceback (most recent call last)",
            "\u001b[0;32m<ipython-input-1-d00e28d282e4>\u001b[0m in \u001b[0;36m<module>\u001b[0;34m\u001b[0m\n\u001b[1;32m      1\u001b[0m \u001b[0;31m#Revisamos los componentes del set:\u001b[0m\u001b[0;34m\u001b[0m\u001b[0;34m\u001b[0m\u001b[0;34m\u001b[0m\u001b[0m\n\u001b[0;32m----> 2\u001b[0;31m \u001b[0mcines\u001b[0m\u001b[0;34m.\u001b[0m\u001b[0minfo\u001b[0m\u001b[0;34m(\u001b[0m\u001b[0;34m)\u001b[0m\u001b[0;34m\u001b[0m\u001b[0;34m\u001b[0m\u001b[0m\n\u001b[0m\u001b[1;32m      3\u001b[0m \u001b[0mcines\u001b[0m\u001b[0;34m.\u001b[0m\u001b[0mhead\u001b[0m\u001b[0;34m(\u001b[0m\u001b[0;34m)\u001b[0m\u001b[0;34m\u001b[0m\u001b[0;34m\u001b[0m\u001b[0m\n",
            "\u001b[0;31mNameError\u001b[0m: name 'cines' is not defined"
          ]
        }
      ],
      "source": [
        "#Revisamos los componentes del set:\n",
        "cines.info()\n",
        "cines.head()"
      ]
    },
    {
      "cell_type": "markdown",
      "id": "657aa95b",
      "metadata": {
        "id": "657aa95b"
      },
      "source": [
        "### Como observamos el data set tiene un total de 22 columnas y 316 entradas.  Casi todas las columnas tienen sus entradas completas, a exepción de 3 (piso, web y tipo de gestión). En general, el set se ve bastante origanizado y limpio. "
      ]
    },
    {
      "cell_type": "code",
      "execution_count": null,
      "id": "9dc60f61",
      "metadata": {
        "id": "9dc60f61"
      },
      "outputs": [],
      "source": [
        "#Este análisis explorativo solo utilizará ciertas columnas del set, por lo que comenzaremos quitando la info que no necesitamos:\n",
        "cines.drop(['cod_localidad','categoria','id_provincia', 'id_departamento','piso','cp','web','fuente','sector','año_actualizacion','departamento','direccion','tipo_latitud_longitud'], axis=1, inplace=True)"
      ]
    },
    {
      "cell_type": "code",
      "execution_count": null,
      "id": "8a1a6ee9",
      "metadata": {
        "id": "8a1a6ee9"
      },
      "outputs": [],
      "source": [
        "#Colocamos la columna con el nombre del cine en el primer lugar:\n",
        "primera= cines.pop('nombre')\n",
        "cines.insert(0, 'nombre', primera)"
      ]
    },
    {
      "cell_type": "code",
      "execution_count": null,
      "id": "d6d8233b",
      "metadata": {
        "scrolled": true,
        "id": "d6d8233b"
      },
      "outputs": [],
      "source": [
        "#Revisamos el set:\n",
        "cines.head()"
      ]
    },
    {
      "cell_type": "code",
      "execution_count": null,
      "id": "10c490bc",
      "metadata": {
        "id": "10c490bc"
      },
      "outputs": [],
      "source": [
        "#Con las columnas seleccionadas, comenzamos a inspeccionar los datos para asegurarnos de que todo está correcto.\n",
        "#Buscamos datos duplicados:\n",
        "duplica= cines.duplicated()\n",
        "for i in duplica:\n",
        "    if i == True:\n",
        "        print (i)\n",
        "    \n",
        "print('No hay duplicados')\n"
      ]
    },
    {
      "cell_type": "code",
      "execution_count": null,
      "id": "f90b9cbe",
      "metadata": {
        "id": "f90b9cbe"
      },
      "outputs": [],
      "source": [
        "#Chequeamos la columna de provincias:\n",
        "cines['provincia'].unique()"
      ]
    },
    {
      "cell_type": "code",
      "execution_count": null,
      "id": "f7aaaf72",
      "metadata": {
        "id": "f7aaaf72"
      },
      "outputs": [],
      "source": [
        "cines.info()"
      ]
    },
    {
      "cell_type": "markdown",
      "id": "f388cbb2",
      "metadata": {
        "id": "f388cbb2"
      },
      "source": [
        "## 2.2 SET: Teatros."
      ]
    },
    {
      "cell_type": "code",
      "execution_count": null,
      "id": "97743acf",
      "metadata": {
        "scrolled": true,
        "id": "97743acf",
        "outputId": "e0ee5d10-95c1-4648-9818-491443b5f9ca",
        "colab": {
          "base_uri": "https://localhost:8080/",
          "height": 1000
        }
      },
      "outputs": [
        {
          "output_type": "stream",
          "name": "stdout",
          "text": [
            "<class 'pandas.core.frame.DataFrame'>\n",
            "RangeIndex: 1364 entries, 0 to 1363\n",
            "Data columns (total 28 columns):\n",
            " #   Column                   Non-Null Count  Dtype  \n",
            "---  ------                   --------------  -----  \n",
            " 0   cod_loc                  1364 non-null   int64  \n",
            " 1   id_prov                  1364 non-null   int64  \n",
            " 2   id_departamento          1364 non-null   int64  \n",
            " 3   observaciones            0 non-null      float64\n",
            " 4   categoria                1364 non-null   object \n",
            " 5   subcategoria             0 non-null      float64\n",
            " 6   provincia                1364 non-null   object \n",
            " 7   departamento             1364 non-null   object \n",
            " 8   localidad                1364 non-null   object \n",
            " 9   nombre                   1364 non-null   object \n",
            " 10  domicilio                1364 non-null   object \n",
            " 11  piso                     1180 non-null   object \n",
            " 12  CP                       1361 non-null   object \n",
            " 13  cod_area                 1333 non-null   object \n",
            " 14  telefono                 1322 non-null   object \n",
            " 15  mail                     1295 non-null   object \n",
            " 16  web                      1308 non-null   object \n",
            " 17  informacion              1112 non-null   object \n",
            " 18  latitud                  1364 non-null   object \n",
            " 19  longitud                 1364 non-null   object \n",
            " 20  TipoLatitudLongitud      1280 non-null   object \n",
            " 21  actividad_especifica     133 non-null    object \n",
            " 22  denominacion_especifica  1181 non-null   object \n",
            " 23  fuente                   1341 non-null   object \n",
            " 24  tipo_gestion             1364 non-null   object \n",
            " 25  inicio_act               1211 non-null   float64\n",
            " 26  capacidad                1206 non-null   float64\n",
            " 27  ano_actualizacion        1364 non-null   int64  \n",
            "dtypes: float64(4), int64(4), object(20)\n",
            "memory usage: 298.5+ KB\n"
          ]
        },
        {
          "output_type": "execute_result",
          "data": {
            "text/plain": [
              "   cod_loc  id_prov  id_departamento  observaciones        categoria  \\\n",
              "0  6861010        6             6861            NaN  Salas de Teatro   \n",
              "1  6861010        6             6861            NaN  Salas de Teatro   \n",
              "2  2000010        2             2000            NaN  Salas de Teatro   \n",
              "3  2000010        2             2000            NaN  Salas de Teatro   \n",
              "4  2000010        2             2000            NaN  Salas de Teatro   \n",
              "\n",
              "   subcategoria                        provincia  \\\n",
              "0           NaN                     Buenos Aires   \n",
              "1           NaN                     Buenos Aires   \n",
              "2           NaN  Ciudad Autonoma de Buenos Aires   \n",
              "3           NaN  Ciudad Autonoma de Buenos Aires   \n",
              "4           NaN  Ciudad Autonoma de Buenos Aires   \n",
              "\n",
              "                      departamento                        localidad  \\\n",
              "0                    Vicente Lopez                    Vicente Lopez   \n",
              "1                    Vicente Lopez                    Vicente Lopez   \n",
              "2  Ciudad Autonoma de Buenos Aires  Ciudad Autonoma de Buenos Aires   \n",
              "3  Ciudad Autonoma de Buenos Aires  Ciudad Autonoma de Buenos Aires   \n",
              "4  Ciudad Autonoma de Buenos Aires  Ciudad Autonoma de Buenos Aires   \n",
              "\n",
              "                          nombre  ...       latitud      longitud  \\\n",
              "0                      Alparamis  ...  -34.51051300  -58.47802900   \n",
              "1  Complejo Cultural Comunicanto  ...  -34.53743370  -58.51288690   \n",
              "2                     La Fábrica  ...  -34.59540311  -58.43663057   \n",
              "3                      Arlequino  ...  -34.61115000  -58.38723800   \n",
              "4            Teatro de la Fabula  ...  -34.60469500  -58.41190700   \n",
              "\n",
              "  TipoLatitudLongitud actividad_especifica denominacion_especifica  \\\n",
              "0             Precisa                  NaN                     NaN   \n",
              "1             Precisa                  NaN                     NaN   \n",
              "2             Precisa                  NaN                     s/d   \n",
              "3             Precisa                  NaN                     s/d   \n",
              "4             Precisa                  NaN                     s/d   \n",
              "\n",
              "                                     fuente tipo_gestion inicio_act capacidad  \\\n",
              "0  Red de Espacios Culturales Vicente López      Privado        0.0       NaN   \n",
              "1  Red de Espacios Culturales Vicente López      Privado        0.0       NaN   \n",
              "2   Alternativa Teatral / Relevamiento 2017      Privado        0.0       0.0   \n",
              "3    Plan Podesta 2020 / Relevamiento SINCA      Privado        0.0     200.0   \n",
              "4    Plan Podesta 2020 / Relevamiento SINCA      Privado     1965.0     100.0   \n",
              "\n",
              "  ano_actualizacion  \n",
              "0              2019  \n",
              "1              2019  \n",
              "2              2020  \n",
              "3              2020  \n",
              "4              2020  \n",
              "\n",
              "[5 rows x 28 columns]"
            ],
            "text/html": [
              "\n",
              "  <div id=\"df-75f8d929-b449-4eab-b62e-c273c19fd6ae\">\n",
              "    <div class=\"colab-df-container\">\n",
              "      <div>\n",
              "<style scoped>\n",
              "    .dataframe tbody tr th:only-of-type {\n",
              "        vertical-align: middle;\n",
              "    }\n",
              "\n",
              "    .dataframe tbody tr th {\n",
              "        vertical-align: top;\n",
              "    }\n",
              "\n",
              "    .dataframe thead th {\n",
              "        text-align: right;\n",
              "    }\n",
              "</style>\n",
              "<table border=\"1\" class=\"dataframe\">\n",
              "  <thead>\n",
              "    <tr style=\"text-align: right;\">\n",
              "      <th></th>\n",
              "      <th>cod_loc</th>\n",
              "      <th>id_prov</th>\n",
              "      <th>id_departamento</th>\n",
              "      <th>observaciones</th>\n",
              "      <th>categoria</th>\n",
              "      <th>subcategoria</th>\n",
              "      <th>provincia</th>\n",
              "      <th>departamento</th>\n",
              "      <th>localidad</th>\n",
              "      <th>nombre</th>\n",
              "      <th>...</th>\n",
              "      <th>latitud</th>\n",
              "      <th>longitud</th>\n",
              "      <th>TipoLatitudLongitud</th>\n",
              "      <th>actividad_especifica</th>\n",
              "      <th>denominacion_especifica</th>\n",
              "      <th>fuente</th>\n",
              "      <th>tipo_gestion</th>\n",
              "      <th>inicio_act</th>\n",
              "      <th>capacidad</th>\n",
              "      <th>ano_actualizacion</th>\n",
              "    </tr>\n",
              "  </thead>\n",
              "  <tbody>\n",
              "    <tr>\n",
              "      <th>0</th>\n",
              "      <td>6861010</td>\n",
              "      <td>6</td>\n",
              "      <td>6861</td>\n",
              "      <td>NaN</td>\n",
              "      <td>Salas de Teatro</td>\n",
              "      <td>NaN</td>\n",
              "      <td>Buenos Aires</td>\n",
              "      <td>Vicente Lopez</td>\n",
              "      <td>Vicente Lopez</td>\n",
              "      <td>Alparamis</td>\n",
              "      <td>...</td>\n",
              "      <td>-34.51051300</td>\n",
              "      <td>-58.47802900</td>\n",
              "      <td>Precisa</td>\n",
              "      <td>NaN</td>\n",
              "      <td>NaN</td>\n",
              "      <td>Red de Espacios Culturales Vicente López</td>\n",
              "      <td>Privado</td>\n",
              "      <td>0.0</td>\n",
              "      <td>NaN</td>\n",
              "      <td>2019</td>\n",
              "    </tr>\n",
              "    <tr>\n",
              "      <th>1</th>\n",
              "      <td>6861010</td>\n",
              "      <td>6</td>\n",
              "      <td>6861</td>\n",
              "      <td>NaN</td>\n",
              "      <td>Salas de Teatro</td>\n",
              "      <td>NaN</td>\n",
              "      <td>Buenos Aires</td>\n",
              "      <td>Vicente Lopez</td>\n",
              "      <td>Vicente Lopez</td>\n",
              "      <td>Complejo Cultural Comunicanto</td>\n",
              "      <td>...</td>\n",
              "      <td>-34.53743370</td>\n",
              "      <td>-58.51288690</td>\n",
              "      <td>Precisa</td>\n",
              "      <td>NaN</td>\n",
              "      <td>NaN</td>\n",
              "      <td>Red de Espacios Culturales Vicente López</td>\n",
              "      <td>Privado</td>\n",
              "      <td>0.0</td>\n",
              "      <td>NaN</td>\n",
              "      <td>2019</td>\n",
              "    </tr>\n",
              "    <tr>\n",
              "      <th>2</th>\n",
              "      <td>2000010</td>\n",
              "      <td>2</td>\n",
              "      <td>2000</td>\n",
              "      <td>NaN</td>\n",
              "      <td>Salas de Teatro</td>\n",
              "      <td>NaN</td>\n",
              "      <td>Ciudad Autonoma de Buenos Aires</td>\n",
              "      <td>Ciudad Autonoma de Buenos Aires</td>\n",
              "      <td>Ciudad Autonoma de Buenos Aires</td>\n",
              "      <td>La Fábrica</td>\n",
              "      <td>...</td>\n",
              "      <td>-34.59540311</td>\n",
              "      <td>-58.43663057</td>\n",
              "      <td>Precisa</td>\n",
              "      <td>NaN</td>\n",
              "      <td>s/d</td>\n",
              "      <td>Alternativa Teatral / Relevamiento 2017</td>\n",
              "      <td>Privado</td>\n",
              "      <td>0.0</td>\n",
              "      <td>0.0</td>\n",
              "      <td>2020</td>\n",
              "    </tr>\n",
              "    <tr>\n",
              "      <th>3</th>\n",
              "      <td>2000010</td>\n",
              "      <td>2</td>\n",
              "      <td>2000</td>\n",
              "      <td>NaN</td>\n",
              "      <td>Salas de Teatro</td>\n",
              "      <td>NaN</td>\n",
              "      <td>Ciudad Autonoma de Buenos Aires</td>\n",
              "      <td>Ciudad Autonoma de Buenos Aires</td>\n",
              "      <td>Ciudad Autonoma de Buenos Aires</td>\n",
              "      <td>Arlequino</td>\n",
              "      <td>...</td>\n",
              "      <td>-34.61115000</td>\n",
              "      <td>-58.38723800</td>\n",
              "      <td>Precisa</td>\n",
              "      <td>NaN</td>\n",
              "      <td>s/d</td>\n",
              "      <td>Plan Podesta 2020 / Relevamiento SINCA</td>\n",
              "      <td>Privado</td>\n",
              "      <td>0.0</td>\n",
              "      <td>200.0</td>\n",
              "      <td>2020</td>\n",
              "    </tr>\n",
              "    <tr>\n",
              "      <th>4</th>\n",
              "      <td>2000010</td>\n",
              "      <td>2</td>\n",
              "      <td>2000</td>\n",
              "      <td>NaN</td>\n",
              "      <td>Salas de Teatro</td>\n",
              "      <td>NaN</td>\n",
              "      <td>Ciudad Autonoma de Buenos Aires</td>\n",
              "      <td>Ciudad Autonoma de Buenos Aires</td>\n",
              "      <td>Ciudad Autonoma de Buenos Aires</td>\n",
              "      <td>Teatro de la Fabula</td>\n",
              "      <td>...</td>\n",
              "      <td>-34.60469500</td>\n",
              "      <td>-58.41190700</td>\n",
              "      <td>Precisa</td>\n",
              "      <td>NaN</td>\n",
              "      <td>s/d</td>\n",
              "      <td>Plan Podesta 2020 / Relevamiento SINCA</td>\n",
              "      <td>Privado</td>\n",
              "      <td>1965.0</td>\n",
              "      <td>100.0</td>\n",
              "      <td>2020</td>\n",
              "    </tr>\n",
              "  </tbody>\n",
              "</table>\n",
              "<p>5 rows × 28 columns</p>\n",
              "</div>\n",
              "      <button class=\"colab-df-convert\" onclick=\"convertToInteractive('df-75f8d929-b449-4eab-b62e-c273c19fd6ae')\"\n",
              "              title=\"Convert this dataframe to an interactive table.\"\n",
              "              style=\"display:none;\">\n",
              "        \n",
              "  <svg xmlns=\"http://www.w3.org/2000/svg\" height=\"24px\"viewBox=\"0 0 24 24\"\n",
              "       width=\"24px\">\n",
              "    <path d=\"M0 0h24v24H0V0z\" fill=\"none\"/>\n",
              "    <path d=\"M18.56 5.44l.94 2.06.94-2.06 2.06-.94-2.06-.94-.94-2.06-.94 2.06-2.06.94zm-11 1L8.5 8.5l.94-2.06 2.06-.94-2.06-.94L8.5 2.5l-.94 2.06-2.06.94zm10 10l.94 2.06.94-2.06 2.06-.94-2.06-.94-.94-2.06-.94 2.06-2.06.94z\"/><path d=\"M17.41 7.96l-1.37-1.37c-.4-.4-.92-.59-1.43-.59-.52 0-1.04.2-1.43.59L10.3 9.45l-7.72 7.72c-.78.78-.78 2.05 0 2.83L4 21.41c.39.39.9.59 1.41.59.51 0 1.02-.2 1.41-.59l7.78-7.78 2.81-2.81c.8-.78.8-2.07 0-2.86zM5.41 20L4 18.59l7.72-7.72 1.47 1.35L5.41 20z\"/>\n",
              "  </svg>\n",
              "      </button>\n",
              "      \n",
              "  <style>\n",
              "    .colab-df-container {\n",
              "      display:flex;\n",
              "      flex-wrap:wrap;\n",
              "      gap: 12px;\n",
              "    }\n",
              "\n",
              "    .colab-df-convert {\n",
              "      background-color: #E8F0FE;\n",
              "      border: none;\n",
              "      border-radius: 50%;\n",
              "      cursor: pointer;\n",
              "      display: none;\n",
              "      fill: #1967D2;\n",
              "      height: 32px;\n",
              "      padding: 0 0 0 0;\n",
              "      width: 32px;\n",
              "    }\n",
              "\n",
              "    .colab-df-convert:hover {\n",
              "      background-color: #E2EBFA;\n",
              "      box-shadow: 0px 1px 2px rgba(60, 64, 67, 0.3), 0px 1px 3px 1px rgba(60, 64, 67, 0.15);\n",
              "      fill: #174EA6;\n",
              "    }\n",
              "\n",
              "    [theme=dark] .colab-df-convert {\n",
              "      background-color: #3B4455;\n",
              "      fill: #D2E3FC;\n",
              "    }\n",
              "\n",
              "    [theme=dark] .colab-df-convert:hover {\n",
              "      background-color: #434B5C;\n",
              "      box-shadow: 0px 1px 3px 1px rgba(0, 0, 0, 0.15);\n",
              "      filter: drop-shadow(0px 1px 2px rgba(0, 0, 0, 0.3));\n",
              "      fill: #FFFFFF;\n",
              "    }\n",
              "  </style>\n",
              "\n",
              "      <script>\n",
              "        const buttonEl =\n",
              "          document.querySelector('#df-75f8d929-b449-4eab-b62e-c273c19fd6ae button.colab-df-convert');\n",
              "        buttonEl.style.display =\n",
              "          google.colab.kernel.accessAllowed ? 'block' : 'none';\n",
              "\n",
              "        async function convertToInteractive(key) {\n",
              "          const element = document.querySelector('#df-75f8d929-b449-4eab-b62e-c273c19fd6ae');\n",
              "          const dataTable =\n",
              "            await google.colab.kernel.invokeFunction('convertToInteractive',\n",
              "                                                     [key], {});\n",
              "          if (!dataTable) return;\n",
              "\n",
              "          const docLinkHtml = 'Like what you see? Visit the ' +\n",
              "            '<a target=\"_blank\" href=https://colab.research.google.com/notebooks/data_table.ipynb>data table notebook</a>'\n",
              "            + ' to learn more about interactive tables.';\n",
              "          element.innerHTML = '';\n",
              "          dataTable['output_type'] = 'display_data';\n",
              "          await google.colab.output.renderOutput(dataTable, element);\n",
              "          const docLink = document.createElement('div');\n",
              "          docLink.innerHTML = docLinkHtml;\n",
              "          element.appendChild(docLink);\n",
              "        }\n",
              "      </script>\n",
              "    </div>\n",
              "  </div>\n",
              "  "
            ]
          },
          "metadata": {},
          "execution_count": 4
        }
      ],
      "source": [
        "teatros.info()\n",
        "teatros.head()"
      ]
    },
    {
      "cell_type": "markdown",
      "id": "39a591c5",
      "metadata": {
        "id": "39a591c5"
      },
      "source": [
        "### El set cuenta con 27 columnas y 1364 entradas. "
      ]
    },
    {
      "cell_type": "code",
      "execution_count": null,
      "id": "950f6b5a",
      "metadata": {
        "id": "950f6b5a"
      },
      "outputs": [],
      "source": [
        "#Comenzamos dejando solo las columnas relevantes a este análisis:\n",
        "teatros.drop(['cod_loc', 'id_prov','observaciones','id_departamento','categoria','subcategoria','telefono','mail','web','TipoLatitudLongitud','fuente','ano_actualizacion', 'piso', 'domicilio','cod_area','CP','departamento'], axis=1, inplace=True)"
      ]
    },
    {
      "cell_type": "code",
      "execution_count": null,
      "id": "4495e89a",
      "metadata": {
        "id": "4495e89a",
        "outputId": "4fc8da00-d022-43e0-c203-876587efe2f7",
        "colab": {
          "base_uri": "https://localhost:8080/"
        }
      },
      "outputs": [
        {
          "output_type": "execute_result",
          "data": {
            "text/plain": [
              "array(['Buenos Aires', 'Ciudad Autonoma de Buenos Aires', 'Catamarca',\n",
              "       'Cordoba', 'Corrientes', 'Chaco', 'Chubut', 'Entre Ríos',\n",
              "       'Formosa', 'Jujuy', 'La Pampa', 'La Rioja', 'Mendoza', 'Misiones',\n",
              "       'Neuquén', 'Río Negro', 'Salta', 'San Juan', 'San Luis',\n",
              "       'Santa Cruz', 'Santa Fe', 'Santiago del Estero', 'Tucumán',\n",
              "       'Tierra del Fuego, Antártida e Islas del Atlántico Sur',\n",
              "       'Entre Rios', 'Neuquen', 'Rio Negro', 'Tucuman'], dtype=object)"
            ]
          },
          "metadata": {},
          "execution_count": 6
        }
      ],
      "source": [
        "#Chequeamos que no haya errores en la columna de provincias:\n",
        "teatros['provincia'].unique()"
      ]
    },
    {
      "cell_type": "code",
      "source": [
        "#Notamos que las provincias con tildes en sus nombres tienen valores repetidos. Corregimos el error:\n",
        "teatros.replace('Rio Negro', 'Río Negro', inplace= True)\n",
        "teatros.replace('Entre Rios', 'Entre Ríos', inplace=True)\n",
        "teatros.replace('Tucuman','Tucumán', inplace= True)\n",
        "teatros.replace('Neuquen', 'Neuquén', inplace= True)"
      ],
      "metadata": {
        "id": "FNhZogcxqL4r"
      },
      "id": "FNhZogcxqL4r",
      "execution_count": null,
      "outputs": []
    },
    {
      "cell_type": "code",
      "execution_count": null,
      "id": "d20523e9",
      "metadata": {
        "id": "d20523e9"
      },
      "outputs": [],
      "source": [
        "#Cambiamos el na a cero en la columnas que poseen valores númericos:\n",
        "#Columna inicio de actividad:\n",
        "teatros['inicio_act'].fillna(0, inplace= True)\n"
      ]
    },
    {
      "cell_type": "code",
      "execution_count": null,
      "id": "91254975",
      "metadata": {
        "id": "91254975"
      },
      "outputs": [],
      "source": [
        "#Columna capacidad:\n",
        "teatros['capacidad'].fillna(0, inplace=True)"
      ]
    },
    {
      "cell_type": "code",
      "execution_count": null,
      "id": "b42fa7f3",
      "metadata": {
        "id": "b42fa7f3"
      },
      "outputs": [],
      "source": [
        "'''\n",
        "La columna de inicio de actividad es de tipo float, considerando que los valores dan referencia de años, \n",
        "cambiaremos el tipo de dato a uno que los represente de mejor forma:\n",
        "'''\n",
        "teatros['inicio_act']=teatros['inicio_act'].astype('int64')"
      ]
    },
    {
      "cell_type": "code",
      "execution_count": null,
      "id": "83a8fe4e",
      "metadata": {
        "id": "83a8fe4e"
      },
      "outputs": [],
      "source": [
        "'''\n",
        "La capacidad mide la cantiad de personas que pueden entrar dentro de las salas, como sabemos estos valores deben ser\n",
        "si o si valores enteros,por eso convertimos la columna a int:\n",
        "'''\n",
        "teatros['capacidad']= teatros['capacidad'].astype('int64')"
      ]
    },
    {
      "cell_type": "code",
      "execution_count": null,
      "id": "9849fd17",
      "metadata": {
        "id": "9849fd17"
      },
      "outputs": [],
      "source": [
        "#Por último movemos la columna con los nombres al primer lugar:\n",
        "col_uno= teatros.pop('nombre')\n",
        "teatros.insert(0, 'nombre', col_uno)"
      ]
    },
    {
      "cell_type": "code",
      "execution_count": null,
      "id": "aca54e42",
      "metadata": {
        "id": "aca54e42"
      },
      "outputs": [],
      "source": [
        "#Chequeamos que no haya vaores duplicados:\n",
        "teatros_d= teatros.duplicated()\n",
        "for i in teatros_d:\n",
        "    if i == True:\n",
        "        print (i)"
      ]
    },
    {
      "cell_type": "code",
      "execution_count": null,
      "id": "23aeb621",
      "metadata": {
        "id": "23aeb621",
        "outputId": "669adcc3-fa02-4e99-d348-6396b5dbc9ca",
        "colab": {
          "base_uri": "https://localhost:8080/",
          "height": 479
        }
      },
      "outputs": [
        {
          "output_type": "execute_result",
          "data": {
            "text/plain": [
              "                          nombre                        provincia  \\\n",
              "0                      Alparamis                     Buenos Aires   \n",
              "1  Complejo Cultural Comunicanto                     Buenos Aires   \n",
              "2                     La Fábrica  Ciudad Autonoma de Buenos Aires   \n",
              "3                      Arlequino  Ciudad Autonoma de Buenos Aires   \n",
              "4            Teatro de la Fabula  Ciudad Autonoma de Buenos Aires   \n",
              "\n",
              "                         localidad    informacion       latitud      longitud  \\\n",
              "0                    Vicente Lopez            NaN  -34.51051300  -58.47802900   \n",
              "1                    Vicente Lopez            NaN  -34.53743370  -58.51288690   \n",
              "2  Ciudad Autonoma de Buenos Aires            s/d  -34.59540311  -58.43663057   \n",
              "3  Ciudad Autonoma de Buenos Aires            s/d  -34.61115000  -58.38723800   \n",
              "4  Ciudad Autonoma de Buenos Aires  A la italiana  -34.60469500  -58.41190700   \n",
              "\n",
              "  actividad_especifica denominacion_especifica tipo_gestion  inicio_act  \\\n",
              "0                  NaN                     NaN      Privado           0   \n",
              "1                  NaN                     NaN      Privado           0   \n",
              "2                  NaN                     s/d      Privado           0   \n",
              "3                  NaN                     s/d      Privado           0   \n",
              "4                  NaN                     s/d      Privado        1965   \n",
              "\n",
              "   capacidad  \n",
              "0          0  \n",
              "1          0  \n",
              "2          0  \n",
              "3        200  \n",
              "4        100  "
            ],
            "text/html": [
              "\n",
              "  <div id=\"df-82533ae2-3846-42e9-9eb5-898d9cf05353\">\n",
              "    <div class=\"colab-df-container\">\n",
              "      <div>\n",
              "<style scoped>\n",
              "    .dataframe tbody tr th:only-of-type {\n",
              "        vertical-align: middle;\n",
              "    }\n",
              "\n",
              "    .dataframe tbody tr th {\n",
              "        vertical-align: top;\n",
              "    }\n",
              "\n",
              "    .dataframe thead th {\n",
              "        text-align: right;\n",
              "    }\n",
              "</style>\n",
              "<table border=\"1\" class=\"dataframe\">\n",
              "  <thead>\n",
              "    <tr style=\"text-align: right;\">\n",
              "      <th></th>\n",
              "      <th>nombre</th>\n",
              "      <th>provincia</th>\n",
              "      <th>localidad</th>\n",
              "      <th>informacion</th>\n",
              "      <th>latitud</th>\n",
              "      <th>longitud</th>\n",
              "      <th>actividad_especifica</th>\n",
              "      <th>denominacion_especifica</th>\n",
              "      <th>tipo_gestion</th>\n",
              "      <th>inicio_act</th>\n",
              "      <th>capacidad</th>\n",
              "    </tr>\n",
              "  </thead>\n",
              "  <tbody>\n",
              "    <tr>\n",
              "      <th>0</th>\n",
              "      <td>Alparamis</td>\n",
              "      <td>Buenos Aires</td>\n",
              "      <td>Vicente Lopez</td>\n",
              "      <td>NaN</td>\n",
              "      <td>-34.51051300</td>\n",
              "      <td>-58.47802900</td>\n",
              "      <td>NaN</td>\n",
              "      <td>NaN</td>\n",
              "      <td>Privado</td>\n",
              "      <td>0</td>\n",
              "      <td>0</td>\n",
              "    </tr>\n",
              "    <tr>\n",
              "      <th>1</th>\n",
              "      <td>Complejo Cultural Comunicanto</td>\n",
              "      <td>Buenos Aires</td>\n",
              "      <td>Vicente Lopez</td>\n",
              "      <td>NaN</td>\n",
              "      <td>-34.53743370</td>\n",
              "      <td>-58.51288690</td>\n",
              "      <td>NaN</td>\n",
              "      <td>NaN</td>\n",
              "      <td>Privado</td>\n",
              "      <td>0</td>\n",
              "      <td>0</td>\n",
              "    </tr>\n",
              "    <tr>\n",
              "      <th>2</th>\n",
              "      <td>La Fábrica</td>\n",
              "      <td>Ciudad Autonoma de Buenos Aires</td>\n",
              "      <td>Ciudad Autonoma de Buenos Aires</td>\n",
              "      <td>s/d</td>\n",
              "      <td>-34.59540311</td>\n",
              "      <td>-58.43663057</td>\n",
              "      <td>NaN</td>\n",
              "      <td>s/d</td>\n",
              "      <td>Privado</td>\n",
              "      <td>0</td>\n",
              "      <td>0</td>\n",
              "    </tr>\n",
              "    <tr>\n",
              "      <th>3</th>\n",
              "      <td>Arlequino</td>\n",
              "      <td>Ciudad Autonoma de Buenos Aires</td>\n",
              "      <td>Ciudad Autonoma de Buenos Aires</td>\n",
              "      <td>s/d</td>\n",
              "      <td>-34.61115000</td>\n",
              "      <td>-58.38723800</td>\n",
              "      <td>NaN</td>\n",
              "      <td>s/d</td>\n",
              "      <td>Privado</td>\n",
              "      <td>0</td>\n",
              "      <td>200</td>\n",
              "    </tr>\n",
              "    <tr>\n",
              "      <th>4</th>\n",
              "      <td>Teatro de la Fabula</td>\n",
              "      <td>Ciudad Autonoma de Buenos Aires</td>\n",
              "      <td>Ciudad Autonoma de Buenos Aires</td>\n",
              "      <td>A la italiana</td>\n",
              "      <td>-34.60469500</td>\n",
              "      <td>-58.41190700</td>\n",
              "      <td>NaN</td>\n",
              "      <td>s/d</td>\n",
              "      <td>Privado</td>\n",
              "      <td>1965</td>\n",
              "      <td>100</td>\n",
              "    </tr>\n",
              "  </tbody>\n",
              "</table>\n",
              "</div>\n",
              "      <button class=\"colab-df-convert\" onclick=\"convertToInteractive('df-82533ae2-3846-42e9-9eb5-898d9cf05353')\"\n",
              "              title=\"Convert this dataframe to an interactive table.\"\n",
              "              style=\"display:none;\">\n",
              "        \n",
              "  <svg xmlns=\"http://www.w3.org/2000/svg\" height=\"24px\"viewBox=\"0 0 24 24\"\n",
              "       width=\"24px\">\n",
              "    <path d=\"M0 0h24v24H0V0z\" fill=\"none\"/>\n",
              "    <path d=\"M18.56 5.44l.94 2.06.94-2.06 2.06-.94-2.06-.94-.94-2.06-.94 2.06-2.06.94zm-11 1L8.5 8.5l.94-2.06 2.06-.94-2.06-.94L8.5 2.5l-.94 2.06-2.06.94zm10 10l.94 2.06.94-2.06 2.06-.94-2.06-.94-.94-2.06-.94 2.06-2.06.94z\"/><path d=\"M17.41 7.96l-1.37-1.37c-.4-.4-.92-.59-1.43-.59-.52 0-1.04.2-1.43.59L10.3 9.45l-7.72 7.72c-.78.78-.78 2.05 0 2.83L4 21.41c.39.39.9.59 1.41.59.51 0 1.02-.2 1.41-.59l7.78-7.78 2.81-2.81c.8-.78.8-2.07 0-2.86zM5.41 20L4 18.59l7.72-7.72 1.47 1.35L5.41 20z\"/>\n",
              "  </svg>\n",
              "      </button>\n",
              "      \n",
              "  <style>\n",
              "    .colab-df-container {\n",
              "      display:flex;\n",
              "      flex-wrap:wrap;\n",
              "      gap: 12px;\n",
              "    }\n",
              "\n",
              "    .colab-df-convert {\n",
              "      background-color: #E8F0FE;\n",
              "      border: none;\n",
              "      border-radius: 50%;\n",
              "      cursor: pointer;\n",
              "      display: none;\n",
              "      fill: #1967D2;\n",
              "      height: 32px;\n",
              "      padding: 0 0 0 0;\n",
              "      width: 32px;\n",
              "    }\n",
              "\n",
              "    .colab-df-convert:hover {\n",
              "      background-color: #E2EBFA;\n",
              "      box-shadow: 0px 1px 2px rgba(60, 64, 67, 0.3), 0px 1px 3px 1px rgba(60, 64, 67, 0.15);\n",
              "      fill: #174EA6;\n",
              "    }\n",
              "\n",
              "    [theme=dark] .colab-df-convert {\n",
              "      background-color: #3B4455;\n",
              "      fill: #D2E3FC;\n",
              "    }\n",
              "\n",
              "    [theme=dark] .colab-df-convert:hover {\n",
              "      background-color: #434B5C;\n",
              "      box-shadow: 0px 1px 3px 1px rgba(0, 0, 0, 0.15);\n",
              "      filter: drop-shadow(0px 1px 2px rgba(0, 0, 0, 0.3));\n",
              "      fill: #FFFFFF;\n",
              "    }\n",
              "  </style>\n",
              "\n",
              "      <script>\n",
              "        const buttonEl =\n",
              "          document.querySelector('#df-82533ae2-3846-42e9-9eb5-898d9cf05353 button.colab-df-convert');\n",
              "        buttonEl.style.display =\n",
              "          google.colab.kernel.accessAllowed ? 'block' : 'none';\n",
              "\n",
              "        async function convertToInteractive(key) {\n",
              "          const element = document.querySelector('#df-82533ae2-3846-42e9-9eb5-898d9cf05353');\n",
              "          const dataTable =\n",
              "            await google.colab.kernel.invokeFunction('convertToInteractive',\n",
              "                                                     [key], {});\n",
              "          if (!dataTable) return;\n",
              "\n",
              "          const docLinkHtml = 'Like what you see? Visit the ' +\n",
              "            '<a target=\"_blank\" href=https://colab.research.google.com/notebooks/data_table.ipynb>data table notebook</a>'\n",
              "            + ' to learn more about interactive tables.';\n",
              "          element.innerHTML = '';\n",
              "          dataTable['output_type'] = 'display_data';\n",
              "          await google.colab.output.renderOutput(dataTable, element);\n",
              "          const docLink = document.createElement('div');\n",
              "          docLink.innerHTML = docLinkHtml;\n",
              "          element.appendChild(docLink);\n",
              "        }\n",
              "      </script>\n",
              "    </div>\n",
              "  </div>\n",
              "  "
            ]
          },
          "metadata": {},
          "execution_count": 14
        }
      ],
      "source": [
        "teatros.head()"
      ]
    },
    {
      "cell_type": "markdown",
      "id": "e525ffcb",
      "metadata": {
        "id": "e525ffcb"
      },
      "source": [
        "## 2.3 SET: Centros culturales."
      ]
    },
    {
      "cell_type": "code",
      "execution_count": null,
      "id": "81992060",
      "metadata": {
        "id": "81992060",
        "outputId": "59214551-c5fc-4c7c-f677-f0a332c0724b",
        "colab": {
          "base_uri": "https://localhost:8080/",
          "height": 1000
        }
      },
      "outputs": [
        {
          "output_type": "stream",
          "name": "stdout",
          "text": [
            "<class 'pandas.core.frame.DataFrame'>\n",
            "RangeIndex: 1067 entries, 0 to 1066\n",
            "Data columns (total 24 columns):\n",
            " #   Column               Non-Null Count  Dtype  \n",
            "---  ------               --------------  -----  \n",
            " 0   Cod_Loc              1067 non-null   int64  \n",
            " 1   ID_PROV              1067 non-null   int64  \n",
            " 2   ID_DEPTO             1067 non-null   int64  \n",
            " 3   Observaciones        0 non-null      float64\n",
            " 4   Categoria            1067 non-null   object \n",
            " 5   Provincia            1067 non-null   object \n",
            " 6   Departamento         1066 non-null   object \n",
            " 7   Localidad            1067 non-null   object \n",
            " 8   Nombre               1067 non-null   object \n",
            " 9   Domicilio            1067 non-null   object \n",
            " 10  Piso                 294 non-null    object \n",
            " 11  CP                   823 non-null    object \n",
            " 12  cod_area             584 non-null    object \n",
            " 13  Telefóno             579 non-null    object \n",
            " 14  Mail                 866 non-null    object \n",
            " 15  Web                  778 non-null    object \n",
            " 16  InfoAdicional        0 non-null      float64\n",
            " 17  Latitud              1067 non-null   float64\n",
            " 18  Longitud             1067 non-null   object \n",
            " 19  TipoLatitudLongitud  1067 non-null   object \n",
            " 20  Fuente               1067 non-null   object \n",
            " 21  año_inicio           382 non-null    float64\n",
            " 22  Capacidad            558 non-null    float64\n",
            " 23  Actualizacion        1067 non-null   int64  \n",
            "dtypes: float64(5), int64(4), object(15)\n",
            "memory usage: 200.2+ KB\n"
          ]
        },
        {
          "output_type": "execute_result",
          "data": {
            "text/plain": [
              "   Cod_Loc  ID_PROV  ID_DEPTO  Observaciones        Categoria  \\\n",
              "0  2000010        2      2000            NaN  Centro Cultural   \n",
              "1  2000010        2      2000            NaN  Centro Cultural   \n",
              "2  2000010        2      2000            NaN  Centro Cultural   \n",
              "3  2000010        2      2000            NaN  Centro Cultural   \n",
              "4  2000010        2      2000            NaN  Centro Cultural   \n",
              "\n",
              "                         Provincia                     Departamento  \\\n",
              "0  Ciudad Autónoma de Buenos Aires  Ciudad Autónoma de Buenos Aires   \n",
              "1  Ciudad Autónoma de Buenos Aires  Ciudad Autónoma de Buenos Aires   \n",
              "2  Ciudad Autónoma de Buenos Aires  Ciudad Autónoma de Buenos Aires   \n",
              "3  Ciudad Autónoma de Buenos Aires  Ciudad Autónoma de Buenos Aires   \n",
              "4  Ciudad Autónoma de Buenos Aires  Ciudad Autónoma de Buenos Aires   \n",
              "\n",
              "                         Localidad                     Nombre  \\\n",
              "0  Ciudad Autonoma de Buenos Aires         Oihoy Casa Abierta   \n",
              "1  Ciudad Autonoma de Buenos Aires                 Carpe Diem   \n",
              "2  Ciudad Autonoma de Buenos Aires  Casa Cultural Victor Jara   \n",
              "3  Ciudad Autonoma de Buenos Aires         El Tanque Cultural   \n",
              "4  Ciudad Autonoma de Buenos Aires    Espacio Cultural Urbano   \n",
              "\n",
              "                      Domicilio  ...                            Mail   \\\n",
              "0               14 De Julio 426  ...           recepcion@oihoy.com.ar   \n",
              "1  15 De Noviembre De 1889 1774  ...                              NaN   \n",
              "2          24 De Noviembre 2273  ...              jbonadeo5@gmail.com   \n",
              "3                 Acassuso 6930  ...       Eltanquecultural@Gmail.Com   \n",
              "4                   Acevedo 460  ...  Espacioculturalurbano@Gmail.Com   \n",
              "\n",
              "                                      Web InfoAdicional    Latitud  \\\n",
              "0               www.oihoy.blogspot.com.ar           NaN -34.588377   \n",
              "1                                     NaN           NaN -34.631532   \n",
              "2                                     NaN           NaN -34.637101   \n",
              "3                                     NaN           NaN -34.537190   \n",
              "4  https://www.espacioculturalurbano.net/           NaN -34.597594   \n",
              "\n",
              "       Longitud TipoLatitudLongitud              Fuente  año_inicio Capacidad  \\\n",
              "0  -58.46471750             Precisa  Data Cultura /2021         NaN       0.0   \n",
              "1  -58.39009233             Precisa  Data Cultura /2021         NaN       0.0   \n",
              "2  -58.40917746             Precisa  Data Cultura /2021         NaN      80.0   \n",
              "3  -58.51744842             Precisa  Data Cultura /2021         NaN     300.0   \n",
              "4  -58.43998560             Precisa  Data Cultura /2021         NaN     140.0   \n",
              "\n",
              "  Actualizacion  \n",
              "0          2020  \n",
              "1          2020  \n",
              "2          2020  \n",
              "3          2020  \n",
              "4          2020  \n",
              "\n",
              "[5 rows x 24 columns]"
            ],
            "text/html": [
              "\n",
              "  <div id=\"df-b17273de-da55-4e07-a00b-a81709ca30b1\">\n",
              "    <div class=\"colab-df-container\">\n",
              "      <div>\n",
              "<style scoped>\n",
              "    .dataframe tbody tr th:only-of-type {\n",
              "        vertical-align: middle;\n",
              "    }\n",
              "\n",
              "    .dataframe tbody tr th {\n",
              "        vertical-align: top;\n",
              "    }\n",
              "\n",
              "    .dataframe thead th {\n",
              "        text-align: right;\n",
              "    }\n",
              "</style>\n",
              "<table border=\"1\" class=\"dataframe\">\n",
              "  <thead>\n",
              "    <tr style=\"text-align: right;\">\n",
              "      <th></th>\n",
              "      <th>Cod_Loc</th>\n",
              "      <th>ID_PROV</th>\n",
              "      <th>ID_DEPTO</th>\n",
              "      <th>Observaciones</th>\n",
              "      <th>Categoria</th>\n",
              "      <th>Provincia</th>\n",
              "      <th>Departamento</th>\n",
              "      <th>Localidad</th>\n",
              "      <th>Nombre</th>\n",
              "      <th>Domicilio</th>\n",
              "      <th>...</th>\n",
              "      <th>Mail</th>\n",
              "      <th>Web</th>\n",
              "      <th>InfoAdicional</th>\n",
              "      <th>Latitud</th>\n",
              "      <th>Longitud</th>\n",
              "      <th>TipoLatitudLongitud</th>\n",
              "      <th>Fuente</th>\n",
              "      <th>año_inicio</th>\n",
              "      <th>Capacidad</th>\n",
              "      <th>Actualizacion</th>\n",
              "    </tr>\n",
              "  </thead>\n",
              "  <tbody>\n",
              "    <tr>\n",
              "      <th>0</th>\n",
              "      <td>2000010</td>\n",
              "      <td>2</td>\n",
              "      <td>2000</td>\n",
              "      <td>NaN</td>\n",
              "      <td>Centro Cultural</td>\n",
              "      <td>Ciudad Autónoma de Buenos Aires</td>\n",
              "      <td>Ciudad Autónoma de Buenos Aires</td>\n",
              "      <td>Ciudad Autonoma de Buenos Aires</td>\n",
              "      <td>Oihoy Casa Abierta</td>\n",
              "      <td>14 De Julio 426</td>\n",
              "      <td>...</td>\n",
              "      <td>recepcion@oihoy.com.ar</td>\n",
              "      <td>www.oihoy.blogspot.com.ar</td>\n",
              "      <td>NaN</td>\n",
              "      <td>-34.588377</td>\n",
              "      <td>-58.46471750</td>\n",
              "      <td>Precisa</td>\n",
              "      <td>Data Cultura /2021</td>\n",
              "      <td>NaN</td>\n",
              "      <td>0.0</td>\n",
              "      <td>2020</td>\n",
              "    </tr>\n",
              "    <tr>\n",
              "      <th>1</th>\n",
              "      <td>2000010</td>\n",
              "      <td>2</td>\n",
              "      <td>2000</td>\n",
              "      <td>NaN</td>\n",
              "      <td>Centro Cultural</td>\n",
              "      <td>Ciudad Autónoma de Buenos Aires</td>\n",
              "      <td>Ciudad Autónoma de Buenos Aires</td>\n",
              "      <td>Ciudad Autonoma de Buenos Aires</td>\n",
              "      <td>Carpe Diem</td>\n",
              "      <td>15 De Noviembre De 1889 1774</td>\n",
              "      <td>...</td>\n",
              "      <td>NaN</td>\n",
              "      <td>NaN</td>\n",
              "      <td>NaN</td>\n",
              "      <td>-34.631532</td>\n",
              "      <td>-58.39009233</td>\n",
              "      <td>Precisa</td>\n",
              "      <td>Data Cultura /2021</td>\n",
              "      <td>NaN</td>\n",
              "      <td>0.0</td>\n",
              "      <td>2020</td>\n",
              "    </tr>\n",
              "    <tr>\n",
              "      <th>2</th>\n",
              "      <td>2000010</td>\n",
              "      <td>2</td>\n",
              "      <td>2000</td>\n",
              "      <td>NaN</td>\n",
              "      <td>Centro Cultural</td>\n",
              "      <td>Ciudad Autónoma de Buenos Aires</td>\n",
              "      <td>Ciudad Autónoma de Buenos Aires</td>\n",
              "      <td>Ciudad Autonoma de Buenos Aires</td>\n",
              "      <td>Casa Cultural Victor Jara</td>\n",
              "      <td>24 De Noviembre 2273</td>\n",
              "      <td>...</td>\n",
              "      <td>jbonadeo5@gmail.com</td>\n",
              "      <td>NaN</td>\n",
              "      <td>NaN</td>\n",
              "      <td>-34.637101</td>\n",
              "      <td>-58.40917746</td>\n",
              "      <td>Precisa</td>\n",
              "      <td>Data Cultura /2021</td>\n",
              "      <td>NaN</td>\n",
              "      <td>80.0</td>\n",
              "      <td>2020</td>\n",
              "    </tr>\n",
              "    <tr>\n",
              "      <th>3</th>\n",
              "      <td>2000010</td>\n",
              "      <td>2</td>\n",
              "      <td>2000</td>\n",
              "      <td>NaN</td>\n",
              "      <td>Centro Cultural</td>\n",
              "      <td>Ciudad Autónoma de Buenos Aires</td>\n",
              "      <td>Ciudad Autónoma de Buenos Aires</td>\n",
              "      <td>Ciudad Autonoma de Buenos Aires</td>\n",
              "      <td>El Tanque Cultural</td>\n",
              "      <td>Acassuso 6930</td>\n",
              "      <td>...</td>\n",
              "      <td>Eltanquecultural@Gmail.Com</td>\n",
              "      <td>NaN</td>\n",
              "      <td>NaN</td>\n",
              "      <td>-34.537190</td>\n",
              "      <td>-58.51744842</td>\n",
              "      <td>Precisa</td>\n",
              "      <td>Data Cultura /2021</td>\n",
              "      <td>NaN</td>\n",
              "      <td>300.0</td>\n",
              "      <td>2020</td>\n",
              "    </tr>\n",
              "    <tr>\n",
              "      <th>4</th>\n",
              "      <td>2000010</td>\n",
              "      <td>2</td>\n",
              "      <td>2000</td>\n",
              "      <td>NaN</td>\n",
              "      <td>Centro Cultural</td>\n",
              "      <td>Ciudad Autónoma de Buenos Aires</td>\n",
              "      <td>Ciudad Autónoma de Buenos Aires</td>\n",
              "      <td>Ciudad Autonoma de Buenos Aires</td>\n",
              "      <td>Espacio Cultural Urbano</td>\n",
              "      <td>Acevedo 460</td>\n",
              "      <td>...</td>\n",
              "      <td>Espacioculturalurbano@Gmail.Com</td>\n",
              "      <td>https://www.espacioculturalurbano.net/</td>\n",
              "      <td>NaN</td>\n",
              "      <td>-34.597594</td>\n",
              "      <td>-58.43998560</td>\n",
              "      <td>Precisa</td>\n",
              "      <td>Data Cultura /2021</td>\n",
              "      <td>NaN</td>\n",
              "      <td>140.0</td>\n",
              "      <td>2020</td>\n",
              "    </tr>\n",
              "  </tbody>\n",
              "</table>\n",
              "<p>5 rows × 24 columns</p>\n",
              "</div>\n",
              "      <button class=\"colab-df-convert\" onclick=\"convertToInteractive('df-b17273de-da55-4e07-a00b-a81709ca30b1')\"\n",
              "              title=\"Convert this dataframe to an interactive table.\"\n",
              "              style=\"display:none;\">\n",
              "        \n",
              "  <svg xmlns=\"http://www.w3.org/2000/svg\" height=\"24px\"viewBox=\"0 0 24 24\"\n",
              "       width=\"24px\">\n",
              "    <path d=\"M0 0h24v24H0V0z\" fill=\"none\"/>\n",
              "    <path d=\"M18.56 5.44l.94 2.06.94-2.06 2.06-.94-2.06-.94-.94-2.06-.94 2.06-2.06.94zm-11 1L8.5 8.5l.94-2.06 2.06-.94-2.06-.94L8.5 2.5l-.94 2.06-2.06.94zm10 10l.94 2.06.94-2.06 2.06-.94-2.06-.94-.94-2.06-.94 2.06-2.06.94z\"/><path d=\"M17.41 7.96l-1.37-1.37c-.4-.4-.92-.59-1.43-.59-.52 0-1.04.2-1.43.59L10.3 9.45l-7.72 7.72c-.78.78-.78 2.05 0 2.83L4 21.41c.39.39.9.59 1.41.59.51 0 1.02-.2 1.41-.59l7.78-7.78 2.81-2.81c.8-.78.8-2.07 0-2.86zM5.41 20L4 18.59l7.72-7.72 1.47 1.35L5.41 20z\"/>\n",
              "  </svg>\n",
              "      </button>\n",
              "      \n",
              "  <style>\n",
              "    .colab-df-container {\n",
              "      display:flex;\n",
              "      flex-wrap:wrap;\n",
              "      gap: 12px;\n",
              "    }\n",
              "\n",
              "    .colab-df-convert {\n",
              "      background-color: #E8F0FE;\n",
              "      border: none;\n",
              "      border-radius: 50%;\n",
              "      cursor: pointer;\n",
              "      display: none;\n",
              "      fill: #1967D2;\n",
              "      height: 32px;\n",
              "      padding: 0 0 0 0;\n",
              "      width: 32px;\n",
              "    }\n",
              "\n",
              "    .colab-df-convert:hover {\n",
              "      background-color: #E2EBFA;\n",
              "      box-shadow: 0px 1px 2px rgba(60, 64, 67, 0.3), 0px 1px 3px 1px rgba(60, 64, 67, 0.15);\n",
              "      fill: #174EA6;\n",
              "    }\n",
              "\n",
              "    [theme=dark] .colab-df-convert {\n",
              "      background-color: #3B4455;\n",
              "      fill: #D2E3FC;\n",
              "    }\n",
              "\n",
              "    [theme=dark] .colab-df-convert:hover {\n",
              "      background-color: #434B5C;\n",
              "      box-shadow: 0px 1px 3px 1px rgba(0, 0, 0, 0.15);\n",
              "      filter: drop-shadow(0px 1px 2px rgba(0, 0, 0, 0.3));\n",
              "      fill: #FFFFFF;\n",
              "    }\n",
              "  </style>\n",
              "\n",
              "      <script>\n",
              "        const buttonEl =\n",
              "          document.querySelector('#df-b17273de-da55-4e07-a00b-a81709ca30b1 button.colab-df-convert');\n",
              "        buttonEl.style.display =\n",
              "          google.colab.kernel.accessAllowed ? 'block' : 'none';\n",
              "\n",
              "        async function convertToInteractive(key) {\n",
              "          const element = document.querySelector('#df-b17273de-da55-4e07-a00b-a81709ca30b1');\n",
              "          const dataTable =\n",
              "            await google.colab.kernel.invokeFunction('convertToInteractive',\n",
              "                                                     [key], {});\n",
              "          if (!dataTable) return;\n",
              "\n",
              "          const docLinkHtml = 'Like what you see? Visit the ' +\n",
              "            '<a target=\"_blank\" href=https://colab.research.google.com/notebooks/data_table.ipynb>data table notebook</a>'\n",
              "            + ' to learn more about interactive tables.';\n",
              "          element.innerHTML = '';\n",
              "          dataTable['output_type'] = 'display_data';\n",
              "          await google.colab.output.renderOutput(dataTable, element);\n",
              "          const docLink = document.createElement('div');\n",
              "          docLink.innerHTML = docLinkHtml;\n",
              "          element.appendChild(docLink);\n",
              "        }\n",
              "      </script>\n",
              "    </div>\n",
              "  </div>\n",
              "  "
            ]
          },
          "metadata": {},
          "execution_count": 33
        }
      ],
      "source": [
        "#Chequeamos el set:\n",
        "centros_culturales.info()\n",
        "centros_culturales.head()"
      ]
    },
    {
      "cell_type": "code",
      "execution_count": null,
      "id": "adfbf4f4",
      "metadata": {
        "id": "adfbf4f4"
      },
      "outputs": [],
      "source": [
        "#Comenzamos dejando solo las columnas relevantes al análisis:\n",
        "centros_culturales.drop(['Cod_Loc','Mail', 'ID_PROV','ID_DEPTO', 'Categoria','Piso','CP','cod_area','Telefóno', 'Domicilio', 'Departamento','Observaciones', 'Web','TipoLatitudLongitud','Fuente','Actualizacion','InfoAdicional'],axis=1, inplace=True)"
      ]
    },
    {
      "cell_type": "code",
      "execution_count": null,
      "id": "f67cf869",
      "metadata": {
        "id": "f67cf869"
      },
      "outputs": [],
      "source": [
        "#Cambiamos el valor Nan a cero para poder convertir las columnas númericas de año de inicio y capacidad a int:\n",
        "#Año de inicio\n",
        "centros_culturales['año_inicio'].fillna(0,inplace=True)"
      ]
    },
    {
      "cell_type": "code",
      "execution_count": null,
      "id": "ebf14229",
      "metadata": {
        "id": "ebf14229"
      },
      "outputs": [],
      "source": [
        "#Capacidad\n",
        "centros_culturales['Capacidad'].fillna(0, inplace=True)"
      ]
    },
    {
      "cell_type": "code",
      "execution_count": null,
      "id": "586c4c3c",
      "metadata": {
        "id": "586c4c3c"
      },
      "outputs": [],
      "source": [
        "#Cambiamos el tipo de dato de las entradas de float a int.\n",
        "#Año de inicio:\n",
        "centros_culturales['año_inicio']=centros_culturales['año_inicio'].astype('int64')"
      ]
    },
    {
      "cell_type": "code",
      "execution_count": null,
      "id": "9caaf2b5",
      "metadata": {
        "id": "9caaf2b5"
      },
      "outputs": [],
      "source": [
        "#Capacidad:\n",
        "centros_culturales['Capacidad']=centros_culturales['Capacidad'].astype('int64')"
      ]
    },
    {
      "cell_type": "code",
      "execution_count": null,
      "id": "f4e3934a",
      "metadata": {
        "id": "f4e3934a"
      },
      "outputs": [],
      "source": [
        "#Cambiamos el orden de las columnas para que el nombre del establecimiento este en primer lugar:\n",
        "cc_primera= centros_culturales.pop('Nombre')\n",
        "centros_culturales.insert(0, 'Nombre', cc_primera)"
      ]
    },
    {
      "cell_type": "code",
      "execution_count": null,
      "id": "39298db2",
      "metadata": {
        "id": "39298db2"
      },
      "outputs": [],
      "source": [
        "#Chequeamos que no haya valores duplicados:\n",
        "cc_dupli= centros_culturales.duplicated()\n",
        "for i in cc_dupli:\n",
        "    if i == True:\n",
        "        print(i)"
      ]
    },
    {
      "cell_type": "code",
      "execution_count": null,
      "id": "7f5c97f0",
      "metadata": {
        "colab": {
          "base_uri": "https://localhost:8080/"
        },
        "id": "7f5c97f0",
        "outputId": "daa32991-32d7-4d1d-dd59-835680b3997c"
      },
      "outputs": [
        {
          "output_type": "execute_result",
          "data": {
            "text/plain": [
              "array(['Ciudad Autónoma de Buenos Aires', 'Buenos Aires', 'Catamarca',\n",
              "       'Córdoba', 'Corrientes', 'Chaco', 'Chubut', 'Entre Ríos',\n",
              "       'Formosa', 'Jujuy', 'La Pampa', 'La Rioja', 'Mendoza', 'Misiones',\n",
              "       'Neuquén', 'Río Negro', 'Salta', 'San Juan', 'San Luis',\n",
              "       'Santa Cruz', 'Santa Fe', 'Santiago del Estero', 'Tucumán',\n",
              "       'Tierra del Fuego, Antártida e Islas del Atlántico Sur'],\n",
              "      dtype=object)"
            ]
          },
          "metadata": {},
          "execution_count": 41
        }
      ],
      "source": [
        "#Revisamos los valores de las entradas de la columna Provicia para asegurarnos de que no haya ningún error:\n",
        "centros_culturales['Provincia'].unique()"
      ]
    },
    {
      "cell_type": "code",
      "execution_count": null,
      "id": "cae8f00f",
      "metadata": {
        "id": "cae8f00f",
        "outputId": "8aa24362-2402-42b7-c84f-1a78d0af6086",
        "colab": {
          "base_uri": "https://localhost:8080/"
        }
      },
      "outputs": [
        {
          "output_type": "execute_result",
          "data": {
            "text/plain": [
              "array(['Ciudad Autonoma de Buenos Aires', 'Adolfo Alsina', 'Alberti',\n",
              "       'Almirante Brown', 'Claypole', 'Longchamps', 'Avellaneda', 'Gerli',\n",
              "       'Sarandí', 'Bahía Blanca', 'Balcarce', 'Benito Juarez',\n",
              "       'Berazategui', 'Berisso', 'Bragado', 'Coronel Brandsen', 'Campana',\n",
              "       'Cañuelas', 'Carlos Casares', 'Coronel Suarez', 'Chacabuco',\n",
              "       'Chivilcoy', 'Dolores', 'Ensenada', 'Escobar',\n",
              "       'Ingeniero Maschwitz', 'Monte Grande', 'General Juan Madariaga',\n",
              "       'Mar del Plata', 'General San Martin', 'General San Martín',\n",
              "       'Jose Leon Suarez', 'San Martín', 'Villa Ballester', 'Hurlingham',\n",
              "       'Ituzaingo', 'Jose C. Paz', 'Junin', 'Gregorio de Laferrere',\n",
              "       'Ramos Mejia', 'Lanús', 'La Plata', 'Tolosa', 'Villa Elisa',\n",
              "       'Villa Raffo', 'Roberts', 'Lobos', 'Lomas de Zamora', 'Maipú',\n",
              "       'Santo Domingo', 'Malvinas Argentinas', 'Mercedes', 'Merlo',\n",
              "       'San Miguel Del Monte', 'Haedo', 'Morón', 'Necochea', '9 De Julio',\n",
              "       'Olavarría', 'Carmen de Patagones', 'Pergamino', 'Pilar',\n",
              "       'Veronica', 'Quilmes', 'Rauch', 'Rojas', 'Roque Perez', 'Pigué',\n",
              "       'San Andres De Giles', 'San Fernando', 'Boulogne', 'San Isidro',\n",
              "       'San Miguel', 'San Nicolás de los Arroyos', 'San Pedro',\n",
              "       'Alejandro Korn', 'Tandil', 'Tigre', 'Trenque Lauquen',\n",
              "       'Martín Coronado', 'Pablo Podestá', 'Saenz Peña', 'Santos Lugares',\n",
              "       'Tres de Febrero', 'Munro', 'Vicente Lopez', 'Villa Martelli',\n",
              "       'Villa Gesell', 'Hilario Ascasubi', 'Nicolas Levalle',\n",
              "       'Pedro Luro', 'Zarate', 'Aconquija', 'Andalgala',\n",
              "       'San Fernando del Valle de Catamarca',\n",
              "       'San Fernando del Valle de Catamarca ', 'Pomancillo Oeste',\n",
              "       'Pomán', 'Villa Dolores', 'Cordoba', 'Agua de Oro', 'Jesús Maria',\n",
              "       'La Calera', 'Río Ceballos', 'Salsipuedes', 'Unquillo',\n",
              "       'Villa Allende', 'San Marcos Sierras', 'Jovita', 'Dean Funes',\n",
              "       'General Deheza', 'Alejo Ledesma', 'Arias', 'San Carlos Minas',\n",
              "       'Capilla del Monte', 'La Cumbre', 'La Falda ',\n",
              "       'Santa María de Punilla', 'Tanti', 'Villa Cerro Azul',\n",
              "       'VILLA RIO ICHO CRUZ', 'Río Cuarto', 'Cerro Colorado', 'La Paz',\n",
              "       'Paraje Los Molles- Villa de las rosas', 'Villa de las Rosas',\n",
              "       'Colonia San Bartolomé', 'Morteros', 'Alta Gracia',\n",
              "       'José de la Quintana', 'José De La Quintana', 'Oliva',\n",
              "       'Bell Ville', 'Corrientes', 'Presidencia Roque Sáenz Peña',\n",
              "       'Puerto Tirol', 'Villa Angela', 'La Tigra', 'Colonia Benitez',\n",
              "       'Barranqueras', 'Resistencia', 'Puerto Madryn', 'Puerto Pirámide',\n",
              "       'Epuyen', 'Comodoro Rivadavia', 'Esquel ', 'Rawson', 'Trelew',\n",
              "       'Colón', 'San José', 'Concordia', 'Los Charrúas', 'Chajari',\n",
              "       'Federación', 'Gualeguaychú', 'Paraná', 'Concepcion del Uruguay',\n",
              "       'Victoria', 'Formosa', 'Pirane', 'San Salvador de Jujuy',\n",
              "       'Humahuaca', 'San Pedro De Jujuy ', 'Tilcara', 'Anguil',\n",
              "       'Santa Rosa', 'General Pico', 'Toay', 'Villa Mazán', 'La Rioja',\n",
              "       'Los Palacios', 'Mendoza', 'Godoy Cruz', 'Godoy Cruz ', 'Belgrano',\n",
              "       'Guaymallen', 'Uspallata', 'Luján de Cuyo', 'Luján De Cuyo',\n",
              "       'Perdriel', 'Luzuriaga', 'San Rafael', 'Tupungato', 'Candelaria',\n",
              "       'Posadas', 'El Dorado', 'Puerto Esperanza', 'Puerto Iguazú',\n",
              "       'Oberá', '25 de Mayo', 'Cutral Co', 'Neuquen', 'Plaza Huincul',\n",
              "       'San Martín de los Andes', 'Villa La Angostura', 'Zapala',\n",
              "       'Viedma', 'El Bolson', 'San Carlos De Bariloche', 'General Conesa',\n",
              "       'Catriel', 'Cipolletti', 'General Roca',\n",
              "       'Ingeniero Luis A. Huergo', 'San Antonio Oeste', 'Cafayate',\n",
              "       'Salta', 'General Guemes', 'Tartagal',\n",
              "       'San Ramon de la Nueva Oran', 'La Silleta', 'San Carlos', 'Iruya',\n",
              "       'San Juan', 'San Juan ', 'Chimbas', 'Rivadavia', 'San Francisco',\n",
              "       'Rio Grande', 'Justo Daract', 'Villa Mercedes', 'Villa de Merlo',\n",
              "       'La Punta', 'San Luis', 'Caleta Olivia', 'Las Heras',\n",
              "       'Pico Truncado', 'Rio Gallegos', 'Rio Turbio', 'El Calafate',\n",
              "       'Chabás', 'Rafaela', 'Ramona', 'Sunchales', 'Susana', 'Firmat',\n",
              "       'Villa Constitución', 'María Teresa', 'Santa Isabel',\n",
              "       'Venado Tuerto', 'Las Toscas', 'Reconquista', 'Villa Guillermina',\n",
              "       'Arroyo Leyes', 'Recreo', 'San José del Rincón', 'Santa Fe',\n",
              "       'Santo Tome', 'Sauce Viejo', 'Esperanza', 'Franck',\n",
              "       'San Jerónimo del Sauce', 'San Jerónimo Norte', 'Pueblo Esther',\n",
              "       'Rosario', 'Soldini', 'Villa Amelia', 'Ceres', 'Videla',\n",
              "       'Capitán Bermúdez', 'San Lorenzo', 'San Lorenzo ', 'Piamonte',\n",
              "       'Sastre', 'Vera', 'La Banda', 'Santiago del Estero',\n",
              "       'Termas De Rio Hondo', 'Banda Del Rio Sali', 'La Cocha',\n",
              "       'San Isidro de Lules', 'San Miguel de Tucuman', 'Tafi Viejo',\n",
              "       'Yerba Buena', 'Río Grande', 'Ushuaia'], dtype=object)"
            ]
          },
          "metadata": {},
          "execution_count": 42
        }
      ],
      "source": [
        "centros_culturales['Localidad'].unique()"
      ]
    },
    {
      "cell_type": "code",
      "execution_count": null,
      "id": "95eed9a4",
      "metadata": {
        "id": "95eed9a4"
      },
      "outputs": [],
      "source": [
        "'''\n",
        "Observamos que hay varias localidades que están repetidas. Lo solucionamos:\n",
        "'''\n",
        "centros_culturales.replace('General San Martin', 'General San Martín', inplace= True)\n",
        "centros_culturales.replace('San Fernando del Valle de Catamarca ','San Fernando del Valle de Catamarca', inplace= True)\n",
        "centros_culturales.replace('Godoy Cruz ', 'Godoy Cruz', inplace=True)"
      ]
    },
    {
      "cell_type": "markdown",
      "id": "805cf04c",
      "metadata": {
        "id": "805cf04c"
      },
      "source": [
        "## 2.4 SET: Galerias de arte."
      ]
    },
    {
      "cell_type": "code",
      "execution_count": null,
      "id": "d430a34a",
      "metadata": {
        "scrolled": true,
        "id": "d430a34a",
        "outputId": "ca466c19-5216-4941-e728-d181d3bdba6e",
        "colab": {
          "base_uri": "https://localhost:8080/",
          "height": 1000
        }
      },
      "outputs": [
        {
          "output_type": "stream",
          "name": "stdout",
          "text": [
            "<class 'pandas.core.frame.DataFrame'>\n",
            "RangeIndex: 238 entries, 0 to 237\n",
            "Data columns (total 21 columns):\n",
            " #   Column                 Non-Null Count  Dtype  \n",
            "---  ------                 --------------  -----  \n",
            " 0   cod_loc                238 non-null    int64  \n",
            " 1   id_provincia           238 non-null    int64  \n",
            " 2   id_departamento        238 non-null    int64  \n",
            " 3   categoria              238 non-null    object \n",
            " 4   provincia              238 non-null    object \n",
            " 5   departamento           238 non-null    object \n",
            " 6   localidad              238 non-null    object \n",
            " 7   nombre                 238 non-null    object \n",
            " 8   domicilio              237 non-null    object \n",
            " 9   piso                   37 non-null     object \n",
            " 10  cp                     238 non-null    int64  \n",
            " 11  cod_area               181 non-null    float64\n",
            " 12  telefono               180 non-null    object \n",
            " 13  mail                   202 non-null    object \n",
            " 14  web                    211 non-null    object \n",
            " 15  latitud                238 non-null    float64\n",
            " 16  longitud               238 non-null    object \n",
            " 17  tipo_latitud_longitud  238 non-null    object \n",
            " 18  fuente                 237 non-null    object \n",
            " 19  tipo_gestion           238 non-null    object \n",
            " 20  año_actualizacion      238 non-null    int64  \n",
            "dtypes: float64(2), int64(5), object(14)\n",
            "memory usage: 39.2+ KB\n"
          ]
        },
        {
          "output_type": "execute_result",
          "data": {
            "text/plain": [
              "   cod_loc  id_provincia  id_departamento         categoria     provincia  \\\n",
              "0  6049020             6             6049  Galerías de Arte  Buenos Aires   \n",
              "1  6203020             6             6203  Galerías de Arte  Buenos Aires   \n",
              "2  6357110             6             6357  Galerías de Arte  Buenos Aires   \n",
              "3  6357110             6             6357  Galerías de Arte  Buenos Aires   \n",
              "4  6371010             6             6371  Galerías de Arte  Buenos Aires   \n",
              "\n",
              "         departamento       localidad                                 nombre  \\\n",
              "0                Azul            Azul             Oliva Drys espacio de arte   \n",
              "1      Coronel Suárez  Coronel Suárez               Isidoro, Espacio De Arte   \n",
              "2  General Pueyrredon   Mar del Plata  Silencio (dispositivo sonoro poético)   \n",
              "3  General Pueyrredon   Mar del Plata                      Casa Intermitente   \n",
              "4  General San Martín     Villa Lynch      Centro De Edición Taller Galería    \n",
              "\n",
              "        domicilio piso  ...  cod_area  telefono  \\\n",
              "0        Prat 675  NaN  ...    2281.0    632213   \n",
              "1  Av. Casey 1052  NaN  ...       NaN       NaN   \n",
              "2   Brandsen 3532  NaN  ...       NaN       NaN   \n",
              "3     Génova 2036  NaN  ...       NaN       NaN   \n",
              "4  Azcuénaga 4178  NaN  ...      11.0  51627192   \n",
              "\n",
              "                                  mail  \\\n",
              "0              olivadrysarte@gmail.com   \n",
              "1             isidoroarte@gmail.com.ar   \n",
              "2  silenciodispositivosonoro@gmail.com   \n",
              "3           casaintermitente@gmail.com   \n",
              "4            centrodeedicion@gmail.com   \n",
              "\n",
              "                                                 web    latitud      longitud  \\\n",
              "0               https://www.facebook.com/silvio.drys -36.778400  -59.85624000   \n",
              "1               https://www.facebook.com/IsidoroArte -37.459776  -61.93132350   \n",
              "2  https://www.facebook.com/Silencio-183821545504... -37.983990  -57.54800752   \n",
              "3         https://www.facebook.com/casaintermitente/ -38.064651   -57.5520899   \n",
              "4             https://www.facebook.com/CentroEdicion -34.593398  -58.52592530   \n",
              "\n",
              "  tipo_latitud_longitud                     fuente tipo_gestion  \\\n",
              "0  localización precisa     Fondo Desarrollar 2020      Privado   \n",
              "1  localización precisa               Arte On line      Privado   \n",
              "2  localización precisa     Fondo Desarrollar 2021      Privado   \n",
              "3  localización precisa     Fondo Desarrollar 2021      Privado   \n",
              "4  localización precisa  ArsOmnibús - relevamiento      Privado   \n",
              "\n",
              "  año_actualizacion  \n",
              "0              2022  \n",
              "1              2022  \n",
              "2              2022  \n",
              "3              2022  \n",
              "4              2022  \n",
              "\n",
              "[5 rows x 21 columns]"
            ],
            "text/html": [
              "\n",
              "  <div id=\"df-30635f10-6fc8-47c2-8b23-3c6d87e620e7\">\n",
              "    <div class=\"colab-df-container\">\n",
              "      <div>\n",
              "<style scoped>\n",
              "    .dataframe tbody tr th:only-of-type {\n",
              "        vertical-align: middle;\n",
              "    }\n",
              "\n",
              "    .dataframe tbody tr th {\n",
              "        vertical-align: top;\n",
              "    }\n",
              "\n",
              "    .dataframe thead th {\n",
              "        text-align: right;\n",
              "    }\n",
              "</style>\n",
              "<table border=\"1\" class=\"dataframe\">\n",
              "  <thead>\n",
              "    <tr style=\"text-align: right;\">\n",
              "      <th></th>\n",
              "      <th>cod_loc</th>\n",
              "      <th>id_provincia</th>\n",
              "      <th>id_departamento</th>\n",
              "      <th>categoria</th>\n",
              "      <th>provincia</th>\n",
              "      <th>departamento</th>\n",
              "      <th>localidad</th>\n",
              "      <th>nombre</th>\n",
              "      <th>domicilio</th>\n",
              "      <th>piso</th>\n",
              "      <th>...</th>\n",
              "      <th>cod_area</th>\n",
              "      <th>telefono</th>\n",
              "      <th>mail</th>\n",
              "      <th>web</th>\n",
              "      <th>latitud</th>\n",
              "      <th>longitud</th>\n",
              "      <th>tipo_latitud_longitud</th>\n",
              "      <th>fuente</th>\n",
              "      <th>tipo_gestion</th>\n",
              "      <th>año_actualizacion</th>\n",
              "    </tr>\n",
              "  </thead>\n",
              "  <tbody>\n",
              "    <tr>\n",
              "      <th>0</th>\n",
              "      <td>6049020</td>\n",
              "      <td>6</td>\n",
              "      <td>6049</td>\n",
              "      <td>Galerías de Arte</td>\n",
              "      <td>Buenos Aires</td>\n",
              "      <td>Azul</td>\n",
              "      <td>Azul</td>\n",
              "      <td>Oliva Drys espacio de arte</td>\n",
              "      <td>Prat 675</td>\n",
              "      <td>NaN</td>\n",
              "      <td>...</td>\n",
              "      <td>2281.0</td>\n",
              "      <td>632213</td>\n",
              "      <td>olivadrysarte@gmail.com</td>\n",
              "      <td>https://www.facebook.com/silvio.drys</td>\n",
              "      <td>-36.778400</td>\n",
              "      <td>-59.85624000</td>\n",
              "      <td>localización precisa</td>\n",
              "      <td>Fondo Desarrollar 2020</td>\n",
              "      <td>Privado</td>\n",
              "      <td>2022</td>\n",
              "    </tr>\n",
              "    <tr>\n",
              "      <th>1</th>\n",
              "      <td>6203020</td>\n",
              "      <td>6</td>\n",
              "      <td>6203</td>\n",
              "      <td>Galerías de Arte</td>\n",
              "      <td>Buenos Aires</td>\n",
              "      <td>Coronel Suárez</td>\n",
              "      <td>Coronel Suárez</td>\n",
              "      <td>Isidoro, Espacio De Arte</td>\n",
              "      <td>Av. Casey 1052</td>\n",
              "      <td>NaN</td>\n",
              "      <td>...</td>\n",
              "      <td>NaN</td>\n",
              "      <td>NaN</td>\n",
              "      <td>isidoroarte@gmail.com.ar</td>\n",
              "      <td>https://www.facebook.com/IsidoroArte</td>\n",
              "      <td>-37.459776</td>\n",
              "      <td>-61.93132350</td>\n",
              "      <td>localización precisa</td>\n",
              "      <td>Arte On line</td>\n",
              "      <td>Privado</td>\n",
              "      <td>2022</td>\n",
              "    </tr>\n",
              "    <tr>\n",
              "      <th>2</th>\n",
              "      <td>6357110</td>\n",
              "      <td>6</td>\n",
              "      <td>6357</td>\n",
              "      <td>Galerías de Arte</td>\n",
              "      <td>Buenos Aires</td>\n",
              "      <td>General Pueyrredon</td>\n",
              "      <td>Mar del Plata</td>\n",
              "      <td>Silencio (dispositivo sonoro poético)</td>\n",
              "      <td>Brandsen 3532</td>\n",
              "      <td>NaN</td>\n",
              "      <td>...</td>\n",
              "      <td>NaN</td>\n",
              "      <td>NaN</td>\n",
              "      <td>silenciodispositivosonoro@gmail.com</td>\n",
              "      <td>https://www.facebook.com/Silencio-183821545504...</td>\n",
              "      <td>-37.983990</td>\n",
              "      <td>-57.54800752</td>\n",
              "      <td>localización precisa</td>\n",
              "      <td>Fondo Desarrollar 2021</td>\n",
              "      <td>Privado</td>\n",
              "      <td>2022</td>\n",
              "    </tr>\n",
              "    <tr>\n",
              "      <th>3</th>\n",
              "      <td>6357110</td>\n",
              "      <td>6</td>\n",
              "      <td>6357</td>\n",
              "      <td>Galerías de Arte</td>\n",
              "      <td>Buenos Aires</td>\n",
              "      <td>General Pueyrredon</td>\n",
              "      <td>Mar del Plata</td>\n",
              "      <td>Casa Intermitente</td>\n",
              "      <td>Génova 2036</td>\n",
              "      <td>NaN</td>\n",
              "      <td>...</td>\n",
              "      <td>NaN</td>\n",
              "      <td>NaN</td>\n",
              "      <td>casaintermitente@gmail.com</td>\n",
              "      <td>https://www.facebook.com/casaintermitente/</td>\n",
              "      <td>-38.064651</td>\n",
              "      <td>-57.5520899</td>\n",
              "      <td>localización precisa</td>\n",
              "      <td>Fondo Desarrollar 2021</td>\n",
              "      <td>Privado</td>\n",
              "      <td>2022</td>\n",
              "    </tr>\n",
              "    <tr>\n",
              "      <th>4</th>\n",
              "      <td>6371010</td>\n",
              "      <td>6</td>\n",
              "      <td>6371</td>\n",
              "      <td>Galerías de Arte</td>\n",
              "      <td>Buenos Aires</td>\n",
              "      <td>General San Martín</td>\n",
              "      <td>Villa Lynch</td>\n",
              "      <td>Centro De Edición Taller Galería</td>\n",
              "      <td>Azcuénaga 4178</td>\n",
              "      <td>NaN</td>\n",
              "      <td>...</td>\n",
              "      <td>11.0</td>\n",
              "      <td>51627192</td>\n",
              "      <td>centrodeedicion@gmail.com</td>\n",
              "      <td>https://www.facebook.com/CentroEdicion</td>\n",
              "      <td>-34.593398</td>\n",
              "      <td>-58.52592530</td>\n",
              "      <td>localización precisa</td>\n",
              "      <td>ArsOmnibús - relevamiento</td>\n",
              "      <td>Privado</td>\n",
              "      <td>2022</td>\n",
              "    </tr>\n",
              "  </tbody>\n",
              "</table>\n",
              "<p>5 rows × 21 columns</p>\n",
              "</div>\n",
              "      <button class=\"colab-df-convert\" onclick=\"convertToInteractive('df-30635f10-6fc8-47c2-8b23-3c6d87e620e7')\"\n",
              "              title=\"Convert this dataframe to an interactive table.\"\n",
              "              style=\"display:none;\">\n",
              "        \n",
              "  <svg xmlns=\"http://www.w3.org/2000/svg\" height=\"24px\"viewBox=\"0 0 24 24\"\n",
              "       width=\"24px\">\n",
              "    <path d=\"M0 0h24v24H0V0z\" fill=\"none\"/>\n",
              "    <path d=\"M18.56 5.44l.94 2.06.94-2.06 2.06-.94-2.06-.94-.94-2.06-.94 2.06-2.06.94zm-11 1L8.5 8.5l.94-2.06 2.06-.94-2.06-.94L8.5 2.5l-.94 2.06-2.06.94zm10 10l.94 2.06.94-2.06 2.06-.94-2.06-.94-.94-2.06-.94 2.06-2.06.94z\"/><path d=\"M17.41 7.96l-1.37-1.37c-.4-.4-.92-.59-1.43-.59-.52 0-1.04.2-1.43.59L10.3 9.45l-7.72 7.72c-.78.78-.78 2.05 0 2.83L4 21.41c.39.39.9.59 1.41.59.51 0 1.02-.2 1.41-.59l7.78-7.78 2.81-2.81c.8-.78.8-2.07 0-2.86zM5.41 20L4 18.59l7.72-7.72 1.47 1.35L5.41 20z\"/>\n",
              "  </svg>\n",
              "      </button>\n",
              "      \n",
              "  <style>\n",
              "    .colab-df-container {\n",
              "      display:flex;\n",
              "      flex-wrap:wrap;\n",
              "      gap: 12px;\n",
              "    }\n",
              "\n",
              "    .colab-df-convert {\n",
              "      background-color: #E8F0FE;\n",
              "      border: none;\n",
              "      border-radius: 50%;\n",
              "      cursor: pointer;\n",
              "      display: none;\n",
              "      fill: #1967D2;\n",
              "      height: 32px;\n",
              "      padding: 0 0 0 0;\n",
              "      width: 32px;\n",
              "    }\n",
              "\n",
              "    .colab-df-convert:hover {\n",
              "      background-color: #E2EBFA;\n",
              "      box-shadow: 0px 1px 2px rgba(60, 64, 67, 0.3), 0px 1px 3px 1px rgba(60, 64, 67, 0.15);\n",
              "      fill: #174EA6;\n",
              "    }\n",
              "\n",
              "    [theme=dark] .colab-df-convert {\n",
              "      background-color: #3B4455;\n",
              "      fill: #D2E3FC;\n",
              "    }\n",
              "\n",
              "    [theme=dark] .colab-df-convert:hover {\n",
              "      background-color: #434B5C;\n",
              "      box-shadow: 0px 1px 3px 1px rgba(0, 0, 0, 0.15);\n",
              "      filter: drop-shadow(0px 1px 2px rgba(0, 0, 0, 0.3));\n",
              "      fill: #FFFFFF;\n",
              "    }\n",
              "  </style>\n",
              "\n",
              "      <script>\n",
              "        const buttonEl =\n",
              "          document.querySelector('#df-30635f10-6fc8-47c2-8b23-3c6d87e620e7 button.colab-df-convert');\n",
              "        buttonEl.style.display =\n",
              "          google.colab.kernel.accessAllowed ? 'block' : 'none';\n",
              "\n",
              "        async function convertToInteractive(key) {\n",
              "          const element = document.querySelector('#df-30635f10-6fc8-47c2-8b23-3c6d87e620e7');\n",
              "          const dataTable =\n",
              "            await google.colab.kernel.invokeFunction('convertToInteractive',\n",
              "                                                     [key], {});\n",
              "          if (!dataTable) return;\n",
              "\n",
              "          const docLinkHtml = 'Like what you see? Visit the ' +\n",
              "            '<a target=\"_blank\" href=https://colab.research.google.com/notebooks/data_table.ipynb>data table notebook</a>'\n",
              "            + ' to learn more about interactive tables.';\n",
              "          element.innerHTML = '';\n",
              "          dataTable['output_type'] = 'display_data';\n",
              "          await google.colab.output.renderOutput(dataTable, element);\n",
              "          const docLink = document.createElement('div');\n",
              "          docLink.innerHTML = docLinkHtml;\n",
              "          element.appendChild(docLink);\n",
              "        }\n",
              "      </script>\n",
              "    </div>\n",
              "  </div>\n",
              "  "
            ]
          },
          "metadata": {},
          "execution_count": 4
        }
      ],
      "source": [
        "#Chequeamos el set:\n",
        "galerias_arte.info()\n",
        "galerias_arte.head()"
      ]
    },
    {
      "cell_type": "code",
      "execution_count": null,
      "id": "369a7353",
      "metadata": {
        "id": "369a7353"
      },
      "outputs": [],
      "source": [
        "#Comenzamos dejando solo las columnas relevantes al análisis:\n",
        "galerias_arte.drop(['cod_loc', 'id_provincia','id_departamento','categoria','departamento','domicilio','piso','cp','cod_area','telefono','mail','web','tipo_latitud_longitud','fuente','año_actualizacion'], axis=1, inplace=True)"
      ]
    },
    {
      "cell_type": "code",
      "execution_count": null,
      "id": "598d5870",
      "metadata": {
        "id": "598d5870",
        "outputId": "8f5818ff-e5b6-4e7a-836d-b09c2d43e114",
        "colab": {
          "base_uri": "https://localhost:8080/"
        }
      },
      "outputs": [
        {
          "output_type": "execute_result",
          "data": {
            "text/plain": [
              "array(['Buenos Aires', 'Ciudad Autónoma de Buenos Aires', 'Córdoba',\n",
              "       'Entre Ríos', 'La Pampa', 'Mendoza', 'Neuquén', 'Salta',\n",
              "       'San Juan', 'San Salvador de Jujuy', 'Santa Fe',\n",
              "       'Santiago del Estero', 'Tucumán'], dtype=object)"
            ]
          },
          "metadata": {},
          "execution_count": 6
        }
      ],
      "source": [
        "#Cheamos la columna de Provincia para asegurarnos de que sean entradas correctas:\n",
        "galerias_arte['provincia'].unique()"
      ]
    },
    {
      "cell_type": "code",
      "execution_count": null,
      "id": "5b2ce779",
      "metadata": {
        "id": "5b2ce779",
        "outputId": "e9800d89-973f-4da6-867f-71a03267bffc",
        "colab": {
          "base_uri": "https://localhost:8080/"
        }
      },
      "outputs": [
        {
          "output_type": "execute_result",
          "data": {
            "text/plain": [
              "array(['Azul', 'Coronel Suárez', 'Mar del Plata', 'Villa Lynch',\n",
              "       'City Bell', 'La Plata', 'Lezama', 'Cariló', 'Beccar',\n",
              "       'San Isidro', 'Tigre', 'Vicente Lopez',\n",
              "       'Ciudad Autónoma de Buenos Aires', 'Córdoba', 'Colonia Caroya',\n",
              "       'Unquillo', 'La Cumbre', 'Falda del Carmen',\n",
              "       'Concepcion del Uruguay', 'Santa Rosa', 'Mendoza', 'Mendoza ',\n",
              "       'San Patricio del Chañar', 'Neuquén', 'Salta', 'San Juan',\n",
              "       'San Salvador de Jujuy', 'Rafaela', 'Santa Fe', 'Santo Tomé',\n",
              "       'Rosario', 'La Banda', 'Santiago del Estero', 'Frías',\n",
              "       'San Miguel de Tucumán', 'Tafí Viejo'], dtype=object)"
            ]
          },
          "metadata": {},
          "execution_count": 7
        }
      ],
      "source": [
        "#Chequeamos la columna de Localidad:\n",
        "galerias_arte['localidad'].unique()"
      ]
    },
    {
      "cell_type": "code",
      "execution_count": null,
      "id": "1f959025",
      "metadata": {
        "id": "1f959025"
      },
      "outputs": [],
      "source": [
        "#El valor de Mendoza está repetido, lo arreglamos:\n",
        "galerias_arte.replace('Mendoza ', 'Mendoza', inplace= True)"
      ]
    },
    {
      "cell_type": "code",
      "execution_count": null,
      "id": "2d77f468",
      "metadata": {
        "scrolled": true,
        "id": "2d77f468"
      },
      "outputs": [],
      "source": [
        "#Colocamos la columna de nombre en la primera posición:\n",
        "ga_primera= galerias_arte.pop('nombre')\n",
        "galerias_arte.insert(0, 'nombre', ga_primera)"
      ]
    },
    {
      "cell_type": "code",
      "source": [
        "#Chequeamos los valores de la columna restante:\n",
        "galerias_arte['tipo_gestion'].unique()"
      ],
      "metadata": {
        "colab": {
          "base_uri": "https://localhost:8080/"
        },
        "id": "1mFBsOLBFVzY",
        "outputId": "27ca6ded-e38d-4573-cf66-4abe64843fca"
      },
      "id": "1mFBsOLBFVzY",
      "execution_count": null,
      "outputs": [
        {
          "output_type": "execute_result",
          "data": {
            "text/plain": [
              "array(['Privado', 'Privado '], dtype=object)"
            ]
          },
          "metadata": {},
          "execution_count": 23
        }
      ]
    },
    {
      "cell_type": "code",
      "source": [
        "#Observamos que solo hay un valor posible en la columna, que esta repetido por un error de tipeo.\n",
        "#Lo arreglamos.\n",
        "galerias_arte['tipo_gestion'].replace('Privado ', 'Privado', inplace= True)"
      ],
      "metadata": {
        "id": "-Pa0yaLdFflI"
      },
      "id": "-Pa0yaLdFflI",
      "execution_count": null,
      "outputs": []
    },
    {
      "cell_type": "code",
      "execution_count": null,
      "id": "df07afdd",
      "metadata": {
        "id": "df07afdd",
        "outputId": "218e56af-8a8e-42e7-f97f-0cf741fbbdc1",
        "colab": {
          "base_uri": "https://localhost:8080/",
          "height": 206
        }
      },
      "outputs": [
        {
          "output_type": "execute_result",
          "data": {
            "text/plain": [
              "                                  nombre     provincia       localidad  \\\n",
              "0             Oliva Drys espacio de arte  Buenos Aires            Azul   \n",
              "1               Isidoro, Espacio De Arte  Buenos Aires  Coronel Suárez   \n",
              "2  Silencio (dispositivo sonoro poético)  Buenos Aires   Mar del Plata   \n",
              "3                      Casa Intermitente  Buenos Aires   Mar del Plata   \n",
              "4      Centro De Edición Taller Galería   Buenos Aires     Villa Lynch   \n",
              "\n",
              "     latitud      longitud tipo_gestion  \n",
              "0 -36.778400  -59.85624000      Privado  \n",
              "1 -37.459776  -61.93132350      Privado  \n",
              "2 -37.983990  -57.54800752      Privado  \n",
              "3 -38.064651   -57.5520899      Privado  \n",
              "4 -34.593398  -58.52592530      Privado  "
            ],
            "text/html": [
              "\n",
              "  <div id=\"df-52a2df1c-a000-451a-94c1-51d30b85a427\">\n",
              "    <div class=\"colab-df-container\">\n",
              "      <div>\n",
              "<style scoped>\n",
              "    .dataframe tbody tr th:only-of-type {\n",
              "        vertical-align: middle;\n",
              "    }\n",
              "\n",
              "    .dataframe tbody tr th {\n",
              "        vertical-align: top;\n",
              "    }\n",
              "\n",
              "    .dataframe thead th {\n",
              "        text-align: right;\n",
              "    }\n",
              "</style>\n",
              "<table border=\"1\" class=\"dataframe\">\n",
              "  <thead>\n",
              "    <tr style=\"text-align: right;\">\n",
              "      <th></th>\n",
              "      <th>nombre</th>\n",
              "      <th>provincia</th>\n",
              "      <th>localidad</th>\n",
              "      <th>latitud</th>\n",
              "      <th>longitud</th>\n",
              "      <th>tipo_gestion</th>\n",
              "    </tr>\n",
              "  </thead>\n",
              "  <tbody>\n",
              "    <tr>\n",
              "      <th>0</th>\n",
              "      <td>Oliva Drys espacio de arte</td>\n",
              "      <td>Buenos Aires</td>\n",
              "      <td>Azul</td>\n",
              "      <td>-36.778400</td>\n",
              "      <td>-59.85624000</td>\n",
              "      <td>Privado</td>\n",
              "    </tr>\n",
              "    <tr>\n",
              "      <th>1</th>\n",
              "      <td>Isidoro, Espacio De Arte</td>\n",
              "      <td>Buenos Aires</td>\n",
              "      <td>Coronel Suárez</td>\n",
              "      <td>-37.459776</td>\n",
              "      <td>-61.93132350</td>\n",
              "      <td>Privado</td>\n",
              "    </tr>\n",
              "    <tr>\n",
              "      <th>2</th>\n",
              "      <td>Silencio (dispositivo sonoro poético)</td>\n",
              "      <td>Buenos Aires</td>\n",
              "      <td>Mar del Plata</td>\n",
              "      <td>-37.983990</td>\n",
              "      <td>-57.54800752</td>\n",
              "      <td>Privado</td>\n",
              "    </tr>\n",
              "    <tr>\n",
              "      <th>3</th>\n",
              "      <td>Casa Intermitente</td>\n",
              "      <td>Buenos Aires</td>\n",
              "      <td>Mar del Plata</td>\n",
              "      <td>-38.064651</td>\n",
              "      <td>-57.5520899</td>\n",
              "      <td>Privado</td>\n",
              "    </tr>\n",
              "    <tr>\n",
              "      <th>4</th>\n",
              "      <td>Centro De Edición Taller Galería</td>\n",
              "      <td>Buenos Aires</td>\n",
              "      <td>Villa Lynch</td>\n",
              "      <td>-34.593398</td>\n",
              "      <td>-58.52592530</td>\n",
              "      <td>Privado</td>\n",
              "    </tr>\n",
              "  </tbody>\n",
              "</table>\n",
              "</div>\n",
              "      <button class=\"colab-df-convert\" onclick=\"convertToInteractive('df-52a2df1c-a000-451a-94c1-51d30b85a427')\"\n",
              "              title=\"Convert this dataframe to an interactive table.\"\n",
              "              style=\"display:none;\">\n",
              "        \n",
              "  <svg xmlns=\"http://www.w3.org/2000/svg\" height=\"24px\"viewBox=\"0 0 24 24\"\n",
              "       width=\"24px\">\n",
              "    <path d=\"M0 0h24v24H0V0z\" fill=\"none\"/>\n",
              "    <path d=\"M18.56 5.44l.94 2.06.94-2.06 2.06-.94-2.06-.94-.94-2.06-.94 2.06-2.06.94zm-11 1L8.5 8.5l.94-2.06 2.06-.94-2.06-.94L8.5 2.5l-.94 2.06-2.06.94zm10 10l.94 2.06.94-2.06 2.06-.94-2.06-.94-.94-2.06-.94 2.06-2.06.94z\"/><path d=\"M17.41 7.96l-1.37-1.37c-.4-.4-.92-.59-1.43-.59-.52 0-1.04.2-1.43.59L10.3 9.45l-7.72 7.72c-.78.78-.78 2.05 0 2.83L4 21.41c.39.39.9.59 1.41.59.51 0 1.02-.2 1.41-.59l7.78-7.78 2.81-2.81c.8-.78.8-2.07 0-2.86zM5.41 20L4 18.59l7.72-7.72 1.47 1.35L5.41 20z\"/>\n",
              "  </svg>\n",
              "      </button>\n",
              "      \n",
              "  <style>\n",
              "    .colab-df-container {\n",
              "      display:flex;\n",
              "      flex-wrap:wrap;\n",
              "      gap: 12px;\n",
              "    }\n",
              "\n",
              "    .colab-df-convert {\n",
              "      background-color: #E8F0FE;\n",
              "      border: none;\n",
              "      border-radius: 50%;\n",
              "      cursor: pointer;\n",
              "      display: none;\n",
              "      fill: #1967D2;\n",
              "      height: 32px;\n",
              "      padding: 0 0 0 0;\n",
              "      width: 32px;\n",
              "    }\n",
              "\n",
              "    .colab-df-convert:hover {\n",
              "      background-color: #E2EBFA;\n",
              "      box-shadow: 0px 1px 2px rgba(60, 64, 67, 0.3), 0px 1px 3px 1px rgba(60, 64, 67, 0.15);\n",
              "      fill: #174EA6;\n",
              "    }\n",
              "\n",
              "    [theme=dark] .colab-df-convert {\n",
              "      background-color: #3B4455;\n",
              "      fill: #D2E3FC;\n",
              "    }\n",
              "\n",
              "    [theme=dark] .colab-df-convert:hover {\n",
              "      background-color: #434B5C;\n",
              "      box-shadow: 0px 1px 3px 1px rgba(0, 0, 0, 0.15);\n",
              "      filter: drop-shadow(0px 1px 2px rgba(0, 0, 0, 0.3));\n",
              "      fill: #FFFFFF;\n",
              "    }\n",
              "  </style>\n",
              "\n",
              "      <script>\n",
              "        const buttonEl =\n",
              "          document.querySelector('#df-52a2df1c-a000-451a-94c1-51d30b85a427 button.colab-df-convert');\n",
              "        buttonEl.style.display =\n",
              "          google.colab.kernel.accessAllowed ? 'block' : 'none';\n",
              "\n",
              "        async function convertToInteractive(key) {\n",
              "          const element = document.querySelector('#df-52a2df1c-a000-451a-94c1-51d30b85a427');\n",
              "          const dataTable =\n",
              "            await google.colab.kernel.invokeFunction('convertToInteractive',\n",
              "                                                     [key], {});\n",
              "          if (!dataTable) return;\n",
              "\n",
              "          const docLinkHtml = 'Like what you see? Visit the ' +\n",
              "            '<a target=\"_blank\" href=https://colab.research.google.com/notebooks/data_table.ipynb>data table notebook</a>'\n",
              "            + ' to learn more about interactive tables.';\n",
              "          element.innerHTML = '';\n",
              "          dataTable['output_type'] = 'display_data';\n",
              "          await google.colab.output.renderOutput(dataTable, element);\n",
              "          const docLink = document.createElement('div');\n",
              "          docLink.innerHTML = docLinkHtml;\n",
              "          element.appendChild(docLink);\n",
              "        }\n",
              "      </script>\n",
              "    </div>\n",
              "  </div>\n",
              "  "
            ]
          },
          "metadata": {},
          "execution_count": 10
        }
      ],
      "source": [
        "#Chequeamos el set:\n",
        "galerias_arte.head()"
      ]
    },
    {
      "cell_type": "markdown",
      "id": "b4b76614",
      "metadata": {
        "id": "b4b76614"
      },
      "source": [
        "## 2.5 SET: Lugares históricos."
      ]
    },
    {
      "cell_type": "code",
      "execution_count": null,
      "id": "500c3250",
      "metadata": {
        "id": "500c3250",
        "outputId": "c333a98d-d06d-4d17-db03-843310fb30a2",
        "colab": {
          "base_uri": "https://localhost:8080/",
          "height": 1000
        }
      },
      "outputs": [
        {
          "output_type": "stream",
          "name": "stdout",
          "text": [
            "<class 'pandas.core.frame.DataFrame'>\n",
            "RangeIndex: 1436 entries, 0 to 1435\n",
            "Data columns (total 16 columns):\n",
            " #   Column                      Non-Null Count  Dtype  \n",
            "---  ------                      --------------  -----  \n",
            " 0   espacio_cultural_id         1436 non-null   int64  \n",
            " 1   provincia_id                1436 non-null   int64  \n",
            " 2   localidad_id                1436 non-null   int64  \n",
            " 3   provincia                   1436 non-null   object \n",
            " 4   localidad                   1436 non-null   object \n",
            " 5   nombre                      1436 non-null   object \n",
            " 6   direccion                   1436 non-null   object \n",
            " 7   latitud                     1436 non-null   float64\n",
            " 8   longitud                    1436 non-null   float64\n",
            " 9   denominacion_especifica     1436 non-null   object \n",
            " 10  fuente                      1436 non-null   object \n",
            " 11  descripcion                 1436 non-null   object \n",
            " 12  jurisdiccion _declaratoria  1436 non-null   object \n",
            " 13  fecha_de_inauguracion       1436 non-null   object \n",
            " 14  decreto_o_ley               1436 non-null   object \n",
            " 15  numero_de_decreto_o_ley     1436 non-null   float64\n",
            "dtypes: float64(3), int64(3), object(10)\n",
            "memory usage: 179.6+ KB\n"
          ]
        },
        {
          "output_type": "execute_result",
          "data": {
            "text/plain": [
              "   espacio_cultural_id  provincia_id  localidad_id     provincia  \\\n",
              "0                    9             6       6854100  Buenos Aires   \n",
              "1                    9             6       6588100  Buenos Aires   \n",
              "2                    9             6       6014010  Buenos Aires   \n",
              "3                    9             6       6014010  Buenos Aires   \n",
              "4                    9             6       6028010  Buenos Aires   \n",
              "\n",
              "                localidad                                             nombre  \\\n",
              "0              25 de Mayo                             Cementerio de la Verde   \n",
              "1              9 de Julio  Pirámide que guarda los restos del Tte.Cnel. E...   \n",
              "2  Adolfo González Chaves                               Ex Mercado Municipal   \n",
              "3  Adolfo González Chaves                                  Palacio Municipal   \n",
              "4                 Adrogué                                Adrogué Tennis Club   \n",
              "\n",
              "                           direccion    latitud   longitud  \\\n",
              "0                                s/d -35.452139 -60.173889   \n",
              "1           Cementerio de 9 de Julio -35.470806 -60.905194   \n",
              "2                      Sarmiento 158 -38.033750 -60.098417   \n",
              "3  Bartolomé Mitre y Juan Elicagaray -38.032833 -60.098528   \n",
              "4           Macías y Sánchez Nº 1846 -34.795194 -58.393417   \n",
              "\n",
              "                 denominacion_especifica  \\\n",
              "0                        Lugar Histórico   \n",
              "1                               Sepulcro   \n",
              "2  Bien de Interés Histórico y Artístico   \n",
              "3                    Monumento Histórico   \n",
              "4              Bien de Interés Histórico   \n",
              "\n",
              "                                              fuente descripcion  \\\n",
              "0  Comisión Nacional de Monumentos, de Lugares y ...         s/d   \n",
              "1  Comisión Nacional de Monumentos, de Lugares y ...         s/d   \n",
              "2  Comisión Nacional de Monumentos, de Lugares y ...         s/d   \n",
              "3  Comisión Nacional de Monumentos, de Lugares y ...         s/d   \n",
              "4  Comisión Nacional de Monumentos, de Lugares y ...         s/d   \n",
              "\n",
              "  jurisdiccion _declaratoria fecha_de_inauguracion decreto_o_ley  \\\n",
              "0                   Nacional              9/3/1989       Decreto   \n",
              "1                   Nacional             13/7/1982       Decreto   \n",
              "2                   Nacional             21/7/2014       Decreto   \n",
              "3                   Nacional             21/7/2014       Decreto   \n",
              "4                   Nacional             22/7/2014       Decreto   \n",
              "\n",
              "   numero_de_decreto_o_ley  \n",
              "0                    325.0  \n",
              "1                     89.0  \n",
              "2                   1138.0  \n",
              "3                   1138.0  \n",
              "4                   1163.0  "
            ],
            "text/html": [
              "\n",
              "  <div id=\"df-29b140ef-3ab8-45bf-bc74-3fe4f7ed7a65\">\n",
              "    <div class=\"colab-df-container\">\n",
              "      <div>\n",
              "<style scoped>\n",
              "    .dataframe tbody tr th:only-of-type {\n",
              "        vertical-align: middle;\n",
              "    }\n",
              "\n",
              "    .dataframe tbody tr th {\n",
              "        vertical-align: top;\n",
              "    }\n",
              "\n",
              "    .dataframe thead th {\n",
              "        text-align: right;\n",
              "    }\n",
              "</style>\n",
              "<table border=\"1\" class=\"dataframe\">\n",
              "  <thead>\n",
              "    <tr style=\"text-align: right;\">\n",
              "      <th></th>\n",
              "      <th>espacio_cultural_id</th>\n",
              "      <th>provincia_id</th>\n",
              "      <th>localidad_id</th>\n",
              "      <th>provincia</th>\n",
              "      <th>localidad</th>\n",
              "      <th>nombre</th>\n",
              "      <th>direccion</th>\n",
              "      <th>latitud</th>\n",
              "      <th>longitud</th>\n",
              "      <th>denominacion_especifica</th>\n",
              "      <th>fuente</th>\n",
              "      <th>descripcion</th>\n",
              "      <th>jurisdiccion _declaratoria</th>\n",
              "      <th>fecha_de_inauguracion</th>\n",
              "      <th>decreto_o_ley</th>\n",
              "      <th>numero_de_decreto_o_ley</th>\n",
              "    </tr>\n",
              "  </thead>\n",
              "  <tbody>\n",
              "    <tr>\n",
              "      <th>0</th>\n",
              "      <td>9</td>\n",
              "      <td>6</td>\n",
              "      <td>6854100</td>\n",
              "      <td>Buenos Aires</td>\n",
              "      <td>25 de Mayo</td>\n",
              "      <td>Cementerio de la Verde</td>\n",
              "      <td>s/d</td>\n",
              "      <td>-35.452139</td>\n",
              "      <td>-60.173889</td>\n",
              "      <td>Lugar Histórico</td>\n",
              "      <td>Comisión Nacional de Monumentos, de Lugares y ...</td>\n",
              "      <td>s/d</td>\n",
              "      <td>Nacional</td>\n",
              "      <td>9/3/1989</td>\n",
              "      <td>Decreto</td>\n",
              "      <td>325.0</td>\n",
              "    </tr>\n",
              "    <tr>\n",
              "      <th>1</th>\n",
              "      <td>9</td>\n",
              "      <td>6</td>\n",
              "      <td>6588100</td>\n",
              "      <td>Buenos Aires</td>\n",
              "      <td>9 de Julio</td>\n",
              "      <td>Pirámide que guarda los restos del Tte.Cnel. E...</td>\n",
              "      <td>Cementerio de 9 de Julio</td>\n",
              "      <td>-35.470806</td>\n",
              "      <td>-60.905194</td>\n",
              "      <td>Sepulcro</td>\n",
              "      <td>Comisión Nacional de Monumentos, de Lugares y ...</td>\n",
              "      <td>s/d</td>\n",
              "      <td>Nacional</td>\n",
              "      <td>13/7/1982</td>\n",
              "      <td>Decreto</td>\n",
              "      <td>89.0</td>\n",
              "    </tr>\n",
              "    <tr>\n",
              "      <th>2</th>\n",
              "      <td>9</td>\n",
              "      <td>6</td>\n",
              "      <td>6014010</td>\n",
              "      <td>Buenos Aires</td>\n",
              "      <td>Adolfo González Chaves</td>\n",
              "      <td>Ex Mercado Municipal</td>\n",
              "      <td>Sarmiento 158</td>\n",
              "      <td>-38.033750</td>\n",
              "      <td>-60.098417</td>\n",
              "      <td>Bien de Interés Histórico y Artístico</td>\n",
              "      <td>Comisión Nacional de Monumentos, de Lugares y ...</td>\n",
              "      <td>s/d</td>\n",
              "      <td>Nacional</td>\n",
              "      <td>21/7/2014</td>\n",
              "      <td>Decreto</td>\n",
              "      <td>1138.0</td>\n",
              "    </tr>\n",
              "    <tr>\n",
              "      <th>3</th>\n",
              "      <td>9</td>\n",
              "      <td>6</td>\n",
              "      <td>6014010</td>\n",
              "      <td>Buenos Aires</td>\n",
              "      <td>Adolfo González Chaves</td>\n",
              "      <td>Palacio Municipal</td>\n",
              "      <td>Bartolomé Mitre y Juan Elicagaray</td>\n",
              "      <td>-38.032833</td>\n",
              "      <td>-60.098528</td>\n",
              "      <td>Monumento Histórico</td>\n",
              "      <td>Comisión Nacional de Monumentos, de Lugares y ...</td>\n",
              "      <td>s/d</td>\n",
              "      <td>Nacional</td>\n",
              "      <td>21/7/2014</td>\n",
              "      <td>Decreto</td>\n",
              "      <td>1138.0</td>\n",
              "    </tr>\n",
              "    <tr>\n",
              "      <th>4</th>\n",
              "      <td>9</td>\n",
              "      <td>6</td>\n",
              "      <td>6028010</td>\n",
              "      <td>Buenos Aires</td>\n",
              "      <td>Adrogué</td>\n",
              "      <td>Adrogué Tennis Club</td>\n",
              "      <td>Macías y Sánchez Nº 1846</td>\n",
              "      <td>-34.795194</td>\n",
              "      <td>-58.393417</td>\n",
              "      <td>Bien de Interés Histórico</td>\n",
              "      <td>Comisión Nacional de Monumentos, de Lugares y ...</td>\n",
              "      <td>s/d</td>\n",
              "      <td>Nacional</td>\n",
              "      <td>22/7/2014</td>\n",
              "      <td>Decreto</td>\n",
              "      <td>1163.0</td>\n",
              "    </tr>\n",
              "  </tbody>\n",
              "</table>\n",
              "</div>\n",
              "      <button class=\"colab-df-convert\" onclick=\"convertToInteractive('df-29b140ef-3ab8-45bf-bc74-3fe4f7ed7a65')\"\n",
              "              title=\"Convert this dataframe to an interactive table.\"\n",
              "              style=\"display:none;\">\n",
              "        \n",
              "  <svg xmlns=\"http://www.w3.org/2000/svg\" height=\"24px\"viewBox=\"0 0 24 24\"\n",
              "       width=\"24px\">\n",
              "    <path d=\"M0 0h24v24H0V0z\" fill=\"none\"/>\n",
              "    <path d=\"M18.56 5.44l.94 2.06.94-2.06 2.06-.94-2.06-.94-.94-2.06-.94 2.06-2.06.94zm-11 1L8.5 8.5l.94-2.06 2.06-.94-2.06-.94L8.5 2.5l-.94 2.06-2.06.94zm10 10l.94 2.06.94-2.06 2.06-.94-2.06-.94-.94-2.06-.94 2.06-2.06.94z\"/><path d=\"M17.41 7.96l-1.37-1.37c-.4-.4-.92-.59-1.43-.59-.52 0-1.04.2-1.43.59L10.3 9.45l-7.72 7.72c-.78.78-.78 2.05 0 2.83L4 21.41c.39.39.9.59 1.41.59.51 0 1.02-.2 1.41-.59l7.78-7.78 2.81-2.81c.8-.78.8-2.07 0-2.86zM5.41 20L4 18.59l7.72-7.72 1.47 1.35L5.41 20z\"/>\n",
              "  </svg>\n",
              "      </button>\n",
              "      \n",
              "  <style>\n",
              "    .colab-df-container {\n",
              "      display:flex;\n",
              "      flex-wrap:wrap;\n",
              "      gap: 12px;\n",
              "    }\n",
              "\n",
              "    .colab-df-convert {\n",
              "      background-color: #E8F0FE;\n",
              "      border: none;\n",
              "      border-radius: 50%;\n",
              "      cursor: pointer;\n",
              "      display: none;\n",
              "      fill: #1967D2;\n",
              "      height: 32px;\n",
              "      padding: 0 0 0 0;\n",
              "      width: 32px;\n",
              "    }\n",
              "\n",
              "    .colab-df-convert:hover {\n",
              "      background-color: #E2EBFA;\n",
              "      box-shadow: 0px 1px 2px rgba(60, 64, 67, 0.3), 0px 1px 3px 1px rgba(60, 64, 67, 0.15);\n",
              "      fill: #174EA6;\n",
              "    }\n",
              "\n",
              "    [theme=dark] .colab-df-convert {\n",
              "      background-color: #3B4455;\n",
              "      fill: #D2E3FC;\n",
              "    }\n",
              "\n",
              "    [theme=dark] .colab-df-convert:hover {\n",
              "      background-color: #434B5C;\n",
              "      box-shadow: 0px 1px 3px 1px rgba(0, 0, 0, 0.15);\n",
              "      filter: drop-shadow(0px 1px 2px rgba(0, 0, 0, 0.3));\n",
              "      fill: #FFFFFF;\n",
              "    }\n",
              "  </style>\n",
              "\n",
              "      <script>\n",
              "        const buttonEl =\n",
              "          document.querySelector('#df-29b140ef-3ab8-45bf-bc74-3fe4f7ed7a65 button.colab-df-convert');\n",
              "        buttonEl.style.display =\n",
              "          google.colab.kernel.accessAllowed ? 'block' : 'none';\n",
              "\n",
              "        async function convertToInteractive(key) {\n",
              "          const element = document.querySelector('#df-29b140ef-3ab8-45bf-bc74-3fe4f7ed7a65');\n",
              "          const dataTable =\n",
              "            await google.colab.kernel.invokeFunction('convertToInteractive',\n",
              "                                                     [key], {});\n",
              "          if (!dataTable) return;\n",
              "\n",
              "          const docLinkHtml = 'Like what you see? Visit the ' +\n",
              "            '<a target=\"_blank\" href=https://colab.research.google.com/notebooks/data_table.ipynb>data table notebook</a>'\n",
              "            + ' to learn more about interactive tables.';\n",
              "          element.innerHTML = '';\n",
              "          dataTable['output_type'] = 'display_data';\n",
              "          await google.colab.output.renderOutput(dataTable, element);\n",
              "          const docLink = document.createElement('div');\n",
              "          docLink.innerHTML = docLinkHtml;\n",
              "          element.appendChild(docLink);\n",
              "        }\n",
              "      </script>\n",
              "    </div>\n",
              "  </div>\n",
              "  "
            ]
          },
          "metadata": {},
          "execution_count": 28
        }
      ],
      "source": [
        "#Chequeamos el set:\n",
        "lugares_históricos.info()\n",
        "lugares_históricos.head()"
      ]
    },
    {
      "cell_type": "code",
      "execution_count": null,
      "id": "9095c07d",
      "metadata": {
        "id": "9095c07d"
      },
      "outputs": [],
      "source": [
        "#Comezamos dejando solo las columnas necesarias:\n",
        "lugares_históricos.drop(['espacio_cultural_id', 'provincia_id','localidad_id','direccion', 'fuente', 'descripcion', 'numero_de_decreto_o_ley'], axis=1, inplace=True)"
      ]
    },
    {
      "cell_type": "code",
      "execution_count": null,
      "id": "a3a0cde6",
      "metadata": {
        "id": "a3a0cde6",
        "outputId": "c59e8a1b-1a8e-4c28-88e4-b5fc9f8fe156",
        "colab": {
          "base_uri": "https://localhost:8080/"
        }
      },
      "outputs": [
        {
          "output_type": "execute_result",
          "data": {
            "text/plain": [
              "array(['Lugar Histórico', 'Sepulcro',\n",
              "       'Bien de Interés Histórico y Artístico', 'Monumento Histórico',\n",
              "       'Bien de Interés Histórico', 'Bien de Interés Histórico Artístico',\n",
              "       'Bien de interés histórico-artístico', 'Bien de Interés Artístico',\n",
              "       'Bien de interés histórico', 'Bien de interés Histórico Nacional',\n",
              "       'Bien de interés histórico nacional',\n",
              "       'Bien de interés histórico artístico nacional',\n",
              "       'Monumento Histórico Artístico', 'Conjunto Urbano Arquitectónico',\n",
              "       'Árbol Histórico', 'Bien de Interés Arquitectónico Nacional',\n",
              "       'Bien de Interés Histórico Nacional', 'Lugar Històrico Nacional',\n",
              "       'Sepulcro Histórico', 'Lugar Histórico Nacional',\n",
              "       'Monumento Histórico Nacional',\n",
              "       'Bien de Interés Histórico Arquitectónico', 'Sitio Histórico',\n",
              "       'Bien de interés histórico artístico',\n",
              "       'Bien de interés artístico Nacional',\n",
              "       'Bien de interés arquitectónico nacional y bien de interés artístico nacional',\n",
              "       'Área de Amortiguación Visual', 'Pueblo Histórico',\n",
              "       'Patrimonio Histórico Cultural',\n",
              "       'Bien de Interés Industrial Nacional',\n",
              "       'Monumento Historico Nacional', 'Sitio Arqueológico',\n",
              "       'Bien de interés histórico y bien de interés artístico',\n",
              "       'Bien de Interés Histórico y Artístico Nacional',\n",
              "       'Bien de Interés Historico',\n",
              "       '\\xa0Bien de Interés Histórico Nacional', 'Ciudad Histórica',\n",
              "       'Patrimonio Histórico'], dtype=object)"
            ]
          },
          "metadata": {},
          "execution_count": 30
        }
      ],
      "source": [
        "'''\n",
        "A simple vista podemos observar que la columna de denominación específica tiene un error de tipeo. Revisamos sus \n",
        "valores para asegurarnos de que estén correctos:\n",
        "'''\n",
        "lugares_históricos['denominacion_especifica'].unique()"
      ]
    },
    {
      "cell_type": "code",
      "execution_count": null,
      "id": "1360dc51",
      "metadata": {
        "id": "1360dc51"
      },
      "outputs": [],
      "source": [
        "#Varios valores se repiten pero hacen referencia a lo mismo. Así que los agrupamos bajo una misma categoría:\n",
        "valores= ['Monumento Histórico Artístico','Bien de Interés Histórico Artístico','Bien de interés histórico-artístico','Bien de interés histórico artístico nacional',\n",
        "         'Bien de interés histórico artístico','Bien de interés histórico y bien de interés artístico','Bien de Interés Histórico y Artístico Nacional',\n",
        "         'Bien de Interés Histórico y Artístico','Bien de interés artístico Nacional']\n",
        "lugares_históricos.replace(valores, 'Bien de Interés Histórico Artístico', inplace=True)"
      ]
    },
    {
      "cell_type": "code",
      "execution_count": null,
      "id": "2d0f2882",
      "metadata": {
        "id": "2d0f2882"
      },
      "outputs": [],
      "source": [
        "valores_dos=['Sitio Histórico','Árbol Histórico','Lugar Histórico', 'Sepulcro','Monumento Histórico','Bien de interés histórico','Bien de interés Histórico Nacional','Bien de interés histórico nacional',\n",
        "'Bien de Interés Histórico Nacional', 'Lugar Històrico Nacional','Sepulcro Histórico', 'Lugar Histórico Nacional','Monumento Histórico Nacional',\n",
        "'Pueblo Histórico','Monumento Historico Nacional','Bien de Interés Historico','\\xa0Bien de Interés Histórico Nacional', 'Ciudad Histórica',\n",
        "'Patrimonio Histórico','Patrimonio Histórico Cultural']\n",
        "lugares_históricos.replace(valores_dos, 'Bien de Interés Histórico', inplace=True)"
      ]
    },
    {
      "cell_type": "code",
      "execution_count": null,
      "id": "67d0d27f",
      "metadata": {
        "scrolled": true,
        "id": "67d0d27f"
      },
      "outputs": [],
      "source": [
        "valores_tres=['Bien de Interés Histórico Arquitectónico','Bien de interés arquitectónico nacional y bien de interés artístico nacional','Bien de Interés Arquitectónico Nacional']\n",
        "lugares_históricos.replace(valores_tres, 'Bien de Interés Arquitectónico', inplace= True)"
      ]
    },
    {
      "cell_type": "code",
      "source": [
        "#Cheamos que la lista haya quedado correctamente clasificada:\n",
        "lugares_históricos['denominacion_especifica'].unique()"
      ],
      "metadata": {
        "colab": {
          "base_uri": "https://localhost:8080/"
        },
        "id": "cpUtnASALS-n",
        "outputId": "9799cd7e-92fe-472e-a9a2-595d2b55d064"
      },
      "id": "cpUtnASALS-n",
      "execution_count": null,
      "outputs": [
        {
          "output_type": "execute_result",
          "data": {
            "text/plain": [
              "array(['Bien de Interés Histórico', 'Bien de Interés Histórico Artístico',\n",
              "       'Bien de Interés Artístico', 'Conjunto Urbano Arquitectónico',\n",
              "       'Bien de Interés Arquitectónico', 'Área de Amortiguación Visual',\n",
              "       'Patrimonio Histórico Cultural',\n",
              "       'Bien de Interés Industrial Nacional', 'Sitio Arqueológico'],\n",
              "      dtype=object)"
            ]
          },
          "metadata": {},
          "execution_count": 64
        }
      ]
    },
    {
      "cell_type": "code",
      "source": [
        "#Chequeamos los valores de provincia:\n",
        "lugares_históricos['provincia'].unique()"
      ],
      "metadata": {
        "colab": {
          "base_uri": "https://localhost:8080/"
        },
        "id": "9-6aiUgjI3x_",
        "outputId": "21a89a2c-8453-417f-b823-e4000231d1bb"
      },
      "id": "9-6aiUgjI3x_",
      "execution_count": null,
      "outputs": [
        {
          "output_type": "execute_result",
          "data": {
            "text/plain": [
              "array(['Buenos Aires', 'Ciudad Autónoma de Buenos Aires', 'Catamarca',\n",
              "       'Chaco', 'Chubut', 'Córdoba', 'Corrientes', 'Misiones',\n",
              "       'Entre Ríos', 'Formosa', 'Jujuy', 'La Pampa', 'La Rioja',\n",
              "       'Mendoza', 'Neuquén', 'Río Negro', 'Salta', 'San Juan', 'San Luis',\n",
              "       'Santa Cruz', 'Santa Fe', 'Santa fe', 'Santiago del Estero',\n",
              "       'Tierra del Fuego, Antártida e Islas del Atlántico Sur', 'Tucumán'],\n",
              "      dtype=object)"
            ]
          },
          "metadata": {},
          "execution_count": 42
        }
      ]
    },
    {
      "cell_type": "code",
      "source": [
        "#Observamos que la provincia de Santa Fe se repite dos veces,arreglemos el error.\n",
        "lugares_históricos['provincia'].replace('Santa fe', 'Santa Fe', inplace=True)"
      ],
      "metadata": {
        "id": "wfHjhSU1I-sF"
      },
      "id": "wfHjhSU1I-sF",
      "execution_count": null,
      "outputs": []
    },
    {
      "cell_type": "code",
      "execution_count": null,
      "id": "cfa8d023",
      "metadata": {
        "id": "cfa8d023",
        "outputId": "2f8d4efa-435d-4300-fe7e-4743d8c04101",
        "colab": {
          "base_uri": "https://localhost:8080/"
        }
      },
      "outputs": [
        {
          "output_type": "execute_result",
          "data": {
            "text/plain": [
              "array(['25 de Mayo', '9 de Julio', 'Adolfo González Chaves', 'Adrogué',\n",
              "       'Alberdi', 'Alberti', 'Alem', 'Avellaneda', 'Azul', 'Bahía Blanca',\n",
              "       'Bahía Blanca - Ingeniero White', 'Balcarce', 'Banfield',\n",
              "       'Baradero', 'Benito Juárez', 'Berisso', 'Bernal', 'Bolívar',\n",
              "       'Cacharí', 'Cañuelas', 'Capilla del Señor', 'Carhué',\n",
              "       'Carlos Casares', 'Carmen de Patagones', 'Casbas', 'Chapadmalal',\n",
              "       'Chascomús', 'Chillar', 'Chivilcoy', 'Ciudadela',\n",
              "       'Cnel. Rosales y Monte Hermoso', 'Coronel Pringles',\n",
              "       'Delta del Paraná', 'Dolores', 'El Dorado', 'El Palomar',\n",
              "       'Ensenada', 'Ezeiza', 'Florida', 'Garré', 'General Cerri',\n",
              "       'General San Martín', 'Glew', 'Gonnet', 'Guaminí', 'Hurlingham',\n",
              "       'Ingeniero Maschwitz', 'Isla Martín García', 'La Matanza',\n",
              "       'La Plata', 'Laguna Alsina', 'Lanús', 'Laprida', 'Lobos',\n",
              "       'Lomas de Zamora', 'Los Pinos', 'Los Toldos, General Viamonte',\n",
              "       'Luján', 'Luján - Carlos Keen', 'Magdalena', 'Mar del Plata',\n",
              "       'Martínez - San Isidro', 'Mercedes', 'Miranda', 'Moreno', 'Morón',\n",
              "       'Munro', 'Navarro', 'Olivos', 'Pellegrini', 'Pergamino', 'Pilar',\n",
              "       'Puan', 'Punta Lara', 'Quilmes', 'Rauch', 'Roque Pérez',\n",
              "       'Saavedra', 'Saldungaray', 'Salliquelo', 'Salto', 'San Agustín',\n",
              "       'San Andrés', 'San Antonio de Areco', 'San Fernando', 'San Isidro',\n",
              "       'San Martín', 'San Miguel del Monte', 'San Nicolás', 'San Pedro',\n",
              "       'San Vicente', 'Sarandí', 'Tandil', 'Tapalque', 'Tigre',\n",
              "       'Tornquist', 'Trenque Lauquen', 'Tres Lomas', 'Vedia',\n",
              "       'Villa Gesell', 'Villarino', 'Wilde', 'Zárate', 's/d',\n",
              "       'Almirante Brown', 'Boulogne Sur Mer', 'San Andrés de Giles',\n",
              "       'Necochea', 'Ciudad Autónoma de Buenos Aires', 'Ambato',\n",
              "       'Andalgalá', 'Antofagasta de la Sierra', 'Belén', 'Catamarca',\n",
              "       'Fiambalá', 'Fray Mamerto Esquiú', 'Hualfin', 'Piedra Blanca',\n",
              "       'Santa María', 'Tinogasta', 'San Fernando del Valle de Catamarca',\n",
              "       'Gral. Güemes', 'Resistencia', 'Ríos Teuco y Bermejo', 'Teuco',\n",
              "       'Ameghino', 'Cholila', 'Comodoro Rivadavia', 'Futaleufú', 'Gaiman',\n",
              "       'Jose de San Martín', 'Trelew', 'Alta Gracia', 'Bialet Massé',\n",
              "       'Calamuchita', 'Colon', 'Córdoba', 'Cruz del Eje', 'Cura Brochero',\n",
              "       'Ischilin', 'Jesús María', 'Juárez Celman', 'La Falda',\n",
              "       'Malagueño', 'Punilla', 'Punilla (San Esteban)', 'Río Cuarto',\n",
              "       'Río Seco', 'Río Segundo', 'Saldan', 'Santa Rosa del Río 1º',\n",
              "       'Sobremonte,Tulumba,Rio Seco', 'Totoral',\n",
              "       'Villa del Valle de Tulumba', 'Apóstoles', 'Bella Vista',\n",
              "       'Corrientes', 'Curuzú Cuatiá', 'Goya', 'Itatí', 'La Cruz',\n",
              "       'Monte Caseros', 'Paso de la Patria', 'Paso de los Libres',\n",
              "       'Saladas', 'San Carlos', 'San Roque', 'Santa Ana', 'Santa Lucía',\n",
              "       'Santo Tomé', 'Yapeyú', 'Loreto', 'Liebig', 'Gualeguaychú',\n",
              "       'Colón', 'Concepción del Uruguay', 'Concordia', 'Diamante',\n",
              "       'Gualeguay', 'Paraná', 'Victoria', 'Formosa', 'Mariano Boedo',\n",
              "       'Gran Guardia', 'Pirané', 'Palo Santo', 'Bartolomé de las Casas',\n",
              "       'Comandante Fontana', 'Ibarreta', 'Estanislao del Campo',\n",
              "       'Pozo del Tigre', 'Teniente Brown', 'Las Lomitas', 'J. G. Bazán',\n",
              "       'Pozo del Mortrero', 'Laguna Yema', 'Los Chiriguanos',\n",
              "       'Ingeniero Juárez', 'Tte. Gral. R.M. Fraga', 'Laishi', 'Patiño',\n",
              "       'Tacaagle', 'Casabindo', 'Departamento Humahuaca', 'Huacalera',\n",
              "       'Humahuaca', 'Jujuy', 'Maimará', 'Purmamarca',\n",
              "       'Quebrada Yakoraite', 'San Salvador de Jujuy', 'Susques',\n",
              "       'Tilcara', 'Tumbaya', 'Uquia', 'Yavi', 'Carro Quemado', 'Conhelo',\n",
              "       'Leventue', 'Lihuel Calel', 'Santa Rosa', 'Toay', 'Utracan',\n",
              "       'Victorica', 'Angel Vicente Peñaloza', 'Anguilan', 'Arauco',\n",
              "       'Chamical', 'Chilecito', 'Chochongasta', 'Famatina', 'La Puntilla',\n",
              "       'La Rioja', 'Malligasta', 'Nonogasta', 'Polco', 'Sañogasta',\n",
              "       'Vichigasta', 'Asunción', 'Godoy Cruz', 'Las Heras', 'Lavalle',\n",
              "       'Lujan de Cuyo', 'Maipú', 'Malargüe', 'Mendoza', 'San Rafael',\n",
              "       'Tunuyán', 'Uspallata', 'Candelaria', 'Concepción de la Sierra',\n",
              "       'La Candelaria', 'Leando N. Alem', 'Posadas', 'San Ignacio',\n",
              "       'San Javier', 'San José', 'San Martín de los Andes', 'Aluminé',\n",
              "       'Chos Malal', 'Covunco', 'Huilliches', 'Junín de los Andes',\n",
              "       'Los Lagos', 'Minas', 'Neuquén', 'Ñorquin', 'Península de Huemul',\n",
              "       'Picún Leifú', 'Plaza Huincul', 'General Roca', 'Choele Choel',\n",
              "       'San Carlos de Bariloche', 'Viedma', 'Cachi', 'Campo Santo',\n",
              "       'Chicoana', 'Guachipas', 'Molinos', 'Rosario de Lerma', 'Salta',\n",
              "       'Santa Victoria', 'Seclantas', 'Yruya', 'La Quesera', 'Los Baños',\n",
              "       'Calingasta', 'Iglesia', 'Iglesia (Angualasto)', 'Jachal',\n",
              "       'Rivadavia', 'San Juan', 'Merlo', 'Pedernera',\n",
              "       'San Francisco del Monte de Oro', 'San Luis', 'Villa Mercedes',\n",
              "       'Corpen Aiken', 'Estrecho Magallanes', 'Guar Aiken',\n",
              "       'Lago Buenos Aires', 'Magallanes', 'Puerto Deseado',\n",
              "       'Río Gallegos', 'Constitución', 'Esperanza', 'General López',\n",
              "       'Granadero Baigorria', 'Rosario', 'San Cristóbal', 'San Jerónimo',\n",
              "       'San Lorenzo', 'Santa Fe', 'Villa Constitución', 'Copos',\n",
              "       'Gral. Taboada', 'Quebrachos', 'Río Hondo', 'Santiago del Estero',\n",
              "       'Base Esperanza', 'Gran Malvina', 'Isla de los Estados',\n",
              "       'Isla Grande', 'Isla Laurie - Base Orcadas', 'Isla Observatorio',\n",
              "       'Isla Paulet', 'Isla San Pedro', 'Isla Snow Hill', 'Isla Soledad',\n",
              "       'Monte Bilbao', 'Norte de Gran Malvina', 'Océano Atlántico Sur',\n",
              "       'Río Grande', 'Ushuaia', 'Rio Grande', 'Burruyacu', 'Chicligasta',\n",
              "       'Cruz Alta', 'Graneros', 'Lules',\n",
              "       'Medinas, Departamento Chicligasta', 'San Miguel de Tucumán',\n",
              "       'Tafí del Valle', 'Tafí Viejo', 'El Mollar', 'Granaderos',\n",
              "       'Leales'], dtype=object)"
            ]
          },
          "metadata": {},
          "execution_count": 34
        }
      ],
      "source": [
        "#Chequeamos los valores de la columna Localidad:\n",
        "lugares_históricos['localidad'].unique()"
      ]
    },
    {
      "cell_type": "code",
      "execution_count": null,
      "id": "1225e468",
      "metadata": {
        "id": "1225e468",
        "outputId": "e33695fb-8cc1-4f68-bebb-1cb2a623260d",
        "colab": {
          "base_uri": "https://localhost:8080/"
        }
      },
      "outputs": [
        {
          "output_type": "stream",
          "name": "stdout",
          "text": [
            "True\n",
            "True\n",
            "True\n",
            "True\n",
            "True\n",
            "True\n",
            "True\n",
            "True\n",
            "True\n",
            "True\n",
            "True\n",
            "True\n",
            "True\n",
            "True\n",
            "True\n"
          ]
        }
      ],
      "source": [
        "#Chequeamos que no haya duplicados:\n",
        "lh_dupli= lugares_históricos.duplicated()\n",
        "for i in lh_dupli:\n",
        "    if i == True:\n",
        "        print (i)"
      ]
    },
    {
      "cell_type": "code",
      "execution_count": null,
      "id": "076fe06c",
      "metadata": {
        "colab": {
          "base_uri": "https://localhost:8080/",
          "height": 852
        },
        "id": "076fe06c",
        "outputId": "49de2a23-c0cb-4177-b9e3-1770c305fd2b"
      },
      "outputs": [
        {
          "output_type": "execute_result",
          "data": {
            "text/plain": [
              "         provincia               localidad  \\\n",
              "0     Buenos Aires              25 de Mayo   \n",
              "1     Buenos Aires              9 de Julio   \n",
              "2     Buenos Aires  Adolfo González Chaves   \n",
              "3     Buenos Aires  Adolfo González Chaves   \n",
              "4     Buenos Aires                 Adrogué   \n",
              "...            ...                     ...   \n",
              "1431       Tucumán                     s/d   \n",
              "1432       Tucumán                     s/d   \n",
              "1433       Tucumán                     s/d   \n",
              "1434       Tucumán                     s/d   \n",
              "1435       Tucumán                     s/d   \n",
              "\n",
              "                                                 nombre    latitud   longitud  \\\n",
              "0                                Cementerio de la Verde -35.452139 -60.173889   \n",
              "1     Pirámide que guarda los restos del Tte.Cnel. E... -35.470806 -60.905194   \n",
              "2                                  Ex Mercado Municipal -38.033750 -60.098417   \n",
              "3                                     Palacio Municipal -38.032833 -60.098528   \n",
              "4                                   Adrogué Tennis Club -34.795194 -58.393417   \n",
              "...                                                 ...        ...        ...   \n",
              "1431                         Cristo Redentor de Tucumán -26.796444 -65.361000   \n",
              "1432  Sección Complejo Arqueológico La Ciudacita -- ... -27.180500 -66.006958   \n",
              "1433  Sección Complejo Arqueológico La Ciudacita -- ... -27.173619 -66.012283   \n",
              "1434                                       La Ciudacita -27.173025 -66.012261   \n",
              "1435                                  Bajo La Ciudacita -27.180692 -66.006697   \n",
              "\n",
              "                    denominacion_especifica jurisdiccion _declaratoria  \\\n",
              "0                 Bien de Interés Histórico                   Nacional   \n",
              "1                 Bien de Interés Histórico                   Nacional   \n",
              "2     Bien de Interés Histórico y Artístico                   Nacional   \n",
              "3                 Bien de Interés Histórico                   Nacional   \n",
              "4                 Bien de Interés Histórico                   Nacional   \n",
              "...                                     ...                        ...   \n",
              "1431    Bien de Interés Histórico Artístico                   Nacional   \n",
              "1432              Bien de Interés Histórico                   Nacional   \n",
              "1433              Bien de Interés Histórico                   Nacional   \n",
              "1434                     Sitio Arqueológico                   Nacional   \n",
              "1435                     Sitio Arqueológico                   Nacional   \n",
              "\n",
              "     fecha_de_inauguracion decreto_o_ley  \n",
              "0                 9/3/1989       Decreto  \n",
              "1                13/7/1982       Decreto  \n",
              "2                21/7/2014       Decreto  \n",
              "3                21/7/2014       Decreto  \n",
              "4                22/7/2014       Decreto  \n",
              "...                    ...           ...  \n",
              "1431              4/4/2001           Ley  \n",
              "1432             9/11/2014       Decreto  \n",
              "1433            10/11/2014       Decreto  \n",
              "1434            12/12/2014       Decreto  \n",
              "1435            13/12/2014       Decreto  \n",
              "\n",
              "[1421 rows x 9 columns]"
            ],
            "text/html": [
              "\n",
              "  <div id=\"df-30a0d5bf-d7cd-45b2-a3e1-e93375d8ec62\">\n",
              "    <div class=\"colab-df-container\">\n",
              "      <div>\n",
              "<style scoped>\n",
              "    .dataframe tbody tr th:only-of-type {\n",
              "        vertical-align: middle;\n",
              "    }\n",
              "\n",
              "    .dataframe tbody tr th {\n",
              "        vertical-align: top;\n",
              "    }\n",
              "\n",
              "    .dataframe thead th {\n",
              "        text-align: right;\n",
              "    }\n",
              "</style>\n",
              "<table border=\"1\" class=\"dataframe\">\n",
              "  <thead>\n",
              "    <tr style=\"text-align: right;\">\n",
              "      <th></th>\n",
              "      <th>provincia</th>\n",
              "      <th>localidad</th>\n",
              "      <th>nombre</th>\n",
              "      <th>latitud</th>\n",
              "      <th>longitud</th>\n",
              "      <th>denominacion_especifica</th>\n",
              "      <th>jurisdiccion _declaratoria</th>\n",
              "      <th>fecha_de_inauguracion</th>\n",
              "      <th>decreto_o_ley</th>\n",
              "    </tr>\n",
              "  </thead>\n",
              "  <tbody>\n",
              "    <tr>\n",
              "      <th>0</th>\n",
              "      <td>Buenos Aires</td>\n",
              "      <td>25 de Mayo</td>\n",
              "      <td>Cementerio de la Verde</td>\n",
              "      <td>-35.452139</td>\n",
              "      <td>-60.173889</td>\n",
              "      <td>Bien de Interés Histórico</td>\n",
              "      <td>Nacional</td>\n",
              "      <td>9/3/1989</td>\n",
              "      <td>Decreto</td>\n",
              "    </tr>\n",
              "    <tr>\n",
              "      <th>1</th>\n",
              "      <td>Buenos Aires</td>\n",
              "      <td>9 de Julio</td>\n",
              "      <td>Pirámide que guarda los restos del Tte.Cnel. E...</td>\n",
              "      <td>-35.470806</td>\n",
              "      <td>-60.905194</td>\n",
              "      <td>Bien de Interés Histórico</td>\n",
              "      <td>Nacional</td>\n",
              "      <td>13/7/1982</td>\n",
              "      <td>Decreto</td>\n",
              "    </tr>\n",
              "    <tr>\n",
              "      <th>2</th>\n",
              "      <td>Buenos Aires</td>\n",
              "      <td>Adolfo González Chaves</td>\n",
              "      <td>Ex Mercado Municipal</td>\n",
              "      <td>-38.033750</td>\n",
              "      <td>-60.098417</td>\n",
              "      <td>Bien de Interés Histórico y Artístico</td>\n",
              "      <td>Nacional</td>\n",
              "      <td>21/7/2014</td>\n",
              "      <td>Decreto</td>\n",
              "    </tr>\n",
              "    <tr>\n",
              "      <th>3</th>\n",
              "      <td>Buenos Aires</td>\n",
              "      <td>Adolfo González Chaves</td>\n",
              "      <td>Palacio Municipal</td>\n",
              "      <td>-38.032833</td>\n",
              "      <td>-60.098528</td>\n",
              "      <td>Bien de Interés Histórico</td>\n",
              "      <td>Nacional</td>\n",
              "      <td>21/7/2014</td>\n",
              "      <td>Decreto</td>\n",
              "    </tr>\n",
              "    <tr>\n",
              "      <th>4</th>\n",
              "      <td>Buenos Aires</td>\n",
              "      <td>Adrogué</td>\n",
              "      <td>Adrogué Tennis Club</td>\n",
              "      <td>-34.795194</td>\n",
              "      <td>-58.393417</td>\n",
              "      <td>Bien de Interés Histórico</td>\n",
              "      <td>Nacional</td>\n",
              "      <td>22/7/2014</td>\n",
              "      <td>Decreto</td>\n",
              "    </tr>\n",
              "    <tr>\n",
              "      <th>...</th>\n",
              "      <td>...</td>\n",
              "      <td>...</td>\n",
              "      <td>...</td>\n",
              "      <td>...</td>\n",
              "      <td>...</td>\n",
              "      <td>...</td>\n",
              "      <td>...</td>\n",
              "      <td>...</td>\n",
              "      <td>...</td>\n",
              "    </tr>\n",
              "    <tr>\n",
              "      <th>1431</th>\n",
              "      <td>Tucumán</td>\n",
              "      <td>s/d</td>\n",
              "      <td>Cristo Redentor de Tucumán</td>\n",
              "      <td>-26.796444</td>\n",
              "      <td>-65.361000</td>\n",
              "      <td>Bien de Interés Histórico Artístico</td>\n",
              "      <td>Nacional</td>\n",
              "      <td>4/4/2001</td>\n",
              "      <td>Ley</td>\n",
              "    </tr>\n",
              "    <tr>\n",
              "      <th>1432</th>\n",
              "      <td>Tucumán</td>\n",
              "      <td>s/d</td>\n",
              "      <td>Sección Complejo Arqueológico La Ciudacita -- ...</td>\n",
              "      <td>-27.180500</td>\n",
              "      <td>-66.006958</td>\n",
              "      <td>Bien de Interés Histórico</td>\n",
              "      <td>Nacional</td>\n",
              "      <td>9/11/2014</td>\n",
              "      <td>Decreto</td>\n",
              "    </tr>\n",
              "    <tr>\n",
              "      <th>1433</th>\n",
              "      <td>Tucumán</td>\n",
              "      <td>s/d</td>\n",
              "      <td>Sección Complejo Arqueológico La Ciudacita -- ...</td>\n",
              "      <td>-27.173619</td>\n",
              "      <td>-66.012283</td>\n",
              "      <td>Bien de Interés Histórico</td>\n",
              "      <td>Nacional</td>\n",
              "      <td>10/11/2014</td>\n",
              "      <td>Decreto</td>\n",
              "    </tr>\n",
              "    <tr>\n",
              "      <th>1434</th>\n",
              "      <td>Tucumán</td>\n",
              "      <td>s/d</td>\n",
              "      <td>La Ciudacita</td>\n",
              "      <td>-27.173025</td>\n",
              "      <td>-66.012261</td>\n",
              "      <td>Sitio Arqueológico</td>\n",
              "      <td>Nacional</td>\n",
              "      <td>12/12/2014</td>\n",
              "      <td>Decreto</td>\n",
              "    </tr>\n",
              "    <tr>\n",
              "      <th>1435</th>\n",
              "      <td>Tucumán</td>\n",
              "      <td>s/d</td>\n",
              "      <td>Bajo La Ciudacita</td>\n",
              "      <td>-27.180692</td>\n",
              "      <td>-66.006697</td>\n",
              "      <td>Sitio Arqueológico</td>\n",
              "      <td>Nacional</td>\n",
              "      <td>13/12/2014</td>\n",
              "      <td>Decreto</td>\n",
              "    </tr>\n",
              "  </tbody>\n",
              "</table>\n",
              "<p>1421 rows × 9 columns</p>\n",
              "</div>\n",
              "      <button class=\"colab-df-convert\" onclick=\"convertToInteractive('df-30a0d5bf-d7cd-45b2-a3e1-e93375d8ec62')\"\n",
              "              title=\"Convert this dataframe to an interactive table.\"\n",
              "              style=\"display:none;\">\n",
              "        \n",
              "  <svg xmlns=\"http://www.w3.org/2000/svg\" height=\"24px\"viewBox=\"0 0 24 24\"\n",
              "       width=\"24px\">\n",
              "    <path d=\"M0 0h24v24H0V0z\" fill=\"none\"/>\n",
              "    <path d=\"M18.56 5.44l.94 2.06.94-2.06 2.06-.94-2.06-.94-.94-2.06-.94 2.06-2.06.94zm-11 1L8.5 8.5l.94-2.06 2.06-.94-2.06-.94L8.5 2.5l-.94 2.06-2.06.94zm10 10l.94 2.06.94-2.06 2.06-.94-2.06-.94-.94-2.06-.94 2.06-2.06.94z\"/><path d=\"M17.41 7.96l-1.37-1.37c-.4-.4-.92-.59-1.43-.59-.52 0-1.04.2-1.43.59L10.3 9.45l-7.72 7.72c-.78.78-.78 2.05 0 2.83L4 21.41c.39.39.9.59 1.41.59.51 0 1.02-.2 1.41-.59l7.78-7.78 2.81-2.81c.8-.78.8-2.07 0-2.86zM5.41 20L4 18.59l7.72-7.72 1.47 1.35L5.41 20z\"/>\n",
              "  </svg>\n",
              "      </button>\n",
              "      \n",
              "  <style>\n",
              "    .colab-df-container {\n",
              "      display:flex;\n",
              "      flex-wrap:wrap;\n",
              "      gap: 12px;\n",
              "    }\n",
              "\n",
              "    .colab-df-convert {\n",
              "      background-color: #E8F0FE;\n",
              "      border: none;\n",
              "      border-radius: 50%;\n",
              "      cursor: pointer;\n",
              "      display: none;\n",
              "      fill: #1967D2;\n",
              "      height: 32px;\n",
              "      padding: 0 0 0 0;\n",
              "      width: 32px;\n",
              "    }\n",
              "\n",
              "    .colab-df-convert:hover {\n",
              "      background-color: #E2EBFA;\n",
              "      box-shadow: 0px 1px 2px rgba(60, 64, 67, 0.3), 0px 1px 3px 1px rgba(60, 64, 67, 0.15);\n",
              "      fill: #174EA6;\n",
              "    }\n",
              "\n",
              "    [theme=dark] .colab-df-convert {\n",
              "      background-color: #3B4455;\n",
              "      fill: #D2E3FC;\n",
              "    }\n",
              "\n",
              "    [theme=dark] .colab-df-convert:hover {\n",
              "      background-color: #434B5C;\n",
              "      box-shadow: 0px 1px 3px 1px rgba(0, 0, 0, 0.15);\n",
              "      filter: drop-shadow(0px 1px 2px rgba(0, 0, 0, 0.3));\n",
              "      fill: #FFFFFF;\n",
              "    }\n",
              "  </style>\n",
              "\n",
              "      <script>\n",
              "        const buttonEl =\n",
              "          document.querySelector('#df-30a0d5bf-d7cd-45b2-a3e1-e93375d8ec62 button.colab-df-convert');\n",
              "        buttonEl.style.display =\n",
              "          google.colab.kernel.accessAllowed ? 'block' : 'none';\n",
              "\n",
              "        async function convertToInteractive(key) {\n",
              "          const element = document.querySelector('#df-30a0d5bf-d7cd-45b2-a3e1-e93375d8ec62');\n",
              "          const dataTable =\n",
              "            await google.colab.kernel.invokeFunction('convertToInteractive',\n",
              "                                                     [key], {});\n",
              "          if (!dataTable) return;\n",
              "\n",
              "          const docLinkHtml = 'Like what you see? Visit the ' +\n",
              "            '<a target=\"_blank\" href=https://colab.research.google.com/notebooks/data_table.ipynb>data table notebook</a>'\n",
              "            + ' to learn more about interactive tables.';\n",
              "          element.innerHTML = '';\n",
              "          dataTable['output_type'] = 'display_data';\n",
              "          await google.colab.output.renderOutput(dataTable, element);\n",
              "          const docLink = document.createElement('div');\n",
              "          docLink.innerHTML = docLinkHtml;\n",
              "          element.appendChild(docLink);\n",
              "        }\n",
              "      </script>\n",
              "    </div>\n",
              "  </div>\n",
              "  "
            ]
          },
          "metadata": {},
          "execution_count": 36
        }
      ],
      "source": [
        "#Eliminamos los 15 valores duplicados:\n",
        "lugares_históricos.drop_duplicates()"
      ]
    },
    {
      "cell_type": "code",
      "execution_count": null,
      "id": "7ac04899",
      "metadata": {
        "id": "7ac04899"
      },
      "outputs": [],
      "source": [
        "#Cambiamos la columna de fecha de ignauración al tipo datatime:\n",
        "lugares_históricos['fecha_de_inauguracion']= pd.to_datetime(lugares_históricos['fecha_de_inauguracion'],errors= 'coerce')"
      ]
    },
    {
      "cell_type": "code",
      "execution_count": null,
      "id": "4d0957fc",
      "metadata": {
        "id": "4d0957fc"
      },
      "outputs": [],
      "source": [
        "#Ponemos la columna de nombre en el primer lugar:\n",
        "lh_p= lugares_históricos.pop('nombre')\n",
        "lugares_históricos.insert(0, 'Nombre', lh_p)"
      ]
    },
    {
      "cell_type": "code",
      "execution_count": null,
      "id": "b7afbeda",
      "metadata": {
        "scrolled": true,
        "id": "b7afbeda",
        "outputId": "603e74b2-9c24-4bc7-c44e-a33b63370ce1",
        "colab": {
          "base_uri": "https://localhost:8080/"
        }
      },
      "outputs": [
        {
          "output_type": "stream",
          "name": "stdout",
          "text": [
            "<class 'pandas.core.frame.DataFrame'>\n",
            "RangeIndex: 1436 entries, 0 to 1435\n",
            "Data columns (total 9 columns):\n",
            " #   Column                      Non-Null Count  Dtype         \n",
            "---  ------                      --------------  -----         \n",
            " 0   Nombre                      1436 non-null   object        \n",
            " 1   provincia                   1436 non-null   object        \n",
            " 2   localidad                   1436 non-null   object        \n",
            " 3   latitud                     1436 non-null   float64       \n",
            " 4   longitud                    1436 non-null   float64       \n",
            " 5   denominacion_especifica     1436 non-null   object        \n",
            " 6   jurisdiccion _declaratoria  1436 non-null   object        \n",
            " 7   fecha_de_inauguracion       1433 non-null   datetime64[ns]\n",
            " 8   decreto_o_ley               1436 non-null   object        \n",
            "dtypes: datetime64[ns](1), float64(2), object(6)\n",
            "memory usage: 101.1+ KB\n"
          ]
        }
      ],
      "source": [
        "#Chequeamos el set:\n",
        "lugares_históricos.info()"
      ]
    },
    {
      "cell_type": "markdown",
      "id": "11932899",
      "metadata": {
        "id": "11932899"
      },
      "source": [
        "## 2.6 SET: Museos"
      ]
    },
    {
      "cell_type": "code",
      "execution_count": null,
      "id": "33ae73a0",
      "metadata": {
        "id": "33ae73a0",
        "outputId": "8d18074f-38d3-4b2e-b136-9a7e81c71533",
        "colab": {
          "base_uri": "https://localhost:8080/",
          "height": 1000
        }
      },
      "outputs": [
        {
          "output_type": "stream",
          "name": "stdout",
          "text": [
            "<class 'pandas.core.frame.DataFrame'>\n",
            "RangeIndex: 1182 entries, 0 to 1181\n",
            "Data columns (total 24 columns):\n",
            " #   Column               Non-Null Count  Dtype  \n",
            "---  ------               --------------  -----  \n",
            " 0   Cod_Loc              1182 non-null   int64  \n",
            " 1   IdProvincia          1182 non-null   int64  \n",
            " 2   IdDepartamento       1182 non-null   int64  \n",
            " 3   Observaciones        0 non-null      float64\n",
            " 4   categoria            1182 non-null   object \n",
            " 5   subcategoria         1049 non-null   object \n",
            " 6   provincia            1182 non-null   object \n",
            " 7   localidad            1182 non-null   object \n",
            " 8   nombre               1182 non-null   object \n",
            " 9   direccion            1164 non-null   object \n",
            " 10  piso                 0 non-null      float64\n",
            " 11  CP                   1116 non-null   object \n",
            " 12  cod_area             989 non-null    float64\n",
            " 13  telefono             988 non-null    object \n",
            " 14  Mail                 264 non-null    object \n",
            " 15  Web                  75 non-null     object \n",
            " 16  Latitud              1182 non-null   float64\n",
            " 17  Longitud             1182 non-null   float64\n",
            " 18  TipoLatitudLongitud  1182 non-null   object \n",
            " 19  Info_adicional       10 non-null     object \n",
            " 20  fuente               1182 non-null   object \n",
            " 21  jurisdiccion         1085 non-null   object \n",
            " 22  año_inauguracion     643 non-null    float64\n",
            " 23  actualizacion        1182 non-null   int64  \n",
            "dtypes: float64(6), int64(4), object(14)\n",
            "memory usage: 221.8+ KB\n"
          ]
        },
        {
          "output_type": "execute_result",
          "data": {
            "text/plain": [
              "   Cod_Loc  IdProvincia  IdDepartamento  Observaciones  \\\n",
              "0  6588100            6            6588            NaN   \n",
              "1  6077010            6            6077            NaN   \n",
              "2  6035010            6            6035            NaN   \n",
              "3  6035010            6            6035            NaN   \n",
              "4  6049020            6            6049            NaN   \n",
              "\n",
              "                            categoria subcategoria     provincia   localidad  \\\n",
              "0  Espacios de Exhibición Patrimonial       Museos  Buenos Aires  9 de Julio   \n",
              "1  Espacios de Exhibición Patrimonial       Museos  Buenos Aires   Arrecifes   \n",
              "2  Espacios de Exhibición Patrimonial       Museos  Buenos Aires  Avellaneda   \n",
              "3  Espacios de Exhibición Patrimonial       Museos  Buenos Aires  Avellaneda   \n",
              "4  Espacios de Exhibición Patrimonial       Museos  Buenos Aires        Azul   \n",
              "\n",
              "                                              nombre  \\\n",
              "0     Archivo Y Museo Histórico Gral. Julio De Vedia   \n",
              "1             Museo Y Archivo Histórico De Arrecifes   \n",
              "2    Museo Histórico-Sacro  Hno. Rogelio Scortegagna   \n",
              "3   Museo Municipal De Artes Plásticas De Avellaneda   \n",
              "4  Museo Etnográfico Y Archivo Histórico Enrique ...   \n",
              "\n",
              "                          direccion  ...                        Mail  \\\n",
              "0                     Libertad 1191  ...  archivoymuseo@yahoo.com.ar   \n",
              "1            Gerardo Risso y España  ...  museoarrecifes@hotmail.com   \n",
              "2  Calle 11 (Av. San Martín) Nº 830  ...                         NaN   \n",
              "3           Sarmiento 101, 1 º Piso  ...                         NaN   \n",
              "4            Bartolomé J. Ronco 654  ...         museoazul@yahoo.com   \n",
              "\n",
              "                     Web    Latitud   Longitud   TipoLatitudLongitud  \\\n",
              "0  www.portaldel9.com.ar -35.441762 -60.887598  Localización precisa   \n",
              "1                    NaN -34.066970 -60.102555  Localización precisa   \n",
              "2                    NaN -29.118024 -59.654543  Localización precisa   \n",
              "3                    NaN -34.662110 -58.363270  Localización precisa   \n",
              "4                    NaN -36.781824 -59.858636  Localización precisa   \n",
              "\n",
              "  Info_adicional  fuente  jurisdiccion año_inauguracion actualizacion  \n",
              "0            NaN   DNPyM     Municipal           1920.0          2017  \n",
              "1            NaN   DNPyM     Municipal           1972.0          2017  \n",
              "2            NaN   DNPyM     Municipal              NaN          2017  \n",
              "3            NaN   DNPyM     Municipal           1956.0          2017  \n",
              "4            NaN   DNPyM       Privada           1949.0          2017  \n",
              "\n",
              "[5 rows x 24 columns]"
            ],
            "text/html": [
              "\n",
              "  <div id=\"df-5499ef09-1962-4c0a-b7e1-f225436847e6\">\n",
              "    <div class=\"colab-df-container\">\n",
              "      <div>\n",
              "<style scoped>\n",
              "    .dataframe tbody tr th:only-of-type {\n",
              "        vertical-align: middle;\n",
              "    }\n",
              "\n",
              "    .dataframe tbody tr th {\n",
              "        vertical-align: top;\n",
              "    }\n",
              "\n",
              "    .dataframe thead th {\n",
              "        text-align: right;\n",
              "    }\n",
              "</style>\n",
              "<table border=\"1\" class=\"dataframe\">\n",
              "  <thead>\n",
              "    <tr style=\"text-align: right;\">\n",
              "      <th></th>\n",
              "      <th>Cod_Loc</th>\n",
              "      <th>IdProvincia</th>\n",
              "      <th>IdDepartamento</th>\n",
              "      <th>Observaciones</th>\n",
              "      <th>categoria</th>\n",
              "      <th>subcategoria</th>\n",
              "      <th>provincia</th>\n",
              "      <th>localidad</th>\n",
              "      <th>nombre</th>\n",
              "      <th>direccion</th>\n",
              "      <th>...</th>\n",
              "      <th>Mail</th>\n",
              "      <th>Web</th>\n",
              "      <th>Latitud</th>\n",
              "      <th>Longitud</th>\n",
              "      <th>TipoLatitudLongitud</th>\n",
              "      <th>Info_adicional</th>\n",
              "      <th>fuente</th>\n",
              "      <th>jurisdiccion</th>\n",
              "      <th>año_inauguracion</th>\n",
              "      <th>actualizacion</th>\n",
              "    </tr>\n",
              "  </thead>\n",
              "  <tbody>\n",
              "    <tr>\n",
              "      <th>0</th>\n",
              "      <td>6588100</td>\n",
              "      <td>6</td>\n",
              "      <td>6588</td>\n",
              "      <td>NaN</td>\n",
              "      <td>Espacios de Exhibición Patrimonial</td>\n",
              "      <td>Museos</td>\n",
              "      <td>Buenos Aires</td>\n",
              "      <td>9 de Julio</td>\n",
              "      <td>Archivo Y Museo Histórico Gral. Julio De Vedia</td>\n",
              "      <td>Libertad 1191</td>\n",
              "      <td>...</td>\n",
              "      <td>archivoymuseo@yahoo.com.ar</td>\n",
              "      <td>www.portaldel9.com.ar</td>\n",
              "      <td>-35.441762</td>\n",
              "      <td>-60.887598</td>\n",
              "      <td>Localización precisa</td>\n",
              "      <td>NaN</td>\n",
              "      <td>DNPyM</td>\n",
              "      <td>Municipal</td>\n",
              "      <td>1920.0</td>\n",
              "      <td>2017</td>\n",
              "    </tr>\n",
              "    <tr>\n",
              "      <th>1</th>\n",
              "      <td>6077010</td>\n",
              "      <td>6</td>\n",
              "      <td>6077</td>\n",
              "      <td>NaN</td>\n",
              "      <td>Espacios de Exhibición Patrimonial</td>\n",
              "      <td>Museos</td>\n",
              "      <td>Buenos Aires</td>\n",
              "      <td>Arrecifes</td>\n",
              "      <td>Museo Y Archivo Histórico De Arrecifes</td>\n",
              "      <td>Gerardo Risso y España</td>\n",
              "      <td>...</td>\n",
              "      <td>museoarrecifes@hotmail.com</td>\n",
              "      <td>NaN</td>\n",
              "      <td>-34.066970</td>\n",
              "      <td>-60.102555</td>\n",
              "      <td>Localización precisa</td>\n",
              "      <td>NaN</td>\n",
              "      <td>DNPyM</td>\n",
              "      <td>Municipal</td>\n",
              "      <td>1972.0</td>\n",
              "      <td>2017</td>\n",
              "    </tr>\n",
              "    <tr>\n",
              "      <th>2</th>\n",
              "      <td>6035010</td>\n",
              "      <td>6</td>\n",
              "      <td>6035</td>\n",
              "      <td>NaN</td>\n",
              "      <td>Espacios de Exhibición Patrimonial</td>\n",
              "      <td>Museos</td>\n",
              "      <td>Buenos Aires</td>\n",
              "      <td>Avellaneda</td>\n",
              "      <td>Museo Histórico-Sacro  Hno. Rogelio Scortegagna</td>\n",
              "      <td>Calle 11 (Av. San Martín) Nº 830</td>\n",
              "      <td>...</td>\n",
              "      <td>NaN</td>\n",
              "      <td>NaN</td>\n",
              "      <td>-29.118024</td>\n",
              "      <td>-59.654543</td>\n",
              "      <td>Localización precisa</td>\n",
              "      <td>NaN</td>\n",
              "      <td>DNPyM</td>\n",
              "      <td>Municipal</td>\n",
              "      <td>NaN</td>\n",
              "      <td>2017</td>\n",
              "    </tr>\n",
              "    <tr>\n",
              "      <th>3</th>\n",
              "      <td>6035010</td>\n",
              "      <td>6</td>\n",
              "      <td>6035</td>\n",
              "      <td>NaN</td>\n",
              "      <td>Espacios de Exhibición Patrimonial</td>\n",
              "      <td>Museos</td>\n",
              "      <td>Buenos Aires</td>\n",
              "      <td>Avellaneda</td>\n",
              "      <td>Museo Municipal De Artes Plásticas De Avellaneda</td>\n",
              "      <td>Sarmiento 101, 1 º Piso</td>\n",
              "      <td>...</td>\n",
              "      <td>NaN</td>\n",
              "      <td>NaN</td>\n",
              "      <td>-34.662110</td>\n",
              "      <td>-58.363270</td>\n",
              "      <td>Localización precisa</td>\n",
              "      <td>NaN</td>\n",
              "      <td>DNPyM</td>\n",
              "      <td>Municipal</td>\n",
              "      <td>1956.0</td>\n",
              "      <td>2017</td>\n",
              "    </tr>\n",
              "    <tr>\n",
              "      <th>4</th>\n",
              "      <td>6049020</td>\n",
              "      <td>6</td>\n",
              "      <td>6049</td>\n",
              "      <td>NaN</td>\n",
              "      <td>Espacios de Exhibición Patrimonial</td>\n",
              "      <td>Museos</td>\n",
              "      <td>Buenos Aires</td>\n",
              "      <td>Azul</td>\n",
              "      <td>Museo Etnográfico Y Archivo Histórico Enrique ...</td>\n",
              "      <td>Bartolomé J. Ronco 654</td>\n",
              "      <td>...</td>\n",
              "      <td>museoazul@yahoo.com</td>\n",
              "      <td>NaN</td>\n",
              "      <td>-36.781824</td>\n",
              "      <td>-59.858636</td>\n",
              "      <td>Localización precisa</td>\n",
              "      <td>NaN</td>\n",
              "      <td>DNPyM</td>\n",
              "      <td>Privada</td>\n",
              "      <td>1949.0</td>\n",
              "      <td>2017</td>\n",
              "    </tr>\n",
              "  </tbody>\n",
              "</table>\n",
              "<p>5 rows × 24 columns</p>\n",
              "</div>\n",
              "      <button class=\"colab-df-convert\" onclick=\"convertToInteractive('df-5499ef09-1962-4c0a-b7e1-f225436847e6')\"\n",
              "              title=\"Convert this dataframe to an interactive table.\"\n",
              "              style=\"display:none;\">\n",
              "        \n",
              "  <svg xmlns=\"http://www.w3.org/2000/svg\" height=\"24px\"viewBox=\"0 0 24 24\"\n",
              "       width=\"24px\">\n",
              "    <path d=\"M0 0h24v24H0V0z\" fill=\"none\"/>\n",
              "    <path d=\"M18.56 5.44l.94 2.06.94-2.06 2.06-.94-2.06-.94-.94-2.06-.94 2.06-2.06.94zm-11 1L8.5 8.5l.94-2.06 2.06-.94-2.06-.94L8.5 2.5l-.94 2.06-2.06.94zm10 10l.94 2.06.94-2.06 2.06-.94-2.06-.94-.94-2.06-.94 2.06-2.06.94z\"/><path d=\"M17.41 7.96l-1.37-1.37c-.4-.4-.92-.59-1.43-.59-.52 0-1.04.2-1.43.59L10.3 9.45l-7.72 7.72c-.78.78-.78 2.05 0 2.83L4 21.41c.39.39.9.59 1.41.59.51 0 1.02-.2 1.41-.59l7.78-7.78 2.81-2.81c.8-.78.8-2.07 0-2.86zM5.41 20L4 18.59l7.72-7.72 1.47 1.35L5.41 20z\"/>\n",
              "  </svg>\n",
              "      </button>\n",
              "      \n",
              "  <style>\n",
              "    .colab-df-container {\n",
              "      display:flex;\n",
              "      flex-wrap:wrap;\n",
              "      gap: 12px;\n",
              "    }\n",
              "\n",
              "    .colab-df-convert {\n",
              "      background-color: #E8F0FE;\n",
              "      border: none;\n",
              "      border-radius: 50%;\n",
              "      cursor: pointer;\n",
              "      display: none;\n",
              "      fill: #1967D2;\n",
              "      height: 32px;\n",
              "      padding: 0 0 0 0;\n",
              "      width: 32px;\n",
              "    }\n",
              "\n",
              "    .colab-df-convert:hover {\n",
              "      background-color: #E2EBFA;\n",
              "      box-shadow: 0px 1px 2px rgba(60, 64, 67, 0.3), 0px 1px 3px 1px rgba(60, 64, 67, 0.15);\n",
              "      fill: #174EA6;\n",
              "    }\n",
              "\n",
              "    [theme=dark] .colab-df-convert {\n",
              "      background-color: #3B4455;\n",
              "      fill: #D2E3FC;\n",
              "    }\n",
              "\n",
              "    [theme=dark] .colab-df-convert:hover {\n",
              "      background-color: #434B5C;\n",
              "      box-shadow: 0px 1px 3px 1px rgba(0, 0, 0, 0.15);\n",
              "      filter: drop-shadow(0px 1px 2px rgba(0, 0, 0, 0.3));\n",
              "      fill: #FFFFFF;\n",
              "    }\n",
              "  </style>\n",
              "\n",
              "      <script>\n",
              "        const buttonEl =\n",
              "          document.querySelector('#df-5499ef09-1962-4c0a-b7e1-f225436847e6 button.colab-df-convert');\n",
              "        buttonEl.style.display =\n",
              "          google.colab.kernel.accessAllowed ? 'block' : 'none';\n",
              "\n",
              "        async function convertToInteractive(key) {\n",
              "          const element = document.querySelector('#df-5499ef09-1962-4c0a-b7e1-f225436847e6');\n",
              "          const dataTable =\n",
              "            await google.colab.kernel.invokeFunction('convertToInteractive',\n",
              "                                                     [key], {});\n",
              "          if (!dataTable) return;\n",
              "\n",
              "          const docLinkHtml = 'Like what you see? Visit the ' +\n",
              "            '<a target=\"_blank\" href=https://colab.research.google.com/notebooks/data_table.ipynb>data table notebook</a>'\n",
              "            + ' to learn more about interactive tables.';\n",
              "          element.innerHTML = '';\n",
              "          dataTable['output_type'] = 'display_data';\n",
              "          await google.colab.output.renderOutput(dataTable, element);\n",
              "          const docLink = document.createElement('div');\n",
              "          docLink.innerHTML = docLinkHtml;\n",
              "          element.appendChild(docLink);\n",
              "        }\n",
              "      </script>\n",
              "    </div>\n",
              "  </div>\n",
              "  "
            ]
          },
          "metadata": {},
          "execution_count": 4
        }
      ],
      "source": [
        "#Chequeamos el set:\n",
        "museos.info()\n",
        "museos.head()"
      ]
    },
    {
      "cell_type": "code",
      "execution_count": null,
      "id": "9ff22973",
      "metadata": {
        "id": "9ff22973"
      },
      "outputs": [],
      "source": [
        "#Comenzamos limpiando las columnas que no vamos a utilizar:\n",
        "museos.drop(['Cod_Loc','IdProvincia','IdDepartamento','Observaciones','categoria','subcategoria','direccion', 'Mail','piso','CP','cod_area','telefono','Web','TipoLatitudLongitud','Info_adicional','fuente','actualizacion'], axis=1, inplace=True)"
      ]
    },
    {
      "cell_type": "code",
      "execution_count": null,
      "id": "6868e93d",
      "metadata": {
        "id": "6868e93d",
        "outputId": "03f22141-a856-4bd9-c0cc-e9aa7a94497b",
        "colab": {
          "base_uri": "https://localhost:8080/"
        }
      },
      "outputs": [
        {
          "output_type": "execute_result",
          "data": {
            "text/plain": [
              "array(['Buenos Aires', 'Catamarca', 'Chaco', 'Chubut',\n",
              "       'Ciudad Autónoma de Buenos Aires', 'Córdoba', 'Corrientes',\n",
              "       'Entre Ríos', 'Formosa', 'Jujuy', 'La Pampa', 'La Rioja',\n",
              "       'Mendoza', 'Misiones', 'Neuquén\\xa0', 'Río Negro', 'Salta',\n",
              "       'San Juan', 'San Luis', 'Santa Cruz', 'Santa Fe',\n",
              "       'Santiago del Estero',\n",
              "       'Tierra del Fuego, Antártida e Islas del Atlántico Sur', 'Tucumán'],\n",
              "      dtype=object)"
            ]
          },
          "metadata": {},
          "execution_count": 6
        }
      ],
      "source": [
        "#Chequemos las provincias para asegurarnos de que sean correctas:\n",
        "museos['provincia'].unique()"
      ]
    },
    {
      "cell_type": "code",
      "execution_count": null,
      "id": "997c3e40",
      "metadata": {
        "id": "997c3e40"
      },
      "outputs": [],
      "source": [
        "#Observamos que hay un error de tipeo en la provincia de Neuquen, lo arreglamos:\n",
        "museos['provincia'].replace('Neuquén\\xa0','Neuquén', inplace=True )"
      ]
    },
    {
      "cell_type": "code",
      "execution_count": null,
      "id": "59220233",
      "metadata": {
        "id": "59220233",
        "outputId": "1afdcd95-0cbd-4ead-bb9e-84a3a0bfc8e3",
        "colab": {
          "base_uri": "https://localhost:8080/"
        }
      },
      "outputs": [
        {
          "output_type": "execute_result",
          "data": {
            "text/plain": [
              "array(['9 de Julio', 'Arrecifes', 'Avellaneda', 'Azul', 'Bahía Blanca',\n",
              "       'Balcarce', 'Banfield', 'Baradero', 'Beccar', 'Berisso', 'Bernal',\n",
              "       'Burzaco', 'Capilla del Señor', 'Carhue', 'Carmen de Patagones',\n",
              "       'Caseros', 'Chacabuco', 'Chapadmalal', 'Chascomus', 'Chivilcoy',\n",
              "       'Ciudadela', 'Claromeco', 'Coronel Brandsen', 'Coronel Dorrego',\n",
              "       'Coronel Pringles', 'Dolores', 'Emilio V. Bunge', 'Ensenada',\n",
              "       'Florencio Varela', 'Florida', 'General Belgrano',\n",
              "       'Gral. la Madrid', 'La Plata', 'Laguna de Los Padres', 'Lincoln',\n",
              "       'Loberia', 'Lobos', 'Lujan', 'Mar del Plata', 'Marcos Paz',\n",
              "       'Martínez', 'Miramar', 'Monte Grande', 'Monte Hermoso', 'Morón',\n",
              "       'Munro', 'Pigüe', 'Púan', 'Puente Márquez', 'Quilmes', 'Ramallo',\n",
              "       'Ranchos', 'Rauch', 'Salliquelo', 'Salto', 'San Andrés',\n",
              "       'San Antonio de Areco', 'San Isidro', 'San Justo', 'San Miguel',\n",
              "       'San Nicolás de Los Arroyos', 'Tandil', 'Tapalqué', 'Tigre',\n",
              "       'Tornquist', 'Trenque Lauquen', 'Tres Arroyos', 'Vicente López',\n",
              "       'Victoria', 'Villa Adelina', 'Villa Ballester', 'Villa Elisa',\n",
              "       'Villa Espora', 'Villa Gesell', 'Villa Santa Rosa',\n",
              "       'Virrey del Pino', 'Remedios de Escalada', 'Andalgala',\n",
              "       'Andalgalá', 'Antofagasta de la Sierra', 'Belén', 'Corral Quemado',\n",
              "       'Fiambalá', 'Hualfin', 'La Higuera', 'Mutquin',\n",
              "       'Puerta de San José', 'San Fernando del Valle de Catamarca',\n",
              "       'Santa María', 'Tinogasta',\n",
              "       'Ubicado a 5 Km. de la ciudad de Londres', 'Villa Vil',\n",
              "       'Barranqueras', 'Charata', 'Colonia Benítez', 'Isla del Cerrito',\n",
              "       'La Tigra', 'Lapachito', 'Las Breñas', 'Las Palmas',\n",
              "       'Margarita Belén', 'Presidencia Roca',\n",
              "       'Presidencia Roque Sáenz Peña', 'Puerto Tirol', 'Quitilipi',\n",
              "       'Resistencia', 'San Bernardo', 'Villa Ángela', '28 de Julio',\n",
              "       'Camarones', 'Comodoro Rivadavia', 'Cushamen', 'El Hoyo',\n",
              "       'El Maitén', 'Esquel', 'Facundo', 'Gaiman', 'Gobernador Costa',\n",
              "       'Leleque', 'Los Altares', 'Puerto Madryn', 'Rada Tilly', 'Rawson',\n",
              "       'Rio Mayo', 'Sarmiento', 'Trelew', 'Trevelin', 'Biedma',\n",
              "       'Ciudad Autónoma de Buenos Aires', 'Achiras', 'Alberdi',\n",
              "       'Alta Gracia', 'Altos de Chipion', 'Arroyito', 'Balnearia',\n",
              "       'Bell Ville', 'Cerro Colorado', 'Colonia Caroya', 'Córdoba',\n",
              "       'Cruz Chica', 'El Fuertecito', 'El Tío', 'Embalse, Río Tercero',\n",
              "       'Jesús María', 'La Calera', 'La Carlota', 'La Cumbre', 'La Falda',\n",
              "       'La Paquita', 'La Para', 'La Puerta', 'La Tordilla', 'Laboulaye',\n",
              "       'Las vertientes de la Granja', 'Leones', 'Los Cocos', 'Luque',\n",
              "       'Marull', 'Mina Clavero', 'Morteros', 'Nono', 'Paraje Loza Corral',\n",
              "       'Porteña', 'Pozo del Molle', 'Río Cuarto', 'Río Primero',\n",
              "       'Rio Segundo', 'Rio Tercero', 'Río Tercero', 'Sacanta',\n",
              "       'San Basilio', 'San Francisco', 'San Marcos Sierras',\n",
              "       'Santiago Temple', 'Sinsacate', 'Unquillo', 'Valle Hermoso',\n",
              "       'Villa Ciudad Parque', 'Villa Colimba', 'Villa Concepcion del Tío',\n",
              "       'Villa Cura Brochero', 'Villa de María del Rio Seco',\n",
              "       'Villa del Rosario', 'Villa Fontana', 'Villa General Belgrano',\n",
              "       'Villa María', 'Villa Allende', 'Cordoba', 'Bella Vista',\n",
              "       'Corrientes', 'Curuzú Cuatiá', 'Goya', 'Ituzaingó', 'Mercedes',\n",
              "       'San Roque', 'Yapeyu', 'Chajari', 'Colón',\n",
              "       'Concepcion del Uruguay', 'Concepción del Uruguay', 'Concordia',\n",
              "       'Crespo', 'Diamante', 'Federación', 'General Campos', 'Gualeguay',\n",
              "       'Gualeguaychú', 'La Paz', 'Libertador Norte', 'Nogoya',\n",
              "       'Oro Verde', 'Paraná', 'Rosario del Tala', 'San José',\n",
              "       'San Salvador', 'Viale', 'Villa Domínguez', 'Villaguay', 'Formosa',\n",
              "       'Laguna Blanca', 'Pirané', 'Villa Escolar', 'Alto La Viña',\n",
              "       'Calilegua', 'El Carmen', 'Hornillos', 'Huacalera', 'Huichaira',\n",
              "       'Humahuaca', 'La Quiaca', 'Libertador General San Martin',\n",
              "       'Libertador Gral. San Martín', 'San Pedro',\n",
              "       'San Salvador de Jujuy', 'Tilcara', 'Tumbaya', 'Uquia', 'Yavi',\n",
              "       'Yavi Chico', 'Abra Pampa', 'Alpachiri', 'Alta Italia', 'Arata',\n",
              "       'Bernasconi', 'Carro Quemado', 'Ceballos', 'Colonia 25 de Mayo',\n",
              "       'Colonia Barón', 'Colonia Santa María', 'Conhelo',\n",
              "       'Coronel Hilario Lagos', 'Dorila', 'Eduardo Castex',\n",
              "       'Embajador Martini', 'Falucho', 'General Pico', 'Gral. San Martín',\n",
              "       'Guatraché', 'Ingeniero Luiggi', 'Jacinto Arauz', 'Maisonnave',\n",
              "       'Miguel Cané', 'Miguel Riglos', 'Parera', 'Quehué', 'Quetrequén',\n",
              "       'Realico', 'Reserva Natural Parque Luro', 'Santa Rosa', 'Toay',\n",
              "       'Trenel', 'Vertiz', 'Villa Mirasol', 'Winifreda', 'Chacharramendi',\n",
              "       'Aimogasta', 'Campanas', 'Chamical', 'Chuquis', 'Famatina',\n",
              "       'La Rioja', 'Malanzán', 'Pituil', 'Villa Chepes', 'Villa San José',\n",
              "       'Villa Sanagasta', 'Godoy Cruz',\n",
              "       'al Norte de Ingeniero Gustavo Andre', 'Capital', 'Carrodilla',\n",
              "       'Chacras de Coria', 'Chilecito', 'Ciudad', 'Coquimbito',\n",
              "       'Cuadro Nacional', 'General Alvear', 'Junín', 'Las Compuertas',\n",
              "       'Las Heras', 'Lujan de Cuyo', 'Maipú', 'Malargüe',\n",
              "       'Mayor Drummond', 'Mendoza', 'Palmira', 'Pedro Molina',\n",
              "       'Rodeo del Medio', 'San Alberto - Uspallata', 'San Martín',\n",
              "       'San Rafael', 'Villa 25 de Mayo', 'Villa San Carlos',\n",
              "       'Villa Tulumaya', 'Villanueva', 'El Carrizal', 'El Plumerillo',\n",
              "       'Tunuyán', 'Guaymallén', '25 de Mayo', 'Apóstoles',\n",
              "       'Aristóbulo del Valle', 'Capiovi', 'El Dorado', 'Leandro N Alem',\n",
              "       'Montecarlo', 'Oberá', 'Posadas', 'Puerto Esperanza',\n",
              "       'Puerto Iguazú', 'Puerto Libertad', 'Puerto Rico', 'San Ignacio',\n",
              "       'San Vicente', 'Andacollo', 'Añelo', 'Centenario', 'Chos Malal',\n",
              "       'Covunco', 'Huingan-Co', 'Huingan-Có', 'Junín de Los Andes',\n",
              "       'Lago Barreales, cerca de Mari Menuco', 'Las Lajas', 'Neuquén',\n",
              "       'Paso Aguerre', 'Piedra del Aguila', 'Plaza Huincul', 'Plottier',\n",
              "       'Rincón de Los Sauces', 'San Martín de Los Andes',\n",
              "       'Villa Curi Leuvu', 'Villa el Chocón', 'Villa la Angostura',\n",
              "       'Villa Termal Copahue', 'Zapala', 'Cutral Có', 'Neuquen', 'Allen',\n",
              "       'Cinco Saltos', 'Cipolletti', 'Contralmirante Cordero',\n",
              "       'El Bolsón', 'General Conesa', 'General Roca',\n",
              "       'Ingeniero Jacobacci', 'Lamarque', 'Padre Alejandro Stefenelli',\n",
              "       'San Carlos De Bariloche', 'Valcheta', 'Viedma',\n",
              "       'Villa Los Coihues', 'Villa Regina', 'Salta', 'Angastaco', 'Cachi',\n",
              "       'Cafayate', 'Campamento Vespucio', 'Campo Santo', 'Finca la Cruz',\n",
              "       'Molinos', 'Rosario De La Frontera', 'San Antonio de los Cobres',\n",
              "       'San Carlos', 'San José de Metan', 'San Ramón de la nueva Orán',\n",
              "       'Santa Rosa de Tastil', 'Vaqueros', 'Yatasto cerca de Metan',\n",
              "       'Guachipas', 'Barreal', 'Calingasta', 'Caucete',\n",
              "       'Ciudad de Jachal', 'Las Flores', 'Parque Federico Cantoni',\n",
              "       'Rivadavia', 'San Juan', 'Usno', 'Villa Bolaños', 'Zonda',\n",
              "       'Santa Lucia', 'San Agustín de Valle Fértil', 'San José de Jachal',\n",
              "       'Ciudad de la Punta', 'Concarán', 'Justo Daract', 'La Carolina',\n",
              "       'Merlo', 'Saladillo', 'San Francisco del Monte de Oro',\n",
              "       'San José del Morro', 'San Luis', 'Santa Rosa del Conlara',\n",
              "       'Tilisarao', 'Villa de Merlo', 'Villa Larca', 'Villa Mercedes',\n",
              "       'Villa Reynolds', 'Caleta Olivia', 'El Calafate', 'Pico Truncado',\n",
              "       'Puerto Deseado', 'Puerto San Julián', 'Puerto Santa Cruz',\n",
              "       'Rio Gallegos', 'Rio Turbio', 'Alcorta', 'Alejandra', 'Arequito',\n",
              "       'Armstrong', 'Arroyo Seco', 'Arteaga', 'Barrancas', 'Berabevú',\n",
              "       'Bigand', 'Calchaquí', 'Cañada de Gómez', 'Carcarañá',\n",
              "       'Carlos Pellegrini', 'Casilda', 'Cayasta', 'Ceres',\n",
              "       'Chañar Ladeado', 'Coronda', 'Correa', 'El Trébol', 'Esperanza',\n",
              "       'Firmat', 'Franck', 'Funes', 'Gálvez', 'Gobernador Crespo',\n",
              "       'Helvecia', 'Humboldt', 'La Criolla', 'La Gallareta',\n",
              "       'Las Palmeras', 'Las Parejas', 'Las Rosas', 'Llambi Campbell',\n",
              "       'Maggiolo', 'María Susana', 'Matilde', 'Moisés Ville',\n",
              "       'Monte Vera', 'Peyrano', 'Pueblo Esther', 'Rafaela', 'Reconquista',\n",
              "       'Romang', 'Rosario', 'Rueda', 'Rufino', 'San Agustín',\n",
              "       'San Antonio de Obligado', 'San Carlos Centro', 'San Carlos Norte',\n",
              "       'San Cristóbal', 'San Guillermo', 'San Javier',\n",
              "       'San Jerónimo del Sauce', 'San Jerónimo Norte', 'San Jorge',\n",
              "       'San José de la Esquina', 'San José del Rincón', 'San Lorenzo',\n",
              "       'Santa Clara de Saguier', 'Santa Fe', 'Santa Rosa de Calchines',\n",
              "       'Santo Tome', 'Sastre', 'Suardi', 'Sunchales', 'Tacural',\n",
              "       'Tostado', 'Totoras', 'Venado Tuerto', 'Vera',\n",
              "       'Villa Constitución', 'Villa Gobernador Gálvez', 'Villa Ocampo',\n",
              "       'Villa Trinidad', 'Icaño', 'La Banda', 'Termas de Río Hondo',\n",
              "       'Santiago capital', 'Río Grande', 'Tolhuin', 'Ushuaia',\n",
              "       'Aguilares', 'El Bañado', 'El Mollar', 'Los Sarmientos',\n",
              "       'Ramada de Abajo', 'San Miguel de Tucumán', 'Tafí del Valle',\n",
              "       'Tafí Viejo', 'Villa El Cadillal'], dtype=object)"
            ]
          },
          "metadata": {},
          "execution_count": 8
        }
      ],
      "source": [
        "#Chequeamos las localidades:\n",
        "museos['localidad'].unique()"
      ]
    },
    {
      "cell_type": "code",
      "execution_count": null,
      "id": "774d57b4",
      "metadata": {
        "id": "774d57b4",
        "outputId": "0bd2c50d-dfd3-42d0-9446-3587ef236232",
        "colab": {
          "base_uri": "https://localhost:8080/"
        }
      },
      "outputs": [
        {
          "output_type": "stream",
          "name": "stdout",
          "text": [
            "True\n",
            "True\n"
          ]
        }
      ],
      "source": [
        "#Chequeamos que no haya valores duplicados:\n",
        "museos_d= museos.duplicated()\n",
        "for i in museos_d:\n",
        "    if i == True:\n",
        "        print (i)"
      ]
    },
    {
      "cell_type": "code",
      "execution_count": null,
      "id": "8f20f2ed",
      "metadata": {
        "colab": {
          "base_uri": "https://localhost:8080/",
          "height": 624
        },
        "id": "8f20f2ed",
        "outputId": "cd19059b-aeb6-4ba1-e84c-dfc00917516c"
      },
      "outputs": [
        {
          "output_type": "execute_result",
          "data": {
            "text/plain": [
              "         provincia          localidad  \\\n",
              "0     Buenos Aires         9 de Julio   \n",
              "1     Buenos Aires          Arrecifes   \n",
              "2     Buenos Aires         Avellaneda   \n",
              "3     Buenos Aires         Avellaneda   \n",
              "4     Buenos Aires               Azul   \n",
              "...            ...                ...   \n",
              "1177       Tucumán     Tafí del Valle   \n",
              "1178       Tucumán         Tafí Viejo   \n",
              "1179       Tucumán         Tafí Viejo   \n",
              "1180       Tucumán  Villa El Cadillal   \n",
              "1181       Tucumán     Tafí del Valle   \n",
              "\n",
              "                                                 nombre    Latitud   Longitud  \\\n",
              "0        Archivo Y Museo Histórico Gral. Julio De Vedia -35.441762 -60.887598   \n",
              "1                Museo Y Archivo Histórico De Arrecifes -34.066970 -60.102555   \n",
              "2       Museo Histórico-Sacro  Hno. Rogelio Scortegagna -29.118024 -59.654543   \n",
              "3      Museo Municipal De Artes Plásticas De Avellaneda -34.662110 -58.363270   \n",
              "4     Museo Etnográfico Y Archivo Histórico Enrique ... -36.781824 -59.858636   \n",
              "...                                                 ...        ...        ...   \n",
              "1177  Museo Histórico Y Arqueológico Jesuítico La Banda -26.852880 -65.712622   \n",
              "1178                 Mac-Museo Arqueológico El Cadillal -26.683331 -65.266670   \n",
              "1179    Museo Ferroviario De Los Talleres De Tafí Viejo -26.740733 -65.263231   \n",
              "1180             Museo Arqueológico Dr. Ernesto Padilla -21.937642 -66.052043   \n",
              "1181  Asentamientos De Menhires En Las Áreas Arqueol... -26.852880 -65.712622   \n",
              "\n",
              "     jurisdiccion  año_inauguracion  \n",
              "0       Municipal            1920.0  \n",
              "1       Municipal            1972.0  \n",
              "2       Municipal               NaN  \n",
              "3       Municipal            1956.0  \n",
              "4         Privada            1949.0  \n",
              "...           ...               ...  \n",
              "1177          NaN               NaN  \n",
              "1178   Provincial               NaN  \n",
              "1179      Privada            1909.0  \n",
              "1180   Provincial               NaN  \n",
              "1181   Provincial               NaN  \n",
              "\n",
              "[1180 rows x 7 columns]"
            ],
            "text/html": [
              "\n",
              "  <div id=\"df-32b1e068-9fd6-4f67-be09-5b962ccc43b2\">\n",
              "    <div class=\"colab-df-container\">\n",
              "      <div>\n",
              "<style scoped>\n",
              "    .dataframe tbody tr th:only-of-type {\n",
              "        vertical-align: middle;\n",
              "    }\n",
              "\n",
              "    .dataframe tbody tr th {\n",
              "        vertical-align: top;\n",
              "    }\n",
              "\n",
              "    .dataframe thead th {\n",
              "        text-align: right;\n",
              "    }\n",
              "</style>\n",
              "<table border=\"1\" class=\"dataframe\">\n",
              "  <thead>\n",
              "    <tr style=\"text-align: right;\">\n",
              "      <th></th>\n",
              "      <th>provincia</th>\n",
              "      <th>localidad</th>\n",
              "      <th>nombre</th>\n",
              "      <th>Latitud</th>\n",
              "      <th>Longitud</th>\n",
              "      <th>jurisdiccion</th>\n",
              "      <th>año_inauguracion</th>\n",
              "    </tr>\n",
              "  </thead>\n",
              "  <tbody>\n",
              "    <tr>\n",
              "      <th>0</th>\n",
              "      <td>Buenos Aires</td>\n",
              "      <td>9 de Julio</td>\n",
              "      <td>Archivo Y Museo Histórico Gral. Julio De Vedia</td>\n",
              "      <td>-35.441762</td>\n",
              "      <td>-60.887598</td>\n",
              "      <td>Municipal</td>\n",
              "      <td>1920.0</td>\n",
              "    </tr>\n",
              "    <tr>\n",
              "      <th>1</th>\n",
              "      <td>Buenos Aires</td>\n",
              "      <td>Arrecifes</td>\n",
              "      <td>Museo Y Archivo Histórico De Arrecifes</td>\n",
              "      <td>-34.066970</td>\n",
              "      <td>-60.102555</td>\n",
              "      <td>Municipal</td>\n",
              "      <td>1972.0</td>\n",
              "    </tr>\n",
              "    <tr>\n",
              "      <th>2</th>\n",
              "      <td>Buenos Aires</td>\n",
              "      <td>Avellaneda</td>\n",
              "      <td>Museo Histórico-Sacro  Hno. Rogelio Scortegagna</td>\n",
              "      <td>-29.118024</td>\n",
              "      <td>-59.654543</td>\n",
              "      <td>Municipal</td>\n",
              "      <td>NaN</td>\n",
              "    </tr>\n",
              "    <tr>\n",
              "      <th>3</th>\n",
              "      <td>Buenos Aires</td>\n",
              "      <td>Avellaneda</td>\n",
              "      <td>Museo Municipal De Artes Plásticas De Avellaneda</td>\n",
              "      <td>-34.662110</td>\n",
              "      <td>-58.363270</td>\n",
              "      <td>Municipal</td>\n",
              "      <td>1956.0</td>\n",
              "    </tr>\n",
              "    <tr>\n",
              "      <th>4</th>\n",
              "      <td>Buenos Aires</td>\n",
              "      <td>Azul</td>\n",
              "      <td>Museo Etnográfico Y Archivo Histórico Enrique ...</td>\n",
              "      <td>-36.781824</td>\n",
              "      <td>-59.858636</td>\n",
              "      <td>Privada</td>\n",
              "      <td>1949.0</td>\n",
              "    </tr>\n",
              "    <tr>\n",
              "      <th>...</th>\n",
              "      <td>...</td>\n",
              "      <td>...</td>\n",
              "      <td>...</td>\n",
              "      <td>...</td>\n",
              "      <td>...</td>\n",
              "      <td>...</td>\n",
              "      <td>...</td>\n",
              "    </tr>\n",
              "    <tr>\n",
              "      <th>1177</th>\n",
              "      <td>Tucumán</td>\n",
              "      <td>Tafí del Valle</td>\n",
              "      <td>Museo Histórico Y Arqueológico Jesuítico La Banda</td>\n",
              "      <td>-26.852880</td>\n",
              "      <td>-65.712622</td>\n",
              "      <td>NaN</td>\n",
              "      <td>NaN</td>\n",
              "    </tr>\n",
              "    <tr>\n",
              "      <th>1178</th>\n",
              "      <td>Tucumán</td>\n",
              "      <td>Tafí Viejo</td>\n",
              "      <td>Mac-Museo Arqueológico El Cadillal</td>\n",
              "      <td>-26.683331</td>\n",
              "      <td>-65.266670</td>\n",
              "      <td>Provincial</td>\n",
              "      <td>NaN</td>\n",
              "    </tr>\n",
              "    <tr>\n",
              "      <th>1179</th>\n",
              "      <td>Tucumán</td>\n",
              "      <td>Tafí Viejo</td>\n",
              "      <td>Museo Ferroviario De Los Talleres De Tafí Viejo</td>\n",
              "      <td>-26.740733</td>\n",
              "      <td>-65.263231</td>\n",
              "      <td>Privada</td>\n",
              "      <td>1909.0</td>\n",
              "    </tr>\n",
              "    <tr>\n",
              "      <th>1180</th>\n",
              "      <td>Tucumán</td>\n",
              "      <td>Villa El Cadillal</td>\n",
              "      <td>Museo Arqueológico Dr. Ernesto Padilla</td>\n",
              "      <td>-21.937642</td>\n",
              "      <td>-66.052043</td>\n",
              "      <td>Provincial</td>\n",
              "      <td>NaN</td>\n",
              "    </tr>\n",
              "    <tr>\n",
              "      <th>1181</th>\n",
              "      <td>Tucumán</td>\n",
              "      <td>Tafí del Valle</td>\n",
              "      <td>Asentamientos De Menhires En Las Áreas Arqueol...</td>\n",
              "      <td>-26.852880</td>\n",
              "      <td>-65.712622</td>\n",
              "      <td>Provincial</td>\n",
              "      <td>NaN</td>\n",
              "    </tr>\n",
              "  </tbody>\n",
              "</table>\n",
              "<p>1180 rows × 7 columns</p>\n",
              "</div>\n",
              "      <button class=\"colab-df-convert\" onclick=\"convertToInteractive('df-32b1e068-9fd6-4f67-be09-5b962ccc43b2')\"\n",
              "              title=\"Convert this dataframe to an interactive table.\"\n",
              "              style=\"display:none;\">\n",
              "        \n",
              "  <svg xmlns=\"http://www.w3.org/2000/svg\" height=\"24px\"viewBox=\"0 0 24 24\"\n",
              "       width=\"24px\">\n",
              "    <path d=\"M0 0h24v24H0V0z\" fill=\"none\"/>\n",
              "    <path d=\"M18.56 5.44l.94 2.06.94-2.06 2.06-.94-2.06-.94-.94-2.06-.94 2.06-2.06.94zm-11 1L8.5 8.5l.94-2.06 2.06-.94-2.06-.94L8.5 2.5l-.94 2.06-2.06.94zm10 10l.94 2.06.94-2.06 2.06-.94-2.06-.94-.94-2.06-.94 2.06-2.06.94z\"/><path d=\"M17.41 7.96l-1.37-1.37c-.4-.4-.92-.59-1.43-.59-.52 0-1.04.2-1.43.59L10.3 9.45l-7.72 7.72c-.78.78-.78 2.05 0 2.83L4 21.41c.39.39.9.59 1.41.59.51 0 1.02-.2 1.41-.59l7.78-7.78 2.81-2.81c.8-.78.8-2.07 0-2.86zM5.41 20L4 18.59l7.72-7.72 1.47 1.35L5.41 20z\"/>\n",
              "  </svg>\n",
              "      </button>\n",
              "      \n",
              "  <style>\n",
              "    .colab-df-container {\n",
              "      display:flex;\n",
              "      flex-wrap:wrap;\n",
              "      gap: 12px;\n",
              "    }\n",
              "\n",
              "    .colab-df-convert {\n",
              "      background-color: #E8F0FE;\n",
              "      border: none;\n",
              "      border-radius: 50%;\n",
              "      cursor: pointer;\n",
              "      display: none;\n",
              "      fill: #1967D2;\n",
              "      height: 32px;\n",
              "      padding: 0 0 0 0;\n",
              "      width: 32px;\n",
              "    }\n",
              "\n",
              "    .colab-df-convert:hover {\n",
              "      background-color: #E2EBFA;\n",
              "      box-shadow: 0px 1px 2px rgba(60, 64, 67, 0.3), 0px 1px 3px 1px rgba(60, 64, 67, 0.15);\n",
              "      fill: #174EA6;\n",
              "    }\n",
              "\n",
              "    [theme=dark] .colab-df-convert {\n",
              "      background-color: #3B4455;\n",
              "      fill: #D2E3FC;\n",
              "    }\n",
              "\n",
              "    [theme=dark] .colab-df-convert:hover {\n",
              "      background-color: #434B5C;\n",
              "      box-shadow: 0px 1px 3px 1px rgba(0, 0, 0, 0.15);\n",
              "      filter: drop-shadow(0px 1px 2px rgba(0, 0, 0, 0.3));\n",
              "      fill: #FFFFFF;\n",
              "    }\n",
              "  </style>\n",
              "\n",
              "      <script>\n",
              "        const buttonEl =\n",
              "          document.querySelector('#df-32b1e068-9fd6-4f67-be09-5b962ccc43b2 button.colab-df-convert');\n",
              "        buttonEl.style.display =\n",
              "          google.colab.kernel.accessAllowed ? 'block' : 'none';\n",
              "\n",
              "        async function convertToInteractive(key) {\n",
              "          const element = document.querySelector('#df-32b1e068-9fd6-4f67-be09-5b962ccc43b2');\n",
              "          const dataTable =\n",
              "            await google.colab.kernel.invokeFunction('convertToInteractive',\n",
              "                                                     [key], {});\n",
              "          if (!dataTable) return;\n",
              "\n",
              "          const docLinkHtml = 'Like what you see? Visit the ' +\n",
              "            '<a target=\"_blank\" href=https://colab.research.google.com/notebooks/data_table.ipynb>data table notebook</a>'\n",
              "            + ' to learn more about interactive tables.';\n",
              "          element.innerHTML = '';\n",
              "          dataTable['output_type'] = 'display_data';\n",
              "          await google.colab.output.renderOutput(dataTable, element);\n",
              "          const docLink = document.createElement('div');\n",
              "          docLink.innerHTML = docLinkHtml;\n",
              "          element.appendChild(docLink);\n",
              "        }\n",
              "      </script>\n",
              "    </div>\n",
              "  </div>\n",
              "  "
            ]
          },
          "metadata": {},
          "execution_count": 10
        }
      ],
      "source": [
        "#Eliminamos los valores duplicados:\n",
        "museos.drop_duplicates()"
      ]
    },
    {
      "cell_type": "code",
      "source": [
        "#Chequeamos la columna de jurisdicción.\n",
        "museos['jurisdiccion'].unique()"
      ],
      "metadata": {
        "colab": {
          "base_uri": "https://localhost:8080/"
        },
        "id": "SM6TGjTsR3qP",
        "outputId": "78954725-08fb-4e34-bf27-a8a3a40d44a9"
      },
      "id": "SM6TGjTsR3qP",
      "execution_count": null,
      "outputs": [
        {
          "output_type": "execute_result",
          "data": {
            "text/plain": [
              "array(['Municipal', 'Privada', 'Nacional', 'Provincial',\n",
              "       'Mixta: Privada/Municipal', nan, 's/d',\n",
              "       'Mixta: Orden Franciscana y Municipalidad de San Fernando del Valle de Catamarca.',\n",
              "       'Provincial y Municipal', 'Mixta', 'Privado',\n",
              "       'Gobierno de la Ciudad', 'Mixta: Municipal / Privada',\n",
              "       'Mixto Provincial y Privado', 'Mixta-Privada/Municipal',\n",
              "       'Mixta Provincial/Municipal', 'Comunal',\n",
              "       'Mixta, Nacional y Municipal', 'Mixta: Municipal/Privada',\n",
              "       'Puerto'], dtype=object)"
            ]
          },
          "metadata": {},
          "execution_count": 43
        }
      ]
    },
    {
      "cell_type": "code",
      "source": [
        "#Vemos que varios valores se repiten, los agrupamos en categorías comunes.\n",
        "v_m_uno=['Mixta: Privada/Municipal','Mixta: Orden Franciscana y Municipalidad de San Fernando del Valle de Catamarca.','Provincial y Municipal','Mixta: Municipal / Privada',\n",
        "       'Mixto Provincial y Privado', 'Mixta-Privada/Municipal','Mixta Provincial/Municipal','Mixta, Nacional y Municipal','Mixta: Municipal/Privada']\n",
        "museos['jurisdiccion'].replace(v_m_uno, 'Mixta', inplace=True)\n",
        "museos['jurisdiccion'].replace('Privado', 'Privada', inplace=True)\n",
        "museos['jurisdiccion'].replace('Gobierno de la Ciudad', 'Provincial', inplace=True)\n",
        "museos['jurisdiccion'].replace('s/d', 'Sin denominar', inplace=True)\n",
        "\n",
        "\n"
      ],
      "metadata": {
        "id": "jHIWIQwuSE9M"
      },
      "id": "jHIWIQwuSE9M",
      "execution_count": null,
      "outputs": []
    },
    {
      "cell_type": "code",
      "execution_count": null,
      "id": "c6611d38",
      "metadata": {
        "id": "c6611d38"
      },
      "outputs": [],
      "source": [
        "#Cambiamos los valores nan a 0:\n",
        "museos['año_inauguracion'].fillna(0, inplace=True)"
      ]
    },
    {
      "cell_type": "code",
      "execution_count": null,
      "id": "f20ea1b3",
      "metadata": {
        "id": "f20ea1b3"
      },
      "outputs": [],
      "source": [
        "#Cambiamos el tipo de dato de la columna Año de ignauración:\n",
        "museos['año_inauguracion']= museos['año_inauguracion'].astype('int64')"
      ]
    },
    {
      "cell_type": "code",
      "execution_count": null,
      "id": "886288a2",
      "metadata": {
        "id": "886288a2"
      },
      "outputs": [],
      "source": [
        "#Por último, colocamos la columna de nombre en el primer lugar:\n",
        "p_museos= museos.pop('nombre')\n",
        "museos.insert(0,'nombre',p_museos)"
      ]
    },
    {
      "cell_type": "code",
      "execution_count": null,
      "id": "a3795d8a",
      "metadata": {
        "colab": {
          "base_uri": "https://localhost:8080/",
          "height": 581
        },
        "id": "a3795d8a",
        "outputId": "c392492b-5068-4ed2-fc58-dc1e01e882bc"
      },
      "outputs": [
        {
          "output_type": "execute_result",
          "data": {
            "text/plain": [
              "                                              nombre     provincia  \\\n",
              "0     Archivo Y Museo Histórico Gral. Julio De Vedia  Buenos Aires   \n",
              "1             Museo Y Archivo Histórico De Arrecifes  Buenos Aires   \n",
              "2    Museo Histórico-Sacro  Hno. Rogelio Scortegagna  Buenos Aires   \n",
              "3   Museo Municipal De Artes Plásticas De Avellaneda  Buenos Aires   \n",
              "4  Museo Etnográfico Y Archivo Histórico Enrique ...  Buenos Aires   \n",
              "5                              Museo De Bellas Artes  Buenos Aires   \n",
              "6                                  Museo De Ciencias  Buenos Aires   \n",
              "7  Museo Y Parque Estereoscópico El Histórico Caf...  Buenos Aires   \n",
              "8                        Museo De Arte Contemporáneo  Buenos Aires   \n",
              "9                Museo Y Archivo Histórico Municipal  Buenos Aires   \n",
              "\n",
              "      localidad    Latitud   Longitud jurisdiccion  año_inauguracion  \n",
              "0    9 de Julio -35.441762 -60.887598    Municipal              1920  \n",
              "1     Arrecifes -34.066970 -60.102555    Municipal              1972  \n",
              "2    Avellaneda -29.118024 -59.654543    Municipal                 0  \n",
              "3    Avellaneda -34.662110 -58.363270    Municipal              1956  \n",
              "4          Azul -36.781824 -59.858636      Privada              1949  \n",
              "5  Bahía Blanca -38.713100 -62.262200    Municipal              1935  \n",
              "6  Bahía Blanca -38.692800 -62.308700    Municipal              1996  \n",
              "7  Bahía Blanca -38.724527 -62.273735      Privada              2006  \n",
              "8  Bahía Blanca -38.713100 -62.262200    Municipal              2008  \n",
              "9  Bahía Blanca -38.715200 -62.260300    Municipal              1951  "
            ],
            "text/html": [
              "\n",
              "  <div id=\"df-67a60c10-d3ac-43da-8dcb-2848ac5d377f\">\n",
              "    <div class=\"colab-df-container\">\n",
              "      <div>\n",
              "<style scoped>\n",
              "    .dataframe tbody tr th:only-of-type {\n",
              "        vertical-align: middle;\n",
              "    }\n",
              "\n",
              "    .dataframe tbody tr th {\n",
              "        vertical-align: top;\n",
              "    }\n",
              "\n",
              "    .dataframe thead th {\n",
              "        text-align: right;\n",
              "    }\n",
              "</style>\n",
              "<table border=\"1\" class=\"dataframe\">\n",
              "  <thead>\n",
              "    <tr style=\"text-align: right;\">\n",
              "      <th></th>\n",
              "      <th>nombre</th>\n",
              "      <th>provincia</th>\n",
              "      <th>localidad</th>\n",
              "      <th>Latitud</th>\n",
              "      <th>Longitud</th>\n",
              "      <th>jurisdiccion</th>\n",
              "      <th>año_inauguracion</th>\n",
              "    </tr>\n",
              "  </thead>\n",
              "  <tbody>\n",
              "    <tr>\n",
              "      <th>0</th>\n",
              "      <td>Archivo Y Museo Histórico Gral. Julio De Vedia</td>\n",
              "      <td>Buenos Aires</td>\n",
              "      <td>9 de Julio</td>\n",
              "      <td>-35.441762</td>\n",
              "      <td>-60.887598</td>\n",
              "      <td>Municipal</td>\n",
              "      <td>1920</td>\n",
              "    </tr>\n",
              "    <tr>\n",
              "      <th>1</th>\n",
              "      <td>Museo Y Archivo Histórico De Arrecifes</td>\n",
              "      <td>Buenos Aires</td>\n",
              "      <td>Arrecifes</td>\n",
              "      <td>-34.066970</td>\n",
              "      <td>-60.102555</td>\n",
              "      <td>Municipal</td>\n",
              "      <td>1972</td>\n",
              "    </tr>\n",
              "    <tr>\n",
              "      <th>2</th>\n",
              "      <td>Museo Histórico-Sacro  Hno. Rogelio Scortegagna</td>\n",
              "      <td>Buenos Aires</td>\n",
              "      <td>Avellaneda</td>\n",
              "      <td>-29.118024</td>\n",
              "      <td>-59.654543</td>\n",
              "      <td>Municipal</td>\n",
              "      <td>0</td>\n",
              "    </tr>\n",
              "    <tr>\n",
              "      <th>3</th>\n",
              "      <td>Museo Municipal De Artes Plásticas De Avellaneda</td>\n",
              "      <td>Buenos Aires</td>\n",
              "      <td>Avellaneda</td>\n",
              "      <td>-34.662110</td>\n",
              "      <td>-58.363270</td>\n",
              "      <td>Municipal</td>\n",
              "      <td>1956</td>\n",
              "    </tr>\n",
              "    <tr>\n",
              "      <th>4</th>\n",
              "      <td>Museo Etnográfico Y Archivo Histórico Enrique ...</td>\n",
              "      <td>Buenos Aires</td>\n",
              "      <td>Azul</td>\n",
              "      <td>-36.781824</td>\n",
              "      <td>-59.858636</td>\n",
              "      <td>Privada</td>\n",
              "      <td>1949</td>\n",
              "    </tr>\n",
              "    <tr>\n",
              "      <th>5</th>\n",
              "      <td>Museo De Bellas Artes</td>\n",
              "      <td>Buenos Aires</td>\n",
              "      <td>Bahía Blanca</td>\n",
              "      <td>-38.713100</td>\n",
              "      <td>-62.262200</td>\n",
              "      <td>Municipal</td>\n",
              "      <td>1935</td>\n",
              "    </tr>\n",
              "    <tr>\n",
              "      <th>6</th>\n",
              "      <td>Museo De Ciencias</td>\n",
              "      <td>Buenos Aires</td>\n",
              "      <td>Bahía Blanca</td>\n",
              "      <td>-38.692800</td>\n",
              "      <td>-62.308700</td>\n",
              "      <td>Municipal</td>\n",
              "      <td>1996</td>\n",
              "    </tr>\n",
              "    <tr>\n",
              "      <th>7</th>\n",
              "      <td>Museo Y Parque Estereoscópico El Histórico Caf...</td>\n",
              "      <td>Buenos Aires</td>\n",
              "      <td>Bahía Blanca</td>\n",
              "      <td>-38.724527</td>\n",
              "      <td>-62.273735</td>\n",
              "      <td>Privada</td>\n",
              "      <td>2006</td>\n",
              "    </tr>\n",
              "    <tr>\n",
              "      <th>8</th>\n",
              "      <td>Museo De Arte Contemporáneo</td>\n",
              "      <td>Buenos Aires</td>\n",
              "      <td>Bahía Blanca</td>\n",
              "      <td>-38.713100</td>\n",
              "      <td>-62.262200</td>\n",
              "      <td>Municipal</td>\n",
              "      <td>2008</td>\n",
              "    </tr>\n",
              "    <tr>\n",
              "      <th>9</th>\n",
              "      <td>Museo Y Archivo Histórico Municipal</td>\n",
              "      <td>Buenos Aires</td>\n",
              "      <td>Bahía Blanca</td>\n",
              "      <td>-38.715200</td>\n",
              "      <td>-62.260300</td>\n",
              "      <td>Municipal</td>\n",
              "      <td>1951</td>\n",
              "    </tr>\n",
              "  </tbody>\n",
              "</table>\n",
              "</div>\n",
              "      <button class=\"colab-df-convert\" onclick=\"convertToInteractive('df-67a60c10-d3ac-43da-8dcb-2848ac5d377f')\"\n",
              "              title=\"Convert this dataframe to an interactive table.\"\n",
              "              style=\"display:none;\">\n",
              "        \n",
              "  <svg xmlns=\"http://www.w3.org/2000/svg\" height=\"24px\"viewBox=\"0 0 24 24\"\n",
              "       width=\"24px\">\n",
              "    <path d=\"M0 0h24v24H0V0z\" fill=\"none\"/>\n",
              "    <path d=\"M18.56 5.44l.94 2.06.94-2.06 2.06-.94-2.06-.94-.94-2.06-.94 2.06-2.06.94zm-11 1L8.5 8.5l.94-2.06 2.06-.94-2.06-.94L8.5 2.5l-.94 2.06-2.06.94zm10 10l.94 2.06.94-2.06 2.06-.94-2.06-.94-.94-2.06-.94 2.06-2.06.94z\"/><path d=\"M17.41 7.96l-1.37-1.37c-.4-.4-.92-.59-1.43-.59-.52 0-1.04.2-1.43.59L10.3 9.45l-7.72 7.72c-.78.78-.78 2.05 0 2.83L4 21.41c.39.39.9.59 1.41.59.51 0 1.02-.2 1.41-.59l7.78-7.78 2.81-2.81c.8-.78.8-2.07 0-2.86zM5.41 20L4 18.59l7.72-7.72 1.47 1.35L5.41 20z\"/>\n",
              "  </svg>\n",
              "      </button>\n",
              "      \n",
              "  <style>\n",
              "    .colab-df-container {\n",
              "      display:flex;\n",
              "      flex-wrap:wrap;\n",
              "      gap: 12px;\n",
              "    }\n",
              "\n",
              "    .colab-df-convert {\n",
              "      background-color: #E8F0FE;\n",
              "      border: none;\n",
              "      border-radius: 50%;\n",
              "      cursor: pointer;\n",
              "      display: none;\n",
              "      fill: #1967D2;\n",
              "      height: 32px;\n",
              "      padding: 0 0 0 0;\n",
              "      width: 32px;\n",
              "    }\n",
              "\n",
              "    .colab-df-convert:hover {\n",
              "      background-color: #E2EBFA;\n",
              "      box-shadow: 0px 1px 2px rgba(60, 64, 67, 0.3), 0px 1px 3px 1px rgba(60, 64, 67, 0.15);\n",
              "      fill: #174EA6;\n",
              "    }\n",
              "\n",
              "    [theme=dark] .colab-df-convert {\n",
              "      background-color: #3B4455;\n",
              "      fill: #D2E3FC;\n",
              "    }\n",
              "\n",
              "    [theme=dark] .colab-df-convert:hover {\n",
              "      background-color: #434B5C;\n",
              "      box-shadow: 0px 1px 3px 1px rgba(0, 0, 0, 0.15);\n",
              "      filter: drop-shadow(0px 1px 2px rgba(0, 0, 0, 0.3));\n",
              "      fill: #FFFFFF;\n",
              "    }\n",
              "  </style>\n",
              "\n",
              "      <script>\n",
              "        const buttonEl =\n",
              "          document.querySelector('#df-67a60c10-d3ac-43da-8dcb-2848ac5d377f button.colab-df-convert');\n",
              "        buttonEl.style.display =\n",
              "          google.colab.kernel.accessAllowed ? 'block' : 'none';\n",
              "\n",
              "        async function convertToInteractive(key) {\n",
              "          const element = document.querySelector('#df-67a60c10-d3ac-43da-8dcb-2848ac5d377f');\n",
              "          const dataTable =\n",
              "            await google.colab.kernel.invokeFunction('convertToInteractive',\n",
              "                                                     [key], {});\n",
              "          if (!dataTable) return;\n",
              "\n",
              "          const docLinkHtml = 'Like what you see? Visit the ' +\n",
              "            '<a target=\"_blank\" href=https://colab.research.google.com/notebooks/data_table.ipynb>data table notebook</a>'\n",
              "            + ' to learn more about interactive tables.';\n",
              "          element.innerHTML = '';\n",
              "          dataTable['output_type'] = 'display_data';\n",
              "          await google.colab.output.renderOutput(dataTable, element);\n",
              "          const docLink = document.createElement('div');\n",
              "          docLink.innerHTML = docLinkHtml;\n",
              "          element.appendChild(docLink);\n",
              "        }\n",
              "      </script>\n",
              "    </div>\n",
              "  </div>\n",
              "  "
            ]
          },
          "metadata": {},
          "execution_count": 14
        }
      ],
      "source": [
        "#Chequeamos el set:\n",
        "museos.head(10)"
      ]
    },
    {
      "cell_type": "markdown",
      "id": "99f818f5",
      "metadata": {
        "id": "99f818f5"
      },
      "source": [
        "## 2.7 SET: Bibliotecas populares."
      ]
    },
    {
      "cell_type": "code",
      "execution_count": null,
      "id": "c1e20a2e",
      "metadata": {
        "id": "c1e20a2e",
        "outputId": "d81aca6a-aa77-4410-d6e9-b790b23dec98",
        "colab": {
          "base_uri": "https://localhost:8080/",
          "height": 1000
        }
      },
      "outputs": [
        {
          "output_type": "stream",
          "name": "stdout",
          "text": [
            "<class 'pandas.core.frame.DataFrame'>\n",
            "RangeIndex: 2017 entries, 0 to 2016\n",
            "Data columns (total 25 columns):\n",
            " #   Column                 Non-Null Count  Dtype  \n",
            "---  ------                 --------------  -----  \n",
            " 0   Cod_Loc                2017 non-null   int64  \n",
            " 1   IdProvincia            2017 non-null   int64  \n",
            " 2   IdDepartamento         2017 non-null   int64  \n",
            " 3   Observacion            0 non-null      float64\n",
            " 4   Categoría              2017 non-null   object \n",
            " 5   Subcategoria           0 non-null      float64\n",
            " 6   Provincia              2017 non-null   object \n",
            " 7   Departamento           2017 non-null   object \n",
            " 8   Localidad              2017 non-null   object \n",
            " 9   Nombre                 2017 non-null   object \n",
            " 10  Domicilio              2017 non-null   object \n",
            " 11  Piso                   0 non-null      float64\n",
            " 12  CP                     2017 non-null   object \n",
            " 13  Cod_tel                2017 non-null   object \n",
            " 14  Teléfono               2017 non-null   object \n",
            " 15  Mail                   2017 non-null   object \n",
            " 16  Web                    0 non-null      float64\n",
            " 17  Información adicional  0 non-null      float64\n",
            " 18  Latitud                2017 non-null   float64\n",
            " 19  Longitud               2017 non-null   float64\n",
            " 20  TipoLatitudLongitud    2017 non-null   object \n",
            " 21  Fuente                 2017 non-null   object \n",
            " 22  Tipo_gestion           2017 non-null   object \n",
            " 23  año_inicio             2010 non-null   float64\n",
            " 24  Año_actualizacion      2017 non-null   int64  \n",
            "dtypes: float64(8), int64(4), object(13)\n",
            "memory usage: 394.1+ KB\n"
          ]
        },
        {
          "output_type": "execute_result",
          "data": {
            "text/plain": [
              "    Cod_Loc  IdProvincia  IdDepartamento  Observacion              Categoría  \\\n",
              "0  70049060           70           70049          NaN  Bibliotecas Populares   \n",
              "1   2000010            2            2000          NaN  Bibliotecas Populares   \n",
              "2   2000010            2            2000          NaN  Bibliotecas Populares   \n",
              "3   2000010            2            2000          NaN  Bibliotecas Populares   \n",
              "4   2000010            2            2000          NaN  Bibliotecas Populares   \n",
              "\n",
              "   Subcategoria                        Provincia  \\\n",
              "0           NaN                         San Juan   \n",
              "1           NaN  Ciudad Autónoma de Buenos Aires   \n",
              "2           NaN  Ciudad Autónoma de Buenos Aires   \n",
              "3           NaN  Ciudad Autónoma de Buenos Aires   \n",
              "4           NaN  Ciudad Autónoma de Buenos Aires   \n",
              "\n",
              "                      Departamento               Localidad  \\\n",
              "0                          Iglesia                   Rodeo   \n",
              "1  Ciudad Autonoma de Buenos Aires  Ciudad de Buenos Aires   \n",
              "2  Ciudad Autonoma de Buenos Aires  Ciudad de Buenos Aires   \n",
              "3  Ciudad Autonoma de Buenos Aires  Ciudad de Buenos Aires   \n",
              "4  Ciudad Autonoma de Buenos Aires  Ciudad de Buenos Aires   \n",
              "\n",
              "                                        Nombre  ...  \\\n",
              "0         Biblioteca Popular Juan P. Garramuno  ...   \n",
              "1  Biblioteca Popular Helena Larroque de Roffo  ...   \n",
              "2             Biblioteca Popular 12 de Octubre  ...   \n",
              "3    Biblioteca Popular Villa Pueyrredón Norte  ...   \n",
              "4                   Biblioteca Popular Alberdi  ...   \n",
              "\n",
              "                                    Mail  Web Información adicional  \\\n",
              "0                                    s/d  NaN                   NaN   \n",
              "1           asociacionroffo@yahoo.com.ar  NaN                   NaN   \n",
              "2         popular12deoctubre@hotmail.com  NaN                   NaN   \n",
              "3       bibliotecapueyrredon@hotmail.com  NaN                   NaN   \n",
              "4  bibliotecapopularalberdi@yahoo.com.ar  NaN                   NaN   \n",
              "\n",
              "     Latitud   Longitud   TipoLatitudLongitud   Fuente  Tipo_gestion  \\\n",
              "0 -30.209250 -69.130117  Localización precisa  CONABIP   Comunitaria   \n",
              "1 -34.598461 -58.494690  Localización precisa  CONABIP   Comunitaria   \n",
              "2 -34.613235 -58.448997  Localización precisa  CONABIP   Comunitaria   \n",
              "3 -34.575890 -58.501591  Localización precisa  CONABIP   Comunitaria   \n",
              "4 -34.596157 -58.437668  Localización precisa  CONABIP   Comunitaria   \n",
              "\n",
              "   año_inicio  Año_actualizacion  \n",
              "0      1930.0               2018  \n",
              "1      1916.0               2018  \n",
              "2      1910.0               2018  \n",
              "3      1916.0               2018  \n",
              "4      1910.0               2018  \n",
              "\n",
              "[5 rows x 25 columns]"
            ],
            "text/html": [
              "\n",
              "  <div id=\"df-01fe5748-c5bd-4f2e-b60e-1ba231fa190d\">\n",
              "    <div class=\"colab-df-container\">\n",
              "      <div>\n",
              "<style scoped>\n",
              "    .dataframe tbody tr th:only-of-type {\n",
              "        vertical-align: middle;\n",
              "    }\n",
              "\n",
              "    .dataframe tbody tr th {\n",
              "        vertical-align: top;\n",
              "    }\n",
              "\n",
              "    .dataframe thead th {\n",
              "        text-align: right;\n",
              "    }\n",
              "</style>\n",
              "<table border=\"1\" class=\"dataframe\">\n",
              "  <thead>\n",
              "    <tr style=\"text-align: right;\">\n",
              "      <th></th>\n",
              "      <th>Cod_Loc</th>\n",
              "      <th>IdProvincia</th>\n",
              "      <th>IdDepartamento</th>\n",
              "      <th>Observacion</th>\n",
              "      <th>Categoría</th>\n",
              "      <th>Subcategoria</th>\n",
              "      <th>Provincia</th>\n",
              "      <th>Departamento</th>\n",
              "      <th>Localidad</th>\n",
              "      <th>Nombre</th>\n",
              "      <th>...</th>\n",
              "      <th>Mail</th>\n",
              "      <th>Web</th>\n",
              "      <th>Información adicional</th>\n",
              "      <th>Latitud</th>\n",
              "      <th>Longitud</th>\n",
              "      <th>TipoLatitudLongitud</th>\n",
              "      <th>Fuente</th>\n",
              "      <th>Tipo_gestion</th>\n",
              "      <th>año_inicio</th>\n",
              "      <th>Año_actualizacion</th>\n",
              "    </tr>\n",
              "  </thead>\n",
              "  <tbody>\n",
              "    <tr>\n",
              "      <th>0</th>\n",
              "      <td>70049060</td>\n",
              "      <td>70</td>\n",
              "      <td>70049</td>\n",
              "      <td>NaN</td>\n",
              "      <td>Bibliotecas Populares</td>\n",
              "      <td>NaN</td>\n",
              "      <td>San Juan</td>\n",
              "      <td>Iglesia</td>\n",
              "      <td>Rodeo</td>\n",
              "      <td>Biblioteca Popular Juan P. Garramuno</td>\n",
              "      <td>...</td>\n",
              "      <td>s/d</td>\n",
              "      <td>NaN</td>\n",
              "      <td>NaN</td>\n",
              "      <td>-30.209250</td>\n",
              "      <td>-69.130117</td>\n",
              "      <td>Localización precisa</td>\n",
              "      <td>CONABIP</td>\n",
              "      <td>Comunitaria</td>\n",
              "      <td>1930.0</td>\n",
              "      <td>2018</td>\n",
              "    </tr>\n",
              "    <tr>\n",
              "      <th>1</th>\n",
              "      <td>2000010</td>\n",
              "      <td>2</td>\n",
              "      <td>2000</td>\n",
              "      <td>NaN</td>\n",
              "      <td>Bibliotecas Populares</td>\n",
              "      <td>NaN</td>\n",
              "      <td>Ciudad Autónoma de Buenos Aires</td>\n",
              "      <td>Ciudad Autonoma de Buenos Aires</td>\n",
              "      <td>Ciudad de Buenos Aires</td>\n",
              "      <td>Biblioteca Popular Helena Larroque de Roffo</td>\n",
              "      <td>...</td>\n",
              "      <td>asociacionroffo@yahoo.com.ar</td>\n",
              "      <td>NaN</td>\n",
              "      <td>NaN</td>\n",
              "      <td>-34.598461</td>\n",
              "      <td>-58.494690</td>\n",
              "      <td>Localización precisa</td>\n",
              "      <td>CONABIP</td>\n",
              "      <td>Comunitaria</td>\n",
              "      <td>1916.0</td>\n",
              "      <td>2018</td>\n",
              "    </tr>\n",
              "    <tr>\n",
              "      <th>2</th>\n",
              "      <td>2000010</td>\n",
              "      <td>2</td>\n",
              "      <td>2000</td>\n",
              "      <td>NaN</td>\n",
              "      <td>Bibliotecas Populares</td>\n",
              "      <td>NaN</td>\n",
              "      <td>Ciudad Autónoma de Buenos Aires</td>\n",
              "      <td>Ciudad Autonoma de Buenos Aires</td>\n",
              "      <td>Ciudad de Buenos Aires</td>\n",
              "      <td>Biblioteca Popular 12 de Octubre</td>\n",
              "      <td>...</td>\n",
              "      <td>popular12deoctubre@hotmail.com</td>\n",
              "      <td>NaN</td>\n",
              "      <td>NaN</td>\n",
              "      <td>-34.613235</td>\n",
              "      <td>-58.448997</td>\n",
              "      <td>Localización precisa</td>\n",
              "      <td>CONABIP</td>\n",
              "      <td>Comunitaria</td>\n",
              "      <td>1910.0</td>\n",
              "      <td>2018</td>\n",
              "    </tr>\n",
              "    <tr>\n",
              "      <th>3</th>\n",
              "      <td>2000010</td>\n",
              "      <td>2</td>\n",
              "      <td>2000</td>\n",
              "      <td>NaN</td>\n",
              "      <td>Bibliotecas Populares</td>\n",
              "      <td>NaN</td>\n",
              "      <td>Ciudad Autónoma de Buenos Aires</td>\n",
              "      <td>Ciudad Autonoma de Buenos Aires</td>\n",
              "      <td>Ciudad de Buenos Aires</td>\n",
              "      <td>Biblioteca Popular Villa Pueyrredón Norte</td>\n",
              "      <td>...</td>\n",
              "      <td>bibliotecapueyrredon@hotmail.com</td>\n",
              "      <td>NaN</td>\n",
              "      <td>NaN</td>\n",
              "      <td>-34.575890</td>\n",
              "      <td>-58.501591</td>\n",
              "      <td>Localización precisa</td>\n",
              "      <td>CONABIP</td>\n",
              "      <td>Comunitaria</td>\n",
              "      <td>1916.0</td>\n",
              "      <td>2018</td>\n",
              "    </tr>\n",
              "    <tr>\n",
              "      <th>4</th>\n",
              "      <td>2000010</td>\n",
              "      <td>2</td>\n",
              "      <td>2000</td>\n",
              "      <td>NaN</td>\n",
              "      <td>Bibliotecas Populares</td>\n",
              "      <td>NaN</td>\n",
              "      <td>Ciudad Autónoma de Buenos Aires</td>\n",
              "      <td>Ciudad Autonoma de Buenos Aires</td>\n",
              "      <td>Ciudad de Buenos Aires</td>\n",
              "      <td>Biblioteca Popular Alberdi</td>\n",
              "      <td>...</td>\n",
              "      <td>bibliotecapopularalberdi@yahoo.com.ar</td>\n",
              "      <td>NaN</td>\n",
              "      <td>NaN</td>\n",
              "      <td>-34.596157</td>\n",
              "      <td>-58.437668</td>\n",
              "      <td>Localización precisa</td>\n",
              "      <td>CONABIP</td>\n",
              "      <td>Comunitaria</td>\n",
              "      <td>1910.0</td>\n",
              "      <td>2018</td>\n",
              "    </tr>\n",
              "  </tbody>\n",
              "</table>\n",
              "<p>5 rows × 25 columns</p>\n",
              "</div>\n",
              "      <button class=\"colab-df-convert\" onclick=\"convertToInteractive('df-01fe5748-c5bd-4f2e-b60e-1ba231fa190d')\"\n",
              "              title=\"Convert this dataframe to an interactive table.\"\n",
              "              style=\"display:none;\">\n",
              "        \n",
              "  <svg xmlns=\"http://www.w3.org/2000/svg\" height=\"24px\"viewBox=\"0 0 24 24\"\n",
              "       width=\"24px\">\n",
              "    <path d=\"M0 0h24v24H0V0z\" fill=\"none\"/>\n",
              "    <path d=\"M18.56 5.44l.94 2.06.94-2.06 2.06-.94-2.06-.94-.94-2.06-.94 2.06-2.06.94zm-11 1L8.5 8.5l.94-2.06 2.06-.94-2.06-.94L8.5 2.5l-.94 2.06-2.06.94zm10 10l.94 2.06.94-2.06 2.06-.94-2.06-.94-.94-2.06-.94 2.06-2.06.94z\"/><path d=\"M17.41 7.96l-1.37-1.37c-.4-.4-.92-.59-1.43-.59-.52 0-1.04.2-1.43.59L10.3 9.45l-7.72 7.72c-.78.78-.78 2.05 0 2.83L4 21.41c.39.39.9.59 1.41.59.51 0 1.02-.2 1.41-.59l7.78-7.78 2.81-2.81c.8-.78.8-2.07 0-2.86zM5.41 20L4 18.59l7.72-7.72 1.47 1.35L5.41 20z\"/>\n",
              "  </svg>\n",
              "      </button>\n",
              "      \n",
              "  <style>\n",
              "    .colab-df-container {\n",
              "      display:flex;\n",
              "      flex-wrap:wrap;\n",
              "      gap: 12px;\n",
              "    }\n",
              "\n",
              "    .colab-df-convert {\n",
              "      background-color: #E8F0FE;\n",
              "      border: none;\n",
              "      border-radius: 50%;\n",
              "      cursor: pointer;\n",
              "      display: none;\n",
              "      fill: #1967D2;\n",
              "      height: 32px;\n",
              "      padding: 0 0 0 0;\n",
              "      width: 32px;\n",
              "    }\n",
              "\n",
              "    .colab-df-convert:hover {\n",
              "      background-color: #E2EBFA;\n",
              "      box-shadow: 0px 1px 2px rgba(60, 64, 67, 0.3), 0px 1px 3px 1px rgba(60, 64, 67, 0.15);\n",
              "      fill: #174EA6;\n",
              "    }\n",
              "\n",
              "    [theme=dark] .colab-df-convert {\n",
              "      background-color: #3B4455;\n",
              "      fill: #D2E3FC;\n",
              "    }\n",
              "\n",
              "    [theme=dark] .colab-df-convert:hover {\n",
              "      background-color: #434B5C;\n",
              "      box-shadow: 0px 1px 3px 1px rgba(0, 0, 0, 0.15);\n",
              "      filter: drop-shadow(0px 1px 2px rgba(0, 0, 0, 0.3));\n",
              "      fill: #FFFFFF;\n",
              "    }\n",
              "  </style>\n",
              "\n",
              "      <script>\n",
              "        const buttonEl =\n",
              "          document.querySelector('#df-01fe5748-c5bd-4f2e-b60e-1ba231fa190d button.colab-df-convert');\n",
              "        buttonEl.style.display =\n",
              "          google.colab.kernel.accessAllowed ? 'block' : 'none';\n",
              "\n",
              "        async function convertToInteractive(key) {\n",
              "          const element = document.querySelector('#df-01fe5748-c5bd-4f2e-b60e-1ba231fa190d');\n",
              "          const dataTable =\n",
              "            await google.colab.kernel.invokeFunction('convertToInteractive',\n",
              "                                                     [key], {});\n",
              "          if (!dataTable) return;\n",
              "\n",
              "          const docLinkHtml = 'Like what you see? Visit the ' +\n",
              "            '<a target=\"_blank\" href=https://colab.research.google.com/notebooks/data_table.ipynb>data table notebook</a>'\n",
              "            + ' to learn more about interactive tables.';\n",
              "          element.innerHTML = '';\n",
              "          dataTable['output_type'] = 'display_data';\n",
              "          await google.colab.output.renderOutput(dataTable, element);\n",
              "          const docLink = document.createElement('div');\n",
              "          docLink.innerHTML = docLinkHtml;\n",
              "          element.appendChild(docLink);\n",
              "        }\n",
              "      </script>\n",
              "    </div>\n",
              "  </div>\n",
              "  "
            ]
          },
          "metadata": {},
          "execution_count": 82
        }
      ],
      "source": [
        "#Chequeamos el set:\n",
        "bibliotecas_populares.info()\n",
        "bibliotecas_populares.head()"
      ]
    },
    {
      "cell_type": "code",
      "execution_count": null,
      "id": "d6af8913",
      "metadata": {
        "id": "d6af8913"
      },
      "outputs": [],
      "source": [
        "#Comenzamos eliminando las columnas innecesarias para el análisis:\n",
        "bibliotecas_populares.drop(['Cod_Loc','IdProvincia','IdDepartamento','Observacion','Categoría','Subcategoria','Departamento','Domicilio','CP','Cod_tel','Mail','Teléfono','Web','Piso','TipoLatitudLongitud','Información adicional','Fuente','Año_actualizacion'],axis=1, inplace=True)"
      ]
    },
    {
      "cell_type": "code",
      "execution_count": null,
      "id": "43848d87",
      "metadata": {
        "id": "43848d87",
        "outputId": "9a6bd5ed-0b45-4ceb-92f5-0bc45009c737",
        "colab": {
          "base_uri": "https://localhost:8080/"
        }
      },
      "outputs": [
        {
          "output_type": "execute_result",
          "data": {
            "text/plain": [
              "array(['San Juan', 'Ciudad Autónoma de Buenos Aires', 'Buenos Aires',\n",
              "       'Entre Ríos', 'Santa Fe', 'Corrientes', 'Córdoba', 'San Luis',\n",
              "       'Santiago del Estero', 'Tucumán', 'Mendoza', 'La Rioja',\n",
              "       'Catamarca', 'Salta', 'Jujuy', 'Chaco', 'Formosa', 'Misiones',\n",
              "       'La Pampa', 'Neuquén', 'Río Negro', 'Santa Cruz',\n",
              "       'Tierra del Fuego', 'Chubut', 'Santa Fé'], dtype=object)"
            ]
          },
          "metadata": {},
          "execution_count": 85
        }
      ],
      "source": [
        "#Chequeamos las provincias para asegurarnos de que no haya errores:\n",
        "bibliotecas_populares['Provincia'].unique()"
      ]
    },
    {
      "cell_type": "code",
      "execution_count": null,
      "id": "f8d8a53e",
      "metadata": {
        "id": "f8d8a53e"
      },
      "outputs": [],
      "source": [
        "#Arreglamos errores de tipeo:\n",
        "bibliotecas_populares['Provincia'].replace('Santa Fé', 'Santa Fe', inplace= True)"
      ]
    },
    {
      "cell_type": "code",
      "execution_count": null,
      "id": "dd1c5cb3",
      "metadata": {
        "id": "dd1c5cb3",
        "outputId": "b6098c88-1c5c-462e-bc79-2709218a160e",
        "colab": {
          "base_uri": "https://localhost:8080/"
        }
      },
      "outputs": [
        {
          "output_type": "execute_result",
          "data": {
            "text/plain": [
              "array(['Rodeo', 'Ciudad de Buenos Aires', 'Azul', ...,\n",
              "       'Villa Seminario, Rivadavia', 'Las Grutas', 'Catriel'],\n",
              "      dtype=object)"
            ]
          },
          "metadata": {},
          "execution_count": 89
        }
      ],
      "source": [
        "#Chequeamos las localidades:\n",
        "bibliotecas_populares['Localidad'].unique()"
      ]
    },
    {
      "cell_type": "code",
      "execution_count": null,
      "id": "fee9eff4",
      "metadata": {
        "id": "fee9eff4"
      },
      "outputs": [],
      "source": [
        "#Chequeamos que no haya duplicados:\n",
        "bp_d= bibliotecas_populares.duplicated()\n",
        "for i in bp_d:\n",
        "    if i == True:\n",
        "        print(i)"
      ]
    },
    {
      "cell_type": "code",
      "execution_count": null,
      "id": "ecb4decc",
      "metadata": {
        "id": "ecb4decc"
      },
      "outputs": [],
      "source": [
        "#Pasamos a la columna de año de inauguración:\n",
        "#Cambiamos los valores nan a 0:\n",
        "bibliotecas_populares['año_inicio'].fillna(0,inplace= True)\n"
      ]
    },
    {
      "cell_type": "code",
      "execution_count": null,
      "id": "a4c4d91d",
      "metadata": {
        "id": "a4c4d91d"
      },
      "outputs": [],
      "source": [
        "#Llevamos el tipo de valor a int:\n",
        "bibliotecas_populares['año_inicio']= bibliotecas_populares['año_inicio'].astype('int64')"
      ]
    },
    {
      "cell_type": "code",
      "execution_count": null,
      "id": "3ab85e39",
      "metadata": {
        "id": "3ab85e39"
      },
      "outputs": [],
      "source": [
        "#Llevamos a la columna de nombre al primer puesto:\n",
        "bb_p= bibliotecas_populares.pop('Nombre')\n",
        "bibliotecas_populares.insert(0, 'Nombre', bb_p)"
      ]
    },
    {
      "cell_type": "code",
      "execution_count": null,
      "id": "2ce79425",
      "metadata": {
        "id": "2ce79425",
        "outputId": "a01d0ccc-3045-4027-aa4b-0f5bbe634d5b",
        "colab": {
          "base_uri": "https://localhost:8080/",
          "height": 581
        }
      },
      "outputs": [
        {
          "output_type": "execute_result",
          "data": {
            "text/plain": [
              "                                          Nombre  \\\n",
              "0           Biblioteca Popular Juan P. Garramuno   \n",
              "1    Biblioteca Popular Helena Larroque de Roffo   \n",
              "2               Biblioteca Popular 12 de Octubre   \n",
              "3      Biblioteca Popular Villa Pueyrredón Norte   \n",
              "4                     Biblioteca Popular Alberdi   \n",
              "5  Biblioteca Popular Domingo Faustino Sarmiento   \n",
              "6           Biblioteca Popular Cornelio Saavedra   \n",
              "7           Biblioteca Popular José Enrique Rodo   \n",
              "8          Biblioteca Popular Bartolomé J. Ronco   \n",
              "9  Biblioteca Popular Domingo Faustino Sarmiento   \n",
              "\n",
              "                         Provincia               Localidad    Latitud  \\\n",
              "0                         San Juan                   Rodeo -30.209250   \n",
              "1  Ciudad Autónoma de Buenos Aires  Ciudad de Buenos Aires -34.598461   \n",
              "2  Ciudad Autónoma de Buenos Aires  Ciudad de Buenos Aires -34.613235   \n",
              "3  Ciudad Autónoma de Buenos Aires  Ciudad de Buenos Aires -34.575890   \n",
              "4  Ciudad Autónoma de Buenos Aires  Ciudad de Buenos Aires -34.596157   \n",
              "5  Ciudad Autónoma de Buenos Aires  Ciudad de Buenos Aires -34.574226   \n",
              "6  Ciudad Autónoma de Buenos Aires  Ciudad de Buenos Aires -34.549038   \n",
              "7  Ciudad Autónoma de Buenos Aires  Ciudad de Buenos Aires -34.660057   \n",
              "8                     Buenos Aires                    Azul -36.787650   \n",
              "9                     Buenos Aires   Juan Bautista Alberdi -34.440804   \n",
              "\n",
              "    Longitud Tipo_gestion  año_inicio  \n",
              "0 -69.130117  Comunitaria        1930  \n",
              "1 -58.494690  Comunitaria        1916  \n",
              "2 -58.448997  Comunitaria        1910  \n",
              "3 -58.501591  Comunitaria        1916  \n",
              "4 -58.437668  Comunitaria        1910  \n",
              "5 -58.489941  Comunitaria        1930  \n",
              "6 -58.472504  Comunitaria        1918  \n",
              "7 -58.509514  Comunitaria        1917  \n",
              "8 -59.874633  Comunitaria        1892  \n",
              "9 -61.810322  Comunitaria        1916  "
            ],
            "text/html": [
              "\n",
              "  <div id=\"df-9698712a-6792-42f8-89eb-3f735fabbaa3\">\n",
              "    <div class=\"colab-df-container\">\n",
              "      <div>\n",
              "<style scoped>\n",
              "    .dataframe tbody tr th:only-of-type {\n",
              "        vertical-align: middle;\n",
              "    }\n",
              "\n",
              "    .dataframe tbody tr th {\n",
              "        vertical-align: top;\n",
              "    }\n",
              "\n",
              "    .dataframe thead th {\n",
              "        text-align: right;\n",
              "    }\n",
              "</style>\n",
              "<table border=\"1\" class=\"dataframe\">\n",
              "  <thead>\n",
              "    <tr style=\"text-align: right;\">\n",
              "      <th></th>\n",
              "      <th>Nombre</th>\n",
              "      <th>Provincia</th>\n",
              "      <th>Localidad</th>\n",
              "      <th>Latitud</th>\n",
              "      <th>Longitud</th>\n",
              "      <th>Tipo_gestion</th>\n",
              "      <th>año_inicio</th>\n",
              "    </tr>\n",
              "  </thead>\n",
              "  <tbody>\n",
              "    <tr>\n",
              "      <th>0</th>\n",
              "      <td>Biblioteca Popular Juan P. Garramuno</td>\n",
              "      <td>San Juan</td>\n",
              "      <td>Rodeo</td>\n",
              "      <td>-30.209250</td>\n",
              "      <td>-69.130117</td>\n",
              "      <td>Comunitaria</td>\n",
              "      <td>1930</td>\n",
              "    </tr>\n",
              "    <tr>\n",
              "      <th>1</th>\n",
              "      <td>Biblioteca Popular Helena Larroque de Roffo</td>\n",
              "      <td>Ciudad Autónoma de Buenos Aires</td>\n",
              "      <td>Ciudad de Buenos Aires</td>\n",
              "      <td>-34.598461</td>\n",
              "      <td>-58.494690</td>\n",
              "      <td>Comunitaria</td>\n",
              "      <td>1916</td>\n",
              "    </tr>\n",
              "    <tr>\n",
              "      <th>2</th>\n",
              "      <td>Biblioteca Popular 12 de Octubre</td>\n",
              "      <td>Ciudad Autónoma de Buenos Aires</td>\n",
              "      <td>Ciudad de Buenos Aires</td>\n",
              "      <td>-34.613235</td>\n",
              "      <td>-58.448997</td>\n",
              "      <td>Comunitaria</td>\n",
              "      <td>1910</td>\n",
              "    </tr>\n",
              "    <tr>\n",
              "      <th>3</th>\n",
              "      <td>Biblioteca Popular Villa Pueyrredón Norte</td>\n",
              "      <td>Ciudad Autónoma de Buenos Aires</td>\n",
              "      <td>Ciudad de Buenos Aires</td>\n",
              "      <td>-34.575890</td>\n",
              "      <td>-58.501591</td>\n",
              "      <td>Comunitaria</td>\n",
              "      <td>1916</td>\n",
              "    </tr>\n",
              "    <tr>\n",
              "      <th>4</th>\n",
              "      <td>Biblioteca Popular Alberdi</td>\n",
              "      <td>Ciudad Autónoma de Buenos Aires</td>\n",
              "      <td>Ciudad de Buenos Aires</td>\n",
              "      <td>-34.596157</td>\n",
              "      <td>-58.437668</td>\n",
              "      <td>Comunitaria</td>\n",
              "      <td>1910</td>\n",
              "    </tr>\n",
              "    <tr>\n",
              "      <th>5</th>\n",
              "      <td>Biblioteca Popular Domingo Faustino Sarmiento</td>\n",
              "      <td>Ciudad Autónoma de Buenos Aires</td>\n",
              "      <td>Ciudad de Buenos Aires</td>\n",
              "      <td>-34.574226</td>\n",
              "      <td>-58.489941</td>\n",
              "      <td>Comunitaria</td>\n",
              "      <td>1930</td>\n",
              "    </tr>\n",
              "    <tr>\n",
              "      <th>6</th>\n",
              "      <td>Biblioteca Popular Cornelio Saavedra</td>\n",
              "      <td>Ciudad Autónoma de Buenos Aires</td>\n",
              "      <td>Ciudad de Buenos Aires</td>\n",
              "      <td>-34.549038</td>\n",
              "      <td>-58.472504</td>\n",
              "      <td>Comunitaria</td>\n",
              "      <td>1918</td>\n",
              "    </tr>\n",
              "    <tr>\n",
              "      <th>7</th>\n",
              "      <td>Biblioteca Popular José Enrique Rodo</td>\n",
              "      <td>Ciudad Autónoma de Buenos Aires</td>\n",
              "      <td>Ciudad de Buenos Aires</td>\n",
              "      <td>-34.660057</td>\n",
              "      <td>-58.509514</td>\n",
              "      <td>Comunitaria</td>\n",
              "      <td>1917</td>\n",
              "    </tr>\n",
              "    <tr>\n",
              "      <th>8</th>\n",
              "      <td>Biblioteca Popular Bartolomé J. Ronco</td>\n",
              "      <td>Buenos Aires</td>\n",
              "      <td>Azul</td>\n",
              "      <td>-36.787650</td>\n",
              "      <td>-59.874633</td>\n",
              "      <td>Comunitaria</td>\n",
              "      <td>1892</td>\n",
              "    </tr>\n",
              "    <tr>\n",
              "      <th>9</th>\n",
              "      <td>Biblioteca Popular Domingo Faustino Sarmiento</td>\n",
              "      <td>Buenos Aires</td>\n",
              "      <td>Juan Bautista Alberdi</td>\n",
              "      <td>-34.440804</td>\n",
              "      <td>-61.810322</td>\n",
              "      <td>Comunitaria</td>\n",
              "      <td>1916</td>\n",
              "    </tr>\n",
              "  </tbody>\n",
              "</table>\n",
              "</div>\n",
              "      <button class=\"colab-df-convert\" onclick=\"convertToInteractive('df-9698712a-6792-42f8-89eb-3f735fabbaa3')\"\n",
              "              title=\"Convert this dataframe to an interactive table.\"\n",
              "              style=\"display:none;\">\n",
              "        \n",
              "  <svg xmlns=\"http://www.w3.org/2000/svg\" height=\"24px\"viewBox=\"0 0 24 24\"\n",
              "       width=\"24px\">\n",
              "    <path d=\"M0 0h24v24H0V0z\" fill=\"none\"/>\n",
              "    <path d=\"M18.56 5.44l.94 2.06.94-2.06 2.06-.94-2.06-.94-.94-2.06-.94 2.06-2.06.94zm-11 1L8.5 8.5l.94-2.06 2.06-.94-2.06-.94L8.5 2.5l-.94 2.06-2.06.94zm10 10l.94 2.06.94-2.06 2.06-.94-2.06-.94-.94-2.06-.94 2.06-2.06.94z\"/><path d=\"M17.41 7.96l-1.37-1.37c-.4-.4-.92-.59-1.43-.59-.52 0-1.04.2-1.43.59L10.3 9.45l-7.72 7.72c-.78.78-.78 2.05 0 2.83L4 21.41c.39.39.9.59 1.41.59.51 0 1.02-.2 1.41-.59l7.78-7.78 2.81-2.81c.8-.78.8-2.07 0-2.86zM5.41 20L4 18.59l7.72-7.72 1.47 1.35L5.41 20z\"/>\n",
              "  </svg>\n",
              "      </button>\n",
              "      \n",
              "  <style>\n",
              "    .colab-df-container {\n",
              "      display:flex;\n",
              "      flex-wrap:wrap;\n",
              "      gap: 12px;\n",
              "    }\n",
              "\n",
              "    .colab-df-convert {\n",
              "      background-color: #E8F0FE;\n",
              "      border: none;\n",
              "      border-radius: 50%;\n",
              "      cursor: pointer;\n",
              "      display: none;\n",
              "      fill: #1967D2;\n",
              "      height: 32px;\n",
              "      padding: 0 0 0 0;\n",
              "      width: 32px;\n",
              "    }\n",
              "\n",
              "    .colab-df-convert:hover {\n",
              "      background-color: #E2EBFA;\n",
              "      box-shadow: 0px 1px 2px rgba(60, 64, 67, 0.3), 0px 1px 3px 1px rgba(60, 64, 67, 0.15);\n",
              "      fill: #174EA6;\n",
              "    }\n",
              "\n",
              "    [theme=dark] .colab-df-convert {\n",
              "      background-color: #3B4455;\n",
              "      fill: #D2E3FC;\n",
              "    }\n",
              "\n",
              "    [theme=dark] .colab-df-convert:hover {\n",
              "      background-color: #434B5C;\n",
              "      box-shadow: 0px 1px 3px 1px rgba(0, 0, 0, 0.15);\n",
              "      filter: drop-shadow(0px 1px 2px rgba(0, 0, 0, 0.3));\n",
              "      fill: #FFFFFF;\n",
              "    }\n",
              "  </style>\n",
              "\n",
              "      <script>\n",
              "        const buttonEl =\n",
              "          document.querySelector('#df-9698712a-6792-42f8-89eb-3f735fabbaa3 button.colab-df-convert');\n",
              "        buttonEl.style.display =\n",
              "          google.colab.kernel.accessAllowed ? 'block' : 'none';\n",
              "\n",
              "        async function convertToInteractive(key) {\n",
              "          const element = document.querySelector('#df-9698712a-6792-42f8-89eb-3f735fabbaa3');\n",
              "          const dataTable =\n",
              "            await google.colab.kernel.invokeFunction('convertToInteractive',\n",
              "                                                     [key], {});\n",
              "          if (!dataTable) return;\n",
              "\n",
              "          const docLinkHtml = 'Like what you see? Visit the ' +\n",
              "            '<a target=\"_blank\" href=https://colab.research.google.com/notebooks/data_table.ipynb>data table notebook</a>'\n",
              "            + ' to learn more about interactive tables.';\n",
              "          element.innerHTML = '';\n",
              "          dataTable['output_type'] = 'display_data';\n",
              "          await google.colab.output.renderOutput(dataTable, element);\n",
              "          const docLink = document.createElement('div');\n",
              "          docLink.innerHTML = docLinkHtml;\n",
              "          element.appendChild(docLink);\n",
              "        }\n",
              "      </script>\n",
              "    </div>\n",
              "  </div>\n",
              "  "
            ]
          },
          "metadata": {},
          "execution_count": 96
        }
      ],
      "source": [
        "#Chequeamos el set:\n",
        "bibliotecas_populares.head(10)"
      ]
    },
    {
      "cell_type": "markdown",
      "id": "39146a5e",
      "metadata": {
        "id": "39146a5e"
      },
      "source": [
        "# 3. Análisis exploratorio de los datos."
      ]
    },
    {
      "cell_type": "markdown",
      "source": [
        "# 3.1. Cines."
      ],
      "metadata": {
        "id": "nxWDxdOjk6pk"
      },
      "id": "nxWDxdOjk6pk"
    },
    {
      "cell_type": "code",
      "source": [
        "#Set\n",
        "cines.head()"
      ],
      "metadata": {
        "id": "AoYhSAmwdZnj"
      },
      "id": "AoYhSAmwdZnj",
      "execution_count": null,
      "outputs": []
    },
    {
      "cell_type": "code",
      "source": [
        "# Analizamos cuantos cines tiene cada provincia de Argentina.\n",
        "cines['provincia'].value_counts()"
      ],
      "metadata": {
        "colab": {
          "base_uri": "https://localhost:8080/"
        },
        "id": "cMLFEa7PlGqP",
        "outputId": "4e84aa9e-d528-488c-94cb-c16fd39771a8"
      },
      "id": "cMLFEa7PlGqP",
      "execution_count": null,
      "outputs": [
        {
          "output_type": "execute_result",
          "data": {
            "text/plain": [
              "Buenos Aires                       101\n",
              "Ciudad Autónoma de Buenos Aires     37\n",
              "Córdoba                             36\n",
              "Santa Fe                            21\n",
              "Mendoza                             17\n",
              "Tucumán                             11\n",
              "Entre Ríos                          11\n",
              "Santa Cruz                           8\n",
              "Chubut                               8\n",
              "Corrientes                           7\n",
              "Salta                                7\n",
              "Neuquén                              7\n",
              "La Rioja                             6\n",
              "Río Negro                            6\n",
              "La Pampa                             5\n",
              "Jujuy                                4\n",
              "Misiones                             4\n",
              "San Juan                             4\n",
              "Santiago del Estero                  4\n",
              "San Luis                             3\n",
              "Chaco                                3\n",
              "Tierra del Fuego                     3\n",
              "Catamarca                            2\n",
              "Formosa                              1\n",
              "Name: provincia, dtype: int64"
            ]
          },
          "metadata": {},
          "execution_count": 41
        }
      ]
    },
    {
      "cell_type": "markdown",
      "source": [
        "### Buenos Aires posee 101 cines, quedándose con el primer puesto. En el otro extremo está Formosa, que cuenta con un solo cine registrado en toda la provincia. "
      ],
      "metadata": {
        "id": "x9DoiAjunQzd"
      },
      "id": "x9DoiAjunQzd"
    },
    {
      "cell_type": "code",
      "source": [
        "# Graficamos los valores:\n",
        "cines['provincia'].value_counts().plot(kind='barh', figsize=(10,8))\n",
        "plt.title('Cantidad de cines por provincia')\n",
        "plt.xlabel('Cines')"
      ],
      "metadata": {
        "colab": {
          "base_uri": "https://localhost:8080/",
          "height": 531
        },
        "id": "M6oNLhcqnvoU",
        "outputId": "14a402f2-0fbd-4c59-90aa-f8f1bc81c992"
      },
      "id": "M6oNLhcqnvoU",
      "execution_count": null,
      "outputs": [
        {
          "output_type": "execute_result",
          "data": {
            "text/plain": [
              "Text(0.5, 0, 'Cines')"
            ]
          },
          "metadata": {},
          "execution_count": 42
        },
        {
          "output_type": "display_data",
          "data": {
            "text/plain": [
              "<Figure size 720x576 with 1 Axes>"
            ],
            "image/png": "[encoded data removed]"
          },
          "metadata": {
            "needs_background": "light"
          }
        }
      ]
    },
    {
      "cell_type": "code",
      "source": [
        "#Exploramos los detalles de los cines en Buenos Aires:\n",
        "b_c=cines.loc[cines['provincia']== 'Buenos Aires']\n",
        "b_c['localidad'].value_counts()\n"
      ],
      "metadata": {
        "colab": {
          "base_uri": "https://localhost:8080/"
        },
        "id": "1wOoVyYXos8V",
        "outputId": "a58fac6d-2263-41f2-8842-dfb4ee479bee"
      },
      "id": "1wOoVyYXos8V",
      "execution_count": null,
      "outputs": [
        {
          "output_type": "execute_result",
          "data": {
            "text/plain": [
              "Mar del Plata    7\n",
              "La Plata         7\n",
              "Chivilcoy        3\n",
              "Bahía Blanca     3\n",
              "Quilmes          3\n",
              "                ..\n",
              "Los Toldos       1\n",
              "Maipú            1\n",
              "30 de agosto     1\n",
              "Martínez         1\n",
              "Zarate           1\n",
              "Name: localidad, Length: 73, dtype: int64"
            ]
          },
          "metadata": {},
          "execution_count": 43
        }
      ]
    },
    {
      "cell_type": "markdown",
      "source": [
        "### Dentro de la provincia de Buenos Aires, hay dos localidades con la mayor cantidad de cines: Mar del plata y La plata, ambas con un total de 7 complejos."
      ],
      "metadata": {
        "id": "F1MX0deavqkX"
      },
      "id": "F1MX0deavqkX"
    },
    {
      "cell_type": "code",
      "source": [
        "#1. Agrupamos los cines según su cantidad de butacas:\n",
        "m_cien=(cines.butacas > 100).sum()\n",
        "m_cinco=(cines.butacas > 500).sum()\n",
        "m_mil=(cines.butacas > 1000).sum()\n",
        "m_dos= (cines.butacas > 2000).sum()\n",
        "\n",
        "print('Cines con más de 100 butacas: {}'.format(m_cien))\n",
        "print('Cines con más de 500 butacas: {}'.format(m_cinco))\n",
        "print('Cines con más de 1000 butacas: {}'.format(m_mil))\n",
        "print('Cines con más de 2000 butacas: {}'.format(m_dos))\n",
        "\n",
        "\n"
      ],
      "metadata": {
        "colab": {
          "base_uri": "https://localhost:8080/"
        },
        "id": "od9gm5WOxRWy",
        "outputId": "2f30c8dd-49e8-422c-f22d-310326ccc1b9"
      },
      "id": "od9gm5WOxRWy",
      "execution_count": null,
      "outputs": [
        {
          "output_type": "stream",
          "name": "stdout",
          "text": [
            "Cines con más de 100 butacas: 291\n",
            "Cines con más de 500 butacas: 135\n",
            "Cines con más de 1000 butacas: 71\n",
            "Cines con más de 2000 butacas: 19\n"
          ]
        }
      ]
    },
    {
      "cell_type": "code",
      "source": [
        "#1.1. Cine con mayor cantidad de butacas:\n",
        "cines.loc[cines.butacas.idxmax()]"
      ],
      "metadata": {
        "colab": {
          "base_uri": "https://localhost:8080/"
        },
        "id": "nJqNSVCiIhHU",
        "outputId": "eddcdf74-3945-42e4-a17d-0487467b72e0"
      },
      "id": "nJqNSVCiIhHU",
      "execution_count": null,
      "outputs": [
        {
          "output_type": "execute_result",
          "data": {
            "text/plain": [
              "nombre             Showcase Norte\n",
              "provincia            Buenos Aires\n",
              "localidad                   Munro\n",
              "latitud                -34.514341\n",
              "longitud               -58.522151\n",
              "pantallas                      17\n",
              "butacas                      4214\n",
              "tipo_de_gestion           Privada\n",
              "espacio_incaa                  No\n",
              "Name: 65, dtype: object"
            ]
          },
          "metadata": {},
          "execution_count": 45
        }
      ]
    },
    {
      "cell_type": "code",
      "source": [
        "#1.2. Cine con la menor cantidad de butacas:\n",
        "cines.loc[cines.butacas.idxmin()]"
      ],
      "metadata": {
        "colab": {
          "base_uri": "https://localhost:8080/"
        },
        "id": "5zgZC0v3kqV9",
        "outputId": "e976c7c9-7553-4106-9744-f6d65d0545e5"
      },
      "id": "5zgZC0v3kqV9",
      "execution_count": null,
      "outputs": [
        {
          "output_type": "execute_result",
          "data": {
            "text/plain": [
              "nombre               San Martin\n",
              "provincia          Buenos Aires\n",
              "localidad            Las Flores\n",
              "latitud              -36.015599\n",
              "longitud             -59.098583\n",
              "pantallas                     1\n",
              "butacas                       0\n",
              "tipo_de_gestion         Privada\n",
              "espacio_incaa                No\n",
              "Name: 41, dtype: object"
            ]
          },
          "metadata": {},
          "execution_count": 46
        }
      ]
    },
    {
      "cell_type": "code",
      "source": [
        "## 1. Cantidad de cines según su tipo de gestión:\n",
        "tp= cines.tipo_de_gestion.value_counts()\n",
        "print(tp)"
      ],
      "metadata": {
        "colab": {
          "base_uri": "https://localhost:8080/"
        },
        "id": "7s6X09UpA6y3",
        "outputId": "1dc950af-b1db-49d5-ec7d-24525c740b7e"
      },
      "id": "7s6X09UpA6y3",
      "execution_count": null,
      "outputs": [
        {
          "output_type": "stream",
          "name": "stdout",
          "text": [
            "Privada    255\n",
            "Pública     59\n",
            "Name: tipo_de_gestion, dtype: int64\n"
          ]
        }
      ]
    },
    {
      "cell_type": "code",
      "source": [
        "# 1.1. Porcentaje de cines según su tipo de gestión:\n",
        "tp.plot(kind='pie',autopct= '%1.1f%%', figsize=(8,10))\n",
        "plt.title('Tipos de gestión')\n",
        "plt.ylabel('')\n"
      ],
      "metadata": {
        "colab": {
          "base_uri": "https://localhost:8080/",
          "height": 511
        },
        "id": "M8LX8oKc-msf",
        "outputId": "79f7d08c-299c-4dec-b872-ac97135894e2"
      },
      "id": "M8LX8oKc-msf",
      "execution_count": null,
      "outputs": [
        {
          "output_type": "execute_result",
          "data": {
            "text/plain": [
              "Text(0, 0.5, '')"
            ]
          },
          "metadata": {},
          "execution_count": 48
        },
        {
          "output_type": "display_data",
          "data": {
            "text/plain": [
              "<Figure size 576x720 with 1 Axes>"
            ],
            "image/png": "[encoded data removed]"
          },
          "metadata": {}
        }
      ]
    },
    {
      "cell_type": "code",
      "source": [
        "# 1. Canitdad de cines que son considerados espacios del INCAA:\n",
        "inca= cines.espacio_incaa.value_counts()\n",
        "print(inca)"
      ],
      "metadata": {
        "colab": {
          "base_uri": "https://localhost:8080/"
        },
        "id": "W3tS8KmXBK1i",
        "outputId": "8571d270-c310-452b-c8d8-070d12ee2c8d"
      },
      "id": "W3tS8KmXBK1i",
      "execution_count": null,
      "outputs": [
        {
          "output_type": "stream",
          "name": "stdout",
          "text": [
            "No    266\n",
            "Si     50\n",
            "Name: espacio_incaa, dtype: int64\n"
          ]
        }
      ]
    },
    {
      "cell_type": "code",
      "source": [
        "# 1.1. Canitdad de cines que son considerados espacios del INCAA:\n",
        "inca.plot(kind='barh', figsize= (10,6))\n",
        "plt.title('Espacio INCAA')"
      ],
      "metadata": {
        "colab": {
          "base_uri": "https://localhost:8080/",
          "height": 408
        },
        "id": "7QktwAhpBY8e",
        "outputId": "3be2d9ba-45c8-469a-e404-745fbc696664"
      },
      "id": "7QktwAhpBY8e",
      "execution_count": null,
      "outputs": [
        {
          "output_type": "execute_result",
          "data": {
            "text/plain": [
              "Text(0.5, 1.0, 'Espacio INCAA')"
            ]
          },
          "metadata": {},
          "execution_count": 50
        },
        {
          "output_type": "display_data",
          "data": {
            "text/plain": [
              "<Figure size 720x432 with 1 Axes>"
            ],
            "image/png": "[encoded data removed]"
          },
          "metadata": {
            "needs_background": "light"
          }
        }
      ]
    },
    {
      "cell_type": "code",
      "source": [
        "#Cine con la mayor cantidad de pantallas y butacas del país.\n",
        "cines.loc[cines.pantallas.idxmax()]"
      ],
      "metadata": {
        "colab": {
          "base_uri": "https://localhost:8080/"
        },
        "id": "WKNJ6tTwHqCG",
        "outputId": "5dae124a-0170-4703-9182-e3fd22ae7506"
      },
      "id": "WKNJ6tTwHqCG",
      "execution_count": null,
      "outputs": [
        {
          "output_type": "execute_result",
          "data": {
            "text/plain": [
              "nombre             Showcase Norte\n",
              "provincia            Buenos Aires\n",
              "localidad                   Munro\n",
              "latitud                -34.514341\n",
              "longitud               -58.522151\n",
              "pantallas                      17\n",
              "butacas                      4214\n",
              "tipo_de_gestion           Privada\n",
              "espacio_incaa                  No\n",
              "Name: 65, dtype: object"
            ]
          },
          "metadata": {},
          "execution_count": 51
        }
      ]
    },
    {
      "cell_type": "code",
      "source": [
        "#Máximo de pantallas y butacas en los cines de cada provincia.\n",
        "cines.groupby('provincia').max('pantallas')"
      ],
      "metadata": {
        "colab": {
          "base_uri": "https://localhost:8080/",
          "height": 834
        },
        "id": "EpcIyugphyEz",
        "outputId": "4f132f8a-442e-41a5-dc70-c5b39230a5e4"
      },
      "id": "EpcIyugphyEz",
      "execution_count": null,
      "outputs": [
        {
          "output_type": "execute_result",
          "data": {
            "text/plain": [
              "                                   latitud   longitud  pantallas  butacas\n",
              "provincia                                                                \n",
              "Buenos Aires                    -33.678826 -56.675313         17     4214\n",
              "Catamarca                       -28.464737 -65.774581          5      914\n",
              "Chaco                           -27.430995 -58.962672          5      820\n",
              "Chubut                          -42.766251 -65.035369          2      486\n",
              "Ciudad Autónoma de Buenos Aires -34.546344 -58.365288         12     3021\n",
              "Corrientes                      -27.464640 -57.085560          5     1140\n",
              "Córdoba                         -30.709913 -62.004292         12     2386\n",
              "Entre Ríos                      -30.759415 -57.984929          2      664\n",
              "Formosa                         -26.169497 -58.181483          3      619\n",
              "Jujuy                           -23.577105 -65.213095          2     1100\n",
              "La Pampa                        -35.658982 -63.752870          1      730\n",
              "La Rioja                        -28.560041 -66.810682          4      769\n",
              "Mendoza                         -32.853189 -67.694933         10     2344\n",
              "Misiones                        -27.366775 -55.122305          4      559\n",
              "Neuquén                         -37.389866 -68.058869          7     1894\n",
              "Río Negro                       -38.828301 -62.988497          3      661\n",
              "Salta                           -22.515933 -63.805018          8     1362\n",
              "San Juan                        -31.522593 -68.533644          8     1803\n",
              "San Luis                        -32.346991 -64.998214          7     1951\n",
              "Santa Cruz                      -46.437506 -65.895128          3      350\n",
              "Santa Fe                        -29.118061 -59.642839         14     3458\n",
              "Santiago del Estero             -27.496838 -64.242612          5     1585\n",
              "Tierra del Fuego                -53.790081 -67.697959          3      584\n",
              "Tucumán                         -26.812302 -65.194059          6     1295"
            ],
            "text/html": [
              "\n",
              "  <div id=\"df-c6ab62cd-68a7-43c8-8b8d-d61355fc46e8\">\n",
              "    <div class=\"colab-df-container\">\n",
              "      <div>\n",
              "<style scoped>\n",
              "    .dataframe tbody tr th:only-of-type {\n",
              "        vertical-align: middle;\n",
              "    }\n",
              "\n",
              "    .dataframe tbody tr th {\n",
              "        vertical-align: top;\n",
              "    }\n",
              "\n",
              "    .dataframe thead th {\n",
              "        text-align: right;\n",
              "    }\n",
              "</style>\n",
              "<table border=\"1\" class=\"dataframe\">\n",
              "  <thead>\n",
              "    <tr style=\"text-align: right;\">\n",
              "      <th></th>\n",
              "      <th>latitud</th>\n",
              "      <th>longitud</th>\n",
              "      <th>pantallas</th>\n",
              "      <th>butacas</th>\n",
              "    </tr>\n",
              "    <tr>\n",
              "      <th>provincia</th>\n",
              "      <th></th>\n",
              "      <th></th>\n",
              "      <th></th>\n",
              "      <th></th>\n",
              "    </tr>\n",
              "  </thead>\n",
              "  <tbody>\n",
              "    <tr>\n",
              "      <th>Buenos Aires</th>\n",
              "      <td>-33.678826</td>\n",
              "      <td>-56.675313</td>\n",
              "      <td>17</td>\n",
              "      <td>4214</td>\n",
              "    </tr>\n",
              "    <tr>\n",
              "      <th>Catamarca</th>\n",
              "      <td>-28.464737</td>\n",
              "      <td>-65.774581</td>\n",
              "      <td>5</td>\n",
              "      <td>914</td>\n",
              "    </tr>\n",
              "    <tr>\n",
              "      <th>Chaco</th>\n",
              "      <td>-27.430995</td>\n",
              "      <td>-58.962672</td>\n",
              "      <td>5</td>\n",
              "      <td>820</td>\n",
              "    </tr>\n",
              "    <tr>\n",
              "      <th>Chubut</th>\n",
              "      <td>-42.766251</td>\n",
              "      <td>-65.035369</td>\n",
              "      <td>2</td>\n",
              "      <td>486</td>\n",
              "    </tr>\n",
              "    <tr>\n",
              "      <th>Ciudad Autónoma de Buenos Aires</th>\n",
              "      <td>-34.546344</td>\n",
              "      <td>-58.365288</td>\n",
              "      <td>12</td>\n",
              "      <td>3021</td>\n",
              "    </tr>\n",
              "    <tr>\n",
              "      <th>Corrientes</th>\n",
              "      <td>-27.464640</td>\n",
              "      <td>-57.085560</td>\n",
              "      <td>5</td>\n",
              "      <td>1140</td>\n",
              "    </tr>\n",
              "    <tr>\n",
              "      <th>Córdoba</th>\n",
              "      <td>-30.709913</td>\n",
              "      <td>-62.004292</td>\n",
              "      <td>12</td>\n",
              "      <td>2386</td>\n",
              "    </tr>\n",
              "    <tr>\n",
              "      <th>Entre Ríos</th>\n",
              "      <td>-30.759415</td>\n",
              "      <td>-57.984929</td>\n",
              "      <td>2</td>\n",
              "      <td>664</td>\n",
              "    </tr>\n",
              "    <tr>\n",
              "      <th>Formosa</th>\n",
              "      <td>-26.169497</td>\n",
              "      <td>-58.181483</td>\n",
              "      <td>3</td>\n",
              "      <td>619</td>\n",
              "    </tr>\n",
              "    <tr>\n",
              "      <th>Jujuy</th>\n",
              "      <td>-23.577105</td>\n",
              "      <td>-65.213095</td>\n",
              "      <td>2</td>\n",
              "      <td>1100</td>\n",
              "    </tr>\n",
              "    <tr>\n",
              "      <th>La Pampa</th>\n",
              "      <td>-35.658982</td>\n",
              "      <td>-63.752870</td>\n",
              "      <td>1</td>\n",
              "      <td>730</td>\n",
              "    </tr>\n",
              "    <tr>\n",
              "      <th>La Rioja</th>\n",
              "      <td>-28.560041</td>\n",
              "      <td>-66.810682</td>\n",
              "      <td>4</td>\n",
              "      <td>769</td>\n",
              "    </tr>\n",
              "    <tr>\n",
              "      <th>Mendoza</th>\n",
              "      <td>-32.853189</td>\n",
              "      <td>-67.694933</td>\n",
              "      <td>10</td>\n",
              "      <td>2344</td>\n",
              "    </tr>\n",
              "    <tr>\n",
              "      <th>Misiones</th>\n",
              "      <td>-27.366775</td>\n",
              "      <td>-55.122305</td>\n",
              "      <td>4</td>\n",
              "      <td>559</td>\n",
              "    </tr>\n",
              "    <tr>\n",
              "      <th>Neuquén</th>\n",
              "      <td>-37.389866</td>\n",
              "      <td>-68.058869</td>\n",
              "      <td>7</td>\n",
              "      <td>1894</td>\n",
              "    </tr>\n",
              "    <tr>\n",
              "      <th>Río Negro</th>\n",
              "      <td>-38.828301</td>\n",
              "      <td>-62.988497</td>\n",
              "      <td>3</td>\n",
              "      <td>661</td>\n",
              "    </tr>\n",
              "    <tr>\n",
              "      <th>Salta</th>\n",
              "      <td>-22.515933</td>\n",
              "      <td>-63.805018</td>\n",
              "      <td>8</td>\n",
              "      <td>1362</td>\n",
              "    </tr>\n",
              "    <tr>\n",
              "      <th>San Juan</th>\n",
              "      <td>-31.522593</td>\n",
              "      <td>-68.533644</td>\n",
              "      <td>8</td>\n",
              "      <td>1803</td>\n",
              "    </tr>\n",
              "    <tr>\n",
              "      <th>San Luis</th>\n",
              "      <td>-32.346991</td>\n",
              "      <td>-64.998214</td>\n",
              "      <td>7</td>\n",
              "      <td>1951</td>\n",
              "    </tr>\n",
              "    <tr>\n",
              "      <th>Santa Cruz</th>\n",
              "      <td>-46.437506</td>\n",
              "      <td>-65.895128</td>\n",
              "      <td>3</td>\n",
              "      <td>350</td>\n",
              "    </tr>\n",
              "    <tr>\n",
              "      <th>Santa Fe</th>\n",
              "      <td>-29.118061</td>\n",
              "      <td>-59.642839</td>\n",
              "      <td>14</td>\n",
              "      <td>3458</td>\n",
              "    </tr>\n",
              "    <tr>\n",
              "      <th>Santiago del Estero</th>\n",
              "      <td>-27.496838</td>\n",
              "      <td>-64.242612</td>\n",
              "      <td>5</td>\n",
              "      <td>1585</td>\n",
              "    </tr>\n",
              "    <tr>\n",
              "      <th>Tierra del Fuego</th>\n",
              "      <td>-53.790081</td>\n",
              "      <td>-67.697959</td>\n",
              "      <td>3</td>\n",
              "      <td>584</td>\n",
              "    </tr>\n",
              "    <tr>\n",
              "      <th>Tucumán</th>\n",
              "      <td>-26.812302</td>\n",
              "      <td>-65.194059</td>\n",
              "      <td>6</td>\n",
              "      <td>1295</td>\n",
              "    </tr>\n",
              "  </tbody>\n",
              "</table>\n",
              "</div>\n",
              "      <button class=\"colab-df-convert\" onclick=\"convertToInteractive('df-c6ab62cd-68a7-43c8-8b8d-d61355fc46e8')\"\n",
              "              title=\"Convert this dataframe to an interactive table.\"\n",
              "              style=\"display:none;\">\n",
              "        \n",
              "  <svg xmlns=\"http://www.w3.org/2000/svg\" height=\"24px\"viewBox=\"0 0 24 24\"\n",
              "       width=\"24px\">\n",
              "    <path d=\"M0 0h24v24H0V0z\" fill=\"none\"/>\n",
              "    <path d=\"M18.56 5.44l.94 2.06.94-2.06 2.06-.94-2.06-.94-.94-2.06-.94 2.06-2.06.94zm-11 1L8.5 8.5l.94-2.06 2.06-.94-2.06-.94L8.5 2.5l-.94 2.06-2.06.94zm10 10l.94 2.06.94-2.06 2.06-.94-2.06-.94-.94-2.06-.94 2.06-2.06.94z\"/><path d=\"M17.41 7.96l-1.37-1.37c-.4-.4-.92-.59-1.43-.59-.52 0-1.04.2-1.43.59L10.3 9.45l-7.72 7.72c-.78.78-.78 2.05 0 2.83L4 21.41c.39.39.9.59 1.41.59.51 0 1.02-.2 1.41-.59l7.78-7.78 2.81-2.81c.8-.78.8-2.07 0-2.86zM5.41 20L4 18.59l7.72-7.72 1.47 1.35L5.41 20z\"/>\n",
              "  </svg>\n",
              "      </button>\n",
              "      \n",
              "  <style>\n",
              "    .colab-df-container {\n",
              "      display:flex;\n",
              "      flex-wrap:wrap;\n",
              "      gap: 12px;\n",
              "    }\n",
              "\n",
              "    .colab-df-convert {\n",
              "      background-color: #E8F0FE;\n",
              "      border: none;\n",
              "      border-radius: 50%;\n",
              "      cursor: pointer;\n",
              "      display: none;\n",
              "      fill: #1967D2;\n",
              "      height: 32px;\n",
              "      padding: 0 0 0 0;\n",
              "      width: 32px;\n",
              "    }\n",
              "\n",
              "    .colab-df-convert:hover {\n",
              "      background-color: #E2EBFA;\n",
              "      box-shadow: 0px 1px 2px rgba(60, 64, 67, 0.3), 0px 1px 3px 1px rgba(60, 64, 67, 0.15);\n",
              "      fill: #174EA6;\n",
              "    }\n",
              "\n",
              "    [theme=dark] .colab-df-convert {\n",
              "      background-color: #3B4455;\n",
              "      fill: #D2E3FC;\n",
              "    }\n",
              "\n",
              "    [theme=dark] .colab-df-convert:hover {\n",
              "      background-color: #434B5C;\n",
              "      box-shadow: 0px 1px 3px 1px rgba(0, 0, 0, 0.15);\n",
              "      filter: drop-shadow(0px 1px 2px rgba(0, 0, 0, 0.3));\n",
              "      fill: #FFFFFF;\n",
              "    }\n",
              "  </style>\n",
              "\n",
              "      <script>\n",
              "        const buttonEl =\n",
              "          document.querySelector('#df-c6ab62cd-68a7-43c8-8b8d-d61355fc46e8 button.colab-df-convert');\n",
              "        buttonEl.style.display =\n",
              "          google.colab.kernel.accessAllowed ? 'block' : 'none';\n",
              "\n",
              "        async function convertToInteractive(key) {\n",
              "          const element = document.querySelector('#df-c6ab62cd-68a7-43c8-8b8d-d61355fc46e8');\n",
              "          const dataTable =\n",
              "            await google.colab.kernel.invokeFunction('convertToInteractive',\n",
              "                                                     [key], {});\n",
              "          if (!dataTable) return;\n",
              "\n",
              "          const docLinkHtml = 'Like what you see? Visit the ' +\n",
              "            '<a target=\"_blank\" href=https://colab.research.google.com/notebooks/data_table.ipynb>data table notebook</a>'\n",
              "            + ' to learn more about interactive tables.';\n",
              "          element.innerHTML = '';\n",
              "          dataTable['output_type'] = 'display_data';\n",
              "          await google.colab.output.renderOutput(dataTable, element);\n",
              "          const docLink = document.createElement('div');\n",
              "          docLink.innerHTML = docLinkHtml;\n",
              "          element.appendChild(docLink);\n",
              "        }\n",
              "      </script>\n",
              "    </div>\n",
              "  </div>\n",
              "  "
            ]
          },
          "metadata": {},
          "execution_count": 52
        }
      ]
    },
    {
      "cell_type": "markdown",
      "source": [
        "# 3.2. Teatros."
      ],
      "metadata": {
        "id": "Wq9ASMEao3St"
      },
      "id": "Wq9ASMEao3St"
    },
    {
      "cell_type": "code",
      "source": [
        "#Set\n",
        "teatros.head()"
      ],
      "metadata": {
        "id": "QD2jvoAndV6c"
      },
      "id": "QD2jvoAndV6c",
      "execution_count": null,
      "outputs": []
    },
    {
      "cell_type": "code",
      "source": [
        "#1. Comenzamos explorando la cantidad de teatros en cada provincia argentina:\n",
        "teatros['provincia'].value_counts()"
      ],
      "metadata": {
        "colab": {
          "base_uri": "https://localhost:8080/"
        },
        "id": "XxOzj-LlpGCS",
        "outputId": "cfa5e411-1a79-4c85-e628-67dcb97c40e9"
      },
      "id": "XxOzj-LlpGCS",
      "execution_count": null,
      "outputs": [
        {
          "output_type": "execute_result",
          "data": {
            "text/plain": [
              "Ciudad Autonoma de Buenos Aires                          349\n",
              "Buenos Aires                                             346\n",
              "Cordoba                                                  179\n",
              "Santa Fe                                                 105\n",
              "Mendoza                                                   58\n",
              "Entre Ríos                                                42\n",
              "Río Negro                                                 34\n",
              "Tucumán                                                   28\n",
              "Neuquén                                                   27\n",
              "Misiones                                                  23\n",
              "Jujuy                                                     19\n",
              "Chaco                                                     17\n",
              "Chubut                                                    16\n",
              "Santiago del Estero                                       15\n",
              "San Juan                                                  14\n",
              "Corrientes                                                13\n",
              "La Pampa                                                  13\n",
              "Salta                                                     13\n",
              "San Luis                                                  13\n",
              "Santa Cruz                                                13\n",
              "La Rioja                                                  12\n",
              "Tierra del Fuego, Antártida e Islas del Atlántico Sur      7\n",
              "Catamarca                                                  4\n",
              "Formosa                                                    4\n",
              "Name: provincia, dtype: int64"
            ]
          },
          "metadata": {},
          "execution_count": 59
        }
      ]
    },
    {
      "cell_type": "markdown",
      "source": [
        "### La provincia argentina con más teatros es Buenos Aires, mientras que Catamarca y Formosa tienen la menor cantidad de teatros con 4 establecimientos cada una."
      ],
      "metadata": {
        "id": "NUpI7rSwrEWo"
      },
      "id": "NUpI7rSwrEWo"
    },
    {
      "cell_type": "code",
      "source": [
        "#1.1 Graficamos los resultados.\n",
        "teatros['provincia'].value_counts().plot(kind='barh', figsize=(10,8))\n",
        "plt.title('Cantidad de teatros por provincia')"
      ],
      "metadata": {
        "colab": {
          "base_uri": "https://localhost:8080/",
          "height": 517
        },
        "id": "gtB55GVYxMpS",
        "outputId": "14ffbf57-3ce6-4a25-c4fc-483a5c64c321"
      },
      "id": "gtB55GVYxMpS",
      "execution_count": null,
      "outputs": [
        {
          "output_type": "execute_result",
          "data": {
            "text/plain": [
              "Text(0.5, 1.0, 'Cantidad de teatros por provincia')"
            ]
          },
          "metadata": {},
          "execution_count": 62
        },
        {
          "output_type": "display_data",
          "data": {
            "text/plain": [
              "<Figure size 720x576 with 1 Axes>"
            ],
            "image/png": "[encoded data removed]"
          },
          "metadata": {
            "needs_background": "light"
          }
        }
      ]
    },
    {
      "cell_type": "code",
      "source": [
        "#1. El data set posee una columna de denominación específica, veamos de que se trata.\n",
        "teatros['denominacion_especifica'].value_counts()"
      ],
      "metadata": {
        "colab": {
          "base_uri": "https://localhost:8080/"
        },
        "id": "fDr1f4eYxmrc",
        "outputId": "d0d496f3-ea02-47b8-a668-2645f589a631"
      },
      "id": "fDr1f4eYxmrc",
      "execution_count": null,
      "outputs": [
        {
          "output_type": "execute_result",
          "data": {
            "text/plain": [
              "s/d                                         1132\n",
              "Universidad                                   31\n",
              "Grupo de Teatro Comunitario                    6\n",
              "Sociedad Italiana                              4\n",
              "Museo                                          2\n",
              "Asociación Cultural Armenia                    1\n",
              "Auditorio                                      1\n",
              "Asociación Amigos de La Daia / Auditorio       1\n",
              "Filial Banco Credicoop                         1\n",
              "Escuela                                        1\n",
              "Escuela de Circo                               1\n",
              "Name: denominacion_especifica, dtype: int64"
            ]
          },
          "metadata": {},
          "execution_count": 64
        }
      ]
    },
    {
      "cell_type": "code",
      "source": [
        "#1. Investigamos la columna de actividad específica.\n",
        "teatros['actividad_especifica'].value_counts()"
      ],
      "metadata": {
        "colab": {
          "base_uri": "https://localhost:8080/"
        },
        "id": "o2R-55ZoyLrT",
        "outputId": "5c8f817d-517c-4c41-b12e-ebe4899dcd5c"
      },
      "id": "o2R-55ZoyLrT",
      "execution_count": null,
      "outputs": [
        {
          "output_type": "execute_result",
          "data": {
            "text/plain": [
              "Teatro,clases y talleres                        3\n",
              "s/d                                             3\n",
              "Presentación de obras teatrales                 3\n",
              "Teatro,clases                                   3\n",
              "Teatro, cursos y talleres                       3\n",
              "                                               ..\n",
              "Teatro,escuela,talleres de formación actoral    1\n",
              "Teatro,Clases,FuncionesSala de ensayo           1\n",
              "Obras de teatro                                 1\n",
              "Producciones Teatrales,talleres de teatro       1\n",
              "Academia de danzas y música                     1\n",
              "Name: actividad_especifica, Length: 114, dtype: int64"
            ]
          },
          "metadata": {},
          "execution_count": 66
        }
      ]
    },
    {
      "cell_type": "markdown",
      "source": [
        "## La mayoría de los teatros argentinos ofrecen espacios de aprendizaje. Impartiendo clases, cursos y talleres de formación actoral, así que como tambien en otras áreas, como la danza y la música."
      ],
      "metadata": {
        "id": "W0w1XelfywbG"
      },
      "id": "W0w1XelfywbG"
    },
    {
      "cell_type": "code",
      "source": [
        "#1. Veamos cual es el teatro con más tiempo de actividad:\n",
        "v=teatros['inicio_act'].unique()\n",
        "v.sort()\n",
        "print(v)"
      ],
      "metadata": {
        "colab": {
          "base_uri": "https://localhost:8080/"
        },
        "id": "0wZEnQ43zWuD",
        "outputId": "8025142c-d80b-4e8f-d43c-1a363ae2a1a6"
      },
      "id": "0wZEnQ43zWuD",
      "execution_count": null,
      "outputs": [
        {
          "output_type": "stream",
          "name": "stdout",
          "text": [
            "[   0 1866 1872 1878 1882 1887 1891 1896 1897 1901 1903 1904 1905 1906\n",
            " 1907 1908 1909 1910 1911 1912 1913 1914 1917 1919 1921 1923 1924 1925\n",
            " 1926 1928 1930 1931 1932 1934 1935 1936 1937 1938 1939 1940 1941 1942\n",
            " 1944 1946 1948 1949 1952 1954 1956 1957 1958 1959 1961 1962 1963 1965\n",
            " 1966 1967 1968 1969 1970 1971 1972 1973 1974 1975 1977 1978 1979 1980\n",
            " 1982 1983 1984 1985 1986 1987 1988 1989 1990 1991 1992 1993 1994 1995\n",
            " 1996 1997 1998 1999 2000 2001 2002 2003 2004 2005 2006 2007 2008 2009\n",
            " 2010 2011 2012 2013 2014 2015 2016 2017 2018 2019 2020]\n"
          ]
        }
      ]
    },
    {
      "cell_type": "markdown",
      "source": [
        "## El teatro con más años de actividad data de 1866, averiguemos de que complejo se trata:"
      ],
      "metadata": {
        "id": "OEOBVWMc2g-P"
      },
      "id": "OEOBVWMc2g-P"
    },
    {
      "cell_type": "code",
      "source": [
        "#1.1.\n",
        "teatros.loc[teatros['inicio_act']==1866]"
      ],
      "metadata": {
        "colab": {
          "base_uri": "https://localhost:8080/",
          "height": 179
        },
        "id": "rx3lBy2E2f96",
        "outputId": "ba6b76ce-e5b6-4988-ba09-b12ce7e09da3"
      },
      "id": "rx3lBy2E2f96",
      "execution_count": null,
      "outputs": [
        {
          "output_type": "execute_result",
          "data": {
            "text/plain": [
              "                       nombre provincia  localidad informacion       latitud  \\\n",
              "453  Sala Biblioteca Franklin  San Juan  San Juan          NaN  -31.53560000   \n",
              "\n",
              "         longitud actividad_especifica denominacion_especifica tipo_gestion  \\\n",
              "453  -68.52503000                  NaN                     NaN      Privado   \n",
              "\n",
              "     inicio_act  capacidad  \n",
              "453        1866          0  "
            ],
            "text/html": [
              "\n",
              "  <div id=\"df-932595a1-df23-4e44-a5bc-08ee1d710cc2\">\n",
              "    <div class=\"colab-df-container\">\n",
              "      <div>\n",
              "<style scoped>\n",
              "    .dataframe tbody tr th:only-of-type {\n",
              "        vertical-align: middle;\n",
              "    }\n",
              "\n",
              "    .dataframe tbody tr th {\n",
              "        vertical-align: top;\n",
              "    }\n",
              "\n",
              "    .dataframe thead th {\n",
              "        text-align: right;\n",
              "    }\n",
              "</style>\n",
              "<table border=\"1\" class=\"dataframe\">\n",
              "  <thead>\n",
              "    <tr style=\"text-align: right;\">\n",
              "      <th></th>\n",
              "      <th>nombre</th>\n",
              "      <th>provincia</th>\n",
              "      <th>localidad</th>\n",
              "      <th>informacion</th>\n",
              "      <th>latitud</th>\n",
              "      <th>longitud</th>\n",
              "      <th>actividad_especifica</th>\n",
              "      <th>denominacion_especifica</th>\n",
              "      <th>tipo_gestion</th>\n",
              "      <th>inicio_act</th>\n",
              "      <th>capacidad</th>\n",
              "    </tr>\n",
              "  </thead>\n",
              "  <tbody>\n",
              "    <tr>\n",
              "      <th>453</th>\n",
              "      <td>Sala Biblioteca Franklin</td>\n",
              "      <td>San Juan</td>\n",
              "      <td>San Juan</td>\n",
              "      <td>NaN</td>\n",
              "      <td>-31.53560000</td>\n",
              "      <td>-68.52503000</td>\n",
              "      <td>NaN</td>\n",
              "      <td>NaN</td>\n",
              "      <td>Privado</td>\n",
              "      <td>1866</td>\n",
              "      <td>0</td>\n",
              "    </tr>\n",
              "  </tbody>\n",
              "</table>\n",
              "</div>\n",
              "      <button class=\"colab-df-convert\" onclick=\"convertToInteractive('df-932595a1-df23-4e44-a5bc-08ee1d710cc2')\"\n",
              "              title=\"Convert this dataframe to an interactive table.\"\n",
              "              style=\"display:none;\">\n",
              "        \n",
              "  <svg xmlns=\"http://www.w3.org/2000/svg\" height=\"24px\"viewBox=\"0 0 24 24\"\n",
              "       width=\"24px\">\n",
              "    <path d=\"M0 0h24v24H0V0z\" fill=\"none\"/>\n",
              "    <path d=\"M18.56 5.44l.94 2.06.94-2.06 2.06-.94-2.06-.94-.94-2.06-.94 2.06-2.06.94zm-11 1L8.5 8.5l.94-2.06 2.06-.94-2.06-.94L8.5 2.5l-.94 2.06-2.06.94zm10 10l.94 2.06.94-2.06 2.06-.94-2.06-.94-.94-2.06-.94 2.06-2.06.94z\"/><path d=\"M17.41 7.96l-1.37-1.37c-.4-.4-.92-.59-1.43-.59-.52 0-1.04.2-1.43.59L10.3 9.45l-7.72 7.72c-.78.78-.78 2.05 0 2.83L4 21.41c.39.39.9.59 1.41.59.51 0 1.02-.2 1.41-.59l7.78-7.78 2.81-2.81c.8-.78.8-2.07 0-2.86zM5.41 20L4 18.59l7.72-7.72 1.47 1.35L5.41 20z\"/>\n",
              "  </svg>\n",
              "      </button>\n",
              "      \n",
              "  <style>\n",
              "    .colab-df-container {\n",
              "      display:flex;\n",
              "      flex-wrap:wrap;\n",
              "      gap: 12px;\n",
              "    }\n",
              "\n",
              "    .colab-df-convert {\n",
              "      background-color: #E8F0FE;\n",
              "      border: none;\n",
              "      border-radius: 50%;\n",
              "      cursor: pointer;\n",
              "      display: none;\n",
              "      fill: #1967D2;\n",
              "      height: 32px;\n",
              "      padding: 0 0 0 0;\n",
              "      width: 32px;\n",
              "    }\n",
              "\n",
              "    .colab-df-convert:hover {\n",
              "      background-color: #E2EBFA;\n",
              "      box-shadow: 0px 1px 2px rgba(60, 64, 67, 0.3), 0px 1px 3px 1px rgba(60, 64, 67, 0.15);\n",
              "      fill: #174EA6;\n",
              "    }\n",
              "\n",
              "    [theme=dark] .colab-df-convert {\n",
              "      background-color: #3B4455;\n",
              "      fill: #D2E3FC;\n",
              "    }\n",
              "\n",
              "    [theme=dark] .colab-df-convert:hover {\n",
              "      background-color: #434B5C;\n",
              "      box-shadow: 0px 1px 3px 1px rgba(0, 0, 0, 0.15);\n",
              "      filter: drop-shadow(0px 1px 2px rgba(0, 0, 0, 0.3));\n",
              "      fill: #FFFFFF;\n",
              "    }\n",
              "  </style>\n",
              "\n",
              "      <script>\n",
              "        const buttonEl =\n",
              "          document.querySelector('#df-932595a1-df23-4e44-a5bc-08ee1d710cc2 button.colab-df-convert');\n",
              "        buttonEl.style.display =\n",
              "          google.colab.kernel.accessAllowed ? 'block' : 'none';\n",
              "\n",
              "        async function convertToInteractive(key) {\n",
              "          const element = document.querySelector('#df-932595a1-df23-4e44-a5bc-08ee1d710cc2');\n",
              "          const dataTable =\n",
              "            await google.colab.kernel.invokeFunction('convertToInteractive',\n",
              "                                                     [key], {});\n",
              "          if (!dataTable) return;\n",
              "\n",
              "          const docLinkHtml = 'Like what you see? Visit the ' +\n",
              "            '<a target=\"_blank\" href=https://colab.research.google.com/notebooks/data_table.ipynb>data table notebook</a>'\n",
              "            + ' to learn more about interactive tables.';\n",
              "          element.innerHTML = '';\n",
              "          dataTable['output_type'] = 'display_data';\n",
              "          await google.colab.output.renderOutput(dataTable, element);\n",
              "          const docLink = document.createElement('div');\n",
              "          docLink.innerHTML = docLinkHtml;\n",
              "          element.appendChild(docLink);\n",
              "        }\n",
              "      </script>\n",
              "    </div>\n",
              "  </div>\n",
              "  "
            ]
          },
          "metadata": {},
          "execution_count": 77
        }
      ]
    },
    {
      "cell_type": "markdown",
      "source": [
        "## La Sala Biblioteca Franklin, ubicada en la provincia de San Juan, es una institución que ofrece servicios de carácter público, entre ellos el teatro, que lleva más de 150 años en funcionamiento. Se puede conocer más sobre su historia aquí: [Biblioteca Franklin](http://bibliotecafranklin.org.ar/historia/)"
      ],
      "metadata": {
        "id": "byMZhGDT4MAW"
      },
      "id": "byMZhGDT4MAW"
    },
    {
      "cell_type": "markdown",
      "source": [
        "## Busquemos el segundo teatro con más años de actividad registrado en nuestro data set:"
      ],
      "metadata": {
        "id": "EOANMmVVrgrQ"
      },
      "id": "EOANMmVVrgrQ"
    },
    {
      "cell_type": "code",
      "source": [
        "#1.2. \n",
        "teatros.loc[teatros['inicio_act']==1872]"
      ],
      "metadata": {
        "colab": {
          "base_uri": "https://localhost:8080/",
          "height": 197
        },
        "id": "hF602GE6rwWb",
        "outputId": "09b1f8da-9d91-46d0-d73f-9d745f5f34c2"
      },
      "id": "hF602GE6rwWb",
      "execution_count": null,
      "outputs": [
        {
          "output_type": "execute_result",
          "data": {
            "text/plain": [
              "             nombre                        provincia  \\\n",
              "535  Teatro Opera    Ciudad Autonoma de Buenos Aires   \n",
              "\n",
              "                           localidad informacion       latitud      longitud  \\\n",
              "535  Ciudad Autonoma de Buenos Aires         s/d  -34.60353800  -58.37888700   \n",
              "\n",
              "    actividad_especifica denominacion_especifica tipo_gestion  inicio_act  \\\n",
              "535                  NaN                     s/d      Privado        1872   \n",
              "\n",
              "     capacidad  \n",
              "535       1614  "
            ],
            "text/html": [
              "\n",
              "  <div id=\"df-a16a1a3a-bc82-4b61-9548-7666dc7543d4\">\n",
              "    <div class=\"colab-df-container\">\n",
              "      <div>\n",
              "<style scoped>\n",
              "    .dataframe tbody tr th:only-of-type {\n",
              "        vertical-align: middle;\n",
              "    }\n",
              "\n",
              "    .dataframe tbody tr th {\n",
              "        vertical-align: top;\n",
              "    }\n",
              "\n",
              "    .dataframe thead th {\n",
              "        text-align: right;\n",
              "    }\n",
              "</style>\n",
              "<table border=\"1\" class=\"dataframe\">\n",
              "  <thead>\n",
              "    <tr style=\"text-align: right;\">\n",
              "      <th></th>\n",
              "      <th>nombre</th>\n",
              "      <th>provincia</th>\n",
              "      <th>localidad</th>\n",
              "      <th>informacion</th>\n",
              "      <th>latitud</th>\n",
              "      <th>longitud</th>\n",
              "      <th>actividad_especifica</th>\n",
              "      <th>denominacion_especifica</th>\n",
              "      <th>tipo_gestion</th>\n",
              "      <th>inicio_act</th>\n",
              "      <th>capacidad</th>\n",
              "    </tr>\n",
              "  </thead>\n",
              "  <tbody>\n",
              "    <tr>\n",
              "      <th>535</th>\n",
              "      <td>Teatro Opera</td>\n",
              "      <td>Ciudad Autonoma de Buenos Aires</td>\n",
              "      <td>Ciudad Autonoma de Buenos Aires</td>\n",
              "      <td>s/d</td>\n",
              "      <td>-34.60353800</td>\n",
              "      <td>-58.37888700</td>\n",
              "      <td>NaN</td>\n",
              "      <td>s/d</td>\n",
              "      <td>Privado</td>\n",
              "      <td>1872</td>\n",
              "      <td>1614</td>\n",
              "    </tr>\n",
              "  </tbody>\n",
              "</table>\n",
              "</div>\n",
              "      <button class=\"colab-df-convert\" onclick=\"convertToInteractive('df-a16a1a3a-bc82-4b61-9548-7666dc7543d4')\"\n",
              "              title=\"Convert this dataframe to an interactive table.\"\n",
              "              style=\"display:none;\">\n",
              "        \n",
              "  <svg xmlns=\"http://www.w3.org/2000/svg\" height=\"24px\"viewBox=\"0 0 24 24\"\n",
              "       width=\"24px\">\n",
              "    <path d=\"M0 0h24v24H0V0z\" fill=\"none\"/>\n",
              "    <path d=\"M18.56 5.44l.94 2.06.94-2.06 2.06-.94-2.06-.94-.94-2.06-.94 2.06-2.06.94zm-11 1L8.5 8.5l.94-2.06 2.06-.94-2.06-.94L8.5 2.5l-.94 2.06-2.06.94zm10 10l.94 2.06.94-2.06 2.06-.94-2.06-.94-.94-2.06-.94 2.06-2.06.94z\"/><path d=\"M17.41 7.96l-1.37-1.37c-.4-.4-.92-.59-1.43-.59-.52 0-1.04.2-1.43.59L10.3 9.45l-7.72 7.72c-.78.78-.78 2.05 0 2.83L4 21.41c.39.39.9.59 1.41.59.51 0 1.02-.2 1.41-.59l7.78-7.78 2.81-2.81c.8-.78.8-2.07 0-2.86zM5.41 20L4 18.59l7.72-7.72 1.47 1.35L5.41 20z\"/>\n",
              "  </svg>\n",
              "      </button>\n",
              "      \n",
              "  <style>\n",
              "    .colab-df-container {\n",
              "      display:flex;\n",
              "      flex-wrap:wrap;\n",
              "      gap: 12px;\n",
              "    }\n",
              "\n",
              "    .colab-df-convert {\n",
              "      background-color: #E8F0FE;\n",
              "      border: none;\n",
              "      border-radius: 50%;\n",
              "      cursor: pointer;\n",
              "      display: none;\n",
              "      fill: #1967D2;\n",
              "      height: 32px;\n",
              "      padding: 0 0 0 0;\n",
              "      width: 32px;\n",
              "    }\n",
              "\n",
              "    .colab-df-convert:hover {\n",
              "      background-color: #E2EBFA;\n",
              "      box-shadow: 0px 1px 2px rgba(60, 64, 67, 0.3), 0px 1px 3px 1px rgba(60, 64, 67, 0.15);\n",
              "      fill: #174EA6;\n",
              "    }\n",
              "\n",
              "    [theme=dark] .colab-df-convert {\n",
              "      background-color: #3B4455;\n",
              "      fill: #D2E3FC;\n",
              "    }\n",
              "\n",
              "    [theme=dark] .colab-df-convert:hover {\n",
              "      background-color: #434B5C;\n",
              "      box-shadow: 0px 1px 3px 1px rgba(0, 0, 0, 0.15);\n",
              "      filter: drop-shadow(0px 1px 2px rgba(0, 0, 0, 0.3));\n",
              "      fill: #FFFFFF;\n",
              "    }\n",
              "  </style>\n",
              "\n",
              "      <script>\n",
              "        const buttonEl =\n",
              "          document.querySelector('#df-a16a1a3a-bc82-4b61-9548-7666dc7543d4 button.colab-df-convert');\n",
              "        buttonEl.style.display =\n",
              "          google.colab.kernel.accessAllowed ? 'block' : 'none';\n",
              "\n",
              "        async function convertToInteractive(key) {\n",
              "          const element = document.querySelector('#df-a16a1a3a-bc82-4b61-9548-7666dc7543d4');\n",
              "          const dataTable =\n",
              "            await google.colab.kernel.invokeFunction('convertToInteractive',\n",
              "                                                     [key], {});\n",
              "          if (!dataTable) return;\n",
              "\n",
              "          const docLinkHtml = 'Like what you see? Visit the ' +\n",
              "            '<a target=\"_blank\" href=https://colab.research.google.com/notebooks/data_table.ipynb>data table notebook</a>'\n",
              "            + ' to learn more about interactive tables.';\n",
              "          element.innerHTML = '';\n",
              "          dataTable['output_type'] = 'display_data';\n",
              "          await google.colab.output.renderOutput(dataTable, element);\n",
              "          const docLink = document.createElement('div');\n",
              "          docLink.innerHTML = docLinkHtml;\n",
              "          element.appendChild(docLink);\n",
              "        }\n",
              "      </script>\n",
              "    </div>\n",
              "  </div>\n",
              "  "
            ]
          },
          "metadata": {},
          "execution_count": 15
        }
      ]
    },
    {
      "cell_type": "markdown",
      "source": [
        "## El teatro Opera de la cuidad de Buenos Aires es nuestro segundo establecimiento registrado como Teatro con más años de actividad. "
      ],
      "metadata": {
        "id": "px1rc6Bfr-QP"
      },
      "id": "px1rc6Bfr-QP"
    },
    {
      "cell_type": "markdown",
      "source": [
        "## Ahora, exploraremos la capacidad de los teatros argentinos:"
      ],
      "metadata": {
        "id": "f8iPBSEysZyr"
      },
      "id": "f8iPBSEysZyr"
    },
    {
      "cell_type": "code",
      "source": [
        "#1. Teatro con mayor capacidad de espectadores:\n",
        "teatros.loc[teatros.capacidad.idxmax()]"
      ],
      "metadata": {
        "colab": {
          "base_uri": "https://localhost:8080/"
        },
        "id": "n0VQVBTf4LJR",
        "outputId": "c67afac1-10e3-479e-e086-c248660d3380"
      },
      "id": "n0VQVBTf4LJR",
      "execution_count": null,
      "outputs": [
        {
          "output_type": "execute_result",
          "data": {
            "text/plain": [
              "nombre                     Anfiteatro Frank Romero Day\n",
              "provincia                                      Mendoza\n",
              "localidad                                      Mendoza\n",
              "informacion                 Anfiteatro / Al aire libre\n",
              "latitud                                   -32.89187100\n",
              "longitud                                  -68.89314600\n",
              "actividad_especifica                               NaN\n",
              "denominacion_especifica                            s/d\n",
              "tipo_gestion                                   Público\n",
              "inicio_act                                           0\n",
              "capacidad                                        21686\n",
              "Name: 1148, dtype: object"
            ]
          },
          "metadata": {},
          "execution_count": 83
        }
      ]
    },
    {
      "cell_type": "code",
      "source": [
        "#1.1. Capacidad máxima de espectadores en provincia:\n",
        "teatros.groupby('provincia').max()['capacidad']\n"
      ],
      "metadata": {
        "colab": {
          "base_uri": "https://localhost:8080/"
        },
        "id": "YIH6mLdO6n4P",
        "outputId": "f2fab7bb-009a-4b16-992a-7285bf05fe42"
      },
      "id": "YIH6mLdO6n4P",
      "execution_count": null,
      "outputs": [
        {
          "output_type": "stream",
          "name": "stderr",
          "text": [
            "<ipython-input-22-8f023a29fea5>:2: FutureWarning: Dropping invalid columns in DataFrameGroupBy.max is deprecated. In a future version, a TypeError will be raised. Before calling .max, select only columns which should be valid for the function.\n",
            "  teatros.groupby('provincia').max()['capacidad']\n"
          ]
        },
        {
          "output_type": "execute_result",
          "data": {
            "text/plain": [
              "provincia\n",
              "Buenos Aires                                              5000\n",
              "Catamarca                                                 1103\n",
              "Chaco                                                      400\n",
              "Chubut                                                     250\n",
              "Ciudad Autonoma de Buenos Aires                           4700\n",
              "Cordoba                                                   3560\n",
              "Corrientes                                               15000\n",
              "Entre Ríos                                                 800\n",
              "Formosa                                                    120\n",
              "Jujuy                                                      490\n",
              "La Pampa                                                   100\n",
              "La Rioja                                                   454\n",
              "Mendoza                                                  21686\n",
              "Misiones                                                  5000\n",
              "Neuquén                                                    650\n",
              "Río Negro                                                  607\n",
              "Salta                                                     1520\n",
              "San Juan                                                   976\n",
              "San Luis                                                  5000\n",
              "Santa Cruz                                                 400\n",
              "Santa Fe                                                  2000\n",
              "Santiago del Estero                                       7000\n",
              "Tierra del Fuego, Antártida e Islas del Atlántico Sur      260\n",
              "Tucumán                                                    803\n",
              "Name: capacidad, dtype: int64"
            ]
          },
          "metadata": {},
          "execution_count": 22
        }
      ]
    },
    {
      "cell_type": "markdown",
      "source": [
        "## La provincias argentinas con la menor capacidad máxima dentro de sus teatros son La pampa y Tierra del Fuego. Mientras que Mendoza se queda con el primer puesto en la capacidad máxima de espectadores posibles en una muestra teatral, seguida por Corrientes."
      ],
      "metadata": {
        "id": "_am3EHOl8WAj"
      },
      "id": "_am3EHOl8WAj"
    },
    {
      "cell_type": "markdown",
      "source": [
        "## Ahora nos movemos a otra columna del set: Tipo de gesstión. "
      ],
      "metadata": {
        "id": "3YU06ndqtga9"
      },
      "id": "3YU06ndqtga9"
    },
    {
      "cell_type": "code",
      "source": [
        "#1. Investigamos cuantos teatros son privados y cuantos públicos.\n",
        "c_g_t=teatros['tipo_gestion'].value_counts()\n",
        "print(c_g_t)"
      ],
      "metadata": {
        "id": "3_AqLQGm9auo",
        "colab": {
          "base_uri": "https://localhost:8080/"
        },
        "outputId": "0984d9ea-a152-4e8d-dc34-c97bd156b798"
      },
      "id": "3_AqLQGm9auo",
      "execution_count": null,
      "outputs": [
        {
          "output_type": "stream",
          "name": "stdout",
          "text": [
            "Privado    997\n",
            "Público    367\n",
            "Name: tipo_gestion, dtype: int64\n"
          ]
        }
      ]
    },
    {
      "cell_type": "code",
      "source": [
        "#1.1. Graficamos los valores en porcentajes.\n",
        "mc= ('purple', 'green')\n",
        "c_g_t.plot(kind= 'pie', autopct= '%1.1f%%', figsize= (10,8),colors=mc, wedgeprops = {\"edgecolor\" : \"black\"} )\n",
        "plt.title('Tipo de gestión: Teatros argentinos')\n",
        "plt.ylabel(\" \")"
      ],
      "metadata": {
        "id": "OwX5sosK8Vbf",
        "colab": {
          "base_uri": "https://localhost:8080/",
          "height": 500
        },
        "outputId": "eab330a2-b025-4c7b-df9f-2d2462cf651c"
      },
      "id": "OwX5sosK8Vbf",
      "execution_count": null,
      "outputs": [
        {
          "output_type": "execute_result",
          "data": {
            "text/plain": [
              "Text(0, 0.5, ' ')"
            ]
          },
          "metadata": {},
          "execution_count": 31
        },
        {
          "output_type": "display_data",
          "data": {
            "text/plain": [
              "<Figure size 720x576 with 1 Axes>"
            ],
            "image/png": "[encoded data removed]"
          },
          "metadata": {}
        }
      ]
    },
    {
      "cell_type": "markdown",
      "source": [
        "## El 73% de los teatros registrados es de carácter privado, mientras que el 26% es de carácter público."
      ],
      "metadata": {
        "id": "1h54w8g4wp31"
      },
      "id": "1h54w8g4wp31"
    },
    {
      "cell_type": "markdown",
      "source": [
        "#3.3. Centros culturales."
      ],
      "metadata": {
        "id": "UdlXS2sPyY2B"
      },
      "id": "UdlXS2sPyY2B"
    },
    {
      "cell_type": "code",
      "source": [
        "#Set\n",
        "centros_culturales.head()"
      ],
      "metadata": {
        "colab": {
          "base_uri": "https://localhost:8080/",
          "height": 424
        },
        "id": "sJjKjZGzymKM",
        "outputId": "ad678a1f-2645-4b3b-8634-440fe658f0fd"
      },
      "id": "sJjKjZGzymKM",
      "execution_count": null,
      "outputs": [
        {
          "output_type": "execute_result",
          "data": {
            "text/plain": [
              "                      Nombre                        Provincia  \\\n",
              "0         Oihoy Casa Abierta  Ciudad Autónoma de Buenos Aires   \n",
              "1                 Carpe Diem  Ciudad Autónoma de Buenos Aires   \n",
              "2  Casa Cultural Victor Jara  Ciudad Autónoma de Buenos Aires   \n",
              "3         El Tanque Cultural  Ciudad Autónoma de Buenos Aires   \n",
              "4    Espacio Cultural Urbano  Ciudad Autónoma de Buenos Aires   \n",
              "\n",
              "                         Localidad                            Mail   \\\n",
              "0  Ciudad Autonoma de Buenos Aires           recepcion@oihoy.com.ar   \n",
              "1  Ciudad Autonoma de Buenos Aires                              NaN   \n",
              "2  Ciudad Autonoma de Buenos Aires              jbonadeo5@gmail.com   \n",
              "3  Ciudad Autonoma de Buenos Aires       Eltanquecultural@Gmail.Com   \n",
              "4  Ciudad Autonoma de Buenos Aires  Espacioculturalurbano@Gmail.Com   \n",
              "\n",
              "     Latitud      Longitud  año_inicio  Capacidad  \n",
              "0 -34.588377  -58.46471750           0          0  \n",
              "1 -34.631532  -58.39009233           0          0  \n",
              "2 -34.637101  -58.40917746           0         80  \n",
              "3 -34.537190  -58.51744842           0        300  \n",
              "4 -34.597594  -58.43998560           0        140  "
            ],
            "text/html": [
              "\n",
              "  <div id=\"df-25f2a9ec-bfbd-464f-83a2-7758b7e01546\">\n",
              "    <div class=\"colab-df-container\">\n",
              "      <div>\n",
              "<style scoped>\n",
              "    .dataframe tbody tr th:only-of-type {\n",
              "        vertical-align: middle;\n",
              "    }\n",
              "\n",
              "    .dataframe tbody tr th {\n",
              "        vertical-align: top;\n",
              "    }\n",
              "\n",
              "    .dataframe thead th {\n",
              "        text-align: right;\n",
              "    }\n",
              "</style>\n",
              "<table border=\"1\" class=\"dataframe\">\n",
              "  <thead>\n",
              "    <tr style=\"text-align: right;\">\n",
              "      <th></th>\n",
              "      <th>Nombre</th>\n",
              "      <th>Provincia</th>\n",
              "      <th>Localidad</th>\n",
              "      <th>Mail</th>\n",
              "      <th>Latitud</th>\n",
              "      <th>Longitud</th>\n",
              "      <th>año_inicio</th>\n",
              "      <th>Capacidad</th>\n",
              "    </tr>\n",
              "  </thead>\n",
              "  <tbody>\n",
              "    <tr>\n",
              "      <th>0</th>\n",
              "      <td>Oihoy Casa Abierta</td>\n",
              "      <td>Ciudad Autónoma de Buenos Aires</td>\n",
              "      <td>Ciudad Autonoma de Buenos Aires</td>\n",
              "      <td>recepcion@oihoy.com.ar</td>\n",
              "      <td>-34.588377</td>\n",
              "      <td>-58.46471750</td>\n",
              "      <td>0</td>\n",
              "      <td>0</td>\n",
              "    </tr>\n",
              "    <tr>\n",
              "      <th>1</th>\n",
              "      <td>Carpe Diem</td>\n",
              "      <td>Ciudad Autónoma de Buenos Aires</td>\n",
              "      <td>Ciudad Autonoma de Buenos Aires</td>\n",
              "      <td>NaN</td>\n",
              "      <td>-34.631532</td>\n",
              "      <td>-58.39009233</td>\n",
              "      <td>0</td>\n",
              "      <td>0</td>\n",
              "    </tr>\n",
              "    <tr>\n",
              "      <th>2</th>\n",
              "      <td>Casa Cultural Victor Jara</td>\n",
              "      <td>Ciudad Autónoma de Buenos Aires</td>\n",
              "      <td>Ciudad Autonoma de Buenos Aires</td>\n",
              "      <td>jbonadeo5@gmail.com</td>\n",
              "      <td>-34.637101</td>\n",
              "      <td>-58.40917746</td>\n",
              "      <td>0</td>\n",
              "      <td>80</td>\n",
              "    </tr>\n",
              "    <tr>\n",
              "      <th>3</th>\n",
              "      <td>El Tanque Cultural</td>\n",
              "      <td>Ciudad Autónoma de Buenos Aires</td>\n",
              "      <td>Ciudad Autonoma de Buenos Aires</td>\n",
              "      <td>Eltanquecultural@Gmail.Com</td>\n",
              "      <td>-34.537190</td>\n",
              "      <td>-58.51744842</td>\n",
              "      <td>0</td>\n",
              "      <td>300</td>\n",
              "    </tr>\n",
              "    <tr>\n",
              "      <th>4</th>\n",
              "      <td>Espacio Cultural Urbano</td>\n",
              "      <td>Ciudad Autónoma de Buenos Aires</td>\n",
              "      <td>Ciudad Autonoma de Buenos Aires</td>\n",
              "      <td>Espacioculturalurbano@Gmail.Com</td>\n",
              "      <td>-34.597594</td>\n",
              "      <td>-58.43998560</td>\n",
              "      <td>0</td>\n",
              "      <td>140</td>\n",
              "    </tr>\n",
              "  </tbody>\n",
              "</table>\n",
              "</div>\n",
              "      <button class=\"colab-df-convert\" onclick=\"convertToInteractive('df-25f2a9ec-bfbd-464f-83a2-7758b7e01546')\"\n",
              "              title=\"Convert this dataframe to an interactive table.\"\n",
              "              style=\"display:none;\">\n",
              "        \n",
              "  <svg xmlns=\"http://www.w3.org/2000/svg\" height=\"24px\"viewBox=\"0 0 24 24\"\n",
              "       width=\"24px\">\n",
              "    <path d=\"M0 0h24v24H0V0z\" fill=\"none\"/>\n",
              "    <path d=\"M18.56 5.44l.94 2.06.94-2.06 2.06-.94-2.06-.94-.94-2.06-.94 2.06-2.06.94zm-11 1L8.5 8.5l.94-2.06 2.06-.94-2.06-.94L8.5 2.5l-.94 2.06-2.06.94zm10 10l.94 2.06.94-2.06 2.06-.94-2.06-.94-.94-2.06-.94 2.06-2.06.94z\"/><path d=\"M17.41 7.96l-1.37-1.37c-.4-.4-.92-.59-1.43-.59-.52 0-1.04.2-1.43.59L10.3 9.45l-7.72 7.72c-.78.78-.78 2.05 0 2.83L4 21.41c.39.39.9.59 1.41.59.51 0 1.02-.2 1.41-.59l7.78-7.78 2.81-2.81c.8-.78.8-2.07 0-2.86zM5.41 20L4 18.59l7.72-7.72 1.47 1.35L5.41 20z\"/>\n",
              "  </svg>\n",
              "      </button>\n",
              "      \n",
              "  <style>\n",
              "    .colab-df-container {\n",
              "      display:flex;\n",
              "      flex-wrap:wrap;\n",
              "      gap: 12px;\n",
              "    }\n",
              "\n",
              "    .colab-df-convert {\n",
              "      background-color: #E8F0FE;\n",
              "      border: none;\n",
              "      border-radius: 50%;\n",
              "      cursor: pointer;\n",
              "      display: none;\n",
              "      fill: #1967D2;\n",
              "      height: 32px;\n",
              "      padding: 0 0 0 0;\n",
              "      width: 32px;\n",
              "    }\n",
              "\n",
              "    .colab-df-convert:hover {\n",
              "      background-color: #E2EBFA;\n",
              "      box-shadow: 0px 1px 2px rgba(60, 64, 67, 0.3), 0px 1px 3px 1px rgba(60, 64, 67, 0.15);\n",
              "      fill: #174EA6;\n",
              "    }\n",
              "\n",
              "    [theme=dark] .colab-df-convert {\n",
              "      background-color: #3B4455;\n",
              "      fill: #D2E3FC;\n",
              "    }\n",
              "\n",
              "    [theme=dark] .colab-df-convert:hover {\n",
              "      background-color: #434B5C;\n",
              "      box-shadow: 0px 1px 3px 1px rgba(0, 0, 0, 0.15);\n",
              "      filter: drop-shadow(0px 1px 2px rgba(0, 0, 0, 0.3));\n",
              "      fill: #FFFFFF;\n",
              "    }\n",
              "  </style>\n",
              "\n",
              "      <script>\n",
              "        const buttonEl =\n",
              "          document.querySelector('#df-25f2a9ec-bfbd-464f-83a2-7758b7e01546 button.colab-df-convert');\n",
              "        buttonEl.style.display =\n",
              "          google.colab.kernel.accessAllowed ? 'block' : 'none';\n",
              "\n",
              "        async function convertToInteractive(key) {\n",
              "          const element = document.querySelector('#df-25f2a9ec-bfbd-464f-83a2-7758b7e01546');\n",
              "          const dataTable =\n",
              "            await google.colab.kernel.invokeFunction('convertToInteractive',\n",
              "                                                     [key], {});\n",
              "          if (!dataTable) return;\n",
              "\n",
              "          const docLinkHtml = 'Like what you see? Visit the ' +\n",
              "            '<a target=\"_blank\" href=https://colab.research.google.com/notebooks/data_table.ipynb>data table notebook</a>'\n",
              "            + ' to learn more about interactive tables.';\n",
              "          element.innerHTML = '';\n",
              "          dataTable['output_type'] = 'display_data';\n",
              "          await google.colab.output.renderOutput(dataTable, element);\n",
              "          const docLink = document.createElement('div');\n",
              "          docLink.innerHTML = docLinkHtml;\n",
              "          element.appendChild(docLink);\n",
              "        }\n",
              "      </script>\n",
              "    </div>\n",
              "  </div>\n",
              "  "
            ]
          },
          "metadata": {},
          "execution_count": 44
        }
      ]
    },
    {
      "cell_type": "code",
      "source": [
        "#Averiguamos cuantos centros culturales hay registrados en cada provincia.\n",
        "centros_culturales['Provincia'].value_counts()"
      ],
      "metadata": {
        "colab": {
          "base_uri": "https://localhost:8080/"
        },
        "id": "qZsp7g1qzI89",
        "outputId": "bafce078-0f1d-47e7-e839-fea2422c39ac"
      },
      "id": "qZsp7g1qzI89",
      "execution_count": null,
      "outputs": [
        {
          "output_type": "execute_result",
          "data": {
            "text/plain": [
              "Buenos Aires                                             338\n",
              "Ciudad Autónoma de Buenos Aires                          296\n",
              "Santa Fe                                                  85\n",
              "Córdoba                                                   77\n",
              "Mendoza                                                   23\n",
              "Entre Ríos                                                22\n",
              "Chaco                                                     19\n",
              "Río Negro                                                 19\n",
              "Tucumán                                                   18\n",
              "Neuquén                                                   18\n",
              "Jujuy                                                     18\n",
              "Misiones                                                  16\n",
              "Salta                                                     15\n",
              "San Luis                                                  15\n",
              "Catamarca                                                 15\n",
              "Chubut                                                    13\n",
              "Santa Cruz                                                11\n",
              "Tierra del Fuego, Antártida e Islas del Atlántico Sur     11\n",
              "San Juan                                                   9\n",
              "La Pampa                                                   7\n",
              "Santiago del Estero                                        7\n",
              "La Rioja                                                   5\n",
              "Corrientes                                                 5\n",
              "Formosa                                                    5\n",
              "Name: Provincia, dtype: int64"
            ]
          },
          "metadata": {},
          "execution_count": 45
        }
      ]
    },
    {
      "cell_type": "code",
      "source": [
        "#1.1 Graficamos los valores.\n",
        "centros_culturales['Provincia'].value_counts().plot(kind= 'barh', color= 'purple', figsize= (10,6))\n",
        "plt.xlabel('Cantidad de centros culturales por provincia')"
      ],
      "metadata": {
        "colab": {
          "base_uri": "https://localhost:8080/",
          "height": 406
        },
        "id": "0q0qasKyzbYX",
        "outputId": "6d5becf5-f9f5-4433-afe4-e588515ac352"
      },
      "id": "0q0qasKyzbYX",
      "execution_count": null,
      "outputs": [
        {
          "output_type": "execute_result",
          "data": {
            "text/plain": [
              "Text(0.5, 0, 'Cantidad de centros culturales por provincia')"
            ]
          },
          "metadata": {},
          "execution_count": 58
        },
        {
          "output_type": "display_data",
          "data": {
            "text/plain": [
              "<Figure size 720x432 with 1 Axes>"
            ],
            "image/png": "[encoded data removed]"
          },
          "metadata": {
            "needs_background": "light"
          }
        }
      ]
    },
    {
      "cell_type": "code",
      "source": [
        "#Exploramos los años de inicio del dataset.\n",
        "aicc=centros_culturales['año_inicio'].unique()\n",
        "aicc.sort()\n",
        "print(aicc)"
      ],
      "metadata": {
        "colab": {
          "base_uri": "https://localhost:8080/"
        },
        "id": "hFo_KZnm1hwV",
        "outputId": "16bcd287-a972-459b-bdd0-7148670e1ad6"
      },
      "id": "hFo_KZnm1hwV",
      "execution_count": null,
      "outputs": [
        {
          "output_type": "stream",
          "name": "stdout",
          "text": [
            "[   0  100 1871 1878 1890 1891 1903 1904 1908 1913 1919 1922 1924 1925\n",
            " 1927 1929 1930 1931 1932 1935 1936 1939 1940 1941 1943 1944 1951 1954\n",
            " 1958 1959 1960 1961 1962 1963 1971 1973 1975 1980 1985 1987 1988 1989\n",
            " 1990 1991 1992 1993 1994 1995 1996 1997 1998 1999 2000 2001 2002 2003\n",
            " 2004 2006 2007 2008 2009 2010 2011 2012 2013 2014 2015 2016 2017 2018\n",
            " 2020]\n"
          ]
        }
      ]
    },
    {
      "cell_type": "code",
      "source": [
        "#Exploramos el centro cultural con más años de actividad de nuestro set:\n",
        "centros_culturales.loc[centros_culturales['año_inicio']==1871]"
      ],
      "metadata": {
        "colab": {
          "base_uri": "https://localhost:8080/",
          "height": 142
        },
        "id": "N3kz4bm716UV",
        "outputId": "f922c488-469e-466f-9a5a-c6318e60ddde"
      },
      "id": "N3kz4bm716UV",
      "execution_count": null,
      "outputs": [
        {
          "output_type": "execute_result",
          "data": {
            "text/plain": [
              "                                        Nombre Provincia  Localidad  \\\n",
              "983  Centro Cultural Municipal Dante Alighieri  Santa Fe  Esperanza   \n",
              "\n",
              "                        Mail     Latitud      Longitud  año_inicio  Capacidad  \n",
              "983  cultura@esperanza.gov.ar -31.444841  -60.93021400        1871        300  "
            ],
            "text/html": [
              "\n",
              "  <div id=\"df-e456eee7-be6b-441c-a980-11ab67d71fb7\">\n",
              "    <div class=\"colab-df-container\">\n",
              "      <div>\n",
              "<style scoped>\n",
              "    .dataframe tbody tr th:only-of-type {\n",
              "        vertical-align: middle;\n",
              "    }\n",
              "\n",
              "    .dataframe tbody tr th {\n",
              "        vertical-align: top;\n",
              "    }\n",
              "\n",
              "    .dataframe thead th {\n",
              "        text-align: right;\n",
              "    }\n",
              "</style>\n",
              "<table border=\"1\" class=\"dataframe\">\n",
              "  <thead>\n",
              "    <tr style=\"text-align: right;\">\n",
              "      <th></th>\n",
              "      <th>Nombre</th>\n",
              "      <th>Provincia</th>\n",
              "      <th>Localidad</th>\n",
              "      <th>Mail</th>\n",
              "      <th>Latitud</th>\n",
              "      <th>Longitud</th>\n",
              "      <th>año_inicio</th>\n",
              "      <th>Capacidad</th>\n",
              "    </tr>\n",
              "  </thead>\n",
              "  <tbody>\n",
              "    <tr>\n",
              "      <th>983</th>\n",
              "      <td>Centro Cultural Municipal Dante Alighieri</td>\n",
              "      <td>Santa Fe</td>\n",
              "      <td>Esperanza</td>\n",
              "      <td>cultura@esperanza.gov.ar</td>\n",
              "      <td>-31.444841</td>\n",
              "      <td>-60.93021400</td>\n",
              "      <td>1871</td>\n",
              "      <td>300</td>\n",
              "    </tr>\n",
              "  </tbody>\n",
              "</table>\n",
              "</div>\n",
              "      <button class=\"colab-df-convert\" onclick=\"convertToInteractive('df-e456eee7-be6b-441c-a980-11ab67d71fb7')\"\n",
              "              title=\"Convert this dataframe to an interactive table.\"\n",
              "              style=\"display:none;\">\n",
              "        \n",
              "  <svg xmlns=\"http://www.w3.org/2000/svg\" height=\"24px\"viewBox=\"0 0 24 24\"\n",
              "       width=\"24px\">\n",
              "    <path d=\"M0 0h24v24H0V0z\" fill=\"none\"/>\n",
              "    <path d=\"M18.56 5.44l.94 2.06.94-2.06 2.06-.94-2.06-.94-.94-2.06-.94 2.06-2.06.94zm-11 1L8.5 8.5l.94-2.06 2.06-.94-2.06-.94L8.5 2.5l-.94 2.06-2.06.94zm10 10l.94 2.06.94-2.06 2.06-.94-2.06-.94-.94-2.06-.94 2.06-2.06.94z\"/><path d=\"M17.41 7.96l-1.37-1.37c-.4-.4-.92-.59-1.43-.59-.52 0-1.04.2-1.43.59L10.3 9.45l-7.72 7.72c-.78.78-.78 2.05 0 2.83L4 21.41c.39.39.9.59 1.41.59.51 0 1.02-.2 1.41-.59l7.78-7.78 2.81-2.81c.8-.78.8-2.07 0-2.86zM5.41 20L4 18.59l7.72-7.72 1.47 1.35L5.41 20z\"/>\n",
              "  </svg>\n",
              "      </button>\n",
              "      \n",
              "  <style>\n",
              "    .colab-df-container {\n",
              "      display:flex;\n",
              "      flex-wrap:wrap;\n",
              "      gap: 12px;\n",
              "    }\n",
              "\n",
              "    .colab-df-convert {\n",
              "      background-color: #E8F0FE;\n",
              "      border: none;\n",
              "      border-radius: 50%;\n",
              "      cursor: pointer;\n",
              "      display: none;\n",
              "      fill: #1967D2;\n",
              "      height: 32px;\n",
              "      padding: 0 0 0 0;\n",
              "      width: 32px;\n",
              "    }\n",
              "\n",
              "    .colab-df-convert:hover {\n",
              "      background-color: #E2EBFA;\n",
              "      box-shadow: 0px 1px 2px rgba(60, 64, 67, 0.3), 0px 1px 3px 1px rgba(60, 64, 67, 0.15);\n",
              "      fill: #174EA6;\n",
              "    }\n",
              "\n",
              "    [theme=dark] .colab-df-convert {\n",
              "      background-color: #3B4455;\n",
              "      fill: #D2E3FC;\n",
              "    }\n",
              "\n",
              "    [theme=dark] .colab-df-convert:hover {\n",
              "      background-color: #434B5C;\n",
              "      box-shadow: 0px 1px 3px 1px rgba(0, 0, 0, 0.15);\n",
              "      filter: drop-shadow(0px 1px 2px rgba(0, 0, 0, 0.3));\n",
              "      fill: #FFFFFF;\n",
              "    }\n",
              "  </style>\n",
              "\n",
              "      <script>\n",
              "        const buttonEl =\n",
              "          document.querySelector('#df-e456eee7-be6b-441c-a980-11ab67d71fb7 button.colab-df-convert');\n",
              "        buttonEl.style.display =\n",
              "          google.colab.kernel.accessAllowed ? 'block' : 'none';\n",
              "\n",
              "        async function convertToInteractive(key) {\n",
              "          const element = document.querySelector('#df-e456eee7-be6b-441c-a980-11ab67d71fb7');\n",
              "          const dataTable =\n",
              "            await google.colab.kernel.invokeFunction('convertToInteractive',\n",
              "                                                     [key], {});\n",
              "          if (!dataTable) return;\n",
              "\n",
              "          const docLinkHtml = 'Like what you see? Visit the ' +\n",
              "            '<a target=\"_blank\" href=https://colab.research.google.com/notebooks/data_table.ipynb>data table notebook</a>'\n",
              "            + ' to learn more about interactive tables.';\n",
              "          element.innerHTML = '';\n",
              "          dataTable['output_type'] = 'display_data';\n",
              "          await google.colab.output.renderOutput(dataTable, element);\n",
              "          const docLink = document.createElement('div');\n",
              "          docLink.innerHTML = docLinkHtml;\n",
              "          element.appendChild(docLink);\n",
              "        }\n",
              "      </script>\n",
              "    </div>\n",
              "  </div>\n",
              "  "
            ]
          },
          "metadata": {},
          "execution_count": 63
        }
      ]
    },
    {
      "cell_type": "markdown",
      "source": [
        "## El centro cultural más antiguo registrado en nuestro set es el Centro Cultural Municipal Dante Alighiere y su inicio data de 1871. Se encuentra en la localidad de Esperanza, en la ciudad de Santa Fe. "
      ],
      "metadata": {
        "id": "N-96zUwO5qOb"
      },
      "id": "N-96zUwO5qOb"
    },
    {
      "cell_type": "code",
      "source": [
        "#1. Averiguemos cuantos centros culturales se han registrado en el periodo de 2010 a 2020.\n",
        "centros_culturales.loc[(centros_culturales['año_inicio']>2010)]"
      ],
      "metadata": {
        "colab": {
          "base_uri": "https://localhost:8080/",
          "height": 939
        },
        "id": "cfW1cjfG5pBv",
        "outputId": "7523354c-3a95-4c4b-f066-6247c9588bc4"
      },
      "id": "cfW1cjfG5pBv",
      "execution_count": null,
      "outputs": [
        {
          "output_type": "execute_result",
          "data": {
            "text/plain": [
              "                              Nombre                        Provincia  \\\n",
              "12                           Mi Casa  Ciudad Autónoma de Buenos Aires   \n",
              "31           Espacio Cultural Dinamo  Ciudad Autónoma de Buenos Aires   \n",
              "39          Kowalski Club De Cultura  Ciudad Autónoma de Buenos Aires   \n",
              "73          Espacio Cultural Benigno  Ciudad Autónoma de Buenos Aires   \n",
              "88        La Quince Espacio Cultural  Ciudad Autónoma de Buenos Aires   \n",
              "...                              ...                              ...   \n",
              "986         Ciclo Cultural Arte Viva                         Santa Fe   \n",
              "988   FUNDACION UNIDOS POR LA MUSICA                         Santa Fe   \n",
              "1022              Germinal Terrakius                         Santa Fe   \n",
              "1024          Centro Cultural Videla                         Santa Fe   \n",
              "1032    Centro Cultural Homero Manzi              Santiago del Estero   \n",
              "\n",
              "                            Localidad                                   Mail   \\\n",
              "12    Ciudad Autonoma de Buenos Aires                     787Aguero@Gmail.Com   \n",
              "31    Ciudad Autonoma de Buenos Aires                davidprotte@hotmail.com    \n",
              "39    Ciudad Autonoma de Buenos Aires               Elbardekowalski@Gmail.Com   \n",
              "73    Ciudad Autonoma de Buenos Aires                   Info@Ecbenigno.Com.Ar   \n",
              "88    Ciudad Autonoma de Buenos Aires              laquincecultural@gmail.com   \n",
              "...                               ...                                     ...   \n",
              "986                San Jerónimo Norte             fundacionarteviva@gmail.com   \n",
              "988                           Rosario  fundacionunidosporlamusica91@gmail.com   \n",
              "1022                     Villa Amelia                 auguizquierdo@gmail.com   \n",
              "1024                           Videla               videlaccultural@gmail.com   \n",
              "1032                         La Banda     homeromanzicentrocultural@gmail.com   \n",
              "\n",
              "        Latitud      Longitud  año_inicio  Capacidad  \n",
              "12   -34.600746  -58.41086341        2013        150  \n",
              "31   -34.632817  -58.44774710        2014         80  \n",
              "39   -34.600343  -58.41500326        2014         60  \n",
              "73   -34.630970  -58.40716600        2013         50  \n",
              "88   -34.597946  -58.44100774        2014        150  \n",
              "...         ...           ...         ...        ...  \n",
              "986  -31.552398  -61.07638300        2014        150  \n",
              "988  -32.968090  -60.63988000        2011          0  \n",
              "1022 -33.177060  -60.66495000        2016         45  \n",
              "1024 -30.946503  -60.65644124        2016         80  \n",
              "1032 -27.814817  -64.24034670        2013        150  \n",
              "\n",
              "[87 rows x 8 columns]"
            ],
            "text/html": [
              "\n",
              "  <div id=\"df-4d29b69d-ee53-4815-b699-36e837372e53\">\n",
              "    <div class=\"colab-df-container\">\n",
              "      <div>\n",
              "<style scoped>\n",
              "    .dataframe tbody tr th:only-of-type {\n",
              "        vertical-align: middle;\n",
              "    }\n",
              "\n",
              "    .dataframe tbody tr th {\n",
              "        vertical-align: top;\n",
              "    }\n",
              "\n",
              "    .dataframe thead th {\n",
              "        text-align: right;\n",
              "    }\n",
              "</style>\n",
              "<table border=\"1\" class=\"dataframe\">\n",
              "  <thead>\n",
              "    <tr style=\"text-align: right;\">\n",
              "      <th></th>\n",
              "      <th>Nombre</th>\n",
              "      <th>Provincia</th>\n",
              "      <th>Localidad</th>\n",
              "      <th>Mail</th>\n",
              "      <th>Latitud</th>\n",
              "      <th>Longitud</th>\n",
              "      <th>año_inicio</th>\n",
              "      <th>Capacidad</th>\n",
              "    </tr>\n",
              "  </thead>\n",
              "  <tbody>\n",
              "    <tr>\n",
              "      <th>12</th>\n",
              "      <td>Mi Casa</td>\n",
              "      <td>Ciudad Autónoma de Buenos Aires</td>\n",
              "      <td>Ciudad Autonoma de Buenos Aires</td>\n",
              "      <td>787Aguero@Gmail.Com</td>\n",
              "      <td>-34.600746</td>\n",
              "      <td>-58.41086341</td>\n",
              "      <td>2013</td>\n",
              "      <td>150</td>\n",
              "    </tr>\n",
              "    <tr>\n",
              "      <th>31</th>\n",
              "      <td>Espacio Cultural Dinamo</td>\n",
              "      <td>Ciudad Autónoma de Buenos Aires</td>\n",
              "      <td>Ciudad Autonoma de Buenos Aires</td>\n",
              "      <td>davidprotte@hotmail.com</td>\n",
              "      <td>-34.632817</td>\n",
              "      <td>-58.44774710</td>\n",
              "      <td>2014</td>\n",
              "      <td>80</td>\n",
              "    </tr>\n",
              "    <tr>\n",
              "      <th>39</th>\n",
              "      <td>Kowalski Club De Cultura</td>\n",
              "      <td>Ciudad Autónoma de Buenos Aires</td>\n",
              "      <td>Ciudad Autonoma de Buenos Aires</td>\n",
              "      <td>Elbardekowalski@Gmail.Com</td>\n",
              "      <td>-34.600343</td>\n",
              "      <td>-58.41500326</td>\n",
              "      <td>2014</td>\n",
              "      <td>60</td>\n",
              "    </tr>\n",
              "    <tr>\n",
              "      <th>73</th>\n",
              "      <td>Espacio Cultural Benigno</td>\n",
              "      <td>Ciudad Autónoma de Buenos Aires</td>\n",
              "      <td>Ciudad Autonoma de Buenos Aires</td>\n",
              "      <td>Info@Ecbenigno.Com.Ar</td>\n",
              "      <td>-34.630970</td>\n",
              "      <td>-58.40716600</td>\n",
              "      <td>2013</td>\n",
              "      <td>50</td>\n",
              "    </tr>\n",
              "    <tr>\n",
              "      <th>88</th>\n",
              "      <td>La Quince Espacio Cultural</td>\n",
              "      <td>Ciudad Autónoma de Buenos Aires</td>\n",
              "      <td>Ciudad Autonoma de Buenos Aires</td>\n",
              "      <td>laquincecultural@gmail.com</td>\n",
              "      <td>-34.597946</td>\n",
              "      <td>-58.44100774</td>\n",
              "      <td>2014</td>\n",
              "      <td>150</td>\n",
              "    </tr>\n",
              "    <tr>\n",
              "      <th>...</th>\n",
              "      <td>...</td>\n",
              "      <td>...</td>\n",
              "      <td>...</td>\n",
              "      <td>...</td>\n",
              "      <td>...</td>\n",
              "      <td>...</td>\n",
              "      <td>...</td>\n",
              "      <td>...</td>\n",
              "    </tr>\n",
              "    <tr>\n",
              "      <th>986</th>\n",
              "      <td>Ciclo Cultural Arte Viva</td>\n",
              "      <td>Santa Fe</td>\n",
              "      <td>San Jerónimo Norte</td>\n",
              "      <td>fundacionarteviva@gmail.com</td>\n",
              "      <td>-31.552398</td>\n",
              "      <td>-61.07638300</td>\n",
              "      <td>2014</td>\n",
              "      <td>150</td>\n",
              "    </tr>\n",
              "    <tr>\n",
              "      <th>988</th>\n",
              "      <td>FUNDACION UNIDOS POR LA MUSICA</td>\n",
              "      <td>Santa Fe</td>\n",
              "      <td>Rosario</td>\n",
              "      <td>fundacionunidosporlamusica91@gmail.com</td>\n",
              "      <td>-32.968090</td>\n",
              "      <td>-60.63988000</td>\n",
              "      <td>2011</td>\n",
              "      <td>0</td>\n",
              "    </tr>\n",
              "    <tr>\n",
              "      <th>1022</th>\n",
              "      <td>Germinal Terrakius</td>\n",
              "      <td>Santa Fe</td>\n",
              "      <td>Villa Amelia</td>\n",
              "      <td>auguizquierdo@gmail.com</td>\n",
              "      <td>-33.177060</td>\n",
              "      <td>-60.66495000</td>\n",
              "      <td>2016</td>\n",
              "      <td>45</td>\n",
              "    </tr>\n",
              "    <tr>\n",
              "      <th>1024</th>\n",
              "      <td>Centro Cultural Videla</td>\n",
              "      <td>Santa Fe</td>\n",
              "      <td>Videla</td>\n",
              "      <td>videlaccultural@gmail.com</td>\n",
              "      <td>-30.946503</td>\n",
              "      <td>-60.65644124</td>\n",
              "      <td>2016</td>\n",
              "      <td>80</td>\n",
              "    </tr>\n",
              "    <tr>\n",
              "      <th>1032</th>\n",
              "      <td>Centro Cultural Homero Manzi</td>\n",
              "      <td>Santiago del Estero</td>\n",
              "      <td>La Banda</td>\n",
              "      <td>homeromanzicentrocultural@gmail.com</td>\n",
              "      <td>-27.814817</td>\n",
              "      <td>-64.24034670</td>\n",
              "      <td>2013</td>\n",
              "      <td>150</td>\n",
              "    </tr>\n",
              "  </tbody>\n",
              "</table>\n",
              "<p>87 rows × 8 columns</p>\n",
              "</div>\n",
              "      <button class=\"colab-df-convert\" onclick=\"convertToInteractive('df-4d29b69d-ee53-4815-b699-36e837372e53')\"\n",
              "              title=\"Convert this dataframe to an interactive table.\"\n",
              "              style=\"display:none;\">\n",
              "        \n",
              "  <svg xmlns=\"http://www.w3.org/2000/svg\" height=\"24px\"viewBox=\"0 0 24 24\"\n",
              "       width=\"24px\">\n",
              "    <path d=\"M0 0h24v24H0V0z\" fill=\"none\"/>\n",
              "    <path d=\"M18.56 5.44l.94 2.06.94-2.06 2.06-.94-2.06-.94-.94-2.06-.94 2.06-2.06.94zm-11 1L8.5 8.5l.94-2.06 2.06-.94-2.06-.94L8.5 2.5l-.94 2.06-2.06.94zm10 10l.94 2.06.94-2.06 2.06-.94-2.06-.94-.94-2.06-.94 2.06-2.06.94z\"/><path d=\"M17.41 7.96l-1.37-1.37c-.4-.4-.92-.59-1.43-.59-.52 0-1.04.2-1.43.59L10.3 9.45l-7.72 7.72c-.78.78-.78 2.05 0 2.83L4 21.41c.39.39.9.59 1.41.59.51 0 1.02-.2 1.41-.59l7.78-7.78 2.81-2.81c.8-.78.8-2.07 0-2.86zM5.41 20L4 18.59l7.72-7.72 1.47 1.35L5.41 20z\"/>\n",
              "  </svg>\n",
              "      </button>\n",
              "      \n",
              "  <style>\n",
              "    .colab-df-container {\n",
              "      display:flex;\n",
              "      flex-wrap:wrap;\n",
              "      gap: 12px;\n",
              "    }\n",
              "\n",
              "    .colab-df-convert {\n",
              "      background-color: #E8F0FE;\n",
              "      border: none;\n",
              "      border-radius: 50%;\n",
              "      cursor: pointer;\n",
              "      display: none;\n",
              "      fill: #1967D2;\n",
              "      height: 32px;\n",
              "      padding: 0 0 0 0;\n",
              "      width: 32px;\n",
              "    }\n",
              "\n",
              "    .colab-df-convert:hover {\n",
              "      background-color: #E2EBFA;\n",
              "      box-shadow: 0px 1px 2px rgba(60, 64, 67, 0.3), 0px 1px 3px 1px rgba(60, 64, 67, 0.15);\n",
              "      fill: #174EA6;\n",
              "    }\n",
              "\n",
              "    [theme=dark] .colab-df-convert {\n",
              "      background-color: #3B4455;\n",
              "      fill: #D2E3FC;\n",
              "    }\n",
              "\n",
              "    [theme=dark] .colab-df-convert:hover {\n",
              "      background-color: #434B5C;\n",
              "      box-shadow: 0px 1px 3px 1px rgba(0, 0, 0, 0.15);\n",
              "      filter: drop-shadow(0px 1px 2px rgba(0, 0, 0, 0.3));\n",
              "      fill: #FFFFFF;\n",
              "    }\n",
              "  </style>\n",
              "\n",
              "      <script>\n",
              "        const buttonEl =\n",
              "          document.querySelector('#df-4d29b69d-ee53-4815-b699-36e837372e53 button.colab-df-convert');\n",
              "        buttonEl.style.display =\n",
              "          google.colab.kernel.accessAllowed ? 'block' : 'none';\n",
              "\n",
              "        async function convertToInteractive(key) {\n",
              "          const element = document.querySelector('#df-4d29b69d-ee53-4815-b699-36e837372e53');\n",
              "          const dataTable =\n",
              "            await google.colab.kernel.invokeFunction('convertToInteractive',\n",
              "                                                     [key], {});\n",
              "          if (!dataTable) return;\n",
              "\n",
              "          const docLinkHtml = 'Like what you see? Visit the ' +\n",
              "            '<a target=\"_blank\" href=https://colab.research.google.com/notebooks/data_table.ipynb>data table notebook</a>'\n",
              "            + ' to learn more about interactive tables.';\n",
              "          element.innerHTML = '';\n",
              "          dataTable['output_type'] = 'display_data';\n",
              "          await google.colab.output.renderOutput(dataTable, element);\n",
              "          const docLink = document.createElement('div');\n",
              "          docLink.innerHTML = docLinkHtml;\n",
              "          element.appendChild(docLink);\n",
              "        }\n",
              "      </script>\n",
              "    </div>\n",
              "  </div>\n",
              "  "
            ]
          },
          "metadata": {},
          "execution_count": 69
        }
      ]
    },
    {
      "cell_type": "markdown",
      "source": [
        "## Desde el periodo de 2010 a 2020 se registraron solo 87 nuevos centros culturales en toda la República Argentina."
      ],
      "metadata": {
        "id": "qxhb8P0k7t1q"
      },
      "id": "qxhb8P0k7t1q"
    },
    {
      "cell_type": "code",
      "source": [
        "#1.1. Calculamos cuantos centros se abrieron por año.\n",
        "p= centros_culturales.loc[(centros_culturales['año_inicio']>2010)]\n",
        "p['año_inicio'].value_counts().sort_index()"
      ],
      "metadata": {
        "colab": {
          "base_uri": "https://localhost:8080/"
        },
        "id": "CUlycuwtB7tW",
        "outputId": "ffef56b3-af40-403e-8cf3-b46043f73770"
      },
      "id": "CUlycuwtB7tW",
      "execution_count": null,
      "outputs": [
        {
          "output_type": "execute_result",
          "data": {
            "text/plain": [
              "2011    13\n",
              "2012    16\n",
              "2013    14\n",
              "2014    16\n",
              "2015    13\n",
              "2016     6\n",
              "2017     4\n",
              "2018     2\n",
              "2020     3\n",
              "Name: año_inicio, dtype: int64"
            ]
          },
          "metadata": {},
          "execution_count": 93
        }
      ]
    },
    {
      "cell_type": "code",
      "source": [
        "#1.2 Graficamos los valores.\n",
        "p['año_inicio'].value_counts().sort_index().plot(kind='line', figsize=(10,6))\n",
        "plt.xlabel('Año')\n",
        "plt.ylabel('Cantidad de centros abiertos')"
      ],
      "metadata": {
        "colab": {
          "base_uri": "https://localhost:8080/",
          "height": 406
        },
        "id": "hzo8BdDg74V7",
        "outputId": "2d03085a-4fa8-4bde-8fcd-780eff3d1003"
      },
      "id": "hzo8BdDg74V7",
      "execution_count": null,
      "outputs": [
        {
          "output_type": "execute_result",
          "data": {
            "text/plain": [
              "Text(0, 0.5, 'Cantidad de centros abiertos')"
            ]
          },
          "metadata": {},
          "execution_count": 90
        },
        {
          "output_type": "display_data",
          "data": {
            "text/plain": [
              "<Figure size 720x432 with 1 Axes>"
            ],
            "image/png": "[encoded data removed]"
          },
          "metadata": {
            "needs_background": "light"
          }
        }
      ]
    },
    {
      "cell_type": "markdown",
      "source": [
        "## Desde el año 2014, la cantidad de apertura de centros culturales registrados en nuestro set a ido disminuyendo drásticamente. Solo a partir de año 2018 se ha generado un leve aumento que probablemente se vio afectado por el Covid. Dejando las cifras muchos más bajas que al principio de la década."
      ],
      "metadata": {
        "id": "BMF97oL7A12r"
      },
      "id": "BMF97oL7A12r"
    },
    {
      "cell_type": "markdown",
      "source": [
        "## Pasamos a nuestro siguiente tema: La capacidad que poseen los centros culturales argentinos."
      ],
      "metadata": {
        "id": "dRITpYnjBrG4"
      },
      "id": "dRITpYnjBrG4"
    },
    {
      "cell_type": "code",
      "source": [
        "#1. Buscamos el centro con más capacidad de argentina.\n",
        "centros_culturales.loc[centros_culturales.Capacidad.idxmax()]"
      ],
      "metadata": {
        "colab": {
          "base_uri": "https://localhost:8080/"
        },
        "id": "a6MeRXShA0OX",
        "outputId": "50d745a7-0f33-421c-b2bb-975b3b59a32b"
      },
      "id": "a6MeRXShA0OX",
      "execution_count": null,
      "outputs": [
        {
          "output_type": "execute_result",
          "data": {
            "text/plain": [
              "Nombre                  Ciudad Cultural Konex\n",
              "Provincia     Ciudad Autónoma de Buenos Aires\n",
              "Localidad     Ciudad Autonoma de Buenos Aires\n",
              "Mail             info@ciudadculturalkonex.org\n",
              "Latitud                            -34.606676\n",
              "Longitud                         -58.41040600\n",
              "año_inicio                                  0\n",
              "Capacidad                                2380\n",
              "Name: 260, dtype: object"
            ]
          },
          "metadata": {},
          "execution_count": 101
        }
      ]
    },
    {
      "cell_type": "code",
      "source": [
        "#1.1 Bucamos las capacidades máximas por provincia.\n",
        "centros_culturales.groupby('Provincia').max()['Capacidad'].sort_values()\n"
      ],
      "metadata": {
        "colab": {
          "base_uri": "https://localhost:8080/"
        },
        "id": "48Fo8IGhCg24",
        "outputId": "55864118-f706-4a80-9804-3a4a39cfc083"
      },
      "id": "48Fo8IGhCg24",
      "execution_count": null,
      "outputs": [
        {
          "output_type": "stream",
          "name": "stderr",
          "text": [
            "<ipython-input-103-3e2e432a0944>:2: FutureWarning: Dropping invalid columns in DataFrameGroupBy.max is deprecated. In a future version, a TypeError will be raised. Before calling .max, select only columns which should be valid for the function.\n",
            "  centros_culturales.groupby('Provincia').max()['Capacidad'].sort_values()\n"
          ]
        },
        {
          "output_type": "execute_result",
          "data": {
            "text/plain": [
              "Provincia\n",
              "La Rioja                                                    0\n",
              "Santa Cruz                                                  0\n",
              "Formosa                                                     0\n",
              "La Pampa                                                    0\n",
              "Catamarca                                                  50\n",
              "Chubut                                                    180\n",
              "Santiago del Estero                                       200\n",
              "Corrientes                                                200\n",
              "Salta                                                     288\n",
              "Río Negro                                                 300\n",
              "Chaco                                                     342\n",
              "Mendoza                                                   350\n",
              "San Luis                                                  393\n",
              "Tierra del Fuego, Antártida e Islas del Atlántico Sur     431\n",
              "Entre Ríos                                                450\n",
              "Misiones                                                  600\n",
              "Tucumán                                                   650\n",
              "Córdoba                                                   700\n",
              "Neuquén                                                   700\n",
              "Buenos Aires                                              750\n",
              "Santa Fe                                                  800\n",
              "San Juan                                                  976\n",
              "Jujuy                                                     999\n",
              "Ciudad Autónoma de Buenos Aires                          2380\n",
              "Name: Capacidad, dtype: int64"
            ]
          },
          "metadata": {},
          "execution_count": 103
        }
      ]
    },
    {
      "cell_type": "markdown",
      "source": [
        "## La ciudad con la mayor capacidad dentro de un centro cultural es la Ciudad Autónoma de Buenos Aires, seguida por Jujuy y San Juan."
      ],
      "metadata": {
        "id": "0tHPyY79D4yP"
      },
      "id": "0tHPyY79D4yP"
    },
    {
      "cell_type": "code",
      "source": [
        "#1.2. Buscamos los centros culturales de la ciudad de Jujuy y San Juan.\n",
        "  #Jujuy\n",
        "centros_culturales.loc[centros_culturales['Capacidad'] == 999]"
      ],
      "metadata": {
        "colab": {
          "base_uri": "https://localhost:8080/",
          "height": 159
        },
        "id": "0KnsniNjEFBe",
        "outputId": "62608a99-3665-4660-b426-19a230fd1363"
      },
      "id": "0KnsniNjEFBe",
      "execution_count": null,
      "outputs": [
        {
          "output_type": "execute_result",
          "data": {
            "text/plain": [
              "                                                Nombre Provincia  \\\n",
              "791  Centro Cultural Martin Fierro Del Complejo Edu...     Jujuy   \n",
              "\n",
              "                 Localidad                      Mail     Latitud  \\\n",
              "791  San Salvador de Jujuy  produccionesflg@gmail.com -24.168896   \n",
              "\n",
              "         Longitud  año_inicio  Capacidad  \n",
              "791  -65.31932600        2001        999  "
            ],
            "text/html": [
              "\n",
              "  <div id=\"df-30567a3c-948c-4ef3-aa6a-76afb2579ddd\">\n",
              "    <div class=\"colab-df-container\">\n",
              "      <div>\n",
              "<style scoped>\n",
              "    .dataframe tbody tr th:only-of-type {\n",
              "        vertical-align: middle;\n",
              "    }\n",
              "\n",
              "    .dataframe tbody tr th {\n",
              "        vertical-align: top;\n",
              "    }\n",
              "\n",
              "    .dataframe thead th {\n",
              "        text-align: right;\n",
              "    }\n",
              "</style>\n",
              "<table border=\"1\" class=\"dataframe\">\n",
              "  <thead>\n",
              "    <tr style=\"text-align: right;\">\n",
              "      <th></th>\n",
              "      <th>Nombre</th>\n",
              "      <th>Provincia</th>\n",
              "      <th>Localidad</th>\n",
              "      <th>Mail</th>\n",
              "      <th>Latitud</th>\n",
              "      <th>Longitud</th>\n",
              "      <th>año_inicio</th>\n",
              "      <th>Capacidad</th>\n",
              "    </tr>\n",
              "  </thead>\n",
              "  <tbody>\n",
              "    <tr>\n",
              "      <th>791</th>\n",
              "      <td>Centro Cultural Martin Fierro Del Complejo Edu...</td>\n",
              "      <td>Jujuy</td>\n",
              "      <td>San Salvador de Jujuy</td>\n",
              "      <td>produccionesflg@gmail.com</td>\n",
              "      <td>-24.168896</td>\n",
              "      <td>-65.31932600</td>\n",
              "      <td>2001</td>\n",
              "      <td>999</td>\n",
              "    </tr>\n",
              "  </tbody>\n",
              "</table>\n",
              "</div>\n",
              "      <button class=\"colab-df-convert\" onclick=\"convertToInteractive('df-30567a3c-948c-4ef3-aa6a-76afb2579ddd')\"\n",
              "              title=\"Convert this dataframe to an interactive table.\"\n",
              "              style=\"display:none;\">\n",
              "        \n",
              "  <svg xmlns=\"http://www.w3.org/2000/svg\" height=\"24px\"viewBox=\"0 0 24 24\"\n",
              "       width=\"24px\">\n",
              "    <path d=\"M0 0h24v24H0V0z\" fill=\"none\"/>\n",
              "    <path d=\"M18.56 5.44l.94 2.06.94-2.06 2.06-.94-2.06-.94-.94-2.06-.94 2.06-2.06.94zm-11 1L8.5 8.5l.94-2.06 2.06-.94-2.06-.94L8.5 2.5l-.94 2.06-2.06.94zm10 10l.94 2.06.94-2.06 2.06-.94-2.06-.94-.94-2.06-.94 2.06-2.06.94z\"/><path d=\"M17.41 7.96l-1.37-1.37c-.4-.4-.92-.59-1.43-.59-.52 0-1.04.2-1.43.59L10.3 9.45l-7.72 7.72c-.78.78-.78 2.05 0 2.83L4 21.41c.39.39.9.59 1.41.59.51 0 1.02-.2 1.41-.59l7.78-7.78 2.81-2.81c.8-.78.8-2.07 0-2.86zM5.41 20L4 18.59l7.72-7.72 1.47 1.35L5.41 20z\"/>\n",
              "  </svg>\n",
              "      </button>\n",
              "      \n",
              "  <style>\n",
              "    .colab-df-container {\n",
              "      display:flex;\n",
              "      flex-wrap:wrap;\n",
              "      gap: 12px;\n",
              "    }\n",
              "\n",
              "    .colab-df-convert {\n",
              "      background-color: #E8F0FE;\n",
              "      border: none;\n",
              "      border-radius: 50%;\n",
              "      cursor: pointer;\n",
              "      display: none;\n",
              "      fill: #1967D2;\n",
              "      height: 32px;\n",
              "      padding: 0 0 0 0;\n",
              "      width: 32px;\n",
              "    }\n",
              "\n",
              "    .colab-df-convert:hover {\n",
              "      background-color: #E2EBFA;\n",
              "      box-shadow: 0px 1px 2px rgba(60, 64, 67, 0.3), 0px 1px 3px 1px rgba(60, 64, 67, 0.15);\n",
              "      fill: #174EA6;\n",
              "    }\n",
              "\n",
              "    [theme=dark] .colab-df-convert {\n",
              "      background-color: #3B4455;\n",
              "      fill: #D2E3FC;\n",
              "    }\n",
              "\n",
              "    [theme=dark] .colab-df-convert:hover {\n",
              "      background-color: #434B5C;\n",
              "      box-shadow: 0px 1px 3px 1px rgba(0, 0, 0, 0.15);\n",
              "      filter: drop-shadow(0px 1px 2px rgba(0, 0, 0, 0.3));\n",
              "      fill: #FFFFFF;\n",
              "    }\n",
              "  </style>\n",
              "\n",
              "      <script>\n",
              "        const buttonEl =\n",
              "          document.querySelector('#df-30567a3c-948c-4ef3-aa6a-76afb2579ddd button.colab-df-convert');\n",
              "        buttonEl.style.display =\n",
              "          google.colab.kernel.accessAllowed ? 'block' : 'none';\n",
              "\n",
              "        async function convertToInteractive(key) {\n",
              "          const element = document.querySelector('#df-30567a3c-948c-4ef3-aa6a-76afb2579ddd');\n",
              "          const dataTable =\n",
              "            await google.colab.kernel.invokeFunction('convertToInteractive',\n",
              "                                                     [key], {});\n",
              "          if (!dataTable) return;\n",
              "\n",
              "          const docLinkHtml = 'Like what you see? Visit the ' +\n",
              "            '<a target=\"_blank\" href=https://colab.research.google.com/notebooks/data_table.ipynb>data table notebook</a>'\n",
              "            + ' to learn more about interactive tables.';\n",
              "          element.innerHTML = '';\n",
              "          dataTable['output_type'] = 'display_data';\n",
              "          await google.colab.output.renderOutput(dataTable, element);\n",
              "          const docLink = document.createElement('div');\n",
              "          docLink.innerHTML = docLinkHtml;\n",
              "          element.appendChild(docLink);\n",
              "        }\n",
              "      </script>\n",
              "    </div>\n",
              "  </div>\n",
              "  "
            ]
          },
          "metadata": {},
          "execution_count": 104
        }
      ]
    },
    {
      "cell_type": "code",
      "source": [
        "  #San Juan\n",
        "centros_culturales.loc[centros_culturales['Capacidad'] == 976]\n"
      ],
      "metadata": {
        "colab": {
          "base_uri": "https://localhost:8080/",
          "height": 159
        },
        "id": "xRpiqVCWEXLA",
        "outputId": "0298dc39-7c60-4f86-f8bd-e51a14ceb14c"
      },
      "id": "xRpiqVCWEXLA",
      "execution_count": null,
      "outputs": [
        {
          "output_type": "execute_result",
          "data": {
            "text/plain": [
              "                               Nombre Provincia Localidad  \\\n",
              "911  Complejo Auditorio Juan Victoria  San Juan  San Juan   \n",
              "\n",
              "                                    Mail    Latitud      Longitud  año_inicio  \\\n",
              "911  auditoriojuanvictoria@sanjuan.gov.ar -31.53095  -68.51022000           0   \n",
              "\n",
              "     Capacidad  \n",
              "911        976  "
            ],
            "text/html": [
              "\n",
              "  <div id=\"df-81049609-fefb-4f43-9fc3-6725569c92af\">\n",
              "    <div class=\"colab-df-container\">\n",
              "      <div>\n",
              "<style scoped>\n",
              "    .dataframe tbody tr th:only-of-type {\n",
              "        vertical-align: middle;\n",
              "    }\n",
              "\n",
              "    .dataframe tbody tr th {\n",
              "        vertical-align: top;\n",
              "    }\n",
              "\n",
              "    .dataframe thead th {\n",
              "        text-align: right;\n",
              "    }\n",
              "</style>\n",
              "<table border=\"1\" class=\"dataframe\">\n",
              "  <thead>\n",
              "    <tr style=\"text-align: right;\">\n",
              "      <th></th>\n",
              "      <th>Nombre</th>\n",
              "      <th>Provincia</th>\n",
              "      <th>Localidad</th>\n",
              "      <th>Mail</th>\n",
              "      <th>Latitud</th>\n",
              "      <th>Longitud</th>\n",
              "      <th>año_inicio</th>\n",
              "      <th>Capacidad</th>\n",
              "    </tr>\n",
              "  </thead>\n",
              "  <tbody>\n",
              "    <tr>\n",
              "      <th>911</th>\n",
              "      <td>Complejo Auditorio Juan Victoria</td>\n",
              "      <td>San Juan</td>\n",
              "      <td>San Juan</td>\n",
              "      <td>auditoriojuanvictoria@sanjuan.gov.ar</td>\n",
              "      <td>-31.53095</td>\n",
              "      <td>-68.51022000</td>\n",
              "      <td>0</td>\n",
              "      <td>976</td>\n",
              "    </tr>\n",
              "  </tbody>\n",
              "</table>\n",
              "</div>\n",
              "      <button class=\"colab-df-convert\" onclick=\"convertToInteractive('df-81049609-fefb-4f43-9fc3-6725569c92af')\"\n",
              "              title=\"Convert this dataframe to an interactive table.\"\n",
              "              style=\"display:none;\">\n",
              "        \n",
              "  <svg xmlns=\"http://www.w3.org/2000/svg\" height=\"24px\"viewBox=\"0 0 24 24\"\n",
              "       width=\"24px\">\n",
              "    <path d=\"M0 0h24v24H0V0z\" fill=\"none\"/>\n",
              "    <path d=\"M18.56 5.44l.94 2.06.94-2.06 2.06-.94-2.06-.94-.94-2.06-.94 2.06-2.06.94zm-11 1L8.5 8.5l.94-2.06 2.06-.94-2.06-.94L8.5 2.5l-.94 2.06-2.06.94zm10 10l.94 2.06.94-2.06 2.06-.94-2.06-.94-.94-2.06-.94 2.06-2.06.94z\"/><path d=\"M17.41 7.96l-1.37-1.37c-.4-.4-.92-.59-1.43-.59-.52 0-1.04.2-1.43.59L10.3 9.45l-7.72 7.72c-.78.78-.78 2.05 0 2.83L4 21.41c.39.39.9.59 1.41.59.51 0 1.02-.2 1.41-.59l7.78-7.78 2.81-2.81c.8-.78.8-2.07 0-2.86zM5.41 20L4 18.59l7.72-7.72 1.47 1.35L5.41 20z\"/>\n",
              "  </svg>\n",
              "      </button>\n",
              "      \n",
              "  <style>\n",
              "    .colab-df-container {\n",
              "      display:flex;\n",
              "      flex-wrap:wrap;\n",
              "      gap: 12px;\n",
              "    }\n",
              "\n",
              "    .colab-df-convert {\n",
              "      background-color: #E8F0FE;\n",
              "      border: none;\n",
              "      border-radius: 50%;\n",
              "      cursor: pointer;\n",
              "      display: none;\n",
              "      fill: #1967D2;\n",
              "      height: 32px;\n",
              "      padding: 0 0 0 0;\n",
              "      width: 32px;\n",
              "    }\n",
              "\n",
              "    .colab-df-convert:hover {\n",
              "      background-color: #E2EBFA;\n",
              "      box-shadow: 0px 1px 2px rgba(60, 64, 67, 0.3), 0px 1px 3px 1px rgba(60, 64, 67, 0.15);\n",
              "      fill: #174EA6;\n",
              "    }\n",
              "\n",
              "    [theme=dark] .colab-df-convert {\n",
              "      background-color: #3B4455;\n",
              "      fill: #D2E3FC;\n",
              "    }\n",
              "\n",
              "    [theme=dark] .colab-df-convert:hover {\n",
              "      background-color: #434B5C;\n",
              "      box-shadow: 0px 1px 3px 1px rgba(0, 0, 0, 0.15);\n",
              "      filter: drop-shadow(0px 1px 2px rgba(0, 0, 0, 0.3));\n",
              "      fill: #FFFFFF;\n",
              "    }\n",
              "  </style>\n",
              "\n",
              "      <script>\n",
              "        const buttonEl =\n",
              "          document.querySelector('#df-81049609-fefb-4f43-9fc3-6725569c92af button.colab-df-convert');\n",
              "        buttonEl.style.display =\n",
              "          google.colab.kernel.accessAllowed ? 'block' : 'none';\n",
              "\n",
              "        async function convertToInteractive(key) {\n",
              "          const element = document.querySelector('#df-81049609-fefb-4f43-9fc3-6725569c92af');\n",
              "          const dataTable =\n",
              "            await google.colab.kernel.invokeFunction('convertToInteractive',\n",
              "                                                     [key], {});\n",
              "          if (!dataTable) return;\n",
              "\n",
              "          const docLinkHtml = 'Like what you see? Visit the ' +\n",
              "            '<a target=\"_blank\" href=https://colab.research.google.com/notebooks/data_table.ipynb>data table notebook</a>'\n",
              "            + ' to learn more about interactive tables.';\n",
              "          element.innerHTML = '';\n",
              "          dataTable['output_type'] = 'display_data';\n",
              "          await google.colab.output.renderOutput(dataTable, element);\n",
              "          const docLink = document.createElement('div');\n",
              "          docLink.innerHTML = docLinkHtml;\n",
              "          element.appendChild(docLink);\n",
              "        }\n",
              "      </script>\n",
              "    </div>\n",
              "  </div>\n",
              "  "
            ]
          },
          "metadata": {},
          "execution_count": 105
        }
      ]
    },
    {
      "cell_type": "markdown",
      "source": [
        "## Ciudad Cultural Konex, ubicado en la ciudad de Buenos Aires, es el centro cultural con más capacidad de Argetina. Seguido por el Centro Cultural Martin Fierro, en la provincia de Jujuy. \n"
      ],
      "metadata": {
        "id": "IVRDWNGx_tlG"
      },
      "id": "IVRDWNGx_tlG"
    },
    {
      "cell_type": "markdown",
      "source": [
        "# 3.4. Galerías de arte."
      ],
      "metadata": {
        "id": "Ak7SYJAlA5La"
      },
      "id": "Ak7SYJAlA5La"
    },
    {
      "cell_type": "code",
      "source": [
        "#Set\n",
        "galerias_arte.head()"
      ],
      "metadata": {
        "colab": {
          "base_uri": "https://localhost:8080/",
          "height": 206
        },
        "id": "yVtdVpztBiXP",
        "outputId": "95b070b0-34e2-4448-d8a1-44829a3c87ca"
      },
      "id": "yVtdVpztBiXP",
      "execution_count": null,
      "outputs": [
        {
          "output_type": "execute_result",
          "data": {
            "text/plain": [
              "                                  nombre     provincia       localidad  \\\n",
              "0             Oliva Drys espacio de arte  Buenos Aires            Azul   \n",
              "1               Isidoro, Espacio De Arte  Buenos Aires  Coronel Suárez   \n",
              "2  Silencio (dispositivo sonoro poético)  Buenos Aires   Mar del Plata   \n",
              "3                      Casa Intermitente  Buenos Aires   Mar del Plata   \n",
              "4      Centro De Edición Taller Galería   Buenos Aires     Villa Lynch   \n",
              "\n",
              "     latitud      longitud tipo_gestion  \n",
              "0 -36.778400  -59.85624000      Privado  \n",
              "1 -37.459776  -61.93132350      Privado  \n",
              "2 -37.983990  -57.54800752      Privado  \n",
              "3 -38.064651   -57.5520899      Privado  \n",
              "4 -34.593398  -58.52592530      Privado  "
            ],
            "text/html": [
              "\n",
              "  <div id=\"df-b14fbadd-7b15-4533-9c82-be1f5ab49b8c\">\n",
              "    <div class=\"colab-df-container\">\n",
              "      <div>\n",
              "<style scoped>\n",
              "    .dataframe tbody tr th:only-of-type {\n",
              "        vertical-align: middle;\n",
              "    }\n",
              "\n",
              "    .dataframe tbody tr th {\n",
              "        vertical-align: top;\n",
              "    }\n",
              "\n",
              "    .dataframe thead th {\n",
              "        text-align: right;\n",
              "    }\n",
              "</style>\n",
              "<table border=\"1\" class=\"dataframe\">\n",
              "  <thead>\n",
              "    <tr style=\"text-align: right;\">\n",
              "      <th></th>\n",
              "      <th>nombre</th>\n",
              "      <th>provincia</th>\n",
              "      <th>localidad</th>\n",
              "      <th>latitud</th>\n",
              "      <th>longitud</th>\n",
              "      <th>tipo_gestion</th>\n",
              "    </tr>\n",
              "  </thead>\n",
              "  <tbody>\n",
              "    <tr>\n",
              "      <th>0</th>\n",
              "      <td>Oliva Drys espacio de arte</td>\n",
              "      <td>Buenos Aires</td>\n",
              "      <td>Azul</td>\n",
              "      <td>-36.778400</td>\n",
              "      <td>-59.85624000</td>\n",
              "      <td>Privado</td>\n",
              "    </tr>\n",
              "    <tr>\n",
              "      <th>1</th>\n",
              "      <td>Isidoro, Espacio De Arte</td>\n",
              "      <td>Buenos Aires</td>\n",
              "      <td>Coronel Suárez</td>\n",
              "      <td>-37.459776</td>\n",
              "      <td>-61.93132350</td>\n",
              "      <td>Privado</td>\n",
              "    </tr>\n",
              "    <tr>\n",
              "      <th>2</th>\n",
              "      <td>Silencio (dispositivo sonoro poético)</td>\n",
              "      <td>Buenos Aires</td>\n",
              "      <td>Mar del Plata</td>\n",
              "      <td>-37.983990</td>\n",
              "      <td>-57.54800752</td>\n",
              "      <td>Privado</td>\n",
              "    </tr>\n",
              "    <tr>\n",
              "      <th>3</th>\n",
              "      <td>Casa Intermitente</td>\n",
              "      <td>Buenos Aires</td>\n",
              "      <td>Mar del Plata</td>\n",
              "      <td>-38.064651</td>\n",
              "      <td>-57.5520899</td>\n",
              "      <td>Privado</td>\n",
              "    </tr>\n",
              "    <tr>\n",
              "      <th>4</th>\n",
              "      <td>Centro De Edición Taller Galería</td>\n",
              "      <td>Buenos Aires</td>\n",
              "      <td>Villa Lynch</td>\n",
              "      <td>-34.593398</td>\n",
              "      <td>-58.52592530</td>\n",
              "      <td>Privado</td>\n",
              "    </tr>\n",
              "  </tbody>\n",
              "</table>\n",
              "</div>\n",
              "      <button class=\"colab-df-convert\" onclick=\"convertToInteractive('df-b14fbadd-7b15-4533-9c82-be1f5ab49b8c')\"\n",
              "              title=\"Convert this dataframe to an interactive table.\"\n",
              "              style=\"display:none;\">\n",
              "        \n",
              "  <svg xmlns=\"http://www.w3.org/2000/svg\" height=\"24px\"viewBox=\"0 0 24 24\"\n",
              "       width=\"24px\">\n",
              "    <path d=\"M0 0h24v24H0V0z\" fill=\"none\"/>\n",
              "    <path d=\"M18.56 5.44l.94 2.06.94-2.06 2.06-.94-2.06-.94-.94-2.06-.94 2.06-2.06.94zm-11 1L8.5 8.5l.94-2.06 2.06-.94-2.06-.94L8.5 2.5l-.94 2.06-2.06.94zm10 10l.94 2.06.94-2.06 2.06-.94-2.06-.94-.94-2.06-.94 2.06-2.06.94z\"/><path d=\"M17.41 7.96l-1.37-1.37c-.4-.4-.92-.59-1.43-.59-.52 0-1.04.2-1.43.59L10.3 9.45l-7.72 7.72c-.78.78-.78 2.05 0 2.83L4 21.41c.39.39.9.59 1.41.59.51 0 1.02-.2 1.41-.59l7.78-7.78 2.81-2.81c.8-.78.8-2.07 0-2.86zM5.41 20L4 18.59l7.72-7.72 1.47 1.35L5.41 20z\"/>\n",
              "  </svg>\n",
              "      </button>\n",
              "      \n",
              "  <style>\n",
              "    .colab-df-container {\n",
              "      display:flex;\n",
              "      flex-wrap:wrap;\n",
              "      gap: 12px;\n",
              "    }\n",
              "\n",
              "    .colab-df-convert {\n",
              "      background-color: #E8F0FE;\n",
              "      border: none;\n",
              "      border-radius: 50%;\n",
              "      cursor: pointer;\n",
              "      display: none;\n",
              "      fill: #1967D2;\n",
              "      height: 32px;\n",
              "      padding: 0 0 0 0;\n",
              "      width: 32px;\n",
              "    }\n",
              "\n",
              "    .colab-df-convert:hover {\n",
              "      background-color: #E2EBFA;\n",
              "      box-shadow: 0px 1px 2px rgba(60, 64, 67, 0.3), 0px 1px 3px 1px rgba(60, 64, 67, 0.15);\n",
              "      fill: #174EA6;\n",
              "    }\n",
              "\n",
              "    [theme=dark] .colab-df-convert {\n",
              "      background-color: #3B4455;\n",
              "      fill: #D2E3FC;\n",
              "    }\n",
              "\n",
              "    [theme=dark] .colab-df-convert:hover {\n",
              "      background-color: #434B5C;\n",
              "      box-shadow: 0px 1px 3px 1px rgba(0, 0, 0, 0.15);\n",
              "      filter: drop-shadow(0px 1px 2px rgba(0, 0, 0, 0.3));\n",
              "      fill: #FFFFFF;\n",
              "    }\n",
              "  </style>\n",
              "\n",
              "      <script>\n",
              "        const buttonEl =\n",
              "          document.querySelector('#df-b14fbadd-7b15-4533-9c82-be1f5ab49b8c button.colab-df-convert');\n",
              "        buttonEl.style.display =\n",
              "          google.colab.kernel.accessAllowed ? 'block' : 'none';\n",
              "\n",
              "        async function convertToInteractive(key) {\n",
              "          const element = document.querySelector('#df-b14fbadd-7b15-4533-9c82-be1f5ab49b8c');\n",
              "          const dataTable =\n",
              "            await google.colab.kernel.invokeFunction('convertToInteractive',\n",
              "                                                     [key], {});\n",
              "          if (!dataTable) return;\n",
              "\n",
              "          const docLinkHtml = 'Like what you see? Visit the ' +\n",
              "            '<a target=\"_blank\" href=https://colab.research.google.com/notebooks/data_table.ipynb>data table notebook</a>'\n",
              "            + ' to learn more about interactive tables.';\n",
              "          element.innerHTML = '';\n",
              "          dataTable['output_type'] = 'display_data';\n",
              "          await google.colab.output.renderOutput(dataTable, element);\n",
              "          const docLink = document.createElement('div');\n",
              "          docLink.innerHTML = docLinkHtml;\n",
              "          element.appendChild(docLink);\n",
              "        }\n",
              "      </script>\n",
              "    </div>\n",
              "  </div>\n",
              "  "
            ]
          },
          "metadata": {},
          "execution_count": 11
        }
      ]
    },
    {
      "cell_type": "code",
      "source": [
        "#1. Averiguamos cuantas galerías de arte hay en cada provincia argentina.\n",
        "cp=galerias_arte['provincia'].value_counts()\n",
        "print(cp)"
      ],
      "metadata": {
        "colab": {
          "base_uri": "https://localhost:8080/"
        },
        "id": "g7kr9jC0B5Gm",
        "outputId": "40a42963-5b2f-47ca-ce7c-3c161eac636e"
      },
      "id": "g7kr9jC0B5Gm",
      "execution_count": null,
      "outputs": [
        {
          "output_type": "stream",
          "name": "stdout",
          "text": [
            "Ciudad Autónoma de Buenos Aires    151\n",
            "Córdoba                             38\n",
            "Buenos Aires                        18\n",
            "Santa Fe                             9\n",
            "Tucumán                              7\n",
            "Santiago del Estero                  4\n",
            "Mendoza                              3\n",
            "Neuquén                              2\n",
            "Salta                                2\n",
            "Entre Ríos                           1\n",
            "La Pampa                             1\n",
            "San Juan                             1\n",
            "San Salvador de Jujuy                1\n",
            "Name: provincia, dtype: int64\n"
          ]
        }
      ]
    },
    {
      "cell_type": "code",
      "source": [
        "#1.2. Graficamos los valores.\n",
        "cp.plot(kind= 'barh', color= 'pink', figsize= (10,8))\n",
        "plt.title('Cantidad de galerías de arte por provincia')"
      ],
      "metadata": {
        "colab": {
          "base_uri": "https://localhost:8080/",
          "height": 517
        },
        "id": "GqoKcrR4CLfJ",
        "outputId": "0b59cb83-4b25-4267-f53b-6cb1cf792151"
      },
      "id": "GqoKcrR4CLfJ",
      "execution_count": null,
      "outputs": [
        {
          "output_type": "execute_result",
          "data": {
            "text/plain": [
              "Text(0.5, 1.0, 'Cantidad de galerías de arte por provincia')"
            ]
          },
          "metadata": {},
          "execution_count": 15
        },
        {
          "output_type": "display_data",
          "data": {
            "text/plain": [
              "<Figure size 720x576 with 1 Axes>"
            ],
            "image/png": "[encoded data removed]"
          },
          "metadata": {
            "needs_background": "light"
          }
        }
      ]
    },
    {
      "cell_type": "markdown",
      "source": [
        "## La Ciudad Autónoma de Buenos Aires posee la mayor cantidad de galerías de arte, seguida por Córdoba. "
      ],
      "metadata": {
        "id": "SR4K8SDvC_Kn"
      },
      "id": "SR4K8SDvC_Kn"
    },
    {
      "cell_type": "code",
      "source": [
        "#Veamos cuantas de las galerias argentinas son de gestión pública y cuántas privadas.\n",
        "galerias_arte['tipo_gestion'].value_counts()"
      ],
      "metadata": {
        "colab": {
          "base_uri": "https://localhost:8080/"
        },
        "id": "Caa2bSdBC8uF",
        "outputId": "5d97e78d-1917-4b4d-b770-185fa53403cd"
      },
      "id": "Caa2bSdBC8uF",
      "execution_count": null,
      "outputs": [
        {
          "output_type": "execute_result",
          "data": {
            "text/plain": [
              "Privado    238\n",
              "Name: tipo_gestion, dtype: int64"
            ]
          },
          "metadata": {},
          "execution_count": 26
        }
      ]
    },
    {
      "cell_type": "markdown",
      "source": [
        "## Las 238 galerías de arte registradas en el set son de gestión privada."
      ],
      "metadata": {
        "id": "8nEbwAZmF3Zf"
      },
      "id": "8nEbwAZmF3Zf"
    },
    {
      "cell_type": "code",
      "source": [],
      "metadata": {
        "id": "4_HQa4OtDKb1"
      },
      "id": "4_HQa4OtDKb1",
      "execution_count": null,
      "outputs": []
    },
    {
      "cell_type": "markdown",
      "source": [
        "# 3.5. Lugares históricos."
      ],
      "metadata": {
        "id": "aw3sOshMHBSw"
      },
      "id": "aw3sOshMHBSw"
    },
    {
      "cell_type": "code",
      "source": [
        "#Set\n",
        "lugares_históricos.head()"
      ],
      "metadata": {
        "id": "x_KkRTkHdLTP"
      },
      "id": "x_KkRTkHdLTP",
      "execution_count": null,
      "outputs": []
    },
    {
      "cell_type": "code",
      "source": [
        "#1. Chequeamos el set\n",
        "lugares_históricos.head()"
      ],
      "metadata": {
        "colab": {
          "base_uri": "https://localhost:8080/",
          "height": 496
        },
        "id": "mUtrBJIjHIYf",
        "outputId": "673ea3fb-9ce3-4c2b-9694-d5106728fccb"
      },
      "id": "mUtrBJIjHIYf",
      "execution_count": null,
      "outputs": [
        {
          "output_type": "execute_result",
          "data": {
            "text/plain": [
              "                                              Nombre     provincia  \\\n",
              "0                             Cementerio de la Verde  Buenos Aires   \n",
              "1  Pirámide que guarda los restos del Tte.Cnel. E...  Buenos Aires   \n",
              "2                               Ex Mercado Municipal  Buenos Aires   \n",
              "3                                  Palacio Municipal  Buenos Aires   \n",
              "4                                Adrogué Tennis Club  Buenos Aires   \n",
              "\n",
              "                localidad    latitud   longitud  \\\n",
              "0              25 de Mayo -35.452139 -60.173889   \n",
              "1              9 de Julio -35.470806 -60.905194   \n",
              "2  Adolfo González Chaves -38.033750 -60.098417   \n",
              "3  Adolfo González Chaves -38.032833 -60.098528   \n",
              "4                 Adrogué -34.795194 -58.393417   \n",
              "\n",
              "                 denominacion_especifica jurisdiccion _declaratoria  \\\n",
              "0              Bien de Interés Histórico                   Nacional   \n",
              "1              Bien de Interés Histórico                   Nacional   \n",
              "2  Bien de Interés Histórico y Artístico                   Nacional   \n",
              "3              Bien de Interés Histórico                   Nacional   \n",
              "4              Bien de Interés Histórico                   Nacional   \n",
              "\n",
              "  fecha_de_inauguracion decreto_o_ley  \n",
              "0            1989-09-03       Decreto  \n",
              "1            1982-07-13       Decreto  \n",
              "2            2014-07-21       Decreto  \n",
              "3            2014-07-21       Decreto  \n",
              "4            2014-07-22       Decreto  "
            ],
            "text/html": [
              "\n",
              "  <div id=\"df-d0e44911-438e-4206-8774-650f954ca12f\">\n",
              "    <div class=\"colab-df-container\">\n",
              "      <div>\n",
              "<style scoped>\n",
              "    .dataframe tbody tr th:only-of-type {\n",
              "        vertical-align: middle;\n",
              "    }\n",
              "\n",
              "    .dataframe tbody tr th {\n",
              "        vertical-align: top;\n",
              "    }\n",
              "\n",
              "    .dataframe thead th {\n",
              "        text-align: right;\n",
              "    }\n",
              "</style>\n",
              "<table border=\"1\" class=\"dataframe\">\n",
              "  <thead>\n",
              "    <tr style=\"text-align: right;\">\n",
              "      <th></th>\n",
              "      <th>Nombre</th>\n",
              "      <th>provincia</th>\n",
              "      <th>localidad</th>\n",
              "      <th>latitud</th>\n",
              "      <th>longitud</th>\n",
              "      <th>denominacion_especifica</th>\n",
              "      <th>jurisdiccion _declaratoria</th>\n",
              "      <th>fecha_de_inauguracion</th>\n",
              "      <th>decreto_o_ley</th>\n",
              "    </tr>\n",
              "  </thead>\n",
              "  <tbody>\n",
              "    <tr>\n",
              "      <th>0</th>\n",
              "      <td>Cementerio de la Verde</td>\n",
              "      <td>Buenos Aires</td>\n",
              "      <td>25 de Mayo</td>\n",
              "      <td>-35.452139</td>\n",
              "      <td>-60.173889</td>\n",
              "      <td>Bien de Interés Histórico</td>\n",
              "      <td>Nacional</td>\n",
              "      <td>1989-09-03</td>\n",
              "      <td>Decreto</td>\n",
              "    </tr>\n",
              "    <tr>\n",
              "      <th>1</th>\n",
              "      <td>Pirámide que guarda los restos del Tte.Cnel. E...</td>\n",
              "      <td>Buenos Aires</td>\n",
              "      <td>9 de Julio</td>\n",
              "      <td>-35.470806</td>\n",
              "      <td>-60.905194</td>\n",
              "      <td>Bien de Interés Histórico</td>\n",
              "      <td>Nacional</td>\n",
              "      <td>1982-07-13</td>\n",
              "      <td>Decreto</td>\n",
              "    </tr>\n",
              "    <tr>\n",
              "      <th>2</th>\n",
              "      <td>Ex Mercado Municipal</td>\n",
              "      <td>Buenos Aires</td>\n",
              "      <td>Adolfo González Chaves</td>\n",
              "      <td>-38.033750</td>\n",
              "      <td>-60.098417</td>\n",
              "      <td>Bien de Interés Histórico y Artístico</td>\n",
              "      <td>Nacional</td>\n",
              "      <td>2014-07-21</td>\n",
              "      <td>Decreto</td>\n",
              "    </tr>\n",
              "    <tr>\n",
              "      <th>3</th>\n",
              "      <td>Palacio Municipal</td>\n",
              "      <td>Buenos Aires</td>\n",
              "      <td>Adolfo González Chaves</td>\n",
              "      <td>-38.032833</td>\n",
              "      <td>-60.098528</td>\n",
              "      <td>Bien de Interés Histórico</td>\n",
              "      <td>Nacional</td>\n",
              "      <td>2014-07-21</td>\n",
              "      <td>Decreto</td>\n",
              "    </tr>\n",
              "    <tr>\n",
              "      <th>4</th>\n",
              "      <td>Adrogué Tennis Club</td>\n",
              "      <td>Buenos Aires</td>\n",
              "      <td>Adrogué</td>\n",
              "      <td>-34.795194</td>\n",
              "      <td>-58.393417</td>\n",
              "      <td>Bien de Interés Histórico</td>\n",
              "      <td>Nacional</td>\n",
              "      <td>2014-07-22</td>\n",
              "      <td>Decreto</td>\n",
              "    </tr>\n",
              "  </tbody>\n",
              "</table>\n",
              "</div>\n",
              "      <button class=\"colab-df-convert\" onclick=\"convertToInteractive('df-d0e44911-438e-4206-8774-650f954ca12f')\"\n",
              "              title=\"Convert this dataframe to an interactive table.\"\n",
              "              style=\"display:none;\">\n",
              "        \n",
              "  <svg xmlns=\"http://www.w3.org/2000/svg\" height=\"24px\"viewBox=\"0 0 24 24\"\n",
              "       width=\"24px\">\n",
              "    <path d=\"M0 0h24v24H0V0z\" fill=\"none\"/>\n",
              "    <path d=\"M18.56 5.44l.94 2.06.94-2.06 2.06-.94-2.06-.94-.94-2.06-.94 2.06-2.06.94zm-11 1L8.5 8.5l.94-2.06 2.06-.94-2.06-.94L8.5 2.5l-.94 2.06-2.06.94zm10 10l.94 2.06.94-2.06 2.06-.94-2.06-.94-.94-2.06-.94 2.06-2.06.94z\"/><path d=\"M17.41 7.96l-1.37-1.37c-.4-.4-.92-.59-1.43-.59-.52 0-1.04.2-1.43.59L10.3 9.45l-7.72 7.72c-.78.78-.78 2.05 0 2.83L4 21.41c.39.39.9.59 1.41.59.51 0 1.02-.2 1.41-.59l7.78-7.78 2.81-2.81c.8-.78.8-2.07 0-2.86zM5.41 20L4 18.59l7.72-7.72 1.47 1.35L5.41 20z\"/>\n",
              "  </svg>\n",
              "      </button>\n",
              "      \n",
              "  <style>\n",
              "    .colab-df-container {\n",
              "      display:flex;\n",
              "      flex-wrap:wrap;\n",
              "      gap: 12px;\n",
              "    }\n",
              "\n",
              "    .colab-df-convert {\n",
              "      background-color: #E8F0FE;\n",
              "      border: none;\n",
              "      border-radius: 50%;\n",
              "      cursor: pointer;\n",
              "      display: none;\n",
              "      fill: #1967D2;\n",
              "      height: 32px;\n",
              "      padding: 0 0 0 0;\n",
              "      width: 32px;\n",
              "    }\n",
              "\n",
              "    .colab-df-convert:hover {\n",
              "      background-color: #E2EBFA;\n",
              "      box-shadow: 0px 1px 2px rgba(60, 64, 67, 0.3), 0px 1px 3px 1px rgba(60, 64, 67, 0.15);\n",
              "      fill: #174EA6;\n",
              "    }\n",
              "\n",
              "    [theme=dark] .colab-df-convert {\n",
              "      background-color: #3B4455;\n",
              "      fill: #D2E3FC;\n",
              "    }\n",
              "\n",
              "    [theme=dark] .colab-df-convert:hover {\n",
              "      background-color: #434B5C;\n",
              "      box-shadow: 0px 1px 3px 1px rgba(0, 0, 0, 0.15);\n",
              "      filter: drop-shadow(0px 1px 2px rgba(0, 0, 0, 0.3));\n",
              "      fill: #FFFFFF;\n",
              "    }\n",
              "  </style>\n",
              "\n",
              "      <script>\n",
              "        const buttonEl =\n",
              "          document.querySelector('#df-d0e44911-438e-4206-8774-650f954ca12f button.colab-df-convert');\n",
              "        buttonEl.style.display =\n",
              "          google.colab.kernel.accessAllowed ? 'block' : 'none';\n",
              "\n",
              "        async function convertToInteractive(key) {\n",
              "          const element = document.querySelector('#df-d0e44911-438e-4206-8774-650f954ca12f');\n",
              "          const dataTable =\n",
              "            await google.colab.kernel.invokeFunction('convertToInteractive',\n",
              "                                                     [key], {});\n",
              "          if (!dataTable) return;\n",
              "\n",
              "          const docLinkHtml = 'Like what you see? Visit the ' +\n",
              "            '<a target=\"_blank\" href=https://colab.research.google.com/notebooks/data_table.ipynb>data table notebook</a>'\n",
              "            + ' to learn more about interactive tables.';\n",
              "          element.innerHTML = '';\n",
              "          dataTable['output_type'] = 'display_data';\n",
              "          await google.colab.output.renderOutput(dataTable, element);\n",
              "          const docLink = document.createElement('div');\n",
              "          docLink.innerHTML = docLinkHtml;\n",
              "          element.appendChild(docLink);\n",
              "        }\n",
              "      </script>\n",
              "    </div>\n",
              "  </div>\n",
              "  "
            ]
          },
          "metadata": {},
          "execution_count": 40
        }
      ]
    },
    {
      "cell_type": "code",
      "source": [
        "#Comenzamos averiguando cuantos lugares históricos hay en las provincias argentinas.\n",
        "php= lugares_históricos['provincia'].value_counts()\n",
        "print(php)"
      ],
      "metadata": {
        "colab": {
          "base_uri": "https://localhost:8080/"
        },
        "id": "Lh2EWUmcHnVV",
        "outputId": "0cf0955e-4938-4a09-8191-6fb9bea471e3"
      },
      "id": "Lh2EWUmcHnVV",
      "execution_count": null,
      "outputs": [
        {
          "output_type": "stream",
          "name": "stdout",
          "text": [
            "Ciudad Autónoma de Buenos Aires                          399\n",
            "Buenos Aires                                             279\n",
            "Mendoza                                                   87\n",
            "Córdoba                                                   74\n",
            "Salta                                                     71\n",
            "Santa Fe                                                  58\n",
            "Tucumán                                                   50\n",
            "La Rioja                                                  43\n",
            "Corrientes                                                39\n",
            "Tierra del Fuego, Antártida e Islas del Atlántico Sur     38\n",
            "San Juan                                                  37\n",
            "Jujuy                                                     33\n",
            "Entre Ríos                                                33\n",
            "Catamarca                                                 29\n",
            "Formosa                                                   24\n",
            "Chubut                                                    24\n",
            "Río Negro                                                 21\n",
            "Neuquén                                                   20\n",
            "Santiago del Estero                                       20\n",
            "Misiones                                                  15\n",
            "Santa Cruz                                                14\n",
            "San Luis                                                  10\n",
            "La Pampa                                                  10\n",
            "Chaco                                                      8\n",
            "Name: provincia, dtype: int64\n"
          ]
        }
      ]
    },
    {
      "cell_type": "code",
      "source": [
        "#1.1 Graficamos los valores.\n",
        "php.plot(kind='barh', color= 'lightblue', figsize=(10,8))\n",
        "plt.title('Lugares históricos registrados por provincia')"
      ],
      "metadata": {
        "colab": {
          "base_uri": "https://localhost:8080/",
          "height": 517
        },
        "id": "s_u81ZJKJiYq",
        "outputId": "c8374c7f-221d-40cc-8149-7660cf1f383d"
      },
      "id": "s_u81ZJKJiYq",
      "execution_count": null,
      "outputs": [
        {
          "output_type": "execute_result",
          "data": {
            "text/plain": [
              "Text(0.5, 1.0, 'Lugares históricos registrados por provincia')"
            ]
          },
          "metadata": {},
          "execution_count": 49
        },
        {
          "output_type": "display_data",
          "data": {
            "text/plain": [
              "<Figure size 720x576 with 1 Axes>"
            ],
            "image/png": "[encoded data removed]"
          },
          "metadata": {
            "needs_background": "light"
          }
        }
      ]
    },
    {
      "cell_type": "markdown",
      "source": [
        "## La Ciudad Autónoma de Buenos Aires cuenta con la mayor cantidad de lugares históricos de Argentina. Chaco, por el contrario, es la provincia con menor cantidad."
      ],
      "metadata": {
        "id": "vV01jIjKKY0_"
      },
      "id": "vV01jIjKKY0_"
    },
    {
      "cell_type": "code",
      "source": [
        "#1. Veamos cual es la denominación con mayor cantidad de valores.\n",
        "lugares_históricos['denominacion_especifica'].value_counts()"
      ],
      "metadata": {
        "colab": {
          "base_uri": "https://localhost:8080/"
        },
        "id": "8eah47OBKXUM",
        "outputId": "11ea2277-85cb-41aa-9817-37f7604d3812"
      },
      "id": "8eah47OBKXUM",
      "execution_count": null,
      "outputs": [
        {
          "output_type": "execute_result",
          "data": {
            "text/plain": [
              "Bien de Interés Histórico              1303\n",
              "Bien de Interés Histórico Artístico      80\n",
              "Sitio Arqueológico                       40\n",
              "Bien de Interés Arquitectónico            6\n",
              "Bien de Interés Artístico                 2\n",
              "Conjunto Urbano Arquitectónico            2\n",
              "Área de Amortiguación Visual              1\n",
              "Patrimonio Histórico Cultural             1\n",
              "Bien de Interés Industrial Nacional       1\n",
              "Name: denominacion_especifica, dtype: int64"
            ]
          },
          "metadata": {},
          "execution_count": 65
        }
      ]
    },
    {
      "cell_type": "markdown",
      "source": [
        "## Argentina cuenta con 1303 bienes considerados de interes histórico y 80 bienes considerados de interés histórico y artístico. Por otra parte, hay 40 sitios arqueológicos en todo el país."
      ],
      "metadata": {
        "id": "nVVql144QBiH"
      },
      "id": "nVVql144QBiH"
    },
    {
      "cell_type": "code",
      "source": [
        "# 1. Chequeamos cuantos son decretos y cuantos son leyes.\n",
        "dol=lugares_históricos['decreto_o_ley'].value_counts()\n",
        "print(dol)"
      ],
      "metadata": {
        "colab": {
          "base_uri": "https://localhost:8080/"
        },
        "id": "MloNdTaqQxQc",
        "outputId": "a6417762-c69a-4e79-8068-45a062fe15b2"
      },
      "id": "MloNdTaqQxQc",
      "execution_count": null,
      "outputs": [
        {
          "output_type": "stream",
          "name": "stdout",
          "text": [
            "Decreto          1211\n",
            "Ley               223\n",
            "Resolución SC       2\n",
            "Name: decreto_o_ley, dtype: int64\n"
          ]
        }
      ]
    },
    {
      "cell_type": "code",
      "source": [
        "#1.1. Graficamos los resultados.\n",
        "dolc=['green','blue','purple']\n",
        "dol.plot(kind='bar', color=dolc, figsize=(8,6))\n",
        "plt.title('Bienes rotulados bajo Decreto o Ley')\n",
        "plt.ylabel('Cantidad de bienes')"
      ],
      "metadata": {
        "colab": {
          "base_uri": "https://localhost:8080/",
          "height": 468
        },
        "id": "1BLkeoqURQyT",
        "outputId": "bacb13a6-19fa-4284-8032-ee8b9c7396b7"
      },
      "id": "1BLkeoqURQyT",
      "execution_count": null,
      "outputs": [
        {
          "output_type": "execute_result",
          "data": {
            "text/plain": [
              "Text(0, 0.5, 'Cantidad de bienes')"
            ]
          },
          "metadata": {},
          "execution_count": 79
        },
        {
          "output_type": "display_data",
          "data": {
            "text/plain": [
              "<Figure size 576x432 with 1 Axes>"
            ],
            "image/png": "[encoded data removed]"
          },
          "metadata": {
            "needs_background": "light"
          }
        }
      ]
    },
    {
      "cell_type": "code",
      "source": [
        "#1. Revisemos los años de ignauración.\n",
        "#1.1 Modificamos la fecha para que solo muestre el año.\n",
        "lugares_históricos['fecha_de_inauguracion'] = lugares_históricos['fecha_de_inauguracion'].dt.strftime('%Y')"
      ],
      "metadata": {
        "id": "y48qElz5TMY7"
      },
      "id": "y48qElz5TMY7",
      "execution_count": null,
      "outputs": []
    },
    {
      "cell_type": "code",
      "source": [
        "#1.2. Chequeamos los valores.\n",
        "lugares_históricos['fecha_de_inauguracion'].value_counts()"
      ],
      "metadata": {
        "colab": {
          "base_uri": "https://localhost:8080/"
        },
        "id": "rqsQyUCSUd5V",
        "outputId": "84ad7ea9-7e1c-4aa1-c50d-81d61e2226a6"
      },
      "id": "rqsQyUCSUd5V",
      "execution_count": null,
      "outputs": [
        {
          "output_type": "execute_result",
          "data": {
            "text/plain": [
              "2014    164\n",
              "1946    123\n",
              "1997    117\n",
              "1999     75\n",
              "1942     66\n",
              "       ... \n",
              "1987      1\n",
              "1986      1\n",
              "1937      1\n",
              "1910      1\n",
              "1965      1\n",
              "Name: fecha_de_inauguracion, Length: 84, dtype: int64"
            ]
          },
          "metadata": {},
          "execution_count": 83
        }
      ]
    },
    {
      "cell_type": "markdown",
      "source": [
        "## En 2014 se realizó el mayor número de inauguraciones, con 164 bienes declarados dentro de las denominaciones específicas que toma la República Argentina. El segundo año con más inauraciones fue 1946 con 123 y en el tercer puesto está 1997 con 117 inauraciones."
      ],
      "metadata": {
        "id": "mKLVNFH4VLG_"
      },
      "id": "mKLVNFH4VLG_"
    },
    {
      "cell_type": "code",
      "source": [
        "#1. Busquemos los primeros bienes argentinos en ser inaugurados.\n",
        "lugares_históricos['fecha_de_inauguracion'].value_counts().sort_index()"
      ],
      "metadata": {
        "colab": {
          "base_uri": "https://localhost:8080/"
        },
        "id": "-jSxICNuWO0L",
        "outputId": "fb9f6b60-cf0c-41fb-b14b-9122fa6e1be0"
      },
      "id": "-jSxICNuWO0L",
      "execution_count": null,
      "outputs": [
        {
          "output_type": "execute_result",
          "data": {
            "text/plain": [
              "1910      1\n",
              "1915      1\n",
              "1928      2\n",
              "1931      2\n",
              "1933      1\n",
              "       ... \n",
              "2014    164\n",
              "2015     51\n",
              "2016     16\n",
              "2017     24\n",
              "2018      1\n",
              "Name: fecha_de_inauguracion, Length: 84, dtype: int64"
            ]
          },
          "metadata": {},
          "execution_count": 86
        }
      ]
    },
    {
      "cell_type": "code",
      "source": [
        "#1.2. 1910\n",
        "lugares_históricos.loc[lugares_históricos['fecha_de_inauguracion']== '1910']"
      ],
      "metadata": {
        "colab": {
          "base_uri": "https://localhost:8080/",
          "height": 232
        },
        "id": "wVyKTuU6W1qb",
        "outputId": "7687f063-d066-478f-968f-b555eae38965"
      },
      "id": "wVyKTuU6W1qb",
      "execution_count": null,
      "outputs": [
        {
          "output_type": "execute_result",
          "data": {
            "text/plain": [
              "                                        Nombre provincia localidad    latitud  \\\n",
              "1161  Casa Natal de Domingo Faustino Sarmiento  San Juan  San Juan -31.534806   \n",
              "\n",
              "       longitud    denominacion_especifica jurisdiccion _declaratoria  \\\n",
              "1161 -68.528917  Bien de Interés Histórico                   Nacional   \n",
              "\n",
              "     fecha_de_inauguracion decreto_o_ley  \n",
              "1161                  1910           Ley  "
            ],
            "text/html": [
              "\n",
              "  <div id=\"df-64386947-c7e2-4de9-8780-7700ac96c095\">\n",
              "    <div class=\"colab-df-container\">\n",
              "      <div>\n",
              "<style scoped>\n",
              "    .dataframe tbody tr th:only-of-type {\n",
              "        vertical-align: middle;\n",
              "    }\n",
              "\n",
              "    .dataframe tbody tr th {\n",
              "        vertical-align: top;\n",
              "    }\n",
              "\n",
              "    .dataframe thead th {\n",
              "        text-align: right;\n",
              "    }\n",
              "</style>\n",
              "<table border=\"1\" class=\"dataframe\">\n",
              "  <thead>\n",
              "    <tr style=\"text-align: right;\">\n",
              "      <th></th>\n",
              "      <th>Nombre</th>\n",
              "      <th>provincia</th>\n",
              "      <th>localidad</th>\n",
              "      <th>latitud</th>\n",
              "      <th>longitud</th>\n",
              "      <th>denominacion_especifica</th>\n",
              "      <th>jurisdiccion _declaratoria</th>\n",
              "      <th>fecha_de_inauguracion</th>\n",
              "      <th>decreto_o_ley</th>\n",
              "    </tr>\n",
              "  </thead>\n",
              "  <tbody>\n",
              "    <tr>\n",
              "      <th>1161</th>\n",
              "      <td>Casa Natal de Domingo Faustino Sarmiento</td>\n",
              "      <td>San Juan</td>\n",
              "      <td>San Juan</td>\n",
              "      <td>-31.534806</td>\n",
              "      <td>-68.528917</td>\n",
              "      <td>Bien de Interés Histórico</td>\n",
              "      <td>Nacional</td>\n",
              "      <td>1910</td>\n",
              "      <td>Ley</td>\n",
              "    </tr>\n",
              "  </tbody>\n",
              "</table>\n",
              "</div>\n",
              "      <button class=\"colab-df-convert\" onclick=\"convertToInteractive('df-64386947-c7e2-4de9-8780-7700ac96c095')\"\n",
              "              title=\"Convert this dataframe to an interactive table.\"\n",
              "              style=\"display:none;\">\n",
              "        \n",
              "  <svg xmlns=\"http://www.w3.org/2000/svg\" height=\"24px\"viewBox=\"0 0 24 24\"\n",
              "       width=\"24px\">\n",
              "    <path d=\"M0 0h24v24H0V0z\" fill=\"none\"/>\n",
              "    <path d=\"M18.56 5.44l.94 2.06.94-2.06 2.06-.94-2.06-.94-.94-2.06-.94 2.06-2.06.94zm-11 1L8.5 8.5l.94-2.06 2.06-.94-2.06-.94L8.5 2.5l-.94 2.06-2.06.94zm10 10l.94 2.06.94-2.06 2.06-.94-2.06-.94-.94-2.06-.94 2.06-2.06.94z\"/><path d=\"M17.41 7.96l-1.37-1.37c-.4-.4-.92-.59-1.43-.59-.52 0-1.04.2-1.43.59L10.3 9.45l-7.72 7.72c-.78.78-.78 2.05 0 2.83L4 21.41c.39.39.9.59 1.41.59.51 0 1.02-.2 1.41-.59l7.78-7.78 2.81-2.81c.8-.78.8-2.07 0-2.86zM5.41 20L4 18.59l7.72-7.72 1.47 1.35L5.41 20z\"/>\n",
              "  </svg>\n",
              "      </button>\n",
              "      \n",
              "  <style>\n",
              "    .colab-df-container {\n",
              "      display:flex;\n",
              "      flex-wrap:wrap;\n",
              "      gap: 12px;\n",
              "    }\n",
              "\n",
              "    .colab-df-convert {\n",
              "      background-color: #E8F0FE;\n",
              "      border: none;\n",
              "      border-radius: 50%;\n",
              "      cursor: pointer;\n",
              "      display: none;\n",
              "      fill: #1967D2;\n",
              "      height: 32px;\n",
              "      padding: 0 0 0 0;\n",
              "      width: 32px;\n",
              "    }\n",
              "\n",
              "    .colab-df-convert:hover {\n",
              "      background-color: #E2EBFA;\n",
              "      box-shadow: 0px 1px 2px rgba(60, 64, 67, 0.3), 0px 1px 3px 1px rgba(60, 64, 67, 0.15);\n",
              "      fill: #174EA6;\n",
              "    }\n",
              "\n",
              "    [theme=dark] .colab-df-convert {\n",
              "      background-color: #3B4455;\n",
              "      fill: #D2E3FC;\n",
              "    }\n",
              "\n",
              "    [theme=dark] .colab-df-convert:hover {\n",
              "      background-color: #434B5C;\n",
              "      box-shadow: 0px 1px 3px 1px rgba(0, 0, 0, 0.15);\n",
              "      filter: drop-shadow(0px 1px 2px rgba(0, 0, 0, 0.3));\n",
              "      fill: #FFFFFF;\n",
              "    }\n",
              "  </style>\n",
              "\n",
              "      <script>\n",
              "        const buttonEl =\n",
              "          document.querySelector('#df-64386947-c7e2-4de9-8780-7700ac96c095 button.colab-df-convert');\n",
              "        buttonEl.style.display =\n",
              "          google.colab.kernel.accessAllowed ? 'block' : 'none';\n",
              "\n",
              "        async function convertToInteractive(key) {\n",
              "          const element = document.querySelector('#df-64386947-c7e2-4de9-8780-7700ac96c095');\n",
              "          const dataTable =\n",
              "            await google.colab.kernel.invokeFunction('convertToInteractive',\n",
              "                                                     [key], {});\n",
              "          if (!dataTable) return;\n",
              "\n",
              "          const docLinkHtml = 'Like what you see? Visit the ' +\n",
              "            '<a target=\"_blank\" href=https://colab.research.google.com/notebooks/data_table.ipynb>data table notebook</a>'\n",
              "            + ' to learn more about interactive tables.';\n",
              "          element.innerHTML = '';\n",
              "          dataTable['output_type'] = 'display_data';\n",
              "          await google.colab.output.renderOutput(dataTable, element);\n",
              "          const docLink = document.createElement('div');\n",
              "          docLink.innerHTML = docLinkHtml;\n",
              "          element.appendChild(docLink);\n",
              "        }\n",
              "      </script>\n",
              "    </div>\n",
              "  </div>\n",
              "  "
            ]
          },
          "metadata": {},
          "execution_count": 87
        }
      ]
    },
    {
      "cell_type": "markdown",
      "source": [
        "## El primer bien declarado de interés histórico fue la casa natal de Domingo Faustino Sarmiento, en la provincia de San Juan."
      ],
      "metadata": {
        "id": "WJTfrG8HXGO5"
      },
      "id": "WJTfrG8HXGO5"
    },
    {
      "cell_type": "code",
      "source": [
        "#1.3. 1915\n",
        "lugares_históricos.loc[lugares_históricos['fecha_de_inauguracion']== '1915']"
      ],
      "metadata": {
        "colab": {
          "base_uri": "https://localhost:8080/",
          "height": 249
        },
        "id": "9CcdNB2xXVzn",
        "outputId": "95726b7b-e5f4-4a98-af85-30e9f2af475d"
      },
      "id": "9CcdNB2xXVzn",
      "execution_count": null,
      "outputs": [
        {
          "output_type": "execute_result",
          "data": {
            "text/plain": [
              "                                       Nombre   provincia localidad  \\\n",
              "846  Templete Casa Natal del Gral. San Martín  Corrientes    Yapeyú   \n",
              "\n",
              "       latitud   longitud    denominacion_especifica  \\\n",
              "846 -29.471722 -56.814083  Bien de Interés Histórico   \n",
              "\n",
              "    jurisdiccion _declaratoria fecha_de_inauguracion decreto_o_ley  \n",
              "846                   Nacional                  1915           Ley  "
            ],
            "text/html": [
              "\n",
              "  <div id=\"df-278e28ac-1c99-415a-ac05-6be11d7272e1\">\n",
              "    <div class=\"colab-df-container\">\n",
              "      <div>\n",
              "<style scoped>\n",
              "    .dataframe tbody tr th:only-of-type {\n",
              "        vertical-align: middle;\n",
              "    }\n",
              "\n",
              "    .dataframe tbody tr th {\n",
              "        vertical-align: top;\n",
              "    }\n",
              "\n",
              "    .dataframe thead th {\n",
              "        text-align: right;\n",
              "    }\n",
              "</style>\n",
              "<table border=\"1\" class=\"dataframe\">\n",
              "  <thead>\n",
              "    <tr style=\"text-align: right;\">\n",
              "      <th></th>\n",
              "      <th>Nombre</th>\n",
              "      <th>provincia</th>\n",
              "      <th>localidad</th>\n",
              "      <th>latitud</th>\n",
              "      <th>longitud</th>\n",
              "      <th>denominacion_especifica</th>\n",
              "      <th>jurisdiccion _declaratoria</th>\n",
              "      <th>fecha_de_inauguracion</th>\n",
              "      <th>decreto_o_ley</th>\n",
              "    </tr>\n",
              "  </thead>\n",
              "  <tbody>\n",
              "    <tr>\n",
              "      <th>846</th>\n",
              "      <td>Templete Casa Natal del Gral. San Martín</td>\n",
              "      <td>Corrientes</td>\n",
              "      <td>Yapeyú</td>\n",
              "      <td>-29.471722</td>\n",
              "      <td>-56.814083</td>\n",
              "      <td>Bien de Interés Histórico</td>\n",
              "      <td>Nacional</td>\n",
              "      <td>1915</td>\n",
              "      <td>Ley</td>\n",
              "    </tr>\n",
              "  </tbody>\n",
              "</table>\n",
              "</div>\n",
              "      <button class=\"colab-df-convert\" onclick=\"convertToInteractive('df-278e28ac-1c99-415a-ac05-6be11d7272e1')\"\n",
              "              title=\"Convert this dataframe to an interactive table.\"\n",
              "              style=\"display:none;\">\n",
              "        \n",
              "  <svg xmlns=\"http://www.w3.org/2000/svg\" height=\"24px\"viewBox=\"0 0 24 24\"\n",
              "       width=\"24px\">\n",
              "    <path d=\"M0 0h24v24H0V0z\" fill=\"none\"/>\n",
              "    <path d=\"M18.56 5.44l.94 2.06.94-2.06 2.06-.94-2.06-.94-.94-2.06-.94 2.06-2.06.94zm-11 1L8.5 8.5l.94-2.06 2.06-.94-2.06-.94L8.5 2.5l-.94 2.06-2.06.94zm10 10l.94 2.06.94-2.06 2.06-.94-2.06-.94-.94-2.06-.94 2.06-2.06.94z\"/><path d=\"M17.41 7.96l-1.37-1.37c-.4-.4-.92-.59-1.43-.59-.52 0-1.04.2-1.43.59L10.3 9.45l-7.72 7.72c-.78.78-.78 2.05 0 2.83L4 21.41c.39.39.9.59 1.41.59.51 0 1.02-.2 1.41-.59l7.78-7.78 2.81-2.81c.8-.78.8-2.07 0-2.86zM5.41 20L4 18.59l7.72-7.72 1.47 1.35L5.41 20z\"/>\n",
              "  </svg>\n",
              "      </button>\n",
              "      \n",
              "  <style>\n",
              "    .colab-df-container {\n",
              "      display:flex;\n",
              "      flex-wrap:wrap;\n",
              "      gap: 12px;\n",
              "    }\n",
              "\n",
              "    .colab-df-convert {\n",
              "      background-color: #E8F0FE;\n",
              "      border: none;\n",
              "      border-radius: 50%;\n",
              "      cursor: pointer;\n",
              "      display: none;\n",
              "      fill: #1967D2;\n",
              "      height: 32px;\n",
              "      padding: 0 0 0 0;\n",
              "      width: 32px;\n",
              "    }\n",
              "\n",
              "    .colab-df-convert:hover {\n",
              "      background-color: #E2EBFA;\n",
              "      box-shadow: 0px 1px 2px rgba(60, 64, 67, 0.3), 0px 1px 3px 1px rgba(60, 64, 67, 0.15);\n",
              "      fill: #174EA6;\n",
              "    }\n",
              "\n",
              "    [theme=dark] .colab-df-convert {\n",
              "      background-color: #3B4455;\n",
              "      fill: #D2E3FC;\n",
              "    }\n",
              "\n",
              "    [theme=dark] .colab-df-convert:hover {\n",
              "      background-color: #434B5C;\n",
              "      box-shadow: 0px 1px 3px 1px rgba(0, 0, 0, 0.15);\n",
              "      filter: drop-shadow(0px 1px 2px rgba(0, 0, 0, 0.3));\n",
              "      fill: #FFFFFF;\n",
              "    }\n",
              "  </style>\n",
              "\n",
              "      <script>\n",
              "        const buttonEl =\n",
              "          document.querySelector('#df-278e28ac-1c99-415a-ac05-6be11d7272e1 button.colab-df-convert');\n",
              "        buttonEl.style.display =\n",
              "          google.colab.kernel.accessAllowed ? 'block' : 'none';\n",
              "\n",
              "        async function convertToInteractive(key) {\n",
              "          const element = document.querySelector('#df-278e28ac-1c99-415a-ac05-6be11d7272e1');\n",
              "          const dataTable =\n",
              "            await google.colab.kernel.invokeFunction('convertToInteractive',\n",
              "                                                     [key], {});\n",
              "          if (!dataTable) return;\n",
              "\n",
              "          const docLinkHtml = 'Like what you see? Visit the ' +\n",
              "            '<a target=\"_blank\" href=https://colab.research.google.com/notebooks/data_table.ipynb>data table notebook</a>'\n",
              "            + ' to learn more about interactive tables.';\n",
              "          element.innerHTML = '';\n",
              "          dataTable['output_type'] = 'display_data';\n",
              "          await google.colab.output.renderOutput(dataTable, element);\n",
              "          const docLink = document.createElement('div');\n",
              "          docLink.innerHTML = docLinkHtml;\n",
              "          element.appendChild(docLink);\n",
              "        }\n",
              "      </script>\n",
              "    </div>\n",
              "  </div>\n",
              "  "
            ]
          },
          "metadata": {},
          "execution_count": 88
        }
      ]
    },
    {
      "cell_type": "markdown",
      "source": [
        "## El segundo bien en ser declarado de intéres histórico fue la casa natal del General San Martín, ubicada en la localidad de Yapeyú en la provincia de Corrientes. "
      ],
      "metadata": {
        "id": "B5sd9-PhXlkI"
      },
      "id": "B5sd9-PhXlkI"
    },
    {
      "cell_type": "code",
      "source": [
        "#1.4. 1928\n",
        "lugares_históricos.loc[lugares_históricos['fecha_de_inauguracion']== '1928']"
      ],
      "metadata": {
        "colab": {
          "base_uri": "https://localhost:8080/",
          "height": 332
        },
        "id": "jevynihCX7F4",
        "outputId": "d69351d5-0921-4f70-b71d-a9df7920809a"
      },
      "id": "jevynihCX7F4",
      "execution_count": null,
      "outputs": [
        {
          "output_type": "execute_result",
          "data": {
            "text/plain": [
              "                                                 Nombre provincia  \\\n",
              "1023                            Templo de San Francisco   Mendoza   \n",
              "1354  Primitivo Templo de la Merced en San Miguel de...   Tucumán   \n",
              "\n",
              "                  localidad    latitud   longitud    denominacion_especifica  \\\n",
              "1023                Mendoza -32.886722 -68.841361  Bien de Interés Histórico   \n",
              "1354  San Miguel de Tucumán -26.831500 -65.201194  Bien de Interés Histórico   \n",
              "\n",
              "     jurisdiccion _declaratoria fecha_de_inauguracion decreto_o_ley  \n",
              "1023                   Nacional                  1928       Decreto  \n",
              "1354                   Nacional                  1928       Decreto  "
            ],
            "text/html": [
              "\n",
              "  <div id=\"df-41f4d9fd-6325-498e-af7f-cd74ecdbe6a3\">\n",
              "    <div class=\"colab-df-container\">\n",
              "      <div>\n",
              "<style scoped>\n",
              "    .dataframe tbody tr th:only-of-type {\n",
              "        vertical-align: middle;\n",
              "    }\n",
              "\n",
              "    .dataframe tbody tr th {\n",
              "        vertical-align: top;\n",
              "    }\n",
              "\n",
              "    .dataframe thead th {\n",
              "        text-align: right;\n",
              "    }\n",
              "</style>\n",
              "<table border=\"1\" class=\"dataframe\">\n",
              "  <thead>\n",
              "    <tr style=\"text-align: right;\">\n",
              "      <th></th>\n",
              "      <th>Nombre</th>\n",
              "      <th>provincia</th>\n",
              "      <th>localidad</th>\n",
              "      <th>latitud</th>\n",
              "      <th>longitud</th>\n",
              "      <th>denominacion_especifica</th>\n",
              "      <th>jurisdiccion _declaratoria</th>\n",
              "      <th>fecha_de_inauguracion</th>\n",
              "      <th>decreto_o_ley</th>\n",
              "    </tr>\n",
              "  </thead>\n",
              "  <tbody>\n",
              "    <tr>\n",
              "      <th>1023</th>\n",
              "      <td>Templo de San Francisco</td>\n",
              "      <td>Mendoza</td>\n",
              "      <td>Mendoza</td>\n",
              "      <td>-32.886722</td>\n",
              "      <td>-68.841361</td>\n",
              "      <td>Bien de Interés Histórico</td>\n",
              "      <td>Nacional</td>\n",
              "      <td>1928</td>\n",
              "      <td>Decreto</td>\n",
              "    </tr>\n",
              "    <tr>\n",
              "      <th>1354</th>\n",
              "      <td>Primitivo Templo de la Merced en San Miguel de...</td>\n",
              "      <td>Tucumán</td>\n",
              "      <td>San Miguel de Tucumán</td>\n",
              "      <td>-26.831500</td>\n",
              "      <td>-65.201194</td>\n",
              "      <td>Bien de Interés Histórico</td>\n",
              "      <td>Nacional</td>\n",
              "      <td>1928</td>\n",
              "      <td>Decreto</td>\n",
              "    </tr>\n",
              "  </tbody>\n",
              "</table>\n",
              "</div>\n",
              "      <button class=\"colab-df-convert\" onclick=\"convertToInteractive('df-41f4d9fd-6325-498e-af7f-cd74ecdbe6a3')\"\n",
              "              title=\"Convert this dataframe to an interactive table.\"\n",
              "              style=\"display:none;\">\n",
              "        \n",
              "  <svg xmlns=\"http://www.w3.org/2000/svg\" height=\"24px\"viewBox=\"0 0 24 24\"\n",
              "       width=\"24px\">\n",
              "    <path d=\"M0 0h24v24H0V0z\" fill=\"none\"/>\n",
              "    <path d=\"M18.56 5.44l.94 2.06.94-2.06 2.06-.94-2.06-.94-.94-2.06-.94 2.06-2.06.94zm-11 1L8.5 8.5l.94-2.06 2.06-.94-2.06-.94L8.5 2.5l-.94 2.06-2.06.94zm10 10l.94 2.06.94-2.06 2.06-.94-2.06-.94-.94-2.06-.94 2.06-2.06.94z\"/><path d=\"M17.41 7.96l-1.37-1.37c-.4-.4-.92-.59-1.43-.59-.52 0-1.04.2-1.43.59L10.3 9.45l-7.72 7.72c-.78.78-.78 2.05 0 2.83L4 21.41c.39.39.9.59 1.41.59.51 0 1.02-.2 1.41-.59l7.78-7.78 2.81-2.81c.8-.78.8-2.07 0-2.86zM5.41 20L4 18.59l7.72-7.72 1.47 1.35L5.41 20z\"/>\n",
              "  </svg>\n",
              "      </button>\n",
              "      \n",
              "  <style>\n",
              "    .colab-df-container {\n",
              "      display:flex;\n",
              "      flex-wrap:wrap;\n",
              "      gap: 12px;\n",
              "    }\n",
              "\n",
              "    .colab-df-convert {\n",
              "      background-color: #E8F0FE;\n",
              "      border: none;\n",
              "      border-radius: 50%;\n",
              "      cursor: pointer;\n",
              "      display: none;\n",
              "      fill: #1967D2;\n",
              "      height: 32px;\n",
              "      padding: 0 0 0 0;\n",
              "      width: 32px;\n",
              "    }\n",
              "\n",
              "    .colab-df-convert:hover {\n",
              "      background-color: #E2EBFA;\n",
              "      box-shadow: 0px 1px 2px rgba(60, 64, 67, 0.3), 0px 1px 3px 1px rgba(60, 64, 67, 0.15);\n",
              "      fill: #174EA6;\n",
              "    }\n",
              "\n",
              "    [theme=dark] .colab-df-convert {\n",
              "      background-color: #3B4455;\n",
              "      fill: #D2E3FC;\n",
              "    }\n",
              "\n",
              "    [theme=dark] .colab-df-convert:hover {\n",
              "      background-color: #434B5C;\n",
              "      box-shadow: 0px 1px 3px 1px rgba(0, 0, 0, 0.15);\n",
              "      filter: drop-shadow(0px 1px 2px rgba(0, 0, 0, 0.3));\n",
              "      fill: #FFFFFF;\n",
              "    }\n",
              "  </style>\n",
              "\n",
              "      <script>\n",
              "        const buttonEl =\n",
              "          document.querySelector('#df-41f4d9fd-6325-498e-af7f-cd74ecdbe6a3 button.colab-df-convert');\n",
              "        buttonEl.style.display =\n",
              "          google.colab.kernel.accessAllowed ? 'block' : 'none';\n",
              "\n",
              "        async function convertToInteractive(key) {\n",
              "          const element = document.querySelector('#df-41f4d9fd-6325-498e-af7f-cd74ecdbe6a3');\n",
              "          const dataTable =\n",
              "            await google.colab.kernel.invokeFunction('convertToInteractive',\n",
              "                                                     [key], {});\n",
              "          if (!dataTable) return;\n",
              "\n",
              "          const docLinkHtml = 'Like what you see? Visit the ' +\n",
              "            '<a target=\"_blank\" href=https://colab.research.google.com/notebooks/data_table.ipynb>data table notebook</a>'\n",
              "            + ' to learn more about interactive tables.';\n",
              "          element.innerHTML = '';\n",
              "          dataTable['output_type'] = 'display_data';\n",
              "          await google.colab.output.renderOutput(dataTable, element);\n",
              "          const docLink = document.createElement('div');\n",
              "          docLink.innerHTML = docLinkHtml;\n",
              "          element.appendChild(docLink);\n",
              "        }\n",
              "      </script>\n",
              "    </div>\n",
              "  </div>\n",
              "  "
            ]
          },
          "metadata": {},
          "execution_count": 89
        }
      ]
    },
    {
      "cell_type": "markdown",
      "source": [
        "## Por último, en 1928 dos templos: Templo de San Francisco en Mendoza y el Primitivo Templo de la Merced en Tucumán, fueron declarados como bienes de interés histórico, mediante un decreto nacional."
      ],
      "metadata": {
        "id": "69fpToh4YKeZ"
      },
      "id": "69fpToh4YKeZ"
    },
    {
      "cell_type": "markdown",
      "source": [
        "#3.6. Museos."
      ],
      "metadata": {
        "id": "XZOk5ZsQHZ4Q"
      },
      "id": "XZOk5ZsQHZ4Q"
    },
    {
      "cell_type": "code",
      "source": [
        "#Set\n",
        "museos.head()"
      ],
      "metadata": {
        "id": "yKlWrchidGkl"
      },
      "id": "yKlWrchidGkl",
      "execution_count": null,
      "outputs": []
    },
    {
      "cell_type": "code",
      "source": [
        "#1. Revisamos la cantidad de museos por provincia.\n",
        "mp=museos['provincia'].value_counts()\n",
        "print(mp)"
      ],
      "metadata": {
        "colab": {
          "base_uri": "https://localhost:8080/"
        },
        "id": "oH5vz2DhJvZB",
        "outputId": "3f9c00b1-6de0-4dbf-eefd-1537274b3716"
      },
      "id": "oH5vz2DhJvZB",
      "execution_count": null,
      "outputs": [
        {
          "output_type": "stream",
          "name": "stdout",
          "text": [
            "Santa Fe                                                 162\n",
            "Buenos Aires                                             152\n",
            "Ciudad Autónoma de Buenos Aires                          132\n",
            "Córdoba                                                  126\n",
            "Mendoza                                                   63\n",
            "Entre Ríos                                                57\n",
            "Jujuy                                                     47\n",
            "Chubut                                                    45\n",
            "La Pampa                                                  45\n",
            "Neuquén                                                   39\n",
            "Salta                                                     36\n",
            "Chaco                                                     33\n",
            "Catamarca                                                 32\n",
            "Misiones                                                  32\n",
            "San Luis                                                  31\n",
            "Tucumán                                                   26\n",
            "San Juan                                                  23\n",
            "Santa Cruz                                                20\n",
            "Río Negro                                                 19\n",
            "La Rioja                                                  17\n",
            "Corrientes                                                14\n",
            "Tierra del Fuego, Antártida e Islas del Atlántico Sur     14\n",
            "Santiago del Estero                                       10\n",
            "Formosa                                                    7\n",
            "Name: provincia, dtype: int64\n"
          ]
        }
      ]
    },
    {
      "cell_type": "code",
      "source": [
        "#1.1. Graficamos los resultados.\n",
        "mp.plot(kind='barh', color= 'orange', figsize=(10,8))\n",
        "plt.title('Cantidad de museos por provincia')"
      ],
      "metadata": {
        "colab": {
          "base_uri": "https://localhost:8080/",
          "height": 517
        },
        "id": "hSFW4K4GKJA6",
        "outputId": "177b52aa-fb78-4ec2-da8b-4eb6f93caeba"
      },
      "id": "hSFW4K4GKJA6",
      "execution_count": null,
      "outputs": [
        {
          "output_type": "execute_result",
          "data": {
            "text/plain": [
              "Text(0.5, 1.0, 'Cantidad de museos por provincia')"
            ]
          },
          "metadata": {},
          "execution_count": 19
        },
        {
          "output_type": "display_data",
          "data": {
            "text/plain": [
              "<Figure size 720x576 with 1 Axes>"
            ],
            "image/png": "[encoded data removed]"
          },
          "metadata": {
            "needs_background": "light"
          }
        }
      ]
    },
    {
      "cell_type": "markdown",
      "source": [
        "## La provincia con más museos en su territorio es Santa Fe, seguida por Buenos Aires."
      ],
      "metadata": {
        "id": "sw5BlCtJKqua"
      },
      "id": "sw5BlCtJKqua"
    },
    {
      "cell_type": "code",
      "source": [
        "#1. Veamos cual es el museo con más años de trayectoria de nuestro set.\n",
        "museos['año_inauguracion'].value_counts().sort_index()"
      ],
      "metadata": {
        "colab": {
          "base_uri": "https://localhost:8080/"
        },
        "id": "Mdw5SaRTK80Z",
        "outputId": "fd807808-7012-4b36-d8d3-2039bf6e2de6"
      },
      "id": "Mdw5SaRTK80Z",
      "execution_count": null,
      "outputs": [
        {
          "output_type": "execute_result",
          "data": {
            "text/plain": [
              "0       610\n",
              "1823      1\n",
              "1855      1\n",
              "1878      1\n",
              "1887      1\n",
              "       ... \n",
              "2012      6\n",
              "2013      3\n",
              "2015      2\n",
              "2016      1\n",
              "2017      1\n",
              "Name: año_inauguracion, Length: 109, dtype: int64"
            ]
          },
          "metadata": {},
          "execution_count": 21
        }
      ]
    },
    {
      "cell_type": "code",
      "source": [
        "#1.1. 1823\n",
        "museos.loc[museos['año_inauguracion'] == 1823]"
      ],
      "metadata": {
        "colab": {
          "base_uri": "https://localhost:8080/",
          "height": 159
        },
        "id": "BClVvZ3DLWQn",
        "outputId": "4e2e2fd6-32e9-4464-b568-ac8500301483"
      },
      "id": "BClVvZ3DLWQn",
      "execution_count": null,
      "outputs": [
        {
          "output_type": "execute_result",
          "data": {
            "text/plain": [
              "                                                nombre  \\\n",
              "352  Museo Argentino De Ciencias Naturales Bernardi...   \n",
              "\n",
              "                           provincia                        localidad  \\\n",
              "352  Ciudad Autónoma de Buenos Aires  Ciudad Autónoma de Buenos Aires   \n",
              "\n",
              "     Latitud  Longitud jurisdiccion  año_inauguracion  \n",
              "352 -34.6048  -58.4377     Nacional              1823  "
            ],
            "text/html": [
              "\n",
              "  <div id=\"df-8ad92e9a-d785-4ed5-b3ec-e86964a94a42\">\n",
              "    <div class=\"colab-df-container\">\n",
              "      <div>\n",
              "<style scoped>\n",
              "    .dataframe tbody tr th:only-of-type {\n",
              "        vertical-align: middle;\n",
              "    }\n",
              "\n",
              "    .dataframe tbody tr th {\n",
              "        vertical-align: top;\n",
              "    }\n",
              "\n",
              "    .dataframe thead th {\n",
              "        text-align: right;\n",
              "    }\n",
              "</style>\n",
              "<table border=\"1\" class=\"dataframe\">\n",
              "  <thead>\n",
              "    <tr style=\"text-align: right;\">\n",
              "      <th></th>\n",
              "      <th>nombre</th>\n",
              "      <th>provincia</th>\n",
              "      <th>localidad</th>\n",
              "      <th>Latitud</th>\n",
              "      <th>Longitud</th>\n",
              "      <th>jurisdiccion</th>\n",
              "      <th>año_inauguracion</th>\n",
              "    </tr>\n",
              "  </thead>\n",
              "  <tbody>\n",
              "    <tr>\n",
              "      <th>352</th>\n",
              "      <td>Museo Argentino De Ciencias Naturales Bernardi...</td>\n",
              "      <td>Ciudad Autónoma de Buenos Aires</td>\n",
              "      <td>Ciudad Autónoma de Buenos Aires</td>\n",
              "      <td>-34.6048</td>\n",
              "      <td>-58.4377</td>\n",
              "      <td>Nacional</td>\n",
              "      <td>1823</td>\n",
              "    </tr>\n",
              "  </tbody>\n",
              "</table>\n",
              "</div>\n",
              "      <button class=\"colab-df-convert\" onclick=\"convertToInteractive('df-8ad92e9a-d785-4ed5-b3ec-e86964a94a42')\"\n",
              "              title=\"Convert this dataframe to an interactive table.\"\n",
              "              style=\"display:none;\">\n",
              "        \n",
              "  <svg xmlns=\"http://www.w3.org/2000/svg\" height=\"24px\"viewBox=\"0 0 24 24\"\n",
              "       width=\"24px\">\n",
              "    <path d=\"M0 0h24v24H0V0z\" fill=\"none\"/>\n",
              "    <path d=\"M18.56 5.44l.94 2.06.94-2.06 2.06-.94-2.06-.94-.94-2.06-.94 2.06-2.06.94zm-11 1L8.5 8.5l.94-2.06 2.06-.94-2.06-.94L8.5 2.5l-.94 2.06-2.06.94zm10 10l.94 2.06.94-2.06 2.06-.94-2.06-.94-.94-2.06-.94 2.06-2.06.94z\"/><path d=\"M17.41 7.96l-1.37-1.37c-.4-.4-.92-.59-1.43-.59-.52 0-1.04.2-1.43.59L10.3 9.45l-7.72 7.72c-.78.78-.78 2.05 0 2.83L4 21.41c.39.39.9.59 1.41.59.51 0 1.02-.2 1.41-.59l7.78-7.78 2.81-2.81c.8-.78.8-2.07 0-2.86zM5.41 20L4 18.59l7.72-7.72 1.47 1.35L5.41 20z\"/>\n",
              "  </svg>\n",
              "      </button>\n",
              "      \n",
              "  <style>\n",
              "    .colab-df-container {\n",
              "      display:flex;\n",
              "      flex-wrap:wrap;\n",
              "      gap: 12px;\n",
              "    }\n",
              "\n",
              "    .colab-df-convert {\n",
              "      background-color: #E8F0FE;\n",
              "      border: none;\n",
              "      border-radius: 50%;\n",
              "      cursor: pointer;\n",
              "      display: none;\n",
              "      fill: #1967D2;\n",
              "      height: 32px;\n",
              "      padding: 0 0 0 0;\n",
              "      width: 32px;\n",
              "    }\n",
              "\n",
              "    .colab-df-convert:hover {\n",
              "      background-color: #E2EBFA;\n",
              "      box-shadow: 0px 1px 2px rgba(60, 64, 67, 0.3), 0px 1px 3px 1px rgba(60, 64, 67, 0.15);\n",
              "      fill: #174EA6;\n",
              "    }\n",
              "\n",
              "    [theme=dark] .colab-df-convert {\n",
              "      background-color: #3B4455;\n",
              "      fill: #D2E3FC;\n",
              "    }\n",
              "\n",
              "    [theme=dark] .colab-df-convert:hover {\n",
              "      background-color: #434B5C;\n",
              "      box-shadow: 0px 1px 3px 1px rgba(0, 0, 0, 0.15);\n",
              "      filter: drop-shadow(0px 1px 2px rgba(0, 0, 0, 0.3));\n",
              "      fill: #FFFFFF;\n",
              "    }\n",
              "  </style>\n",
              "\n",
              "      <script>\n",
              "        const buttonEl =\n",
              "          document.querySelector('#df-8ad92e9a-d785-4ed5-b3ec-e86964a94a42 button.colab-df-convert');\n",
              "        buttonEl.style.display =\n",
              "          google.colab.kernel.accessAllowed ? 'block' : 'none';\n",
              "\n",
              "        async function convertToInteractive(key) {\n",
              "          const element = document.querySelector('#df-8ad92e9a-d785-4ed5-b3ec-e86964a94a42');\n",
              "          const dataTable =\n",
              "            await google.colab.kernel.invokeFunction('convertToInteractive',\n",
              "                                                     [key], {});\n",
              "          if (!dataTable) return;\n",
              "\n",
              "          const docLinkHtml = 'Like what you see? Visit the ' +\n",
              "            '<a target=\"_blank\" href=https://colab.research.google.com/notebooks/data_table.ipynb>data table notebook</a>'\n",
              "            + ' to learn more about interactive tables.';\n",
              "          element.innerHTML = '';\n",
              "          dataTable['output_type'] = 'display_data';\n",
              "          await google.colab.output.renderOutput(dataTable, element);\n",
              "          const docLink = document.createElement('div');\n",
              "          docLink.innerHTML = docLinkHtml;\n",
              "          element.appendChild(docLink);\n",
              "        }\n",
              "      </script>\n",
              "    </div>\n",
              "  </div>\n",
              "  "
            ]
          },
          "metadata": {},
          "execution_count": 22
        }
      ]
    },
    {
      "cell_type": "markdown",
      "source": [
        "## El museo argentino de ciencias naturales Bernardino Rivadavia es el museo con la fecha de inaugración más antigua del set."
      ],
      "metadata": {
        "id": "g_kPgbDDLwlZ"
      },
      "id": "g_kPgbDDLwlZ"
    },
    {
      "cell_type": "code",
      "source": [
        "#1. Veamos cuantos museos de han abierto en la última década que registra el set.\n",
        "mcd=museos.loc[museos['año_inauguracion'] >= 2007]\n",
        "mcdp=mcd['año_inauguracion'].value_counts().sort_index()\n",
        "print(mcdp)"
      ],
      "metadata": {
        "colab": {
          "base_uri": "https://localhost:8080/"
        },
        "id": "Qenw9pTELv56",
        "outputId": "75d581b6-f389-448f-8ead-03ca99e74610"
      },
      "id": "Qenw9pTELv56",
      "execution_count": null,
      "outputs": [
        {
          "output_type": "stream",
          "name": "stdout",
          "text": [
            "2007    21\n",
            "2008    15\n",
            "2009     4\n",
            "2010     7\n",
            "2011     9\n",
            "2012     6\n",
            "2013     3\n",
            "2015     2\n",
            "2016     1\n",
            "2017     1\n",
            "Name: año_inauguracion, dtype: int64\n"
          ]
        }
      ]
    },
    {
      "cell_type": "code",
      "source": [
        "#1.1. Graficamos los resultados.\n",
        "mcdp.plot(kind='bar', color='orange', figsize= (10,8))\n",
        "plt.yticks(range(1,22))\n",
        "plt.title('Museos abiertos en la década 2007-2017')\n",
        "plt.ylabel('Cantidad inaugurada')\n",
        "plt.xlabel('Año')"
      ],
      "metadata": {
        "colab": {
          "base_uri": "https://localhost:8080/",
          "height": 546
        },
        "id": "gMG3QvMVNbkM",
        "outputId": "d4fcee37-918c-453a-c4da-b9202b7ed847"
      },
      "id": "gMG3QvMVNbkM",
      "execution_count": null,
      "outputs": [
        {
          "output_type": "execute_result",
          "data": {
            "text/plain": [
              "Text(0.5, 0, 'Año')"
            ]
          },
          "metadata": {},
          "execution_count": 40
        },
        {
          "output_type": "display_data",
          "data": {
            "text/plain": [
              "<Figure size 720x576 with 1 Axes>"
            ],
            "image/png": "[encoded data removed]"
          },
          "metadata": {
            "needs_background": "light"
          }
        }
      ]
    },
    {
      "cell_type": "markdown",
      "source": [
        "## En los últimos 10 años que contempla el set, el año con más museos inaugurados fue el 2007, con 24 aperturas."
      ],
      "metadata": {
        "id": "hJKCmrF8QkWN"
      },
      "id": "hJKCmrF8QkWN"
    },
    {
      "cell_type": "code",
      "source": [
        "#1. Veamos que tipo de jurisdicciones administran los museos argentinos.\n",
        "mj=museos['jurisdiccion'].value_counts()\n",
        "print(mj)"
      ],
      "metadata": {
        "colab": {
          "base_uri": "https://localhost:8080/"
        },
        "id": "E3ebo0E0QjsC",
        "outputId": "6b22c343-471d-45a2-8333-8714320fa2e9"
      },
      "id": "E3ebo0E0QjsC",
      "execution_count": null,
      "outputs": [
        {
          "output_type": "stream",
          "name": "stdout",
          "text": [
            "Municipal                              431\n",
            "Privada                                267\n",
            "Provincial                             170\n",
            "Nacional                               143\n",
            "Sin denominar                           32\n",
            "Comunal                                 24\n",
            "Mixta                                    5\n",
            "Mixta Privada - Municipal                4\n",
            "Mixta Provincial - Municipal             4\n",
            "Mixta Orden Franciscana - Municipal      2\n",
            "Mixta Provincial - Privada               1\n",
            "Mixta Nacional - Municipal               1\n",
            "Puerto                                   1\n",
            "Name: jurisdiccion, dtype: int64\n"
          ]
        }
      ]
    },
    {
      "cell_type": "code",
      "source": [
        "#1.1. Graficamos los resultados.\n",
        "mj.plot(kind='barh', color='lightblue', figsize=(10,8))\n"
      ],
      "metadata": {
        "colab": {
          "base_uri": "https://localhost:8080/",
          "height": 501
        },
        "id": "lvmwhQoxZ_1N",
        "outputId": "99151c92-d7a6-477d-a56c-f7bf53db2a94"
      },
      "id": "lvmwhQoxZ_1N",
      "execution_count": null,
      "outputs": [
        {
          "output_type": "execute_result",
          "data": {
            "text/plain": [
              "<AxesSubplot:>"
            ]
          },
          "metadata": {},
          "execution_count": 57
        },
        {
          "output_type": "display_data",
          "data": {
            "text/plain": [
              "<Figure size 720x576 with 1 Axes>"
            ],
            "image/png": "[encoded data removed]"
          },
          "metadata": {
            "needs_background": "light"
          }
        }
      ]
    },
    {
      "cell_type": "markdown",
      "source": [
        "## Los primeros tres puestos se reparten de la siguiente forma: 431 museos pertenecen a jurisdicciones municipales, 267 a jurisdicciones privadas y 170 a jurisdicciones provinciales."
      ],
      "metadata": {
        "id": "e8TDQI_mbdIu"
      },
      "id": "e8TDQI_mbdIu"
    },
    {
      "cell_type": "markdown",
      "source": [
        "# 3.7. Bibliotecas populares."
      ],
      "metadata": {
        "id": "AVto5Jbfb8PY"
      },
      "id": "AVto5Jbfb8PY"
    },
    {
      "cell_type": "code",
      "source": [
        "#Set.\n",
        "bibliotecas_populares.head()"
      ],
      "metadata": {
        "colab": {
          "base_uri": "https://localhost:8080/",
          "height": 337
        },
        "id": "YI6yir_lcQCI",
        "outputId": "a378dcce-34dc-4f94-b5b3-a243996e9802"
      },
      "id": "YI6yir_lcQCI",
      "execution_count": null,
      "outputs": [
        {
          "output_type": "execute_result",
          "data": {
            "text/plain": [
              "                                        Nombre  \\\n",
              "0         Biblioteca Popular Juan P. Garramuno   \n",
              "1  Biblioteca Popular Helena Larroque de Roffo   \n",
              "2             Biblioteca Popular 12 de Octubre   \n",
              "3    Biblioteca Popular Villa Pueyrredón Norte   \n",
              "4                   Biblioteca Popular Alberdi   \n",
              "\n",
              "                         Provincia               Localidad    Latitud  \\\n",
              "0                         San Juan                   Rodeo -30.209250   \n",
              "1  Ciudad Autónoma de Buenos Aires  Ciudad de Buenos Aires -34.598461   \n",
              "2  Ciudad Autónoma de Buenos Aires  Ciudad de Buenos Aires -34.613235   \n",
              "3  Ciudad Autónoma de Buenos Aires  Ciudad de Buenos Aires -34.575890   \n",
              "4  Ciudad Autónoma de Buenos Aires  Ciudad de Buenos Aires -34.596157   \n",
              "\n",
              "    Longitud Tipo_gestion  año_inicio  \n",
              "0 -69.130117  Comunitaria        1930  \n",
              "1 -58.494690  Comunitaria        1916  \n",
              "2 -58.448997  Comunitaria        1910  \n",
              "3 -58.501591  Comunitaria        1916  \n",
              "4 -58.437668  Comunitaria        1910  "
            ],
            "text/html": [
              "\n",
              "  <div id=\"df-110e54aa-e216-4fa2-9d60-7c1cbf39a7c8\">\n",
              "    <div class=\"colab-df-container\">\n",
              "      <div>\n",
              "<style scoped>\n",
              "    .dataframe tbody tr th:only-of-type {\n",
              "        vertical-align: middle;\n",
              "    }\n",
              "\n",
              "    .dataframe tbody tr th {\n",
              "        vertical-align: top;\n",
              "    }\n",
              "\n",
              "    .dataframe thead th {\n",
              "        text-align: right;\n",
              "    }\n",
              "</style>\n",
              "<table border=\"1\" class=\"dataframe\">\n",
              "  <thead>\n",
              "    <tr style=\"text-align: right;\">\n",
              "      <th></th>\n",
              "      <th>Nombre</th>\n",
              "      <th>Provincia</th>\n",
              "      <th>Localidad</th>\n",
              "      <th>Latitud</th>\n",
              "      <th>Longitud</th>\n",
              "      <th>Tipo_gestion</th>\n",
              "      <th>año_inicio</th>\n",
              "    </tr>\n",
              "  </thead>\n",
              "  <tbody>\n",
              "    <tr>\n",
              "      <th>0</th>\n",
              "      <td>Biblioteca Popular Juan P. Garramuno</td>\n",
              "      <td>San Juan</td>\n",
              "      <td>Rodeo</td>\n",
              "      <td>-30.209250</td>\n",
              "      <td>-69.130117</td>\n",
              "      <td>Comunitaria</td>\n",
              "      <td>1930</td>\n",
              "    </tr>\n",
              "    <tr>\n",
              "      <th>1</th>\n",
              "      <td>Biblioteca Popular Helena Larroque de Roffo</td>\n",
              "      <td>Ciudad Autónoma de Buenos Aires</td>\n",
              "      <td>Ciudad de Buenos Aires</td>\n",
              "      <td>-34.598461</td>\n",
              "      <td>-58.494690</td>\n",
              "      <td>Comunitaria</td>\n",
              "      <td>1916</td>\n",
              "    </tr>\n",
              "    <tr>\n",
              "      <th>2</th>\n",
              "      <td>Biblioteca Popular 12 de Octubre</td>\n",
              "      <td>Ciudad Autónoma de Buenos Aires</td>\n",
              "      <td>Ciudad de Buenos Aires</td>\n",
              "      <td>-34.613235</td>\n",
              "      <td>-58.448997</td>\n",
              "      <td>Comunitaria</td>\n",
              "      <td>1910</td>\n",
              "    </tr>\n",
              "    <tr>\n",
              "      <th>3</th>\n",
              "      <td>Biblioteca Popular Villa Pueyrredón Norte</td>\n",
              "      <td>Ciudad Autónoma de Buenos Aires</td>\n",
              "      <td>Ciudad de Buenos Aires</td>\n",
              "      <td>-34.575890</td>\n",
              "      <td>-58.501591</td>\n",
              "      <td>Comunitaria</td>\n",
              "      <td>1916</td>\n",
              "    </tr>\n",
              "    <tr>\n",
              "      <th>4</th>\n",
              "      <td>Biblioteca Popular Alberdi</td>\n",
              "      <td>Ciudad Autónoma de Buenos Aires</td>\n",
              "      <td>Ciudad de Buenos Aires</td>\n",
              "      <td>-34.596157</td>\n",
              "      <td>-58.437668</td>\n",
              "      <td>Comunitaria</td>\n",
              "      <td>1910</td>\n",
              "    </tr>\n",
              "  </tbody>\n",
              "</table>\n",
              "</div>\n",
              "      <button class=\"colab-df-convert\" onclick=\"convertToInteractive('df-110e54aa-e216-4fa2-9d60-7c1cbf39a7c8')\"\n",
              "              title=\"Convert this dataframe to an interactive table.\"\n",
              "              style=\"display:none;\">\n",
              "        \n",
              "  <svg xmlns=\"http://www.w3.org/2000/svg\" height=\"24px\"viewBox=\"0 0 24 24\"\n",
              "       width=\"24px\">\n",
              "    <path d=\"M0 0h24v24H0V0z\" fill=\"none\"/>\n",
              "    <path d=\"M18.56 5.44l.94 2.06.94-2.06 2.06-.94-2.06-.94-.94-2.06-.94 2.06-2.06.94zm-11 1L8.5 8.5l.94-2.06 2.06-.94-2.06-.94L8.5 2.5l-.94 2.06-2.06.94zm10 10l.94 2.06.94-2.06 2.06-.94-2.06-.94-.94-2.06-.94 2.06-2.06.94z\"/><path d=\"M17.41 7.96l-1.37-1.37c-.4-.4-.92-.59-1.43-.59-.52 0-1.04.2-1.43.59L10.3 9.45l-7.72 7.72c-.78.78-.78 2.05 0 2.83L4 21.41c.39.39.9.59 1.41.59.51 0 1.02-.2 1.41-.59l7.78-7.78 2.81-2.81c.8-.78.8-2.07 0-2.86zM5.41 20L4 18.59l7.72-7.72 1.47 1.35L5.41 20z\"/>\n",
              "  </svg>\n",
              "      </button>\n",
              "      \n",
              "  <style>\n",
              "    .colab-df-container {\n",
              "      display:flex;\n",
              "      flex-wrap:wrap;\n",
              "      gap: 12px;\n",
              "    }\n",
              "\n",
              "    .colab-df-convert {\n",
              "      background-color: #E8F0FE;\n",
              "      border: none;\n",
              "      border-radius: 50%;\n",
              "      cursor: pointer;\n",
              "      display: none;\n",
              "      fill: #1967D2;\n",
              "      height: 32px;\n",
              "      padding: 0 0 0 0;\n",
              "      width: 32px;\n",
              "    }\n",
              "\n",
              "    .colab-df-convert:hover {\n",
              "      background-color: #E2EBFA;\n",
              "      box-shadow: 0px 1px 2px rgba(60, 64, 67, 0.3), 0px 1px 3px 1px rgba(60, 64, 67, 0.15);\n",
              "      fill: #174EA6;\n",
              "    }\n",
              "\n",
              "    [theme=dark] .colab-df-convert {\n",
              "      background-color: #3B4455;\n",
              "      fill: #D2E3FC;\n",
              "    }\n",
              "\n",
              "    [theme=dark] .colab-df-convert:hover {\n",
              "      background-color: #434B5C;\n",
              "      box-shadow: 0px 1px 3px 1px rgba(0, 0, 0, 0.15);\n",
              "      filter: drop-shadow(0px 1px 2px rgba(0, 0, 0, 0.3));\n",
              "      fill: #FFFFFF;\n",
              "    }\n",
              "  </style>\n",
              "\n",
              "      <script>\n",
              "        const buttonEl =\n",
              "          document.querySelector('#df-110e54aa-e216-4fa2-9d60-7c1cbf39a7c8 button.colab-df-convert');\n",
              "        buttonEl.style.display =\n",
              "          google.colab.kernel.accessAllowed ? 'block' : 'none';\n",
              "\n",
              "        async function convertToInteractive(key) {\n",
              "          const element = document.querySelector('#df-110e54aa-e216-4fa2-9d60-7c1cbf39a7c8');\n",
              "          const dataTable =\n",
              "            await google.colab.kernel.invokeFunction('convertToInteractive',\n",
              "                                                     [key], {});\n",
              "          if (!dataTable) return;\n",
              "\n",
              "          const docLinkHtml = 'Like what you see? Visit the ' +\n",
              "            '<a target=\"_blank\" href=https://colab.research.google.com/notebooks/data_table.ipynb>data table notebook</a>'\n",
              "            + ' to learn more about interactive tables.';\n",
              "          element.innerHTML = '';\n",
              "          dataTable['output_type'] = 'display_data';\n",
              "          await google.colab.output.renderOutput(dataTable, element);\n",
              "          const docLink = document.createElement('div');\n",
              "          docLink.innerHTML = docLinkHtml;\n",
              "          element.appendChild(docLink);\n",
              "        }\n",
              "      </script>\n",
              "    </div>\n",
              "  </div>\n",
              "  "
            ]
          },
          "metadata": {},
          "execution_count": 97
        }
      ]
    },
    {
      "cell_type": "code",
      "source": [
        "#1. Contamos las bibliotecas por provincia argentina.\n",
        "bxp=bibliotecas_populares['Provincia'].value_counts()\n",
        "print(bxp)"
      ],
      "metadata": {
        "colab": {
          "base_uri": "https://localhost:8080/"
        },
        "id": "c2-VaY2zedTE",
        "outputId": "0f925ff2-6d83-4f7b-e8dd-8e95e996487b"
      },
      "id": "c2-VaY2zedTE",
      "execution_count": null,
      "outputs": [
        {
          "output_type": "stream",
          "name": "stdout",
          "text": [
            "Buenos Aires                       543\n",
            "Santa Fe                           273\n",
            "Córdoba                            185\n",
            "La Pampa                            72\n",
            "Neuquén                             70\n",
            "Chaco                               70\n",
            "Santiago del Estero                 67\n",
            "Mendoza                             67\n",
            "Río Negro                           66\n",
            "Salta                               64\n",
            "Entre Ríos                          58\n",
            "Corrientes                          58\n",
            "San Juan                            54\n",
            "Chubut                              48\n",
            "San Luis                            45\n",
            "Ciudad Autónoma de Buenos Aires     43\n",
            "Jujuy                               40\n",
            "Misiones                            40\n",
            "Catamarca                           38\n",
            "Tucumán                             37\n",
            "Formosa                             25\n",
            "La Rioja                            24\n",
            "Santa Cruz                          21\n",
            "Tierra del Fuego                     9\n",
            "Name: Provincia, dtype: int64\n"
          ]
        }
      ]
    },
    {
      "cell_type": "code",
      "source": [
        "#1.2. Graficamos los resultados.\n",
        "bxp.plot(kind='barh', color= 'pink', figsize=(10,8))\n",
        "plt.title('Cantidad de bibliotecas populares por provincia')\n"
      ],
      "metadata": {
        "colab": {
          "base_uri": "https://localhost:8080/",
          "height": 517
        },
        "id": "GsmJ9eq7eogH",
        "outputId": "14094b1c-5ad0-450c-800b-aa5165818e60"
      },
      "id": "GsmJ9eq7eogH",
      "execution_count": null,
      "outputs": [
        {
          "output_type": "execute_result",
          "data": {
            "text/plain": [
              "Text(0.5, 1.0, 'Cantidad de bibliotecas populares por provincia')"
            ]
          },
          "metadata": {},
          "execution_count": 104
        },
        {
          "output_type": "display_data",
          "data": {
            "text/plain": [
              "<Figure size 720x576 with 1 Axes>"
            ],
            "image/png": "[encoded data removed]"
          },
          "metadata": {
            "needs_background": "light"
          }
        }
      ]
    },
    {
      "cell_type": "markdown",
      "source": [
        "## La provincia argentina con más bibliotecas populares es Buenos Aires, seguida por Santa Fe y Córdoba."
      ],
      "metadata": {
        "id": "QzVsq7eZfgKU"
      },
      "id": "QzVsq7eZfgKU"
    },
    {
      "cell_type": "code",
      "source": [
        "#1. Revisemos la biblioteca más antigua registrada en el set.\n",
        "bibliotecas_populares['año_inicio'].value_counts().sort_index()"
      ],
      "metadata": {
        "colab": {
          "base_uri": "https://localhost:8080/"
        },
        "id": "REdxUR-9fpob",
        "outputId": "0def05e5-451b-4668-df2d-0444ede51265"
      },
      "id": "REdxUR-9fpob",
      "execution_count": null,
      "outputs": [
        {
          "output_type": "execute_result",
          "data": {
            "text/plain": [
              "0       7\n",
              "1866    1\n",
              "1869    1\n",
              "1871    1\n",
              "1872    8\n",
              "       ..\n",
              "2013    4\n",
              "2014    4\n",
              "2015    1\n",
              "2016    1\n",
              "2017    1\n",
              "Name: año_inicio, Length: 140, dtype: int64"
            ]
          },
          "metadata": {},
          "execution_count": 106
        }
      ]
    },
    {
      "cell_type": "code",
      "source": [
        "bibliotecas_populares.loc[bibliotecas_populares['año_inicio']==1866]"
      ],
      "metadata": {
        "colab": {
          "base_uri": "https://localhost:8080/",
          "height": 81
        },
        "id": "l4aJp2RAgBRQ",
        "outputId": "15812f44-c294-46c6-fac8-d118fcd66f1b"
      },
      "id": "l4aJp2RAgBRQ",
      "execution_count": null,
      "outputs": [
        {
          "output_type": "execute_result",
          "data": {
            "text/plain": [
              "                                   Nombre Provincia Localidad    Latitud  \\\n",
              "199  Biblioteca Popular Sociedad Franklin  San Juan  San Juan -31.535433   \n",
              "\n",
              "     Longitud Tipo_gestion  año_inicio  \n",
              "199   -68.525  Comunitaria        1866  "
            ],
            "text/html": [
              "\n",
              "  <div id=\"df-026c35ba-76b4-4535-911d-fd431d6c5b1c\">\n",
              "    <div class=\"colab-df-container\">\n",
              "      <div>\n",
              "<style scoped>\n",
              "    .dataframe tbody tr th:only-of-type {\n",
              "        vertical-align: middle;\n",
              "    }\n",
              "\n",
              "    .dataframe tbody tr th {\n",
              "        vertical-align: top;\n",
              "    }\n",
              "\n",
              "    .dataframe thead th {\n",
              "        text-align: right;\n",
              "    }\n",
              "</style>\n",
              "<table border=\"1\" class=\"dataframe\">\n",
              "  <thead>\n",
              "    <tr style=\"text-align: right;\">\n",
              "      <th></th>\n",
              "      <th>Nombre</th>\n",
              "      <th>Provincia</th>\n",
              "      <th>Localidad</th>\n",
              "      <th>Latitud</th>\n",
              "      <th>Longitud</th>\n",
              "      <th>Tipo_gestion</th>\n",
              "      <th>año_inicio</th>\n",
              "    </tr>\n",
              "  </thead>\n",
              "  <tbody>\n",
              "    <tr>\n",
              "      <th>199</th>\n",
              "      <td>Biblioteca Popular Sociedad Franklin</td>\n",
              "      <td>San Juan</td>\n",
              "      <td>San Juan</td>\n",
              "      <td>-31.535433</td>\n",
              "      <td>-68.525</td>\n",
              "      <td>Comunitaria</td>\n",
              "      <td>1866</td>\n",
              "    </tr>\n",
              "  </tbody>\n",
              "</table>\n",
              "</div>\n",
              "      <button class=\"colab-df-convert\" onclick=\"convertToInteractive('df-026c35ba-76b4-4535-911d-fd431d6c5b1c')\"\n",
              "              title=\"Convert this dataframe to an interactive table.\"\n",
              "              style=\"display:none;\">\n",
              "        \n",
              "  <svg xmlns=\"http://www.w3.org/2000/svg\" height=\"24px\"viewBox=\"0 0 24 24\"\n",
              "       width=\"24px\">\n",
              "    <path d=\"M0 0h24v24H0V0z\" fill=\"none\"/>\n",
              "    <path d=\"M18.56 5.44l.94 2.06.94-2.06 2.06-.94-2.06-.94-.94-2.06-.94 2.06-2.06.94zm-11 1L8.5 8.5l.94-2.06 2.06-.94-2.06-.94L8.5 2.5l-.94 2.06-2.06.94zm10 10l.94 2.06.94-2.06 2.06-.94-2.06-.94-.94-2.06-.94 2.06-2.06.94z\"/><path d=\"M17.41 7.96l-1.37-1.37c-.4-.4-.92-.59-1.43-.59-.52 0-1.04.2-1.43.59L10.3 9.45l-7.72 7.72c-.78.78-.78 2.05 0 2.83L4 21.41c.39.39.9.59 1.41.59.51 0 1.02-.2 1.41-.59l7.78-7.78 2.81-2.81c.8-.78.8-2.07 0-2.86zM5.41 20L4 18.59l7.72-7.72 1.47 1.35L5.41 20z\"/>\n",
              "  </svg>\n",
              "      </button>\n",
              "      \n",
              "  <style>\n",
              "    .colab-df-container {\n",
              "      display:flex;\n",
              "      flex-wrap:wrap;\n",
              "      gap: 12px;\n",
              "    }\n",
              "\n",
              "    .colab-df-convert {\n",
              "      background-color: #E8F0FE;\n",
              "      border: none;\n",
              "      border-radius: 50%;\n",
              "      cursor: pointer;\n",
              "      display: none;\n",
              "      fill: #1967D2;\n",
              "      height: 32px;\n",
              "      padding: 0 0 0 0;\n",
              "      width: 32px;\n",
              "    }\n",
              "\n",
              "    .colab-df-convert:hover {\n",
              "      background-color: #E2EBFA;\n",
              "      box-shadow: 0px 1px 2px rgba(60, 64, 67, 0.3), 0px 1px 3px 1px rgba(60, 64, 67, 0.15);\n",
              "      fill: #174EA6;\n",
              "    }\n",
              "\n",
              "    [theme=dark] .colab-df-convert {\n",
              "      background-color: #3B4455;\n",
              "      fill: #D2E3FC;\n",
              "    }\n",
              "\n",
              "    [theme=dark] .colab-df-convert:hover {\n",
              "      background-color: #434B5C;\n",
              "      box-shadow: 0px 1px 3px 1px rgba(0, 0, 0, 0.15);\n",
              "      filter: drop-shadow(0px 1px 2px rgba(0, 0, 0, 0.3));\n",
              "      fill: #FFFFFF;\n",
              "    }\n",
              "  </style>\n",
              "\n",
              "      <script>\n",
              "        const buttonEl =\n",
              "          document.querySelector('#df-026c35ba-76b4-4535-911d-fd431d6c5b1c button.colab-df-convert');\n",
              "        buttonEl.style.display =\n",
              "          google.colab.kernel.accessAllowed ? 'block' : 'none';\n",
              "\n",
              "        async function convertToInteractive(key) {\n",
              "          const element = document.querySelector('#df-026c35ba-76b4-4535-911d-fd431d6c5b1c');\n",
              "          const dataTable =\n",
              "            await google.colab.kernel.invokeFunction('convertToInteractive',\n",
              "                                                     [key], {});\n",
              "          if (!dataTable) return;\n",
              "\n",
              "          const docLinkHtml = 'Like what you see? Visit the ' +\n",
              "            '<a target=\"_blank\" href=https://colab.research.google.com/notebooks/data_table.ipynb>data table notebook</a>'\n",
              "            + ' to learn more about interactive tables.';\n",
              "          element.innerHTML = '';\n",
              "          dataTable['output_type'] = 'display_data';\n",
              "          await google.colab.output.renderOutput(dataTable, element);\n",
              "          const docLink = document.createElement('div');\n",
              "          docLink.innerHTML = docLinkHtml;\n",
              "          element.appendChild(docLink);\n",
              "        }\n",
              "      </script>\n",
              "    </div>\n",
              "  </div>\n",
              "  "
            ]
          },
          "metadata": {},
          "execution_count": 107
        }
      ]
    },
    {
      "cell_type": "markdown",
      "source": [
        "## La biblioteca más antigua del set es la Biblioteca Popular Sociedad Franklin, inaugurada en 1866 en la provincia de San Juan."
      ],
      "metadata": {
        "id": "Mu1SzLsWf_4M"
      },
      "id": "Mu1SzLsWf_4M"
    },
    {
      "cell_type": "code",
      "source": [
        "#1.1 Busquemos el año con más inauguraciones.\n",
        "bibliotecas_populares['año_inicio'].value_counts()"
      ],
      "metadata": {
        "colab": {
          "base_uri": "https://localhost:8080/"
        },
        "id": "awRS4gJZgWJx",
        "outputId": "4f397586-a220-4ce0-91dc-fcddb0f326c3"
      },
      "id": "awRS4gJZgWJx",
      "execution_count": null,
      "outputs": [
        {
          "output_type": "execute_result",
          "data": {
            "text/plain": [
              "1930    514\n",
              "2000     47\n",
              "1996     47\n",
              "1997     41\n",
              "1994     37\n",
              "       ... \n",
              "1880      1\n",
              "1866      1\n",
              "1886      1\n",
              "1874      1\n",
              "1896      1\n",
              "Name: año_inicio, Length: 140, dtype: int64"
            ]
          },
          "metadata": {},
          "execution_count": 111
        }
      ]
    },
    {
      "cell_type": "markdown",
      "source": [
        "## El año en el que más bibliotecas populares se abrieron fue 1930, con 514 establecimientos. En segundo lugar esta el año 2000 con 47, la misma cantidad inaugurada en 1996."
      ],
      "metadata": {
        "id": "bcBgmMfig6TV"
      },
      "id": "bcBgmMfig6TV"
    },
    {
      "cell_type": "code",
      "source": [
        "#1. Observemos que tipo de gestiones administran las bilbiotecas del pais.\n",
        "bibliotecas_populares['Tipo_gestion'].value_counts()"
      ],
      "metadata": {
        "colab": {
          "base_uri": "https://localhost:8080/"
        },
        "id": "WEEDd7SBhJOz",
        "outputId": "6848e8f3-9393-4db7-9e07-603ef3ca815a"
      },
      "id": "WEEDd7SBhJOz",
      "execution_count": null,
      "outputs": [
        {
          "output_type": "execute_result",
          "data": {
            "text/plain": [
              "Comunitaria    2017\n",
              "Name: Tipo_gestion, dtype: int64"
            ]
          },
          "metadata": {},
          "execution_count": 112
        }
      ]
    },
    {
      "cell_type": "markdown",
      "source": [
        "## Todas las bibliotecas registradas en el set son de gestión comunitaria."
      ],
      "metadata": {
        "id": "ZWJ88D3Chhha"
      },
      "id": "ZWJ88D3Chhha"
    }
  ],
  "metadata": {
    "kernelspec": {
      "display_name": "Python 3",
      "language": "python",
      "name": "python3"
    },
    "language_info": {
      "codemirror_mode": {
        "name": "ipython",
        "version": 3
      },
      "file_extension": ".py",
      "mimetype": "text/x-python",
      "name": "python",
      "nbconvert_exporter": "python",
      "pygments_lexer": "ipython3",
      "version": "3.8.8"
    },
    "colab": {
      "provenance": [],
      "collapsed_sections": [
        "6X5pIjImjvqQ",
        "E_qDPMSSh_Vp",
        "156bccb2",
        "1afb63d9",
        "f388cbb2",
        "e525ffcb",
        "805cf04c",
        "b4b76614",
        "11932899",
        "99f818f5",
        "nxWDxdOjk6pk",
        "Wq9ASMEao3St",
        "NUpI7rSwrEWo",
        "W0w1XelfywbG",
        "OEOBVWMc2g-P",
        "UdlXS2sPyY2B",
        "Ak7SYJAlA5La",
        "aw3sOshMHBSw",
        "XZOk5ZsQHZ4Q",
        "AVto5Jbfb8PY"
      ]
    }
  },
  "nbformat": 4,
  "nbformat_minor": 5
}